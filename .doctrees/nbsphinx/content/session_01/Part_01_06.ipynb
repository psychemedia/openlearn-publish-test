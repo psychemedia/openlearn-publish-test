{
 "cells": [
  {
   "cell_type": "markdown",
   "metadata": {},
   "source": [
    "# 5 Reality check"
   ]
  },
  {
   "cell_type": "markdown",
   "metadata": {},
   "source": [
    "You might have found that when you wrote up your visualisation, there were aspects that sounded quite realistic and felt doable, and others that were probably a bit more unlikely. This is perfectly normal, and in the next activity you are going to try to separate your language-learning goals into those that are realistic and those that aren’t.\n",
    "\n",
    "If you remember my visualisation of my ideal future German self, these are some of the things I wanted to achieve within a year:\n",
    "\n",
    "* ordering a coffee\n",
    "\n",
    "* checking in at the hotel\n",
    "\n",
    "* interacting with shop assistants\n",
    "\n",
    "* ordering food in a restaurant\n",
    "\n",
    "* ordering a beer\n",
    "\n",
    "* visiting a museum and reading the museum guide in German\n",
    "\n",
    "* attending some of the conference sessions in German\n",
    "\n",
    "* talking to colleagues about the topic of the conference\n",
    "\n",
    "* chatting to colleagues in German.\n",
    "\n",
    "Which of these objectives do you think are realistic, and which are unrealistic?\n",
    "\n",
    "Table 1 shows my own evaluation of my goals.\n",
    "<table xmlns:str=\"http://exslt.org/strings\">\n",
    "<caption>Table 1 Tita’s evaluations of her goals</caption>\n",
    "<tbody>\n",
    "<tr>\n",
    "<th>Goal</th>\n",
    "<th>\n",
    "1= realistic, easy to achieve\n",
    "\n",
    "2= possible but challenging\n",
    "\n",
    "3= not realistic in the time available\n",
    "</th>\n",
    "<th>Reasons</th>\n",
    "</tr>\n",
    "<tr>\n",
    "<td class=\"highlight_\" rowspan=\"\" colspan=\"\">Ordering a coffee</td>\n",
    "<td class=\"highlight_\" rowspan=\"\" colspan=\"\">1</td>\n",
    "<td class=\"highlight_\" rowspan=\"\" colspan=\"\">Realistic. I can achieve this easily, as the language is quite formulaic and predictable.</td>\n",
    "</tr>\n",
    "<tr>\n",
    "<td class=\"highlight_\" rowspan=\"\" colspan=\"\">Checking in at the hotel</td>\n",
    "<td class=\"highlight_\" rowspan=\"\" colspan=\"\">1</td>\n",
    "<td class=\"highlight_\" rowspan=\"\" colspan=\"\">Realistic. I can achieve this as long as there are no problems with the booking etc.</td>\n",
    "</tr>\n",
    "<tr>\n",
    "<td class=\"highlight_\" rowspan=\"\" colspan=\"\">Interacting with shop assistants</td>\n",
    "<td class=\"highlight_\" rowspan=\"\" colspan=\"\">1 or 2?</td>\n",
    "<td class=\"highlight_\" rowspan=\"\" colspan=\"\">Realistic. I can achieve this easily at a very basic level, but it will depend on what I am buying (I might not have the vocabulary).</td>\n",
    "</tr>\n",
    "<tr>\n",
    "<td class=\"highlight_\" rowspan=\"\" colspan=\"\">Ordering food in a restaurant</td>\n",
    "<td class=\"highlight_\" rowspan=\"\" colspan=\"\">1</td>\n",
    "<td class=\"highlight_\" rowspan=\"\" colspan=\"\">Realistic. I can achieve this easily as the language is quite formulaic and predictable.</td>\n",
    "</tr>\n",
    "<tr>\n",
    "<td class=\"highlight_\" rowspan=\"\" colspan=\"\">Ordering a beer</td>\n",
    "<td class=\"highlight_\" rowspan=\"\" colspan=\"\">1</td>\n",
    "<td class=\"highlight_\" rowspan=\"\" colspan=\"\">Realistic. I can achieve this easily as the language is quite predictable.</td>\n",
    "</tr>\n",
    "<tr>\n",
    "<td class=\"highlight_\" rowspan=\"\" colspan=\"\">Visiting a museum and reading the German guide</td>\n",
    "<td class=\"highlight_\" rowspan=\"\" colspan=\"\">2</td>\n",
    "<td class=\"highlight_\" rowspan=\"\" colspan=\"\">This might be challenging, but I should be able to use my general knowledge about art to make sense of some of it. </td>\n",
    "</tr>\n",
    "<tr>\n",
    "<td class=\"highlight_\" rowspan=\"\" colspan=\"\">Attending some of the conference sessions in German</td>\n",
    "<td class=\"highlight_\" rowspan=\"\" colspan=\"\">3</td>\n",
    "<td class=\"highlight_\" rowspan=\"\" colspan=\"\">This will be very challenging. I don’t think I will be able to follow the sessions in German and I would need a lot more time. Not a realistic goal right now.</td>\n",
    "</tr>\n",
    "<tr>\n",
    "<td class=\"highlight_\" rowspan=\"\" colspan=\"\">Talking to colleagues about the topic of the conference</td>\n",
    "<td class=\"highlight_\" rowspan=\"\" colspan=\"\">3</td>\n",
    "<td class=\"highlight_\" rowspan=\"\" colspan=\"\">This will be very challenging, as I would need quite a lot of specialist vocabulary, and I don’t think I can learn that in the time available. Not a realistic goal right now.</td>\n",
    "</tr>\n",
    "<tr>\n",
    "<td class=\"highlight_\" rowspan=\"\" colspan=\"\">Chatting to colleagues in German</td>\n",
    "<td class=\"highlight_\" rowspan=\"\" colspan=\"\">3</td>\n",
    "<td class=\"highlight_\" rowspan=\"\" colspan=\"\">This will be challenging, but achievable provided we stay within topics I am familiar with and they are patient with me.</td>\n",
    "</tr>\n",
    "</tbody>\n",
    "</table>"
   ]
  },
  {
   "cell_type": "markdown",
   "metadata": {},
   "source": [
    "### Activity 2 Reviewing your goals \n",
    "__Timing: Allow about 10 minutes__"
   ]
  },
  {
   "cell_type": "markdown",
   "metadata": {},
   "source": [
    "#### Question\n",
    "\n",
    "Now look back at your own visualisation of your future language self, and write a list of the goals you set for yourself in this table. Make sure you save the document somewhere where you can refer to it again, as you will return to it in Week 8. Then read through your goals, and decide which ones are realistic and easy to achieve, which ones are possible, but more challenging/more long term, which ones are not realistic. Also think of the reasons for your evaluation of your goals.\n"
   ]
  },
  {
   "cell_type": "markdown",
   "metadata": {},
   "source": [
    "Now that you know which goals are more realistic, and which ones are less so, put an estimated timeframe of when you think you will achieve each one. As Laura says …"
   ]
  },
  {
   "cell_type": "markdown",
   "metadata": {},
   "source": [
    "### Laura says:\n",
    "\n",
    "I think it is important that you consider the time frame you have available and how long it would realistically take you meet certain goals. Having a specific time-frame (e.g. like a trip to Berlin next year, like Tita) is of course helpful, but if not, it is useful to try to estimate long you think it would take you to get to such a stage. I realise that time frames are covered a little later on (I did look ahead!), but when I started learning Spanish, I didn’t really have any specific time-frame to work towards, apart from my assignments, and I realise now how useful it would have been.\n",
    "\n",
    "\n"
   ]
  }
 ],
 "metadata": {
  "jupytext": {
   "cell_metadata_filter": "-all",
   "main_language": "python",
   "notebook_metadata_filter": "-all",
   "text_representation": {
    "extension": ".md",
    "format_name": "markdown"
   }
  }
 },
 "nbformat": 4,
 "nbformat_minor": 4
}
