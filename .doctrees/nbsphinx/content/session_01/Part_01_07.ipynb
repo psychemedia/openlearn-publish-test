{
 "cells": [
  {
   "cell_type": "markdown",
   "metadata": {},
   "source": [
    "# 6 What are the barriers?"
   ]
  },
  {
   "cell_type": "markdown",
   "metadata": {},
   "source": [
    "We all like to think that we are going to succeed in achieving our goals, but as anyone who has set themselves a New Year’s resolution probably knows, failure is also an option.\n",
    "\n",
    "This might come as a surprise to you to talk about failure, as so much current thinking is about embracing a ‘can do’ attitude and thinking that everything is possible, and that the sky’s the limit.\n",
    "\n",
    "You might indeed think it is strange that we would talk about failing in a course that is designed to help you succeed in language learning, but in our experience, there are always lots of things that get in the way of a good plan, ranging from lack of confidence to lack of time, other pressures on your day to day life, an unexpected personal circumstance, a habit of procrastinating, or simply not knowing how to deal with difficulties in your language learning journey."
   ]
  },
  {
   "cell_type": "markdown",
   "metadata": {},
   "source": [
    "### Laura says:\n",
    "\n",
    "I think it is important to understand that changes in life circumstance doesn’t necessarily mean you have failed – it may well mean you have to take a step back, re-evaluate your motivations, goals, routine etc. and accept you haven’t managed to achieve everything you wanted within the timeframe you envisaged.\n"
   ]
  },
  {
   "cell_type": "markdown",
   "metadata": {},
   "source": [
    "There are lots of reasons why people come unstuck when learning languages. Here are some barriers that people have. Do you identify with any of them?\n",
    "\n",
    "* I lack confidence\n",
    "\n",
    "* I am easily distracted\n",
    "\n",
    "* I think I’m just not very efficient\n",
    "\n",
    "* I am easily discouraged\n",
    "\n",
    "* I always procrastinate\n",
    "\n",
    "* I am lazy\n",
    "\n",
    "* I have no willpower\n",
    "\n",
    "* I am really over-committed to too much stuff\n",
    "\n",
    "* I get easily stressed\n",
    "\n",
    "* I am very disorganised."
   ]
  },
  {
   "cell_type": "markdown",
   "metadata": {},
   "source": [
    "### Activity 3 Identifying barriers \n",
    "__Timing: Allow about 5 minutes__"
   ]
  },
  {
   "cell_type": "markdown",
   "metadata": {},
   "source": [
    "#### Question\n",
    "\n",
    "Here are some of the unsuccessful behaviours that people can exhibit when learning a language.\n",
    "\n",
    "For each of the behaviours below, decide which barrier best describes the situation\n",
    "\n",
    "‘I am not very confident, and I am really scared of speaking and making mistakes. I’m not very good at languages, and I’m not sure if I can do this…’\n",
    "\n",
    "He lacks confidence\n",
    "\n",
    "He is very disorganised\n",
    "\n",
    "He has no willpower"
   ]
  },
  {
   "cell_type": "markdown",
   "metadata": {},
   "source": [
    "#### Question\n",
    "\n",
    "‘I know what I’m supposed to do to learn a language, but I just seem to find so many reasons to put off learning new vocabulary or studying grammar… and if I have a test, I can revise for it at the last minute!’\n",
    "\n",
    "She is lazy\n",
    "\n",
    "She always procrastinates\n",
    "\n",
    "She is really over-committed to too much stuff"
   ]
  },
  {
   "cell_type": "markdown",
   "metadata": {},
   "source": [
    "#### Question\n",
    "\n",
    "‘I just don’t like working hard… Life is about having fun and being happy, right? And studying a language is just such hard work!’\n",
    "\n",
    "She is lazy\n",
    "\n",
    "She gets easily stressed\n",
    "\n",
    "She thinks she’s just not very efficient"
   ]
  },
  {
   "cell_type": "markdown",
   "metadata": {},
   "source": [
    "#### Question\n",
    "\n",
    "‘I know I should practice speaking and study grammar, but it’s just so much easier to play with this really cool app I found. I know it’s silly, because I’m not making any progress, but I just can’t find the determination to work hard.’\n",
    "\n",
    "He lacks confidence\n",
    "\n",
    "He has no willpower\n",
    "\n",
    "He is easily discouraged"
   ]
  },
  {
   "cell_type": "markdown",
   "metadata": {},
   "source": [
    "#### Question\n",
    "\n",
    "‘I have all these books, and audio, and films, and apps… I start working on something, and then I give up and try something else. I can’t focus on anything for more than a few minutes.’\n",
    "\n",
    "She is easily discouraged\n",
    "\n",
    "She always procrastinates\n",
    "\n",
    "She is easily distracted\n",
    "\n"
   ]
  },
  {
   "cell_type": "markdown",
   "metadata": {},
   "source": [
    "### Activity 4 Reflecting on your own barriers \n",
    "__Timing: Allow about 10 minutes__"
   ]
  },
  {
   "cell_type": "markdown",
   "metadata": {},
   "source": [
    "#### Question\n",
    "\n",
    "Now think of three of the barriers that you most identify with and write a couple of sentences for each explaining how they affect your language learning."
   ]
  },
  {
   "cell_type": "markdown",
   "metadata": {},
   "source": [
    "#### Discussion\n",
    "\n",
    "For instance, I am quite given to procrastination. I will settle down to study German and find that first I check my Facebook page or my Twitter account, then I might go and get myself a drink, and finally settle down to work. What this usually means is that I’ve wasted a lot of time before I settle down to study and usually run out of time to do the studying itself! I also know that if I have a lesson, I will leave doing the homework or preparation to the last possible minute.  \n",
    "\n",
    "\n"
   ]
  }
 ],
 "metadata": {
  "jupytext": {
   "cell_metadata_filter": "-all",
   "main_language": "python",
   "notebook_metadata_filter": "-all",
   "text_representation": {
    "extension": ".md",
    "format_name": "markdown"
   }
  }
 },
 "nbformat": 4,
 "nbformat_minor": 4
}
