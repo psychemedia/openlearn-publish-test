{
 "cells": [
  {
   "cell_type": "markdown",
   "metadata": {},
   "source": [
    "# 12 Summary of Week 1"
   ]
  },
  {
   "cell_type": "markdown",
   "metadata": {},
   "source": [
    "This week you have looked at your motivation, some of the barriers you might come across when learning a language, and strategies to deal with them. You might have started setting yourself some SMART goals, using the CEFR as a map.\n",
    "\n",
    "You should now be able to:\n",
    "\n",
    "* visualise your ‘future language self’ and set SMART goals\n",
    "\n",
    "* think about how realistic your aims are, map your journey and consider how long it will take\n",
    "\n",
    "* understand possible barriers to your success and how to deal with them.\n",
    "\n",
    "Before you go any further, reflect on the following: what does learning a language actually involve?\n",
    "\n",
    "Next week, Olly will talk you though this question, drawing on his experience of learning languages.\n",
    "\n",
    "You can now go to Week 2.\n"
   ]
  }
 ],
 "metadata": {
  "jupytext": {
   "cell_metadata_filter": "-all",
   "main_language": "python",
   "notebook_metadata_filter": "-all",
   "text_representation": {
    "extension": ".md",
    "format_name": "markdown"
   }
  }
 },
 "nbformat": 4,
 "nbformat_minor": 4
}
