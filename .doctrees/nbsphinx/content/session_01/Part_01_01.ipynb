{
 "cells": [
  {
   "cell_type": "markdown",
   "metadata": {},
   "source": [
    "# Introduction"
   ]
  },
  {
   "cell_type": "markdown",
   "metadata": {},
   "source": [
    "This week of the course is written by Tita Beaven."
   ]
  },
  {
   "cell_type": "markdown",
   "metadata": {},
   "source": [
    "![This is a photograph of Tita Beaven.](../images/language_boc_w1_f01.tif.jpg)"
   ]
  },
  {
   "cell_type": "markdown",
   "metadata": {},
   "source": [
    "__Figure 1__ Tita Beaven, author of Week 1."
   ]
  },
  {
   "cell_type": "markdown",
   "metadata": {},
   "source": [
    "Welcome to Week 1 of this free badged course, *How to learn a language*. \n",
    "\n",
    "This week you will think about your reasons and your goals for learning a language, and you’ll explore what the possible barriers to you accomplishing your goals might be, and what you can do about it. \n",
    "\n",
    "By the end of this week, you should be able to:\n",
    "\n",
    "* visualise your ‘future language self’ and set SMART goals\n",
    "\n",
    "* think about how realistic your aims are, map your journey and consider how long it will take\n",
    "\n",
    "* understand possible barriers to your success, and how to deal with them.\n"
   ]
  }
 ],
 "metadata": {
  "jupytext": {
   "cell_metadata_filter": "-all",
   "main_language": "python",
   "notebook_metadata_filter": "-all",
   "text_representation": {
    "extension": ".md",
    "format_name": "markdown"
   }
  }
 },
 "nbformat": 4,
 "nbformat_minor": 4
}
