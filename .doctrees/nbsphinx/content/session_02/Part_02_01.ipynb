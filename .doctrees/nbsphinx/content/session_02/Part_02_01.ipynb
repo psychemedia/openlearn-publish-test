{
 "cells": [
  {
   "cell_type": "markdown",
   "metadata": {},
   "source": [
    "# Introduction"
   ]
  },
  {
   "cell_type": "markdown",
   "metadata": {},
   "source": [
    "This week of the course is written by Olly Richards."
   ]
  },
  {
   "cell_type": "markdown",
   "metadata": {},
   "source": [
    "![This is a photograph of Olly Richards.](../images/language_boc_w2_f01.tif.jpg)"
   ]
  },
  {
   "cell_type": "markdown",
   "metadata": {},
   "source": [
    "__Figure 1__ Olly Richards, author of Week 2."
   ]
  },
  {
   "cell_type": "markdown",
   "metadata": {},
   "source": [
    "Becoming a successful language learner is not simply about discovering the ‘how-to’ tips and tricks. Every language is a bit like a puzzle. Over time, you gradually increase your understanding of how a language works. Grammar that was once hard becomes second nature. Vocabulary that used to slip your mind becomes engrained.\n",
    "\n",
    "The process of becoming fluent in a language can take many years and success comes with time, providing you are able to stick at it.\n",
    "\n",
    "For a new language learner, though, it is sticking with a language over a long period of time that is often the hardest thing of all. This is not because they are unwilling to do the work. It’s because unexpected things happen.\n",
    "\n",
    "By the end of this week, you will be able to:\n",
    "\n",
    "* revisit your language learning aims\n",
    "\n",
    "* recognise four important areas that you need to master: the linguistic, the cultural, the methodological and the self.\n"
   ]
  }
 ],
 "metadata": {
  "jupytext": {
   "cell_metadata_filter": "-all",
   "main_language": "python",
   "notebook_metadata_filter": "-all",
   "text_representation": {
    "extension": ".md",
    "format_name": "markdown"
   }
  }
 },
 "nbformat": 4,
 "nbformat_minor": 4
}
