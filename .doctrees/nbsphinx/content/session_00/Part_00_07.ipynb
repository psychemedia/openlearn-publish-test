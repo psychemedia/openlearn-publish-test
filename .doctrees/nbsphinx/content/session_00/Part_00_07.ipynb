{
 "cells": [
  {
   "cell_type": "markdown",
   "metadata": {},
   "source": [
    "# 7 Thermoregulation and mammalian fur"
   ]
  },
  {
   "cell_type": "markdown",
   "metadata": {},
   "source": [
    "A coat of profuse mammalian body hair is commonly called fur. Fur provides insulation, which is useful for mammals to help retain body heat. Fur is a unique and fundamental feature of mammals, though not all living species possess it.\n",
    "<!--SAQ id=saq012-->\n",
    "\n",
    "### Question 11"
   ]
  },
  {
   "cell_type": "markdown",
   "metadata": {},
   "source": [
    "#### Question\n",
    "\n",
    "Can you think of one main shared characteristic among those tropical mammals that have little or no fur?"
   ]
  },
  {
   "cell_type": "markdown",
   "metadata": {},
   "source": [
    "#### Answer\n",
    "\n",
    "In general, they are very large animals – think of the rhinoceros and the elephant. Large animals have the advantage of warming up comparatively slowly in hot conditions, so delaying dangerous rises in body temperature. But for the same reason, they often have severe problems when they need to lose heat. So, for very large tropical animals the loss of fur is likely to have conferred a significant advantage.\n",
    "<!--ENDSAQ-->\n",
    "\n",
    "![A vertical cross-section of the skin of a typical mammal. The upper (outer) epidermis consists of tough, dead cells. The inner dermis is a much thicker layer and contains glands and nerve endings that impart sensitivity to touch. The hairs that protrude from the surface of the skin have their roots deep in the inner dermis. One of these surface hairs is shown in cross-section. There is an erector muscle attached to it, a sebaceous gland that is wrapped around the hair and a blood supply at the base. The inner dermis also contains sweat glands.](../images/s182_12_figure_19.jpg)"
   ]
  },
  {
   "cell_type": "markdown",
   "metadata": {},
   "source": [
    "Figure 21 A vertical cross-section of the skin of a typical mammal. The upper (outer) epidermis consists of tough, dead cells. The inner dermis has glands and nerve endings that impart sensitivity to touch"
   ]
  },
  {
   "cell_type": "markdown",
   "metadata": {},
   "source": [
    "Figure 21 is a cross-section through the skin of a mammal, including a slice through a single hair. Its root is embedded deep within the inner layer of the skin, called the dermis. The sebaceous gland provides the oily secretion that helps keep the fur in good condition, while the contraction of the erector muscle makes the hair stand up; their combined action ‘fluffs up’ the fur, increasing its powers of insulation. In passing, note the sweat gland that is located deep within the dermis, and the blood vessels that supply the base of the hair with nutrients. This point is where cell division and growth of the hair occur and the newly formed hair shaft (rich in keratin, as mentioned earlier in Section 5.2) pushes upwards. The part of the skin that is visible is the overlying epidermis, which is composed of cells (now dead) that were initially produced by cell division within a growing area deep within the dermis.\n",
    "\n",
    "This figure is a generalised view – different mammals show particular characteristics of skin structure. For example, the skin of the echidna would look very different from that shown in Figure 21, with a mix of ‘normal’ coarse hair – the length of which varies according to climate – and large single ‘hairs’, which are so well reinforced with keratin that they more closely resemble our own nails in hardness and chemical make-up.\n",
    "\n",
    "The insulation provided by fur comes not from the hair itself, but largely from the layer of air trapped within the fur. Air is a very effective insulator, which is the same as saying it’s a poor conductor, i.e. it has a very limited ability to convey heat away from a warm surface, such as the epidermis. Calculations reveal that if a layer of still air of about five centimetres could be held in place close to the skin, it would provide the same level of insulation as the impressively dense winter coat of the arctic fox."
   ]
  },
  {
   "cell_type": "markdown",
   "metadata": {},
   "source": [
    "![The temperature at different sites within and outside the fur of a mammal adapted to arctic life. The diagram is a cross-section through the skin, showing the layer of fur, the epidermis, inner dermis and the body tissues. Plotted on this cross-section are the temperatures measured at intervals from the tissue layer to the air above the fur. The range is from 38 degrees in the tissue layer to minus ten degrees in the air above the fur.](../images/s182_12_figure_20.jpg)"
   ]
  },
  {
   "cell_type": "markdown",
   "metadata": {},
   "source": [
    "Figure 22 The temperature at different sites within and outside the fur of a mammal adapted to arctic life. The temperature at the surface of the epidermis is close to that of deeper tissues below the dermis, i.e. is close to what is called the core temperature. The close match between these measurements shows that nearly all the insulation is provided by fur, notably by the air trapped between the hairs"
   ]
  },
  {
   "cell_type": "markdown",
   "metadata": {},
   "source": [
    "Figure 22 plots the temperatures within and beyond the skin surface when a well-insulated polar mammal (a wolf or an arctic fox) is exposed to an air temperature of -10 °C. Near the tips of the fur the temperature is -10 °C, but the surface of the epidermis is close to 30 °C. This is a temperature difference (or gradient) of about 40 °C across the six centimetre fur layer, due to the excellent insulating properties of the air contained within the long, fine and densely packed fur. Figure 22 also shows just how little insulation is offered by the epidermis and dermis. However, it’s a very different picture with the polar bear, which has coarse outer hair and dense underhair; its insulation relies more on blubber underlying the skin – an arrangement better suited to its amphibious existence.\n",
    "\n",
    "You’ll appreciate by now that mammals that show a very small increase in metabolic rate as outside temperatures fall (as shown in Figure 20, repeated below) do so largely because of very effective insulation. Conductance is the name given to the flow of heat from one material to another, say from the skin to the outside air. An effective coat of fur ensures a very low level of conductance of heat; the flimsier coat of a tropical animal provides a higher conductance. So, the slope of the lines in Figure 20 is a measure of conductance – the steeper the slope, the greater the conductance."
   ]
  },
  {
   "cell_type": "markdown",
   "metadata": {},
   "source": [
    "![This is a simplified graph of metabolic rate (vertical axis) against ambient temperature (horizontal axis) in contrasting types of mammal: a temperate mammal (a weasel), an arctic mammal (a polar bear cub), and a tropical mammal (a sloth). Each plot shows the range of body temperature over which the metabolic rate does not change and the point at which metabolic rate starts to increase with decreasing temperature. For the sloth, the metabolic rate is constant from 38 degrees to 30 degrees and then starts to rise. For the weasel, the figures are 38 to 18 degrees and for the polar bear, 38 to 10 degrees.](../images/s182_12_figure_18.jpg)"
   ]
  },
  {
   "cell_type": "markdown",
   "metadata": {},
   "source": [
    "Figure 20 (repeated) A simplified graph of metabolic rate against ambient temperature in contrasting types of mammal: a temperate mammal (a weasel), an arctic mammal (a polar bear cub), and a tropical mammal (a sloth). The basal metabolic rate (BMR) of all three mammal types is assumed to be about 1, for ease of comparison"
   ]
  },
  {
   "cell_type": "markdown",
   "metadata": {},
   "source": [
    "The combination of endothermy and the ability to conserve the large amounts of body heat generated has contributed enormously to the success of mammals. What is remarkable is that fur has proved sufficiently versatile during the evolution of mammals to make physiological sense for the amphibious platypus, the cold-adapted arctic fox and the sun-baked red kangaroo alike.\n"
   ]
  }
 ],
 "metadata": {
  "jupytext": {
   "cell_metadata_filter": "-all",
   "main_language": "python",
   "notebook_metadata_filter": "-all",
   "text_representation": {
    "extension": ".md",
    "format_name": "markdown"
   }
  }
 },
 "nbformat": 4,
 "nbformat_minor": 4
}
