{
 "cells": [
  {
   "cell_type": "markdown",
   "metadata": {},
   "source": [
    "# 6 Closing items\n"
   ]
  },
  {
   "cell_type": "markdown",
   "metadata": {},
   "source": [
    "## 6.1 course summary"
   ]
  },
  {
   "cell_type": "markdown",
   "metadata": {},
   "source": [
    "1. A coordinate system provides a systematic means of specifying the position of a particle. A system in one dimension involves choosing an origin and a positive direction in which values of the position coordinate increase. Values of the position coordinate are positive or negative numbers multiplied by an appropriate unit of length, usually the SI unit of length, the metre (m).\n",
    "\n",
    "2. The movement of a particle along a line can be described graphically by plotting values of the particle's position *x*, against the corresponding times *t*, to produce a position-time graph. Alternatively, by choosing an appropriate reference position *x*﻿<sub xmlns:str=\"http://exslt.org/strings\">ref</sub> and defining the displacement from that point by *s﻿<sub xmlns:str=\"http://exslt.org/strings\">x</sub>* = *x* − *x*<sub xmlns:str=\"http://exslt.org/strings\">ref</sub>, the motion may be described by means of a displacement-time graph.\n",
    "\n",
    "3. Uniform motion along a line is characterised by a straight-line position-time graph that may be described by the equation"
   ]
  },
  {
   "cell_type": "markdown",
   "metadata": {},
   "source": [
    "![figure images/s207_1_ue006ai.gif](../images/s207_1_ue006ai.gif)\n",
    "\n",
    "where *v*<sub xmlns:str=\"http://exslt.org/strings\">*x*</sub> and *x*<sub xmlns:str=\"http://exslt.org/strings\">0</sub> are constants. Physically, *v*<sub xmlns:str=\"http://exslt.org/strings\">*x*</sub> represents the particle's velocity, the rate of change of its position with respect to time, and is determined by the gradient of the position-time graph"
   ]
  },
  {
   "cell_type": "markdown",
   "metadata": {},
   "source": [
    "![figure images/s207_1_ue005i.gif](../images/s207_1_ue005i.gif)\n",
    "\n",
    "*x*﻿<sub xmlns:str=\"http://exslt.org/strings\">0</sub> represents the particle's initial position, its position at *t* = 0, and is determined by the intercept of the position-time graph, the value of *x* at which the plotted line crosses the *x*-axis, provided that axis has been drawn through *t* = 0.\n",
    "\n",
    "4. Non-uniform motion along a line is characterised by a position-time graph that is not a straight line. In such circumstances the rate of change of position with respect to time may vary from moment to moment and defines the instantaneous velocity. Its value at any particular time is determined by the gradient of the tangent to the position-time graph at that time.\n",
    "\n",
    "5. More generally, if the position of a particle varies with time in the way described by a function *x*﻿(﻿*t*﻿), then the way in which the (instantaneous) velocity varies with time will be described by the associated derived function or derivative"
   ]
  },
  {
   "cell_type": "markdown",
   "metadata": {},
   "source": [
    "![figure images/s207_1_ue014i.gif](../images/s207_1_ue014i.gif)\n",
    "\n",
    "6. The instantaneous acceleration is the rate of change of the instantaneous velocity with respect to time. Its value at any time is determined by the gradient of the tangent to the velocity-time graph at that time. More generally, the way in which the (instantaneous) acceleration varies with time will be described by the derivative of the function that describes the instantaneous velocity, or, equivalently, the second derivative of the function that describes the position:"
   ]
  },
  {
   "cell_type": "markdown",
   "metadata": {},
   "source": [
    "![figure images/s207_1_ue018_2i.gif](../images/s207_1_ue018_2i.gif)\n",
    "\n",
    "7. Results and rules relating to differentiation and the determination of derivatives are contained in <a xmlns:str=\"http://exslt.org/strings\" href=\"\">Table 6</a>. The derivative of a constant is zero, the derivative of *f*﻿(﻿*y*﻿) = *﻿Ay﻿<sup xmlns:str=\"http://exslt.org/strings\">n</sup>﻿* is d﻿*f*﻿/﻿d﻿*y* = *nAy<sup xmlns:str=\"http://exslt.org/strings\">n</sup>*<sup xmlns:str=\"http://exslt.org/strings\"> −1</sup>.\n",
    "\n",
    "8. The signed area under a velocity-time graph, between specified values of time, represents the change in position of the particle during that interval.\n",
    "\n",
    "9. Uniformly accelerated motion is a special case of non-uniform motion characterised by a constant value of the acceleration, *a<sub xmlns:str=\"http://exslt.org/strings\">x</sub>* = constant. In such circumstances the velocity is a linear function of time (*v*﻿<sub xmlns:str=\"http://exslt.org/strings\">*x*</sub>﻿(﻿*t*﻿) = *u﻿<sub xmlns:str=\"http://exslt.org/strings\">x</sub>* + *a﻿<sub xmlns:str=\"http://exslt.org/strings\">x</sub>﻿t*), and the position is a quadratic function of time (﻿ ![inlinefigure images/s207_1_ie077i.gif](../images/s207_1_ie077i.gif) ).\n",
    "\n",
    "10. The most widely used equations describing uniformly accelerated motion are"
   ]
  },
  {
   "cell_type": "markdown",
   "metadata": {},
   "source": [
    "![figure images/s207_1_ue028i.gif](../images/s207_1_ue028i.gif)"
   ]
  },
  {
   "cell_type": "markdown",
   "metadata": {},
   "source": [
    "![figure images/s207_1_ue028di.gif](../images/s207_1_ue028di.gif)\n",
    "\n",
    "11. Position *x*, displacement *s<sub xmlns:str=\"http://exslt.org/strings\">x</sub>*, velocity *v*<sub xmlns:str=\"http://exslt.org/strings\">*x*</sub>, and acceleration, *a<sub xmlns:str=\"http://exslt.org/strings\">x</sub>*, are all signed quantities that may be positive or negative, depending on the associated direction. The magnitude of each of these quantities is a positive quantity that is devoid of directional information. The magnitude of the displacement of one point from another, *s* = |﻿*s﻿<sub xmlns:str=\"http://exslt.org/strings\">x</sub>﻿*|, represents the distance between those two points, while the magnitude of a particle's velocity, *v* = |﻿*v*﻿<sub xmlns:str=\"http://exslt.org/strings\">*x*</sub>﻿|, represents the speed of the particle. The magnitude of the acceleration due to gravity is represented by the symbol *g*, and has the approximate value 9.81 m s<sup xmlns:str=\"http://exslt.org/strings\">﻿−﻿2</sup> across much of the Earth's surface."
   ]
  },
  {
   "cell_type": "markdown",
   "metadata": {},
   "source": [
    "## 6.2 End-of-course questions\n"
   ]
  },
  {
   "cell_type": "markdown",
   "metadata": {},
   "source": [
    "### Question 25"
   ]
  },
  {
   "cell_type": "markdown",
   "metadata": {},
   "source": [
    "#### Question\n",
    "\n",
    "Table 8 shows the atmospheric pressure *P* in pascals (Pa) at various heights *h* above the Earth's surface. Plot a graph to give a visual representation of the data in the table. Be careful to label your axes correctly. Explain why you have chosen to plot particular variables on the horizontal and vertical axes. Use your graph to find the rate of change of atmospheric pressure with height at *h* = 10 km.\n",
    "<table xmlns:str=\"http://exslt.org/strings\">\n",
    "<caption>__Table 8:__ Data for question 25</caption>\n",
    "<tbody>\n",
    "<tr>\n",
    "<th>*h*/km</th>\n",
    "<th>*P*/Pa</th>\n",
    "</tr>\n",
    "<tr>\n",
    "<td class=\"highlight_\" rowspan=\"\" colspan=\"\">0</td>\n",
    "<td class=\"highlight_\" rowspan=\"\" colspan=\"\">101 325</td>\n",
    "</tr>\n",
    "<tr>\n",
    "<td class=\"highlight_\" rowspan=\"\" colspan=\"\">5</td>\n",
    "<td class=\"highlight_\" rowspan=\"\" colspan=\"\">48 586</td>\n",
    "</tr>\n",
    "<tr>\n",
    "<td class=\"highlight_\" rowspan=\"\" colspan=\"\">10</td>\n",
    "<td class=\"highlight_\" rowspan=\"\" colspan=\"\">23 297</td>\n",
    "</tr>\n",
    "<tr>\n",
    "<td class=\"highlight_\" rowspan=\"\" colspan=\"\">15</td>\n",
    "<td class=\"highlight_\" rowspan=\"\" colspan=\"\">11 171</td>\n",
    "</tr>\n",
    "<tr>\n",
    "<td class=\"highlight_\" rowspan=\"\" colspan=\"\">20</td>\n",
    "<td class=\"highlight_\" rowspan=\"\" colspan=\"\">5357</td>\n",
    "</tr>\n",
    "<tr>\n",
    "<td class=\"highlight_\" rowspan=\"\" colspan=\"\">25</td>\n",
    "<td class=\"highlight_\" rowspan=\"\" colspan=\"\">2569</td>\n",
    "</tr>\n",
    "<tr>\n",
    "<td class=\"highlight_\" rowspan=\"\" colspan=\"\">30</td>\n",
    "<td class=\"highlight_\" rowspan=\"\" colspan=\"\">1232</td>\n",
    "</tr>\n",
    "</tbody>\n",
    "Reference: \n",
    "\n",
    "</table>"
   ]
  },
  {
   "cell_type": "markdown",
   "metadata": {},
   "source": [
    "#### Answer\n",
    "\n",
    "The graph is given in Figure 43. Notice how the vertical axis is scaled by 10<sup xmlns:str=\"http://exslt.org/strings\">5</sup> in order to avoid a confusion of numbers on this axis. Since the pressure is the dependent variable, it is plotted on the vertical axis. Conversely, since height is the independent variable, it is plotted along the horizontal axis.\n",
    "\n",
    "The rate of change of atmospheric pressure with height at 10 km is given by the gradient of the graph at this point. Using the tangent shown in Figure 43, we obtain"
   ]
  },
  {
   "cell_type": "markdown",
   "metadata": {},
   "source": [
    "![figure images/s207_1_ie060i.gif](../images/s207_1_ie060i.gif)\n",
    "\n",
    "(Differentiating the function that was used to produce <a xmlns:str=\"http://exslt.org/strings\" href=\"\">Table 8</a> gives a gradient of −3435 Pa km<sup xmlns:str=\"http://exslt.org/strings\"> −1</sup> at 10 km.)"
   ]
  },
  {
   "cell_type": "markdown",
   "metadata": {},
   "source": [
    "![figure images/s207_2_043i.jpg](../images/s207_2_043i.jpg)"
   ]
  },
  {
   "cell_type": "markdown",
   "metadata": {},
   "source": [
    "__Figure 43__: Graph for question 25\n",
    "\n",
    "\n"
   ]
  },
  {
   "cell_type": "markdown",
   "metadata": {},
   "source": [
    "### Question 26"
   ]
  },
  {
   "cell_type": "markdown",
   "metadata": {},
   "source": [
    "#### Question\n",
    "\n",
    "(a) Define the terms *position* and *displacement*, and carefully distinguish between them.\n",
    "\n",
    "(b) The position *x* of a particle at time *t* is given in Table 9. Plot a position-time graph for the data in Table 9.\n",
    "\n",
    "(c) Using your graph, measure the velocity of the particle at *t* = 5 s.\n",
    "\n",
    "(d) A second particle undergoes uniform motion and has the same position and velocity as the first particle at time *t* = 5 s. What is the displacement of the second particle from the first at time *t* = 10 s?\n",
    "<table xmlns:str=\"http://exslt.org/strings\">\n",
    "<caption>__Table 9:__ Data for question 26</caption>\n",
    "<tbody>\n",
    "<tr>\n",
    "<th>*t*/s</th>\n",
    "<th>*x*/km</th>\n",
    "</tr>\n",
    "<tr>\n",
    "<td class=\"highlight_\" rowspan=\"\" colspan=\"\">0</td>\n",
    "<td class=\"highlight_\" rowspan=\"\" colspan=\"\">0</td>\n",
    "</tr>\n",
    "<tr>\n",
    "<td class=\"highlight_\" rowspan=\"\" colspan=\"\">1</td>\n",
    "<td class=\"highlight_\" rowspan=\"\" colspan=\"\">0.443</td>\n",
    "</tr>\n",
    "<tr>\n",
    "<td class=\"highlight_\" rowspan=\"\" colspan=\"\">2</td>\n",
    "<td class=\"highlight_\" rowspan=\"\" colspan=\"\">0.984</td>\n",
    "</tr>\n",
    "<tr>\n",
    "<td class=\"highlight_\" rowspan=\"\" colspan=\"\">3</td>\n",
    "<td class=\"highlight_\" rowspan=\"\" colspan=\"\">1.64</td>\n",
    "</tr>\n",
    "<tr>\n",
    "<td class=\"highlight_\" rowspan=\"\" colspan=\"\">4</td>\n",
    "<td class=\"highlight_\" rowspan=\"\" colspan=\"\">2.45</td>\n",
    "</tr>\n",
    "<tr>\n",
    "<td class=\"highlight_\" rowspan=\"\" colspan=\"\">5</td>\n",
    "<td class=\"highlight_\" rowspan=\"\" colspan=\"\">3.44</td>\n",
    "</tr>\n",
    "<tr>\n",
    "<td class=\"highlight_\" rowspan=\"\" colspan=\"\">6</td>\n",
    "<td class=\"highlight_\" rowspan=\"\" colspan=\"\">4.64</td>\n",
    "</tr>\n",
    "<tr>\n",
    "<td class=\"highlight_\" rowspan=\"\" colspan=\"\">7</td>\n",
    "<td class=\"highlight_\" rowspan=\"\" colspan=\"\">6.11</td>\n",
    "</tr>\n",
    "<tr>\n",
    "<td class=\"highlight_\" rowspan=\"\" colspan=\"\">8</td>\n",
    "<td class=\"highlight_\" rowspan=\"\" colspan=\"\">7.91</td>\n",
    "</tr>\n",
    "<tr>\n",
    "<td class=\"highlight_\" rowspan=\"\" colspan=\"\">9</td>\n",
    "<td class=\"highlight_\" rowspan=\"\" colspan=\"\">10.1</td>\n",
    "</tr>\n",
    "<tr>\n",
    "<td class=\"highlight_\" rowspan=\"\" colspan=\"\">10</td>\n",
    "<td class=\"highlight_\" rowspan=\"\" colspan=\"\">12.8</td>\n",
    "</tr>\n",
    "</tbody>\n",
    "Reference: \n",
    "\n",
    "</table>"
   ]
  },
  {
   "cell_type": "markdown",
   "metadata": {},
   "source": [
    "#### Answer\n",
    "\n",
    "(a) The *position* of a point on a line is represented by a coordinate *x*, measured from some arbitrarily chosen origin. Such a point might represent the instantaneous position of a particle moving along the line. *Displacement* refers to the difference in position of two points, these might be the initial and final positions of a moving particle, in which case the displacement would represent the change in the particle's position.\n",
    "\n",
    "(b) The position-time graph for <a xmlns:str=\"http://exslt.org/strings\" href=\"\">Table 9</a> is given by the curve in Figure 44.\n",
    "\n",
    "(c) The instantaneous velocity is given by the gradient of the tangent at *t* = 5 s. The gradient of the tangent shown is"
   ]
  },
  {
   "cell_type": "markdown",
   "metadata": {},
   "source": [
    "![figure images/s207_1_ie061i.gif](../images/s207_1_ie061i.gif)\n",
    "\n",
    "(This result compares with the value of 1.087, which is obtained by differentiating the function that was used to produce <a xmlns:str=\"http://exslt.org/strings\" href=\"\">Table 9</a>.)\n",
    "\n",
    "(d) The displacement-time graph for the second particle is the tangent at *t* = 5 s, which we have already drawn in Figure 44 since for uniform motion *x* = *x*<sub xmlns:str=\"http://exslt.org/strings\">0</sub> + *v*<sub xmlns:str=\"http://exslt.org/strings\">x</sub>*t*. From this tangent, we can see that the position of the second particle at *t* = 10 s is 8.5 km. Hence, the displacement of the second particle from the first is (8.5 − 12.8) km = −4.3 km. Note that the minus sign is an essential part of the answer."
   ]
  },
  {
   "cell_type": "markdown",
   "metadata": {},
   "source": [
    "![figure images/s207_2_044i.jpg](../images/s207_2_044i.jpg)"
   ]
  },
  {
   "cell_type": "markdown",
   "metadata": {},
   "source": [
    "__Figure 44:__ Position-time graph for question 26\n",
    "\n",
    "\n"
   ]
  },
  {
   "cell_type": "markdown",
   "metadata": {},
   "source": [
    "### Question 27"
   ]
  },
  {
   "cell_type": "markdown",
   "metadata": {},
   "source": [
    "#### Question\n",
    "\n",
    "(a) Define the terms *velocity* and *acceleration*.\n",
    "\n",
    "(b) The velocity *v*<sub xmlns:str=\"http://exslt.org/strings\">*x*</sub> of a particle moving along the *x*-axis at various times *t* is given in <a xmlns:str=\"http://exslt.org/strings\" href=\"\">Table 10</a>.\n",
    "\n",
    "(i) Assuming the particle has a constant acceleration between the given positions, draw a velocity-time graph representing the data in Table 10.\n",
    "\n",
    "(ii) Use your graph to calculate the total displacement of the particle over the time interval given in the table.\n",
    "<table xmlns:str=\"http://exslt.org/strings\">\n",
    "<caption>__Table 10:__ Data for Self-assessment question 27</caption>\n",
    "<tbody>\n",
    "<tr>\n",
    "<th>*v*<sub>*x*</sub>/m s<sup>−1</sup>\n",
    "</th>\n",
    "<th>*t*/s</th>\n",
    "</tr>\n",
    "<tr>\n",
    "<td class=\"highlight_\" rowspan=\"\" colspan=\"\">4</td>\n",
    "<td class=\"highlight_\" rowspan=\"\" colspan=\"\">0</td>\n",
    "</tr>\n",
    "<tr>\n",
    "<td class=\"highlight_\" rowspan=\"\" colspan=\"\">−4</td>\n",
    "<td class=\"highlight_\" rowspan=\"\" colspan=\"\">10</td>\n",
    "</tr>\n",
    "<tr>\n",
    "<td class=\"highlight_\" rowspan=\"\" colspan=\"\">0</td>\n",
    "<td class=\"highlight_\" rowspan=\"\" colspan=\"\">15</td>\n",
    "</tr>\n",
    "<tr>\n",
    "<td class=\"highlight_\" rowspan=\"\" colspan=\"\">2</td>\n",
    "<td class=\"highlight_\" rowspan=\"\" colspan=\"\">20</td>\n",
    "</tr>\n",
    "</tbody>\n",
    "Reference: \n",
    "\n",
    "</table>"
   ]
  },
  {
   "cell_type": "markdown",
   "metadata": {},
   "source": [
    "#### Answer\n",
    "\n",
    "(a) The *velocity* of a particle is its rate of change of position. The *acceleration* of a particle is its rate of change of velocity.\n",
    "\n",
    "(b) (i) The velocity-time graph for <a xmlns:str=\"http://exslt.org/strings\" href=\"\">Table 10</a> is given in Figure 45.\n",
    "\n",
    "(ii) The displacement is equal to the signed area under the velocity-time graph. For the interval between 0 s and 10 s, the areas above and below the time axis cancel and consequently the displacement is zero.\n",
    "\n",
    "For the interval between 10 s and 15 s, the displacement is given by\n",
    "\n",
    "−(1/2) x 5 x 4 m = −10 m.\n",
    "\n",
    "For the interval between 15 s and 20 s, the displacement is given by\n",
    "\n",
    "(1/2) x 5 x 2 m = 5 m.\n",
    "\n",
    "The total displacement is the sum of all three contributions:\n",
    "\n",
    "(0 − 10 + 5) m = −5 m."
   ]
  },
  {
   "cell_type": "markdown",
   "metadata": {},
   "source": [
    "![figure images/s207_2_045i.jpg](../images/s207_2_045i.jpg)"
   ]
  },
  {
   "cell_type": "markdown",
   "metadata": {},
   "source": [
    "__Figure 45:__ Velocity-time graph for question 27\n",
    "\n"
   ]
  },
  {
   "cell_type": "markdown",
   "metadata": {},
   "source": [
    "*Comment In questions 28 to 32, you are not required to draw any graphs*."
   ]
  },
  {
   "cell_type": "markdown",
   "metadata": {},
   "source": [
    "### Question 28"
   ]
  },
  {
   "cell_type": "markdown",
   "metadata": {},
   "source": [
    "#### Question\n",
    "\n",
    "The variable *z* is related to the variable *y* by the equation\n",
    "\n",
    "<!--Quote id=q007-->\n",
    ">*z* = 3 + 2*y* + *y*<sup xmlns:str=\"http://exslt.org/strings\">3</sup>."
   ]
  },
  {
   "cell_type": "markdown",
   "metadata": {},
   "source": [
    "(a) Find the derivative d*z*/d*y*.\n",
    "\n",
    "(b) Evaluate d*z*/d*y* at *y* = 2.\n",
    "\n",
    "(c) What would be the gradient of a graph of *z* plotted against *y* for the value *y* = 2?"
   ]
  },
  {
   "cell_type": "markdown",
   "metadata": {},
   "source": [
    "#### Answer\n",
    "\n",
    "(a) d*z*/d*y* = 2 + 3y<sup xmlns:str=\"http://exslt.org/strings\">2</sup>.\n",
    "\n",
    "(b) Substituting *y* = 2 into the derivative found in part (a) we obtain\n",
    "\n",
    " ![inlinefigure images/s207_1_ie073i.gif](../images/s207_1_ie073i.gif) .\n",
    "\n",
    "(c) Since the gradient is equal to d*z*/d*y* evaluated at *y* = 2, the answer is 14.\n",
    "\n"
   ]
  },
  {
   "cell_type": "markdown",
   "metadata": {},
   "source": [
    "### Question 29"
   ]
  },
  {
   "cell_type": "markdown",
   "metadata": {},
   "source": [
    "#### Question\n",
    "\n",
    "A rocket travels vertically away from the surface of the Moon. It is still close to the Moon's surface when it jettisons an empty fuel tank. The fuel tank initially travels with the same velocity as the rocket, but falls back to the Moon, reaching the Moon's surface 50 s after being released. If the fuel tank hits the surface at a speed of 50 m s<sup xmlns:str=\"http://exslt.org/strings\">−1</sup>, calculate the speed of the fuel tank when it was jettisoned. You may assume that the magnitude of the acceleration due to gravity near the Moon's surface is 1.6 m s<sup xmlns:str=\"http://exslt.org/strings\">﻿−﻿2</sup>."
   ]
  },
  {
   "cell_type": "markdown",
   "metadata": {},
   "source": [
    "#### Answer\n",
    "\n",
    "Choose an *x*-axis pointing vertically upwards from the Moon's surface. Using Equation 28b"
   ]
  },
  {
   "cell_type": "markdown",
   "metadata": {},
   "source": [
    "![figure images/s207_1_ue023i.gif](../images/s207_1_ue023i.gif)\n",
    "\n",
    "with *v<sub xmlns:str=\"http://exslt.org/strings\">x</sub>* = −50 m s<sup xmlns:str=\"http://exslt.org/strings\">−1</sup>, *a<sub xmlns:str=\"http://exslt.org/strings\">x</sub>* = −﻿1.6 m s<sup xmlns:str=\"http://exslt.org/strings\">−2</sup> and *t* = 50 s, we obtain\n",
    "\n",
    "<!--Quote id=q008-->\n",
    ">*u<sub xmlns:str=\"http://exslt.org/strings\">x</sub>* = *v<sub xmlns:str=\"http://exslt.org/strings\">x</sub>* − *a<sub xmlns:str=\"http://exslt.org/strings\">x</sub>t* = (−50 + 1.6 × 50) m s<sup xmlns:str=\"http://exslt.org/strings\">−1</sup> = 30 m s<sup xmlns:str=\"http://exslt.org/strings\">−1</sup>.\n",
    "\n",
    "\n"
   ]
  },
  {
   "cell_type": "markdown",
   "metadata": {},
   "source": [
    "### Question 30"
   ]
  },
  {
   "cell_type": "markdown",
   "metadata": {},
   "source": [
    "#### Question\n",
    "\n",
    "For time *t* greater than or equal to zero, a particle's position as it travels along the *x*-axis is described by the function *x*(*t*) = *At*<sup xmlns:str=\"http://exslt.org/strings\">2</sup>, where *A* = 4.0 m s<sup xmlns:str=\"http://exslt.org/strings\">−2</sup>. Use differentiation to calculate how fast the particle is travelling at *t* = 10 s."
   ]
  },
  {
   "cell_type": "markdown",
   "metadata": {},
   "source": [
    "#### Answer\n",
    "\n",
    " ![inlinefigure images/s207_1_ue030i.gif](../images/s207_1_ue030i.gif)  and therefore\n",
    "\n",
    "<!--Quote id=q009-->\n",
    ">*v<sub xmlns:str=\"http://exslt.org/strings\">x</sub>* (10 s) = (2 × 4.0 × 10) m s<sup xmlns:str=\"http://exslt.org/strings\">−1</sup> = 80 m s<sup xmlns:str=\"http://exslt.org/strings\">−1</sup>.\n",
    "\n",
    "\n"
   ]
  },
  {
   "cell_type": "markdown",
   "metadata": {},
   "source": [
    "### Question 31"
   ]
  },
  {
   "cell_type": "markdown",
   "metadata": {},
   "source": [
    "#### Question\n",
    "\n",
    "A vase falls to the ground from a shelf at height 1.80 m above the floor. Neglecting air resistance, calculate the time taken for the vase to strike the floor."
   ]
  },
  {
   "cell_type": "markdown",
   "metadata": {},
   "source": [
    "#### Answer\n",
    "\n",
    "Taking up as the positive direction, and using Equation 28a"
   ]
  },
  {
   "cell_type": "markdown",
   "metadata": {},
   "source": [
    "![figure images/s207_1_ue032i.gif](../images/s207_1_ue032i.gif)\n",
    "\n",
    "with *u<sub xmlns:str=\"http://exslt.org/strings\">x</sub>* = 0 m s<sup xmlns:str=\"http://exslt.org/strings\">−1</sup>, *a<sub xmlns:str=\"http://exslt.org/strings\">x</sub>* = −9.81 m s<sup xmlns:str=\"http://exslt.org/strings\">−2</sup> and *s<sub xmlns:str=\"http://exslt.org/strings\">x</sub>* = −1.80m, we obtain"
   ]
  },
  {
   "cell_type": "markdown",
   "metadata": {},
   "source": [
    "![figure images/s207_1_ue033i.gif](../images/s207_1_ue033i.gif)\n",
    "\n"
   ]
  },
  {
   "cell_type": "markdown",
   "metadata": {},
   "source": [
    "### Question 32"
   ]
  },
  {
   "cell_type": "markdown",
   "metadata": {},
   "source": [
    "#### Question\n",
    "\n",
    "(This question is more difficult than its predecessors.) A rocket is initially at rest on the Earth's surface. At time *t* = 0 s the rocket motor is fired and the rocket accelerates vertically upwards at a constant 2.00 m s<sup xmlns:str=\"http://exslt.org/strings\">−2</sup>. After a time interval of 20.0 s the motor fails completely and the rocket accelerates back to Earth with a downward acceleration of magnitude 9.81 m s<sup xmlns:str=\"http://exslt.org/strings\">−2</sup>.\n",
    "\n",
    "(a) Calculate the height reached by the rocket at the instant the motor fails.\n",
    "\n",
    "(b) Calculate the velocity of the rocket at the instant the motor fails.\n",
    "\n",
    "(c) Find an equation that, for situations involving constant acceleration, gives the displacement in terms of the initial velocity, the final velocity, and the constant acceleration.\n",
    "\n",
    "(d) Calculate the distance travelled by the rocket from the instant the motor fails until the rocket reaches its highest point. Hence, find the total height gained by the rocket. [*Hint*: The equation you obtained in part (c) may be useful here.]\n",
    "\n",
    "(e) Find the total time taken for the rocket to fall back to Earth from its highest point."
   ]
  },
  {
   "cell_type": "markdown",
   "metadata": {},
   "source": [
    "#### Answer\n",
    "\n",
    "(a)Taking up as positive, and using Equation 28a\n",
    "\n",
    "with *u<sub xmlns:str=\"http://exslt.org/strings\">x</sub>* = 0 m s<sup xmlns:str=\"http://exslt.org/strings\">−1</sup>, *a<sub xmlns:str=\"http://exslt.org/strings\">x</sub>* = 2.00 m s<sup xmlns:str=\"http://exslt.org/strings\">−2</sup> and *t* = 20.0 s, we obtain\n",
    "\n",
    "<!--Quote id=q010-->\n",
    ">*s<sub xmlns:str=\"http://exslt.org/strings\">x</sub>* = (1/2) × 2 × (20.0)<sup xmlns:str=\"http://exslt.org/strings\">2</sup> m = 400 m."
   ]
  },
  {
   "cell_type": "markdown",
   "metadata": {},
   "source": [
    "This is the displacement from the initial position when the motor fails. It follows that the height at which the motor fails is *s* = |*s<sub xmlns:str=\"http://exslt.org/strings\">x</sub>* | = 400 m.\n",
    "\n",
    "(b) Using Equation 28b\n",
    "\n",
    "<!--Quote id=q011-->\n",
    ">*v<sub xmlns:str=\"http://exslt.org/strings\">x</sub>* = *u<sub xmlns:str=\"http://exslt.org/strings\">x</sub>* + *a<sub xmlns:str=\"http://exslt.org/strings\">x</sub>t*"
   ]
  },
  {
   "cell_type": "markdown",
   "metadata": {},
   "source": [
    "with *u<sub xmlns:str=\"http://exslt.org/strings\">x</sub>* = 0 m s<sup xmlns:str=\"http://exslt.org/strings\">−1</sup>, *a<sub xmlns:str=\"http://exslt.org/strings\">x</sub>* = 2.00 m s<sup xmlns:str=\"http://exslt.org/strings\">−2</sup> and *t* = 20.0 s, we obtain\n",
    "\n",
    "<!--Quote id=q012-->\n",
    ">*v<sub xmlns:str=\"http://exslt.org/strings\">x</sub>* = 0 + 2 × 20.0 m s<sup xmlns:str=\"http://exslt.org/strings\">−1</sup> = 40.0 m s<sup xmlns:str=\"http://exslt.org/strings\">−1</sup>."
   ]
  },
  {
   "cell_type": "markdown",
   "metadata": {},
   "source": [
    "(c) As shown in Section 5.2, eliminating *t* from Equations 28a and 28b gives Equation 28c"
   ]
  },
  {
   "cell_type": "markdown",
   "metadata": {},
   "source": [
    "![figure images/s207_1_ue037i.gif](../images/s207_1_ue037i.gif)\n",
    "\n",
    "which we can write as"
   ]
  },
  {
   "cell_type": "markdown",
   "metadata": {},
   "source": [
    "![figure images/s207_1_ue038i.gif](../images/s207_1_ue038i.gif)\n",
    "\n",
    "(d) Substituting *v<sub xmlns:str=\"http://exslt.org/strings\">x</sub>* = 0 m s<sup xmlns:str=\"http://exslt.org/strings\">−1</sup>, *u<sub xmlns:str=\"http://exslt.org/strings\">x</sub>* = 40.0 m s<sup xmlns:str=\"http://exslt.org/strings\">−1</sup> and *a<sub xmlns:str=\"http://exslt.org/strings\">x</sub>* = −9.81 m s<sup xmlns:str=\"http://exslt.org/strings\">−2</sup> in the above equation, we obtain"
   ]
  },
  {
   "cell_type": "markdown",
   "metadata": {},
   "source": [
    "![figure images/s207_1_ue039i.gif](../images/s207_1_ue039i.gif)\n",
    "\n",
    "Adding this result to the displacement obtained in part (a) we obtain a total height of 482 m.\n",
    "\n",
    "(e) Using Equation 28a"
   ]
  },
  {
   "cell_type": "markdown",
   "metadata": {},
   "source": [
    "![figure images/s207_1_ue032i.gif](../images/s207_1_ue032i.gif)\n",
    "\n",
    "with *u<sub xmlns:str=\"http://exslt.org/strings\">x</sub>* = 0 m s<sup xmlns:str=\"http://exslt.org/strings\">−1</sup>, *a<sub xmlns:str=\"http://exslt.org/strings\">x</sub>* = −9.81 m s<sup xmlns:str=\"http://exslt.org/strings\">−2</sup> and *s<sub xmlns:str=\"http://exslt.org/strings\">x</sub>* = −482 m, we obtain"
   ]
  },
  {
   "cell_type": "markdown",
   "metadata": {},
   "source": [
    "![figure images/s207_1_ue040i.gif](../images/s207_1_ue040i.gif)\n",
    "\n",
    "\n"
   ]
  }
 ],
 "metadata": {
  "jupytext": {
   "cell_metadata_filter": "-all",
   "main_language": "python",
   "notebook_metadata_filter": "-all",
   "text_representation": {
    "extension": ".md",
    "format_name": "markdown"
   }
  }
 },
 "nbformat": 4,
 "nbformat_minor": 4
}
