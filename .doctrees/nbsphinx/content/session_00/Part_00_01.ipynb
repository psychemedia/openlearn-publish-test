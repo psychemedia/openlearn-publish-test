{
 "cells": [
  {
   "cell_type": "markdown",
   "metadata": {},
   "source": [
    "# 1 Understanding operations management"
   ]
  },
  {
   "cell_type": "markdown",
   "metadata": {},
   "source": [
    "Consider the ingredients of your breakfast this morning. Unless you live on a farm and produced them yourself, they passed through a number of different processing steps between the farmer and your table and were handled by several different organisations. Similarly, your morning newspaper was created and delivered to you through the interactions of a number of different organisations.\n",
    "\n",
    "Every day, you use a multitude of physical objects and a variety of services. Most of the physical objects have been manufactured and most of the services have been provided by people in organisations. Just as fish are said to be unaware of the water that surrounds them, most of us give little thought to the organisational processes that produce these goods and services for our use. The study of operations deals with how the goods and services that you buy and consume every day are produced.\n"
   ]
  }
 ],
 "metadata": {
  "jupytext": {
   "cell_metadata_filter": "-all",
   "main_language": "python",
   "notebook_metadata_filter": "-all",
   "text_representation": {
    "extension": ".md",
    "format_name": "markdown"
   }
  }
 },
 "nbformat": 4,
 "nbformat_minor": 4
}
