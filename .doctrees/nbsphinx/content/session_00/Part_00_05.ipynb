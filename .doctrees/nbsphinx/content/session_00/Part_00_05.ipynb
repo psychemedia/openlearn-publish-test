{
 "cells": [
  {
   "cell_type": "markdown",
   "metadata": {},
   "source": [
    "# 5 Human impact"
   ]
  },
  {
   "cell_type": "markdown",
   "metadata": {},
   "source": [
    "In the introduction to this course, you considered the success of the mammals as a whole. You would probably also agree that the aquatic mammals are a successful group too. However, there is another mammal that has been successful in a different way and has challenged the success of some of the aquatic mammals.\n",
    "\n",
    "There is only one species of human, but its capacity to occupy and exploit almost all ecosystems has brought conflict. The seals and whales have been hit hard by the impact of humans harvesting them for fur, food and oil. Whale populations have suffered huge losses. Just one illustration of this is a series of figures for the number of whales caught in just one small area of the Southern Ocean around the South Shetland and South Orkney Islands in a period of 19 years during the height of Antarctic whaling. The figures come from a plaque originally on the site of a Norwegian whaling station on Signy Island.\n",
    "<table xmlns:str=\"http://exslt.org/strings\">\n",
    "<caption></caption>\n",
    "<tbody>\n",
    "<tr>\n",
    "<th>Species</th>\n",
    "<th>right</th>\n",
    "<th>blue</th>\n",
    "<th>fin</th>\n",
    "<th>sei</th>\n",
    "<th>humpback</th>\n",
    "<th>sperm</th>\n",
    "<th>Total</th>\n",
    "</tr>\n",
    "<tr>\n",
    "<td class=\"highlight_\" rowspan=\"\" colspan=\"\">Number caught</td>\n",
    "<td class=\"highlight_\" rowspan=\"\" colspan=\"\">78</td>\n",
    "<td class=\"highlight_\" rowspan=\"\" colspan=\"\">61 366</td>\n",
    "<td class=\"highlight_\" rowspan=\"\" colspan=\"\">48 023</td>\n",
    "<td class=\"highlight_\" rowspan=\"\" colspan=\"\">1 796</td>\n",
    "<td class=\"highlight_\" rowspan=\"\" colspan=\"\">6 742</td>\n",
    "<td class=\"highlight_\" rowspan=\"\" colspan=\"\">18</td>\n",
    "<td class=\"highlight_\" rowspan=\"\" colspan=\"\">118 159</td>\n",
    "</tr>\n",
    "</tbody>\n",
    "</table>\n",
    "\n",
    "Exploitation on this scale was never going to be sustainable. Just think about some of the reasons, before reading on.\n",
    "\n",
    "Whales are large animals and have long life cycles and slow reproductive rates. Whalers generally hunted larger individuals, those that were most likely to be of breeding age."
   ]
  },
  {
   "cell_type": "markdown",
   "metadata": {},
   "source": [
    "![A humpback whale, Megaptera novaeangliae, breaching at sea.](../images/s182_11_figure_17_humpback_breaching.jpg)"
   ]
  },
  {
   "cell_type": "markdown",
   "metadata": {},
   "source": [
    "Figure 19 A breaching humpback whale, *Megaptera novaeangliae*"
   ]
  },
  {
   "cell_type": "markdown",
   "metadata": {},
   "source": [
    "Recently, as shipping lanes have become much more crowded, the risk of collisions between whales and ships has increased. Humpback whales migrate from the Northern hemisphere to the Southern to spend the winter months in warmer waters. Around Panama and Costa Rica, the migration route crosses some of the busiest shipping lanes in the world. Dr Hector Guzman from the Smithsonian Tropical Research Institute in Panama City has been tagging humpback whales with transmitters that can be monitored by satellite. He has been able to overlay the routes taken by individual whales with those taken by individual ships. These tracks show that typically an individual humpback comes within 200 m of a ship at least once a day. This data will enable shipping routes to be modified to reduce the frequency of collisions.\n",
    "\n",
    "Watching whales close up is a most exciting and thought-provoking experience. Seeing the great whales in their natural habitat, you can be awed by their size. A blue whale skeleton hangs in a natural pose in a London museum, inciting wonder in visitors and demonstrating the size of the biggest whale species – as well as the biggest animal that has ever existed."
   ]
  },
  {
   "cell_type": "markdown",
   "metadata": {},
   "source": [
    "![The main entrance hall of the UK Natural History Museum in London is dominated by a suspended skeleton of a blue whale.](../images/s182_11_figure_18_blue_whale_skeleton_alt.jpg)"
   ]
  },
  {
   "cell_type": "markdown",
   "metadata": {},
   "source": [
    "Figure 20 Skeleton of a blue whale, *Balaenoptera musculus*, hanging in the Natural History Museum in London, UK\n",
    "\n"
   ]
  }
 ],
 "metadata": {
  "jupytext": {
   "cell_metadata_filter": "-all",
   "main_language": "python",
   "notebook_metadata_filter": "-all",
   "text_representation": {
    "extension": ".md",
    "format_name": "markdown"
   }
  }
 },
 "nbformat": 4,
 "nbformat_minor": 4
}
