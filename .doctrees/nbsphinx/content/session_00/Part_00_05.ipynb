{
 "cells": [
  {
   "cell_type": "markdown",
   "metadata": {},
   "source": [
    "# 5 Milk production (lactation)"
   ]
  },
  {
   "cell_type": "markdown",
   "metadata": {},
   "source": [
    "One of the defining features of mammals is milk production. It is a remarkable and unique mammalian process technically called lactation, which only makes sense if we look *inside* mammals to find out how this life-sustaining substance is produced.\n",
    "\n",
    "Milk is a very rich form of food. You’ve probably heard about some of the major constituents of milk – proteins, fats and carbohydrates. These large molecules have to be built up (synthesised) from the simpler chemicals that the mother obtains from her diet or from her body reserves. By looking at the structure of a typical mammary gland, you can see how this biological ‘production line’ is put together.\n",
    "\n",
    "The term ‘gland’ is used for specialised structures that produce (or more technically *secrete*) one or more chemical products, and many glands have the type of structure that Figure 17 shows. (Glands are usually made up of different types of cells – a group of cells that have similar structure and function is often called a tissue.)"
   ]
  },
  {
   "cell_type": "markdown",
   "metadata": {},
   "source": [
    "### Examining diagrams\n",
    "\n",
    "The first thing to do when you come to any diagram is to read the caption, which explains what it shows. Then look at the diagram itself, taking particular note of the scale, if there is one. You may find that the accompanying text ‘talks you through’ the diagram step by step, as it does here. Visualising three-dimensional objects from a two-dimensional diagram is a difficult skill and you should not expect to master it straight away, so don’t be concerned if you don’t immediately understand all aspects of Figure 17.\n",
    "\n"
   ]
  },
  {
   "cell_type": "markdown",
   "metadata": {},
   "source": [
    "![The structure of a mature mammary gland, at increasing magnifications. The diagram is described fully in the text that follows it.](../images/s182_12_figure_16.jpg)"
   ]
  },
  {
   "cell_type": "markdown",
   "metadata": {},
   "source": [
    "Figure 17 The structure of a mature mammary gland, at increasing magnification: (a)-(c) viewed under a light microscope, (d) with an electron microscope. (a) and (b) show the arrangement of the milk-carrying ducts and (c) the secretory cells. (d) is an image of a single cell, showing the structures involved in the processes of secretion. The different scales show the extent of magnification. (1 mm, i.e. one millimetre, is equivalent to 1000 μm, i.e. 1000 micrometres, and 0.1 mm = 100 μm)"
   ]
  },
  {
   "cell_type": "markdown",
   "metadata": {},
   "source": [
    "Figure 17 shows different levels of detail at increasing magnification. The image labelled (a) shows that each mammary gland consists of a central teat or nipple, into which feed a number of channels (or ducts) that convey and temporarily store the milk, following its production by the great mass of cells that make up the bulk of the gland. Magnifying just one part of what’s shown in (a) gives you a better sense of the fine-detailed structure of the mammary gland. All of the ducts shown have much the same structure, but focusing on just one makes things clearer. (b) shows one representative part, around the blind ends of the finely branched ducts. At this magnification, the individual secretory cells aren’t visible; but you can make them out in (c), a higher-powered view of just one small part of (b). In (c) you can see these small groups of cells, shown in a *schematic* way in cross-section. In other words, it’s a ‘tidied up’ two-dimensional view of an imaginary slice though the gland. If you imagine these structures in three dimensions, (c) would resemble a bunch of grapes, with the stalks representing the ducts and each ‘grape’ a group of secretory cells surrounding a central space (or lumen), which would contain milky fluid.\n",
    "\n",
    "The structure of each individual cell in (c) is much the same, resembling that of many other cells in the mammalian body. Each cell is roughly rectangular in cross-section, with a thin outer membrane. Towards the base of the cell is a small rounded nucleus, which contains most of the genetic material (the DNA), which has a key role in directing the workings of the cell.\n",
    "\n",
    "Figure 17 (d) is a hugely magnified view of just one of the secretory cells shown in (c) – a single sample of the many millions of cells that comprise the mammary gland. Magnification on this scale requires the use of an electron microscope, as opposed to the less powerful optical light microscope used for (a)-(c). Here you can see the cell’s roughly rectangular shape and the rounded nucleus, as well as the cell membrane.\n",
    "\n",
    "The identity and function of all the many different cellular components in (d) needn’t be covered in detail. There are many flattened, highly folded membranes, resembling stacked piles of plates. Two types of these are denoted here in different colours, just above the nucleus. The sausage-shaped structures are called mitochondria – these are often termed the powerhouses of the cell, because they deliver the energy that fuels the complex synthetic processes which will be explained further in a moment. Towards the upper part of the cell, closest to the lumen, there are a number of fluid-filled droplets (called vesicles), containing what look like small granules. They are mostly different types of protein – just one of a range of large molecules that make up the chemical constituents of all living material. In fact, even at this level of magnification, proteins would not be visually discernible, since they are soluble in the fluid that contains them. Milk contains many proteins and most of them are assembled into these complex structures from much simpler chemical building blocks (called amino acids) within the secretory cells like the one shown in (d). The proteins in milk are vital to the growth and wellbeing of the suckling and some, collectively called antibodies, help the youngster withstand infection."
   ]
  },
  {
   "cell_type": "markdown",
   "metadata": {},
   "source": [
    "## 5.1 Fat content of milk"
   ]
  },
  {
   "cell_type": "markdown",
   "metadata": {},
   "source": [
    "Fat is another key constituent of milk. The fat content of milk can vary over time, and the variation in milk composition between species is even greater. For example, rhinoceros milk contains hardly any fat, while seal milk is almost 50% fat. In those species where milk production has been most thoroughly investigated, secretory cells in the mammary glands take up fats from the bloodstream. (They also synthesise fats from other nutrient molecules carried to them in the blood, such as sugars.) The basic constituents of milk fats are then assembled together, most of them in parallel stacks of folded membranes of the type shown in Figure 17 (d). Fat accumulates within the droplets evident in (d), in the process of migrating to the upper part of the cell. The fat droplet, itself wrapped in a membrane, merges with the cell membrane and is ‘budded-off’ – fat droplet plus its enveloping membrane – into the lumen."
   ]
  },
  {
   "cell_type": "markdown",
   "metadata": {},
   "source": [
    "![A secretory cell from a mammary gland.](../images/s182_12_figure_16d.jpg)"
   ]
  },
  {
   "cell_type": "markdown",
   "metadata": {},
   "source": [
    "Figure 17d (repeated) A secretory cell from a mammary gland\n"
   ]
  },
  {
   "cell_type": "markdown",
   "metadata": {},
   "source": [
    "## 5.2 Lactation in marsupials"
   ]
  },
  {
   "cell_type": "markdown",
   "metadata": {},
   "source": [
    "Production of milk involves considerable biochemical activity within the secretory cells and this activity requires energy. These demands explain why lactation is a very considerable ‘investment’ by the mother in the wellbeing of her offspring. For animals on an unreliable or low-energy diet – the koala is a good example of the latter – synthesis of the constituents of milk can be a precarious operation. Given that the energy (fat) content of koalas’ milk is comparatively low, it’s not surprising that the period of lactation in koalas is unusually long, even by marsupial standards. At the age of five months, young koalas start to ingest eucalyptus leaves that have already been partly digested by the mother."
   ]
  },
  {
   "cell_type": "markdown",
   "metadata": {},
   "source": [
    "![A mother koala and her young.](../images/s182_12_figure_17_true.jpg)"
   ]
  },
  {
   "cell_type": "markdown",
   "metadata": {},
   "source": [
    "Figure 18 Mother koala and her young, *Phascolarctos cinereus*"
   ]
  },
  {
   "cell_type": "markdown",
   "metadata": {},
   "source": [
    "Lactation in marsupials has a particular importance; for example, the newborn red kangaroo weighs less than a gram  (much like the koala newborn mentioned earlier), or less than a lump of sugar. On complete emergence from the pouch, some eight months later, it weighs about four to five kilograms. It may then often double in weight before becoming fully independent of the mother’s milk (i.e. becoming weaned), which happens between four and eight months after leaving the pouch. The composition and flow of milk are tightly controlled; the synthesis of particular nutrients can become switched on as particular genes are activated. (Such genes comprise particular sections of DNA within the nucleus of secretory cells, so minute that not even the highest magnification level in Figure 17 can reveal them.) Towards the end of its time in the pouch, when the rate of the youngster’s growth is very high and the energy demands are greatest, the fat content of the milk in many species reaches a maximum.\n",
    "\n",
    "At a stage in development where hair growth is important, the youngster’s production of the protein keratin has to be stepped up – keratin is the key ingredient of hair and hair-like structures. At such a time, the kangaroo’s milk contains large amounts of the particular types of amino acid that are essential for the synthesis of keratin.\n",
    "<!--SAQ id=saq004-->\n",
    "\n",
    "### Question 3"
   ]
  },
  {
   "cell_type": "markdown",
   "metadata": {},
   "source": [
    "#### Question\n",
    "\n",
    "Kangaroos and wallabies generally have four teats within the pouch, though there is only one newborn at a time. Why does the possession of more than one teat make sense?"
   ]
  },
  {
   "cell_type": "markdown",
   "metadata": {},
   "source": [
    "#### Answer\n",
    "\n",
    "Such species have a unique and sophisticated system that allows the production of more than one type of milk, so they are capable of satisfying the varying demands of youngsters at different stages of development. The mechanisms in the mother’s body are not well understood but having separate ‘plumbing’ to each teat means each can act partially independently.\n",
    "<!--ENDSAQ-->\n",
    "There’s no doubt that the evolution of lactation was crucial to the success of mammals. Of course, milk production is just one component of a ‘package’ of parental care measures shown by many mammals, so it’s perhaps risky to single out a particular feature, but it’s one that raises particular interest.\n",
    "<!--SAQ id=saq005-->\n",
    "\n",
    "### Question 4"
   ]
  },
  {
   "cell_type": "markdown",
   "metadata": {},
   "source": [
    "#### Question\n",
    "\n",
    "Can you think of some advantages of the lactation habit in mammals?"
   ]
  },
  {
   "cell_type": "markdown",
   "metadata": {},
   "source": [
    "#### Answer\n",
    "\n",
    "Lactation provides *nutritional* care – the sucklings don’t have to find their own food. In that sense, it helps separate the infant from the vagaries of the environment. Given that feeding is relatively effortless, the youngster’s energy can be largely channelled into growth. It also seems that suckling is an excellent way of transferring immunity from mother to offspring. The early milk of many mammals, humans included, confers a special advantage – it’s especially rich in antibodies. The same is true in marsupials such as kangaroos.\n",
    "<!--ENDSAQ-->"
   ]
  }
 ],
 "metadata": {
  "jupytext": {
   "cell_metadata_filter": "-all",
   "main_language": "python",
   "notebook_metadata_filter": "-all",
   "text_representation": {
    "extension": ".md",
    "format_name": "markdown"
   }
  }
 },
 "nbformat": 4,
 "nbformat_minor": 4
}
