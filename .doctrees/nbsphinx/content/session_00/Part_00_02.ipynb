{
 "cells": [
  {
   "cell_type": "markdown",
   "metadata": {},
   "source": [
    "# What is a badged course?"
   ]
  },
  {
   "cell_type": "markdown",
   "metadata": {},
   "source": [
    "While studying *Learn to code for data analysis* you have the option to work towards gaining a digital badge.\n",
    "\n",
    "Badged courses are a key part of The Open University’s mission *to promote the educational well-being of the community*. The courses also provide another way of helping you to progress from informal to formal learning.\n",
    "\n",
    "To complete a course you need to be able to find about 24 hours of study time, over a period of about 8 weeks. However, it is possible to study them at any time, and at a pace to suit you.\n",
    "\n",
    "Badged courses are all available on The Open University’s [OpenLearn](http://www.open.edu/openlearn/about-openlearn/try) website and do not cost anything to study. They differ from Open University courses because you do not receive support from a tutor. But you do get useful feedback from the interactive quizzes."
   ]
  },
  {
   "cell_type": "markdown",
   "metadata": {},
   "source": [
    "---\n"
   ]
  },
  {
   "cell_type": "markdown",
   "metadata": {},
   "source": [
    "### What is a badge?\n",
    "\n",
    "Digital badges are a new way of demonstrating online that you have gained a skill. Schools, colleges and universities are working with employers and other organisations to develop open badges that help learners gain recognition for their skills, and support employers to identify the right candidate for a job.\n",
    "\n",
    "Badges demonstrate your work and achievement on the course. You can share your achievement with friends, family and employers, and on social media. Badges are a great motivation, helping you to reach the end of the course. Gaining a badge often boosts confidence in the skills and abilities that underpin successful study. So, completing this course should encourage you to think about taking other courses."
   ]
  },
  {
   "cell_type": "markdown",
   "metadata": {},
   "source": [
    "![figure images/lcda_1_220x220_badge.png](../images/lcda_1_220x220_badge.png)"
   ]
  },
  {
   "cell_type": "markdown",
   "metadata": {},
   "source": [
    "---\n",
    "\n"
   ]
  }
 ],
 "metadata": {
  "jupytext": {
   "cell_metadata_filter": "-all",
   "main_language": "python",
   "notebook_metadata_filter": "-all",
   "text_representation": {
    "extension": ".md",
    "format_name": "markdown"
   }
  }
 },
 "nbformat": 4,
 "nbformat_minor": 4
}
