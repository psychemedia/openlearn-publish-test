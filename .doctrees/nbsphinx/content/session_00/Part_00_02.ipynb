{
 "cells": [
  {
   "cell_type": "markdown",
   "metadata": {},
   "source": [
    "# 2 Doing philosophy"
   ]
  },
  {
   "cell_type": "markdown",
   "metadata": {},
   "source": [
    "This section will illustrate the points just made and give you a sense of what it will be like to *do* philosophy. We shall look at some extracts from the first A211 course book, *Arguments for Freedom* by Nigel Warburton, and see how philosophical skills can help us to think about political freedom. There will also be a few short exercises for you to do. Although we shall look at actual extracts from the course material, you should bear in mind that this topic will be covered in much more detail in the course itself.\n",
    "\n",
    "On the face of it, freedom, or liberty, seems a simple and obviously good thing. How could we not want freedom, and how could it be bad to try to provide more of it for someone? Yet what do we really mean by ‘freedom’? Is there more than one kind of freedom, and, if so, might we sometimes be forced to choose between them? Could people be oppressed in the name of freedom? Consider the following scenario. Country A invades country B in order to free its people from an oppressive ruler and to promote democracy. (Suppose the leaders of country A are quite sincere in this aim.) But the citizens of the country B resist the invaders and fight to restore the old regime. Both sides regard themselves as fighting for the cause of freedom. Who is right?\n",
    "\n",
    "A useful starting point here is with a distinction drawn by the twentieth-century philosopher Isaiah Berlin (1909–97). Berlin argues that there are two basic types of freedom people have in mind when they talk about political freedom; he calls them *positive freedom* and *negative freedom*. Let us begin with negative freedom. Here is how Warburton explains the notion in the course book."
   ]
  },
  {
   "cell_type": "markdown",
   "metadata": {},
   "source": [
    "### Reading 1\n",
    "\n",
    "The concept of negative freedom centres on *freedom from* interference. This type of account of freedom is usually put forward in response to the following sort of question:\n",
    "\n",
    "<!--Quote id=quo001_001-->\n",
    ">What is the area within which the subject – a person or group of persons – is or should be left to do or be what he is able to do or be, without interference by other persons?\n",
    ">(Berlin, 1969, pp. 121–2)"
   ]
  },
  {
   "cell_type": "markdown",
   "metadata": {},
   "source": [
    "more simply, ‘Over what area am I master?’ (ibid., p. xliii). Theories of negative freedom spell out the acceptable limits of interference in individuals’ lives. You restrict my negative freedom when you restrict the number of choices I can make about my life. The extent of my negative freedom is determined by how many possible choices lie open to me, or, to use one of Berlin's metaphors, how many doors are unlocked. […]\n",
    "\n",
    "It doesn't matter whether or not I actually take advantage of the opportunities open to me: I am still free to the extent that I could, if I chose, take advantage of them:\n",
    "\n",
    "<!--Quote id=quo001_002-->\n",
    ">The freedom of which I speak is opportunity for action, rather than action itself. If, although I enjoy the right to walk through open doors, I prefer not to do so, but to sit still and vegetate, I am not thereby rendered less free. Freedom is the opportunity to act, not action itself.\n",
    ">(Ibid., p. xlii)"
   ]
  },
  {
   "cell_type": "markdown",
   "metadata": {},
   "source": [
    "So, if you park your car across my drive, thereby preventing me from getting my car out, you restrict my freedom; and this is true even if I choose to stay in bed listening to my CDs all day, and would have done so even if you hadn't parked there. Or, if the state prevents me from going on strike by making my actions illegal, even if I don't have anything to strike about, and even if I don't ever intend to strike, my freedom is still curtailed. Negative freedom is a matter of the doors open to me, not of whether I happen to choose to go through them.\n",
    "\n",
    "However, not all restrictions on my possible choices are infringements of my negative freedom. Berlin states that *only restrictions imposed by other people affect my freedom*. Colloquially, we might say that because we are human we aren't free to jump ten feet in the air or free to understand what an obscure passage in a difficult book by Hegel means. But when discussing political freedom, the sort we are interested in here, these sorts of restrictions on what we can do, aren't counted as obstacles to freedom, however distressing they may be. Other people limit our freedom by what they do.\n",
    "\n",
    "Limitations on our action brought about by the nature of the universe or the human body aren't relevant to the discussion of political freedom. Political freedom is a matter of the relations of power which hold between individuals and between individuals and the state.\n",
    "\n",
    "The clearest cases in which freedom is restricted are when someone forces you to do something. You might be forced to join the army, for instance, if you live in a country which has compulsory military service. The law might force you to wear a crash helmet every time you ride your motorcycle. Your partner might force you to stay in rather than go out to the cinema, or to tidy up the kitchen rather than do another hour's study.\n",
    "\n",
    "Reference: (Warburton, 1999, pp. 14–15)\n",
    "\n"
   ]
  },
  {
   "cell_type": "markdown",
   "metadata": {},
   "source": [
    "Did you understand Warburton's explanation and the extracts from Berlin that he quotes? Could you explain the notion of negative freedom yourself and apply it in thinking about real-life situations? When studying philosophy, it's not enough just to read the set material passively, getting a general impression of what it is about. You need to read carefully and critically, thinking about how the ideas and arguments connect up with each other and how they could be applied. For this reason, the A211 course books contain lots of exercises, designed to test your understanding of the material and to get you thinking about it. Here are some exercises on the passage you have just read."
   ]
  },
  {
   "cell_type": "markdown",
   "metadata": {},
   "source": [
    "### Exercises"
   ]
  },
  {
   "cell_type": "markdown",
   "metadata": {},
   "source": [
    "#### Question\n",
    "\n",
    "1. \n",
    "Sum up negative freedom (as you understand it from this passage) in a single sentence."
   ]
  },
  {
   "cell_type": "markdown",
   "metadata": {},
   "source": [
    "2. \n",
    "If something prevents me from driving my car, does it automatically follow that my negative freedom has been restricted?"
   ]
  },
  {
   "cell_type": "markdown",
   "metadata": {},
   "source": [
    "3. \n",
    "Here are various things that might prevent me from driving. Which of them involves a limitation on my negative freedom? (a) I am too ill to drive. (b) I have failed my driving test. (c) I cannot get motor insurance. (d) My partner will not let me drive because he or she fears for my safety. (e) My car is broken. (f) I am just too lazy to drive."
   ]
  },
  {
   "cell_type": "markdown",
   "metadata": {},
   "source": [
    "4. \n",
    "Suppose that while my teenage daughter is doing her homework I secretly lock the door to her room so that she can't get out. She doesn't notice, however, and I later unlock the door before she wants to leave. Have I restricted her negative freedom?\n"
   ]
  },
  {
   "cell_type": "markdown",
   "metadata": {},
   "source": [
    "#### Answer\n",
    "\n",
    "1. \n",
    "One answer would be: ‘Negative liberty is freedom from interference by others.’"
   ]
  },
  {
   "cell_type": "markdown",
   "metadata": {},
   "source": [
    "2. \n",
    "No. It would depend upon exactly what prevented me from driving. Only restrictions imposed by other people count as limitations of one's negative freedom."
   ]
  },
  {
   "cell_type": "markdown",
   "metadata": {},
   "source": [
    "3. \n",
    "Only (d) involves a clear limitation of my negative freedom. (a), (e), and (f) do not, since the restrictions are not imposed by other people. Cases (b) and (c) are a bit more complicated. The fact that we are required to obtain a driving licence and motor insurance before we are allowed to drive is a general restriction on our negative freedom. But the fact that I have failed my driving test or been refused insurance does not necessarily amount to a further restriction on top of this. If I failed to pass the test or to get insurance simply because I didn't meet the required conditions, then it is my fault I didn't qualify to drive, not anyone else's. On the other hand, if the driving examiner or insurance companies involved were biased against me, or if someone had intervened to prevent me from meeting the required conditions, then there would have been a further limitation of my negative freedom."
   ]
  },
  {
   "cell_type": "markdown",
   "metadata": {},
   "source": [
    "4. \n",
    "Yes. As Warburton explains, negative freedom is a matter of what opportunities are available to a person (metaphorically speaking, what doors are open for them), whether or not they actually take advantage of them. In locking her door, I was denying my daughter the opportunity to leave her room, even though she didn't at that time want to leave.\n",
    "\n"
   ]
  },
  {
   "cell_type": "markdown",
   "metadata": {},
   "source": [
    "Let us turn now to the other notion: positive freedom. Read the following extract, in which Warburton explains the notion."
   ]
  },
  {
   "cell_type": "markdown",
   "metadata": {},
   "source": [
    "### Reading 2\n",
    "\n",
    "Positive freedom is a more difficult notion to grasp than negative. Put simply it is *freedom to* do something rather than *freedom from* interference. Negative freedom is simply a matter of the number and kind of options that lie open for you and their relevance for your life; it is a matter of what you aren't prevented from doing; the doors that lie unlocked. Positive freedom, in contrast, is a matter of what you can actually do. All sorts of doors may be open, giving you a large amount of negative freedom, and yet you might find that there are still obstacles to taking full advantage of your opportunities. Berlin sometimes talks of positive liberty in terms of the question ‘Who is master?’ I want to be in control of my life, but there may, for example, be internal obstacles to my living the way I really want to. Here we might talk of my increasing my freedom (in the positive sense) by overcoming my less rational desires.\n",
    "\n",
    "This is easier to understand if you consider some examples. I might recognize the value of study for making my life go well, but keep getting sidetracked by less important, immediately gratifying activities, such as going out for a drink, or staying in and spending the whole evening watching ‘soaps’ on television. I know that studying is important to me, and will increase my control over my life. But I really enjoy going out for a drink and I really enjoy watching television ‘soaps’. So the short-term gratifications tend to seduce me away from activities which are better for me in the long term. My positive freedom would be increased if my ‘higher’ rational side could overcome my ‘lower’ tendency to be sidetracked. It is not a question of having more, or more significant, opportunities: the *opportunity* for me to study is there now. Rather it is a question of being able to take advantage of the opportunity by being in control of my life. Positive freedom in this example is a matter of my having the *capacity* to take the rational option as well as having the *opportunity:* whereas, according to a concept of negative freedom, the opportunities that I have alone determine the extent of my freedom. I am free to study in the negative sense since no one is preventing me from doing it; no one has locked away my books, or hidden my pen and paper; no one has dragged me out of the door to go to the pub, or chained me to my armchair in front of the television. However, I am not free in the positive sense; I am not *truly* free, because I am a slave to my tendency to be sidetracked. True positive freedom would involve seizing control of my life and making rational choices for myself. Those who defend positive freedom believe that just because no one is preventing you from doing something, it does not follow that you are genuinely free. Positive freedom is a matter of achieving your potential, not just having potential. [… ]\n",
    "\n",
    "From this it should be clear that the notion of positive liberty may rely on the belief that the self can be split into a higher and a lower self, and that the higher or rational self s priorities should be encouraged to overcome the lower, less rational self s inclinations: the passing desires that if acted on can so upset a life plan. The higher self has desires for what will make the individual's life go well; it wishes to pursue worthwhile and noble goals. The lower self is easily led astray, often by irrational appetites. Consequently, advocates of positive liberty argue, we need to be protected against our own lower selves in order to realize the goals of our higher, ‘true’ selves. In many cases this can only be achieved by coercing us to behave in ways which seem to go against our desires; in fact this coercion is necessary to allow us to fulfil our rational higher desires, desires which we may even be unaware of having. On this view, the freedom which is self-mastery, or positive freedom, may only be achievable if our lower selves are constrained in their actions. By preventing me from going out for a drink or from watching television all night you may help me to realize my ‘true’ freedom which is achievable only if I spend a significant portion of my available time studying. This is what I would have wanted had I been truly free.\n",
    "\n",
    "Reference: (Warburton, 1999, pp. 17–18)\n",
    "\n"
   ]
  },
  {
   "cell_type": "markdown",
   "metadata": {},
   "source": [
    "Now try the following exercises to check that you have understood Warburton's explanation. (Read through the passage again if you are not sure of the answers.)"
   ]
  },
  {
   "cell_type": "markdown",
   "metadata": {},
   "source": [
    "### Exercises"
   ]
  },
  {
   "cell_type": "markdown",
   "metadata": {},
   "source": [
    "#### Question\n",
    "\n",
    "1. \n",
    "Sum up positive freedom in a single sentence."
   ]
  },
  {
   "cell_type": "markdown",
   "metadata": {},
   "source": [
    "2. \n",
    "What are your ‘higher self’ and ‘lower self’? How can the two conflict?"
   ]
  },
  {
   "cell_type": "markdown",
   "metadata": {},
   "source": [
    "3. \n",
    "Will increasing a person's negative freedom automatically increase their positive freedom?"
   ]
  },
  {
   "cell_type": "markdown",
   "metadata": {},
   "source": [
    "4. \n",
    "Could we increase a person's positive freedom by limiting their negative freedom? Can you give an example?\n"
   ]
  },
  {
   "cell_type": "markdown",
   "metadata": {},
   "source": [
    "#### Answer\n",
    "\n",
    "1. \n",
    "One answer is: ‘Positive freedom is the freedom to follow one's higher self and pursue worthwhile goals.’"
   ]
  },
  {
   "cell_type": "markdown",
   "metadata": {},
   "source": [
    "2. \n",
    "Your higher self is the part of you that wants to pursue worthwhile long-term goals, such as studying for a degree. Your lower self is the part that wants to satisfy short-term desires and appetites, such as the desire to watch TV or go to the pub. The two can come into conflict if our lower selves distract us from pursuing the goals of our higher selves."
   ]
  },
  {
   "cell_type": "markdown",
   "metadata": {},
   "source": [
    "3. \n",
    "No. You might be given the opportunity (negative freedom) to pursue a certain worthwhile goal, but lack the self-mastery (positive freedom) required to follow your higher self and take up the opportunity."
   ]
  },
  {
   "cell_type": "markdown",
   "metadata": {},
   "source": [
    "4. \n",
    "Arguably we could. If we prevent somebody from following their lower desires, then we may make it easer for them to follow their higher ones and so to achieve positive freedom. An example would be forbidding my daughter to watch TV until she has done her homework. In denying her the opportunity to satisfy her lower desire to watch TV, I am enabling her to focus on her studies and get a good education, which is in her long-term interest.\n",
    "\n"
   ]
  },
  {
   "cell_type": "markdown",
   "metadata": {},
   "source": [
    "As you will see when you read Warburton's book, Berlin thinks that both concepts of freedom are important, but he also warns that they can be abused. If negative freedom is not restricted, then the strong will have a licence to exploit the weak. (For example, most people would accept that the state should place restrictions on the terms on which employers can hire people, in order to prevent them from exploiting their workers.) But Berlin thinks there is an even greater risk of abuse with the concept of positive freedom. The danger is that under the guise of helping people to realize their ‘true’ desires, the state may ignore their views and force them to do things that they have no wish at all to do. This happened, Berlin suggests, in both Nazi Germany and Soviet Russia. These states bullied and oppressed their people on the grounds it knew what was best for them."
   ]
  },
  {
   "cell_type": "markdown",
   "metadata": {},
   "source": [
    "### Exercises"
   ]
  },
  {
   "cell_type": "markdown",
   "metadata": {},
   "source": [
    "#### Question\n",
    "\n",
    "Here are some examples where negative freedom is restricted in the name of positive freedom. Do they involve a misuse of the notion of positive freedom? Give reasons for your answers.\n",
    "\n",
    "1. \n",
    "A government compels its citizens to save for their retirement, on the grounds that this is in their own long-term interest."
   ]
  },
  {
   "cell_type": "markdown",
   "metadata": {},
   "source": [
    "2. \n",
    "A government prevents its citizens from accessing foreign news broadcasts, on the grounds that they will be corrupted by them."
   ]
  },
  {
   "cell_type": "markdown",
   "metadata": {},
   "source": [
    "3. \n",
    "A person with strong and highly unusual sexual desires is forced to receive psychiatric treatment in order to help them live a normal life."
   ]
  },
  {
   "cell_type": "markdown",
   "metadata": {},
   "source": [
    "4. \n",
    "A homeless person is taken off the streets against her will and put into supported social housing, on the grounds that her quality of life will be better there.\n"
   ]
  },
  {
   "cell_type": "markdown",
   "metadata": {},
   "source": [
    "#### Answer\n",
    "\n",
    "There is no space in this taster course for a detailed discussion of these examples, but I'll briefly indicate my own views; you may disagree. I think (1) is probably a legitimate application of the concept of positive freedom. Most people want to have a comfortable old age, and in forcing them to save for their retirement, the government is helping them to pursue their own long-term interests. Perhaps, though, there should be an opt-out clause for those who really do not care about their own future welfare? (2) is a misuse. Most people value the opportunity to inform themselves of different viewpoints and make up their own minds, and it is hard to see how their positive freedom would be increased by denying them this opportunity. (In this case, we would suspect that the government was trying to protect itself from criticism.) (3) is complicated. There is certainly a strong case for forcing a person to receive treatment if their desires make them a danger to society (in the case of paedophiles, for example), but could this be justified on the grounds of promoting the person's *own* positive freedom? I think it would depend on what the desires were and whether they were seriously interfering with their ability to live a fulfilling life. (4) is the trickiest case. It is arguable that no one living on the streets can pursue their higher desires (for education, for example, or artistic expression) and that by putting them into supported housing we are freeing them to do this. But do we have the right to force people to change their whole lifestyle, even if it is seriously impoverished? Would the state be justified in taking similar measures against travellers and other people who have unorthodox lifestyles?\n"
   ]
  },
  {
   "cell_type": "markdown",
   "metadata": {},
   "source": [
    "As I said, the ‘answers’ above are my own. Yours may have been very different. If so, compare the reasons I gave with the ones you gave. Which reasons are stronger and why? Attempting to come to a considered decision should help you to gain a deeper understanding of the distinction between the two kinds of freedom and to appreciate its complexity. You might also like to discuss these cases with friends or relatives and see what they think. Keep an eye out for similar cases in the news and see if you can apply Berlin's distinction to them.\n",
    "\n",
    "This concludes the present section. We haven't reached any definite conclusions about the limits of political freedom, but we have seen how distinguishing different notions of freedom can help us to frame new questions and to see familiar ones in a new light. (You might like to go back to the earlier example in which country A invades country B. Does Berlin's distinction apply in this case? Does it help you to think about the issue?) You will have the chance to explore these issues and others in much more detail when you embark on the course itself.\n"
   ]
  }
 ],
 "metadata": {
  "jupytext": {
   "cell_metadata_filter": "-all",
   "main_language": "python",
   "notebook_metadata_filter": "-all",
   "text_representation": {
    "extension": ".md",
    "format_name": "markdown"
   }
  }
 },
 "nbformat": 4,
 "nbformat_minor": 4
}
