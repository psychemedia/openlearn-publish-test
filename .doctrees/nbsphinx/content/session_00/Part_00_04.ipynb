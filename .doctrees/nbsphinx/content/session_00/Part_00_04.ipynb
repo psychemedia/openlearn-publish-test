{
 "cells": [
  {
   "cell_type": "markdown",
   "metadata": {},
   "source": [
    "# 4 Reproduction in marsupials"
   ]
  },
  {
   "cell_type": "markdown",
   "metadata": {},
   "source": [
    "The study of mammals requires you to deal with measurements. This course assumes only that you can add, subtract, multiply and divide. This section uses units – grams and kilograms, abbreviated to g and kg, respectively – and asks you to calculate a percentage, for which you will probably need to use a calculator. If you wish to develop these kinds of skills further, you may like to study our badged course, [*Mathematics for science and technology*](https://www.open.edu/openlearn/science-maths-technology/mathematics-science-and-technology/content-section-overview).\n"
   ]
  },
  {
   "cell_type": "markdown",
   "metadata": {},
   "source": [
    "In contrast to monotremes, no marsupial lays a shelled egg. The embryo develops for a short period inside the uterus (or womb) before transferring to (in most species) a pouch; hence marsupials are sometimes termed ‘pouched mammals’. The newborn are tiny and very unlike the adult. The numbat is a marsupial that feeds on insects. The young are born live, but at a very early stage in their development and are tiny. They have no food reserves at all and must rapidly locate one of their mother’s teats hidden in her fur. Some do not succeed, and interestingly, the number of young exceeds the number of teats. The term ‘survival of the fittest’ seems apt here."
   ]
  },
  {
   "cell_type": "markdown",
   "metadata": {},
   "source": [
    "![A young numbat, Myrmecobius fasciatus, showing its long, flexible tongue.](../images/s182_12_figure_15.jpg)"
   ]
  },
  {
   "cell_type": "markdown",
   "metadata": {},
   "source": [
    "Figure 16 A young numbat, *Myrmecobius fasciatus*, showing its long, flexible tongue"
   ]
  },
  {
   "cell_type": "markdown",
   "metadata": {},
   "source": [
    "Many newborn marsupials are very small at birth. An adult female koala might tip the scales at about 8 kilograms (kg), but the newborn koala weighs just about half a gram, i.e. 0.5 g. Just how tiny this newborn is becomes clearer when you work out its weight as a percentage of the mother’s weight. But to compare ‘like with like’ you first need to express each measurement in the same units, in this case grams (g). 8 kg is equivalent to (8 × 1000) grams = 8000 g, so 0.5 g as a percentage of 8000 g is (0.5/8000) × 100. This calculation comes to a little over 0.006% – compared to the mother, the newborn koala is very small indeed!\n",
    "<!--SAQ id=saq002-->\n",
    "\n",
    "### Question 2"
   ]
  },
  {
   "cell_type": "markdown",
   "metadata": {},
   "source": [
    "#### Question\n",
    "\n",
    "Suppose a human baby weighs 3.4 kg at birth. If the mother weighs 70 kg, express the newborn’s weight in relative terms, i.e. as a percentage of the mother’s weight, to the nearest whole number. Note your answer below."
   ]
  },
  {
   "cell_type": "markdown",
   "metadata": {},
   "source": [
    "#### Answer\n",
    "\n",
    "Here the units are identical, so you just need to divide the baby’s weight by that of the mother, 3.4/70, and multiply by 100, which gives a value close to 5%. This is a great deal higher than the value for the koala, reflecting the greater relative maturity of the human newborn.\n",
    "<!--ENDSAQ-->\n",
    "\n",
    "### Activity 2\n",
    "__Timing: Allow about 10 minutes__"
   ]
  },
  {
   "cell_type": "markdown",
   "metadata": {},
   "source": [
    "#### Question\n",
    "\n",
    "Watch this video clip about the birth of a baby kangaroo, described by Sir David Attenborough.\n",
    "\n",
    "Make sure you open this link in a new tab or window, so you can easily return to this page.\n",
    "\n",
    "[http://www.bbc.co.uk/earth/story/20141001-newborn-baby-kangaroo](http://www.bbc.co.uk/earth/story/20141001-newborn-baby-kangaroo)\n",
    "\n",
    "Jot down some notes on the most striking points about the birth."
   ]
  },
  {
   "cell_type": "markdown",
   "metadata": {},
   "source": [
    "#### Answer\n",
    "\n",
    "This incredible journey from birth pore to pouch is very striking, and you may have made notes about the youngster’s ability to orientate itself and to move with the aid of well-developed forelimbs. (Though perilous, the journey is relatively brisk – three minutes in all.) You might have noted the importance of milk to the newborn, or the fact that the chemical composition of the milk changes during the newborn’s development.\n"
   ]
  },
  {
   "cell_type": "markdown",
   "metadata": {},
   "source": [
    "Thinking of the marsupial method of reproduction as ‘primitive’ or inferior to that of placental mammals is misleading. What we see is a successful reproductive strategy (or rather a range of strategies, because the details vary between different marsupial species) that is very different from our own. What is biologically so interesting is that such a large fraction of the early development of the young occurs after birth, in the pouch.\n",
    "\n",
    "In many kangaroos, females mate very soon after giving birth. In the event of conception, the tiny ball of dividing cells, called a blastocyst, stops developing after a few days and the process of attachment to the inner lining of the uterus is prevented. In most forms of mammalian reproduction, a blastocyst would undergo such implantation without significant delay – indeed, in humans it’s seen as marking the beginnings of true pregnancy. But in kangaroos the blastocyst remains ‘frozen in time’ in what is technically termed embryonic diapause. Sometime just before the youngster in the pouch is ready to leave, the blastocyst implants and development proceeds to the point of birth. At about that point, the mother actively encourages the older offspring to spend less time in the pouch and prepares the pouch for the new arrival. Soon after the birth, mating is likely to lead to a further conception, and so on.\n",
    "\n",
    "It’s impossible to know for sure *why* embryonic diapause evolved, but there is a possible link with drought. During a severe drought, a suckling young in the pouch may be expelled and the heavy energetic demands of producing milk temporarily suspended. This reduced energy expenditure will make the minimum demand on the meagre pasture around her, and she has a fertile dormant egg within her womb ready to start its development just as soon as conditions improve.\n"
   ]
  }
 ],
 "metadata": {
  "jupytext": {
   "cell_metadata_filter": "-all",
   "main_language": "python",
   "notebook_metadata_filter": "-all",
   "text_representation": {
    "extension": ".md",
    "format_name": "markdown"
   }
  }
 },
 "nbformat": 4,
 "nbformat_minor": 4
}
