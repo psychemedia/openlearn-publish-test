{
 "cells": [
  {
   "cell_type": "markdown",
   "metadata": {},
   "source": [
    "# 4 Non-uniform motion along a line\n"
   ]
  },
  {
   "cell_type": "markdown",
   "metadata": {},
   "source": [
    "## 4.1 Instantaneous velocity"
   ]
  },
  {
   "cell_type": "markdown",
   "metadata": {},
   "source": [
    "Uniform motion is simple to describe, but is rarely achieved in practice. Most objects do not move at a precisely constant velocity. If you drop an apple it will fall downwards, but it will pick up speed as it does so (Figure 24), and if you drive along a straight road you are likely to encounter some traffic that will force you to vary your speed from time to time. For the most part, real motions are __non-uniform motions__."
   ]
  },
  {
   "cell_type": "markdown",
   "metadata": {},
   "source": [
    "![figure images/s207_2_021i.jpg](../images/s207_2_021i.jpg)"
   ]
  },
  {
   "cell_type": "markdown",
   "metadata": {},
   "source": [
    "__Figure 24:__ A falling apple provides an example of non-uniform motion. A sequence of pictures taken at equal intervals of time reveals the increasing speed of the apple as it falls"
   ]
  },
  {
   "cell_type": "markdown",
   "metadata": {},
   "source": [
    "Figure 25 shows the position-time graph of an object that has an increasing velocity over the period *t* = 0 to *t* = 20 s; a car accelerating from rest. As you can see, the position-time graph is curved. There is relatively little change in position during the first few seconds of the motion but as the velocity increases the car is able to change its position by increasingly large amounts over a given interval of time. This is shown by the increasing steepness of the graph. In everyday language we would say that the graph has an increasing gradient, but you saw in the last section that the term gradient has a precise technical meaning in the context of straight-line graphs. Is it legitimate to extend this terminology to cover curved graphs, and if so, how exactly should it be done?"
   ]
  },
  {
   "cell_type": "markdown",
   "metadata": {},
   "source": [
    "![figure images/s207_2_022i.jpg](../images/s207_2_022i.jpg)"
   ]
  },
  {
   "cell_type": "markdown",
   "metadata": {},
   "source": [
    "__Figure 25:__ The position-time graph for a car accelerating from rest"
   ]
  },
  {
   "cell_type": "markdown",
   "metadata": {},
   "source": [
    "Extending the concept of gradient to the case of curved graphs is actually quite straightforward. The crucial point to recognise is that if you look closely enough at a small part of a smooth curve, then it generally becomes indistinguishable from a straight line. (In a similar way, the surface of the Earth is clearly curved when viewed from space, but each region is approximately flat when seen close-up.) So, if we choose a point on a curve we can usually draw a straight line passing through that point which has the same slope as the curve at the point of contact. This straight line is said to be the __tangent__ to the curve at the point in question. Now, we already know how to determine the gradient of a straight line, so we can define the gradient at any point on a curve to be the gradient of the tangent to the curve at that point, provided the curve is sufficiently smooth that a tangent exists.\n",
    "\n",
    "Figure 26 repeats the position-time graph of the accelerating car, but this time tangents have been added at *t* = 5 s and *t* = 10 s. The gradient of any such tangent represents a velocity and is referred to as the __instantaneous velocity__ of the car at the relevant time. At least, that's what it should be called; in practice the word 'instantaneous' is often omitted, so references to 'velocity' should generally be taken to mean 'instantaneous velocity'. Allowing ourselves this informality, we can say:\n",
    "\n",
    "velocity at time *t* = gradient of position-time graph at time *t*.\n"
   ]
  },
  {
   "cell_type": "markdown",
   "metadata": {},
   "source": [
    "Although we have had to extend the meaning of gradient, we can still regard it as a measure of the rate of change of one variable with respect to another, so we can also say:\n",
    "\n",
    "velocity at time *t* = rate of change of position with respect to time at time *t*.\n",
    "\n"
   ]
  },
  {
   "cell_type": "markdown",
   "metadata": {},
   "source": [
    "![figure images/s207_2_023i.jpg](../images/s207_2_023i.jpg)"
   ]
  },
  {
   "cell_type": "markdown",
   "metadata": {},
   "source": [
    "__Figure 26:__ The instantaneous velocity at *t* = 5 s and at *t* = 10 s is determined by the gradient of the tangent to the position-time graph at each of those times\n"
   ]
  },
  {
   "cell_type": "markdown",
   "metadata": {},
   "source": [
    "### Question 14"
   ]
  },
  {
   "cell_type": "markdown",
   "metadata": {},
   "source": [
    "#### Question\n",
    "\n",
    "Estimate the (instantaneous) velocity of the car at *t* = 5 s and at *t* = 10 s (from Figure 26), and write down your answers taking care to distinguish one velocity from the other."
   ]
  },
  {
   "cell_type": "markdown",
   "metadata": {},
   "source": [
    "#### Answer\n",
    "\n",
    "The relevant tangents are shown in Figure 26. Their gradients give the following estimates for the instantaneous velocities"
   ]
  },
  {
   "cell_type": "markdown",
   "metadata": {},
   "source": [
    "![figure images/s207_1_ie044i.gif](../images/s207_1_ie044i.gif)\n"
   ]
  },
  {
   "cell_type": "markdown",
   "metadata": {},
   "source": [
    "How did you distinguish the velocity at *t* = 5 s from the velocity at *t* = 10 s? The conventional method is to use a common symbol for velocity, *v*﻿<sub xmlns:str=\"http://exslt.org/strings\">*x*</sub>, but to follow it by the relevant value of time enclosed in parentheses, as in *v*﻿<sub xmlns:str=\"http://exslt.org/strings\">*x*</sub>﻿(﻿5 s﻿) and *v*﻿﻿<sub xmlns:str=\"http://exslt.org/strings\">*x*</sub>﻿(﻿10 s﻿). This notation can also be used to indicate the velocity at any time *t*, by writing *v*﻿<sub xmlns:str=\"http://exslt.org/strings\">﻿*x*</sub>(*t*), even if the value of *t* is unspecified.\n",
    "\n",
    "It is important to remember that *v*﻿<sub xmlns:str=\"http://exslt.org/strings\">*x*﻿</sub>(﻿*t*﻿) represents the (instantaneous) velocity at time *t*. It does not mean *v*﻿﻿<sub xmlns:str=\"http://exslt.org/strings\">*x*</sub> multiplied by *t*.\n"
   ]
  },
  {
   "cell_type": "markdown",
   "metadata": {},
   "source": [
    "You will not be surprised to learn that the positive quantity |﻿*v*﻿<sub xmlns:str=\"http://exslt.org/strings\">*x*﻿</sub>(﻿*t*﻿)﻿| representing the magnitude of the instantaneous velocity at time *t* is called the __instantaneous speed__ at time *t*. If we denote this by *v*﻿(﻿*t*﻿), we can write\n",
    "\n",
    " ![inlinefigure images/s207_1_ue011i.gif](../images/s207_1_ue011i.gif) \n",
    "\n",
    "Speed and velocity are measured in the same units, m s<sup xmlns:str=\"http://exslt.org/strings\">−1</sup>. Some typical values of physically interesting speeds are listed in Figure 27."
   ]
  },
  {
   "cell_type": "markdown",
   "metadata": {},
   "source": [
    "![figure images/s207_2_024i.jpg](../images/s207_2_024i.jpg)"
   ]
  },
  {
   "cell_type": "markdown",
   "metadata": {},
   "source": [
    "__Figure 27:__ Some physically interesting speeds\n"
   ]
  },
  {
   "cell_type": "markdown",
   "metadata": {},
   "source": [
    "## 4.2 Instantaneous acceleration"
   ]
  },
  {
   "cell_type": "markdown",
   "metadata": {},
   "source": [
    "The procedure of Question 15 for determining the instantaneous velocity of the car can be carried out for a whole set of different times and the resulting values of *v*﻿﻿<sub xmlns:str=\"http://exslt.org/strings\">*x*</sub> can be plotted against *t* to form a graph. This has been done in Figure 28, which shows how the velocity varies with time. At time *t* = 0 s, the car has zero velocity because it starts from rest. At later times, the velocity is positive because the car moves in the direction of increasing *x*. The velocity increases rapidly at first, as the car picks up speed. Subsequently, the velocity increases more slowly, and eventually the car settles down to a steady velocity of just over 3 m s<sup xmlns:str=\"http://exslt.org/strings\">−1</sup>. We have already come across graphs of this general type in Section 3; they are known as velocity-time graphs. The crucial new feature here is that the velocity now depends on time."
   ]
  },
  {
   "cell_type": "markdown",
   "metadata": {},
   "source": [
    "![figure images/s207_2_025i.jpg](../images/s207_2_025i.jpg)"
   ]
  },
  {
   "cell_type": "markdown",
   "metadata": {},
   "source": [
    "__Figure 28:__ A velocity-time graph for the moving car"
   ]
  },
  {
   "cell_type": "markdown",
   "metadata": {},
   "source": [
    "The time dependence of velocity can have dramatic consequences. If you are on board a train, moving at a constant velocity, you might not even be aware of your motion and you will have no difficulty in, say, drinking a cup of coffee. However, drinking coffee can become distinctly hazardous if the driver suddenly changes the velocity of the train by putting on the brakes. In such situations the important physical quantity is the *rate of change of velocity with respect to time*, as measured by the gradient of the velocity-time graph. This is the quantity that we usually call acceleration, though once again it should more properly be called __instantaneous acceleration__. Thus\n",
    "\n",
    "acceleration at time *t* = rate of change of velocity with respect to time at time *t*.\n"
   ]
  },
  {
   "cell_type": "markdown",
   "metadata": {},
   "source": [
    "or, if you prefer\n",
    "\n",
    "acceleration at time *t* = gradient of velocity-time graph at time *t*.\n"
   ]
  },
  {
   "cell_type": "markdown",
   "metadata": {},
   "source": [
    "Acceleration is a key idea in physics. It was Newton's recognition of the crucial role that acceleration played in determining the link between motion and force that formed the centrepiece of the Newtonian revolution. The detailed study of that revolution would take us too far from our present theme. For the moment let's concentrate on some basic questions about acceleration itself. In particular, in what units should acceleration be measured, and what are typical values of acceleration in various physical contexts? The first of these you can answer for yourself."
   ]
  },
  {
   "cell_type": "markdown",
   "metadata": {},
   "source": [
    "### Question 15"
   ]
  },
  {
   "cell_type": "markdown",
   "metadata": {},
   "source": [
    "#### Question\n",
    "\n",
    "What are suitable SI units for the measurement of acceleration?"
   ]
  },
  {
   "cell_type": "markdown",
   "metadata": {},
   "source": [
    "#### Answer\n",
    "\n",
    "Since acceleration is the rate of change of velocity with respect to time, the units of acceleration are the units of velocity (m s﻿<sup xmlns:str=\"http://exslt.org/strings\">−﻿1</sup>﻿) divided by the units of time (﻿s﻿), so acceleration is measured in metres per second per second, which is abbreviated to m s<sup xmlns:str=\"http://exslt.org/strings\">﻿−﻿2</sup>.\n"
   ]
  },
  {
   "cell_type": "markdown",
   "metadata": {},
   "source": [
    "As for typical values of acceleration, some physically interesting values are shown in Figure 29."
   ]
  },
  {
   "cell_type": "markdown",
   "metadata": {},
   "source": [
    "![figure images/s207_2_026i.jpg](../images/s207_2_026i.jpg)"
   ]
  },
  {
   "cell_type": "markdown",
   "metadata": {},
   "source": [
    "__Figure 29:__ Some physically interesting values of acceleration"
   ]
  },
  {
   "cell_type": "markdown",
   "metadata": {},
   "source": [
    "When dealing with non-uniform motion along the *x*-axis, the symbol *a﻿<sub xmlns:str=\"http://exslt.org/strings\">x</sub>﻿*(﻿*t*﻿) is normally used to denote instantaneous acceleration. As usual, *a﻿<sub xmlns:str=\"http://exslt.org/strings\">x</sub>﻿*(﻿*t*﻿) will be positive if the velocity is increasing with time, though, as you will see below, this statement needs careful interpretation. In contrast to the relationship between velocity and speed, there is no special name for the magnitude of an acceleration, though we shall use the symbol *a*﻿(﻿*t*﻿) for this quantity, so we may write"
   ]
  },
  {
   "cell_type": "markdown",
   "metadata": {},
   "source": [
    "![figure images/s207_1_ue012i.gif](../images/s207_1_ue012i.gif)\n",
    "\n",
    "In physics, the concept of acceleration is precise and quantitative. It is important to realise that this precise definition differs, in some respects, from everyday usage. In ordinary speech, 'accelerating' is a synonym for 'speeding up'. This is not true in physics. In physics, a particle accelerates if it changes its velocity in *any* way. A particle travelling along a straight line may accelerate by speeding up *or* by slowing down. It is tempting to suppose that a positive acceleration corresponds to speeding up and a negative acceleration corresponds to slowing down, but this is not always true either, as the following exercise shows."
   ]
  },
  {
   "cell_type": "markdown",
   "metadata": {},
   "source": [
    "![figure images/s207_2_027i.jpg](../images/s207_2_027i.jpg)"
   ]
  },
  {
   "cell_type": "markdown",
   "metadata": {},
   "source": [
    "__Figure 30:__ The velocity-time graph used in Question 16\n"
   ]
  },
  {
   "cell_type": "markdown",
   "metadata": {},
   "source": [
    "### Question 16"
   ]
  },
  {
   "cell_type": "markdown",
   "metadata": {},
   "source": [
    "#### Question\n",
    "\n",
    "The velocity-time graph of Figure 30 is divided into four regions, marked A-D.\n",
    "\n",
    "(a) In which regions does the particle move in the direction of increasing *x*? In which regions is it moving in the direction of decreasing *x*?\n",
    "\n",
    "(b) In which regions does the particle speed up? In which regions does it slow down?\n",
    "\n",
    "(c) In which regions does the particle have positive acceleration? In which regions does the particle have negative acceleration?"
   ]
  },
  {
   "cell_type": "markdown",
   "metadata": {},
   "source": [
    "#### Answer\n",
    "\n",
    "(a) The particle moves in the direction of increasing *x* when its velocity is positive. This occurs in regions A and B. Conversely, the particle moves in the direction of decreasing *x* when its velocity is negative. This occurs in regions C and D.\n",
    "\n",
    "(b) The particle is speeding up when the *magnitude* of its velocity is increasing. This occurs in regions A and C. Conversely, the particle is slowing down in regions B and D.\n",
    "\n",
    "(c) The particle will have a positive acceleration when the gradient of the velocity-time graph is positive. This occurs in regions A and D. Conversely the acceleration is negative in regions B and C.\n"
   ]
  },
  {
   "cell_type": "markdown",
   "metadata": {},
   "source": [
    "So, for a particle with negative velocity, an increase in velocity (a positive acceleration) may result in a decrease in speed. You may think that it is a nuisance for physics to use words in such a non-standard way. However, the definitions of velocity and acceleration given in this course are essential if we are to develop a study of kinematics that is both simple and comprehensive. It does mean, however, that you must be careful in using words like velocity, speed and acceleration. In everyday speech, the word deceleration is used to mean 'slowing down', but this term is seldom encountered in physics since it is already covered by the scientific definition of acceleration."
   ]
  },
  {
   "cell_type": "markdown",
   "metadata": {},
   "source": [
    "## 4.3 A note on functions and derivatives"
   ]
  },
  {
   "cell_type": "markdown",
   "metadata": {},
   "source": [
    "This subsection introduces two crucially important mathematical ideas, *functions* and *derivatives*, both of which are used throughout physics."
   ]
  },
  {
   "cell_type": "markdown",
   "metadata": {},
   "source": [
    "---\n",
    "\n",
    "Functions and the function notation\n",
    "In Figure 25, the position *x* of the car depends on the time *t*. The graph associates a particular value of *x* with each value of *t* over the plotted range. In other circumstances we might know an equation that associates a value of *x* with each value of *t*, as in the case of the equation *x* = *At* + *B* that we discussed in Section 3. You can invent countless other ways in which *x* depends on *t*: for instance *x* = *At*<sup xmlns:str=\"http://exslt.org/strings\">2</sup> + *B* or *x* = *At* + *Bt*﻿<sup xmlns:str=\"http://exslt.org/strings\">2</sup>. In all such cases we describe the dependence of *x* on *t* by saying that *x* is a __function__ of *t*. This terminology is widely used and is certainly not restricted to *x* and *t*. In the example of non-uniform motion we have just been discussing, the instantaneous velocity *v*﻿<sub xmlns:str=\"http://exslt.org/strings\">*x*</sub> is a function of time and so is the instantaneous acceleration *a﻿<sub xmlns:str=\"http://exslt.org/strings\">x</sub>*.\n",
    "\n",
    "Generally, if the value of a quantity *f* is determined by the value of another quantity *y*, then we say that *f* is a function of *y* and we use the special notation *f*(*y*) to emphasise this relationship. Although we have only just defined what we mean by a function we have already been using this notation, as in *v*﻿<sub xmlns:str=\"http://exslt.org/strings\">*x*﻿</sub>(﻿*t*﻿) and *a﻿<sub xmlns:str=\"http://exslt.org/strings\">x</sub>﻿*(﻿*t*﻿), for some time.\n",
    "\n",
    "This function notation has two great merits:\n",
    "\n",
    "1. \n",
    "Writing *f*﻿(﻿*y*﻿), provides a clear visual reminder that *f* depends on *y* in a well-defined way. If we happen to know the equation that relates *f* to *y*, say *f* = *y*﻿<sup xmlns:str=\"http://exslt.org/strings\">2</sup>, then we can show this explicitly by writing *f*﻿(﻿*y*﻿) = *y*﻿<sup xmlns:str=\"http://exslt.org/strings\">2</sup>."
   ]
  },
  {
   "cell_type": "markdown",
   "metadata": {},
   "source": [
    "2. \n",
    "If we want to indicate the value of *f* that corresponds to a particular value of *y*, it is easy to do so. For example, the value of *f*﻿(﻿*y*﻿) at *y* = 2 can be written *f*﻿(﻿2﻿). We call *f*﻿(﻿2﻿) the *function value* at *y* = 2. Of course, in order to be able to write *f*﻿(﻿2﻿) as a number we would have to know the explicit form of *f*﻿(﻿*y*﻿). For example, if *f*﻿(﻿*y*﻿) = *y*﻿<sup xmlns:str=\"http://exslt.org/strings\">2</sup>, then we can say *f*﻿(﻿2﻿) = 2﻿<sup xmlns:str=\"http://exslt.org/strings\">2</sup> = 2 × 2 = 4."
   ]
  },
  {
   "cell_type": "markdown",
   "metadata": {},
   "source": [
    "The only serious disadvantage of the function notation is that you may confuse *f*(*y*) with *f* × *y*. Be careful! If *f* is a function, then *f*﻿(﻿*y*﻿) means *f* is a function of *y*; it does *not* mean *f* × *y*.\n",
    "\n",
    "Some functions arise repeatedly and are given special names so that they can be easily identified. You will be familiar with some of these names, even if you are not yet fully familiar with the functions they describe. For instance, if you look at a scientific calculator (see Figure 31 for example) you will sometimes find that there are keys labelled sin, cos, log and e<sup xmlns:str=\"http://exslt.org/strings\">*x*</sup>; each of these is the name of an important function that you will meet later. The corresponding calculator keys are actually called 'function keys'. Electronic calculators are constructed in such a way that when you key in a number and press a function key, the calculator works out the corresponding function value and displays it. If the value you keyed in is not within the acceptable range of input values for the function you selected (usually called the *domain* of the function), then the calculator will probably display an error message such as 'err'."
   ]
  },
  {
   "cell_type": "markdown",
   "metadata": {},
   "source": [
    "![figure images/s207_2_028i.jpg](../images/s207_2_028i.jpg)"
   ]
  },
  {
   "cell_type": "markdown",
   "metadata": {},
   "source": [
    "__Figure 31:__ A calculator has in-built routines for evaluating basic functions such as *x*﻿<sup xmlns:str=\"http://exslt.org/strings\">2</sup>, sin﻿(﻿*x*﻿), cos﻿(﻿*x*﻿), log﻿(﻿*x*﻿), etc. These are activated by pressing the function keys"
   ]
  },
  {
   "cell_type": "markdown",
   "metadata": {},
   "source": [
    "One particularly simple class of functions consists of functions of the form\n",
    "\n",
    " ![inlinefigure images/s207_1_ue013i.gif](../images/s207_1_ue013i.gif) \n",
    "\n",
    "where *A* is a constant and *n* is a positive whole number, such as 0, 1, 2, 3, …. Functions of this kind include __squares__*f*﻿(﻿*y*﻿) = *y*﻿<sup xmlns:str=\"http://exslt.org/strings\">2</sup>, and __cubes__*f*﻿(﻿*y*﻿) = *y*﻿<sup xmlns:str=\"http://exslt.org/strings\">3</sup>, which correspond to *A* = 1 with *n* = 2 and *n* = 3, respectively. The function that arises when *n* = 0 is especially noteworthy since, by convention, *y*<sup xmlns:str=\"http://exslt.org/strings\">0</sup> = 1, so *f*﻿(﻿*y*﻿) = *A* in this case, a constant. Thus, even a simple constant is just a special kind of function. In the case of a constant function each value of *y* is associated with the same value of *f*﻿(﻿*y*﻿), as in the case of the velocity-time graph of a uniformly moving object.\n",
    "\n",
    "Next in complexity are sums of squares, cubes, etc. These functions are called __polynomial functions__ and include the following special cases (where *A*, *B*, *C* and *D* are constants):\n",
    "<table xmlns:str=\"http://exslt.org/strings\">\n",
    "<caption></caption>\n",
    "<tbody>\n",
    "<tr>\n",
    "<td class=\"highlight_\" rowspan=\"\" colspan=\"\">__linear functions__ of the form</td>\n",
    "<td class=\"highlight_\" rowspan=\"\" colspan=\"\">*f*﻿(﻿*y*﻿) = *Ay* + *B*</td>\n",
    "</tr>\n",
    "<tr>\n",
    "<td class=\"highlight_\" rowspan=\"\" colspan=\"\">__quadratic functions__ of the form</td>\n",
    "<td class=\"highlight_\" rowspan=\"\" colspan=\"\">*f*﻿(﻿*y*﻿) = *Ay*﻿<sup>2</sup> + *By* + *C*</td>\n",
    "</tr>\n",
    "<tr>\n",
    "<td class=\"highlight_\" rowspan=\"\" colspan=\"\">__cubic functions__ of the form</td>\n",
    "<td class=\"highlight_\" rowspan=\"\" colspan=\"\">*f*﻿(﻿*y*﻿) = *Ay*﻿<sup>3</sup> + *By*﻿<sup>2</sup> + *Cy* + *D*.</td>\n",
    "</tr>\n",
    "</tbody>\n",
    "Reference: \n",
    "\n",
    "</table>\n",
    "\n",
    "In the case of uniform motion (described in Section 3), the position-time graph is a straight line described by an equation of the form *x* = *At* + *B*. It should now be clear that another way of describing this relationship is to say that the position is a *linear function* of the time, *x*﻿(﻿*t*﻿) = *At* + *B*. In a similar way, the non-uniform motion of a test vehicle in the NASA drop-shaft described at the beginning of this course can be described by a *quadratic function x*(*t*) = *At*﻿<sup xmlns:str=\"http://exslt.org/strings\">2</sup> + *Bt* + *C*, and many other forms of one-dimensional motion can be described, at least approximately, by suitably chosen polynomial functions."
   ]
  },
  {
   "cell_type": "markdown",
   "metadata": {},
   "source": [
    "---\n",
    "\n",
    "Derived functions and derivative notation\n",
    "Given the function *x*(*t*) that describes some particular motion, you could plot the corresponding position-time graph, measure its gradient at a variety of times to find the instantaneous velocity at those times and then plot the velocity-time graph. If you had some time left, you might go on to measure the gradient of the velocity-time graph at various times, and then plot the acceleration-time graph for the motion. This would effectively complete the description of the motion, but it would be enormously time consuming and, given the difficulty of reading graphs, not particularly accurate.\n",
    "\n",
    "Fortunately this graphical procedure can usually be entirely avoided. Starting again from the function *x*(*t*), there exists a mathematical procedure, called __differentiation__, that makes it possible to determine the velocity *v*<sub xmlns:str=\"http://exslt.org/strings\">*x*</sub>(*t*) directly, by algebra alone. We shall not try to describe the principles that underpin differentiation, but we will introduce the notation of the subject and list some of the basic results. To make this introduction as general as possible we shall initially consider a general function *f*(*y*) rather than the position function *x*(*t*).\n",
    "\n",
    "The central idea is this:\n",
    "\n",
    "Remember, the gradient of a graph at a given point is defined by the gradient of its tangent at that point.\n",
    "\n",
    "Given a function *f*(*y*) it is often possible to determine a related function of *y*, called the __derived function__, with the property that, at each value of *y*, the derived function is equal to the gradient of the graph of *f* against *y* at that same value of *y*.\n"
   ]
  },
  {
   "cell_type": "markdown",
   "metadata": {},
   "source": [
    "The derived function is usually referred to as the __derivative__ of *f* with respect to *y* (often abbreviated to *derivative*) and may be represented by the symbol  ![inlinefigure images/s207_1_ie028i.gif](../images/s207_1_ie028i.gif)  or, more formally  ![inlinefigure images/s207_1_ie029i.gif](../images/s207_1_ie029i.gif) . The  ![inlinefigure images/s207_1_ie028i.gif](../images/s207_1_ie028i.gif)  notation is reminiscent of the  ![inlinefigure images/s207_1_ie030i.gif](../images/s207_1_ie030i.gif)  notation that was used when discussing the gradient of a straight line and thus provides a clear reminder of the link between the derived function and the gradient of the *f* against *y* graph. However, it is important to remember that  ![inlinefigure images/s207_1_ie028i.gif](../images/s207_1_ie028i.gif)  is a single symbol representing the derived function, it is *not* the ratio of two quantities d*f* and d*y*.\n",
    "\n",
    "Although there are systematic ways of finding derived functions from first principles, you will not be required to use them in this course. Indeed, physicists are rarely required to do this because tables of derivatives already exist for all the well-known functions, and derivatives of more complicated functions can usually be expressed as combinations of those basic derivatives. Table 6 lists a few of the basic derivatives along with the simplest of the rules for combining them - it also gives some explicit examples of functions and their derivatives. Computer packages are now available that implement the rules of differentiation, these are often used to determine the derivatives of more complicated functions (Figure 32)."
   ]
  },
  {
   "cell_type": "markdown",
   "metadata": {},
   "source": [
    "![figure images/s207_2_029i.jpg](../images/s207_2_029i.jpg)"
   ]
  },
  {
   "cell_type": "markdown",
   "metadata": {},
   "source": [
    "__Figure 32:__ A function and its derivative, as displayed by an algebraic computing package\n",
    "\n",
    "<table xmlns:str=\"http://exslt.org/strings\">\n",
    "<caption>__Table 6:__ Some simple derivatives. The functions *f*, *g* and *h* depend on the variable *y*. The quantities *A* and *n* are constants, which may be positive, negative or zero. Note that *n* is not necessarily an integer</caption>\n",
    "<tbody>\n",
    "<tr>\n",
    "<th> ![inlinefigure https://www.open.edu/openlearn/ocw/pluginfile.php/65607/mod_oucontent/oucontent/439/tablenudge.gif](https://www.open.edu/openlearn/ocw/pluginfile.php/65607/mod_oucontent/oucontent/439/tablenudge.gif) Function *f*(*y*) ![inlinefigure https://www.open.edu/openlearn/ocw/pluginfile.php/65607/mod_oucontent/oucontent/439/tablenudge.gif](https://www.open.edu/openlearn/ocw/pluginfile.php/65607/mod_oucontent/oucontent/439/tablenudge.gif) </th>\n",
    "<th>Derivative  ![inlinefigure https://www.open.edu/openlearn/ocw/pluginfile.php/65607/mod_oucontent/oucontent/439/s207_1_ie028iwhite.gif](https://www.open.edu/openlearn/ocw/pluginfile.php/65607/mod_oucontent/oucontent/439/s207_1_ie028iwhite.gif) </th>\n",
    "<th> ![inlinefigure https://www.open.edu/openlearn/ocw/pluginfile.php/65607/mod_oucontent/oucontent/439/tablenudge.gif](https://www.open.edu/openlearn/ocw/pluginfile.php/65607/mod_oucontent/oucontent/439/tablenudge.gif) Example ![inlinefigure https://www.open.edu/openlearn/ocw/pluginfile.php/65607/mod_oucontent/oucontent/439/tablenudge.gif](https://www.open.edu/openlearn/ocw/pluginfile.php/65607/mod_oucontent/oucontent/439/tablenudge.gif) </th>\n",
    "</tr>\n",
    "<tr>\n",
    "<td class=\"highlight_\" rowspan=\"\" colspan=\"\"> ![inlinefigure https://www.open.edu/openlearn/ocw/pluginfile.php/65607/mod_oucontent/oucontent/439/s207_1_ie031ai.gif](https://www.open.edu/openlearn/ocw/pluginfile.php/65607/mod_oucontent/oucontent/439/s207_1_ie031ai.gif) </td>\n",
    "<td class=\"highlight_\" rowspan=\"\" colspan=\"\"> ![inlinefigure https://www.open.edu/openlearn/ocw/pluginfile.php/65607/mod_oucontent/oucontent/439/s207_1_ie031bi.gif](https://www.open.edu/openlearn/ocw/pluginfile.php/65607/mod_oucontent/oucontent/439/s207_1_ie031bi.gif) </td>\n",
    "<td class=\"highlight_\" rowspan=\"\" colspan=\"\"> ![inlinefigure https://www.open.edu/openlearn/ocw/pluginfile.php/65607/mod_oucontent/oucontent/439/s207_1_ie031ci.gif](https://www.open.edu/openlearn/ocw/pluginfile.php/65607/mod_oucontent/oucontent/439/s207_1_ie031ci.gif) </td>\n",
    "</tr>\n",
    "<tr>\n",
    "<td class=\"highlight_\" rowspan=\"\" colspan=\"\"> ![inlinefigure https://www.open.edu/openlearn/ocw/pluginfile.php/65607/mod_oucontent/oucontent/439/s207_1_ie032ai.gif](https://www.open.edu/openlearn/ocw/pluginfile.php/65607/mod_oucontent/oucontent/439/s207_1_ie032ai.gif) </td>\n",
    "<td class=\"highlight_\" rowspan=\"\" colspan=\"\"> ![inlinefigure https://www.open.edu/openlearn/ocw/pluginfile.php/65607/mod_oucontent/oucontent/439/s207_1_ie032bi.gif](https://www.open.edu/openlearn/ocw/pluginfile.php/65607/mod_oucontent/oucontent/439/s207_1_ie032bi.gif) </td>\n",
    "<td class=\"highlight_\" rowspan=\"\" colspan=\"\"> ![inlinefigure https://www.open.edu/openlearn/ocw/pluginfile.php/65607/mod_oucontent/oucontent/439/s207_1_ie032ci.gif](https://www.open.edu/openlearn/ocw/pluginfile.php/65607/mod_oucontent/oucontent/439/s207_1_ie032ci.gif) </td>\n",
    "</tr>\n",
    "<tr>\n",
    "<td class=\"highlight_\" rowspan=\"\" colspan=\"\"> ![inlinefigure https://www.open.edu/openlearn/ocw/pluginfile.php/65607/mod_oucontent/oucontent/439/s207_1_ie033ai.gif](https://www.open.edu/openlearn/ocw/pluginfile.php/65607/mod_oucontent/oucontent/439/s207_1_ie033ai.gif) </td>\n",
    "<td class=\"highlight_\" rowspan=\"\" colspan=\"\"> ![inlinefigure https://www.open.edu/openlearn/ocw/pluginfile.php/65607/mod_oucontent/oucontent/439/s207_1_ie033bi.gif](https://www.open.edu/openlearn/ocw/pluginfile.php/65607/mod_oucontent/oucontent/439/s207_1_ie033bi.gif) </td>\n",
    "<td class=\"highlight_\" rowspan=\"\" colspan=\"\"> ![inlinefigure https://www.open.edu/openlearn/ocw/pluginfile.php/65607/mod_oucontent/oucontent/439/s207_1_ie033ci.gif](https://www.open.edu/openlearn/ocw/pluginfile.php/65607/mod_oucontent/oucontent/439/s207_1_ie033ci.gif) </td>\n",
    "</tr>\n",
    "<tr>\n",
    "<td class=\"highlight_\" rowspan=\"\" colspan=\"\"> ![inlinefigure https://www.open.edu/openlearn/ocw/pluginfile.php/65607/mod_oucontent/oucontent/439/s207_1_ie034ai.gif](https://www.open.edu/openlearn/ocw/pluginfile.php/65607/mod_oucontent/oucontent/439/s207_1_ie034ai.gif) </td>\n",
    "<td class=\"highlight_\" rowspan=\"\" colspan=\"\"> ![inlinefigure https://www.open.edu/openlearn/ocw/pluginfile.php/65607/mod_oucontent/oucontent/439/s207_1_ie034bi.gif](https://www.open.edu/openlearn/ocw/pluginfile.php/65607/mod_oucontent/oucontent/439/s207_1_ie034bi.gif) </td>\n",
    "<td class=\"highlight_\" rowspan=\"\" colspan=\"\"> ![inlinefigure https://www.open.edu/openlearn/ocw/pluginfile.php/65607/mod_oucontent/oucontent/439/s207_1_ie034ci.gif](https://www.open.edu/openlearn/ocw/pluginfile.php/65607/mod_oucontent/oucontent/439/s207_1_ie034ci.gif) </td>\n",
    "</tr>\n",
    "<tr>\n",
    "<td class=\"highlight_\" rowspan=\"\" colspan=\"\"> ![inlinefigure https://www.open.edu/openlearn/ocw/pluginfile.php/65607/mod_oucontent/oucontent/439/s207_1_ie035ai.gif](https://www.open.edu/openlearn/ocw/pluginfile.php/65607/mod_oucontent/oucontent/439/s207_1_ie035ai.gif) </td>\n",
    "<td class=\"highlight_\" rowspan=\"\" colspan=\"\"> ![inlinefigure https://www.open.edu/openlearn/ocw/pluginfile.php/65607/mod_oucontent/oucontent/439/s207_1_ie035bi.gif](https://www.open.edu/openlearn/ocw/pluginfile.php/65607/mod_oucontent/oucontent/439/s207_1_ie035bi.gif) </td>\n",
    "<td class=\"highlight_\" rowspan=\"\" colspan=\"\"> ![inlinefigure https://www.open.edu/openlearn/ocw/pluginfile.php/65607/mod_oucontent/oucontent/439/s207_1_ie035ci.gif](https://www.open.edu/openlearn/ocw/pluginfile.php/65607/mod_oucontent/oucontent/439/s207_1_ie035ci.gif) </td>\n",
    "</tr>\n",
    "</tbody>\n",
    "Reference: \n",
    "\n",
    "</table>\n",
    "\n",
    "The idea of a derivative may be new to you and, if so, may seem rather strange. However, if you know the explicit form of a function, then there are several crucial advantages in using derivatives to determine gradients, rather than making measurements on a graph. In particular, looking up the derivative of a function in a table should be completely accurate, whereas measuring the gradient of the tangent to a graph is always approximate. For example, if *f*﻿(*y*﻿) = *y*﻿<sup xmlns:str=\"http://exslt.org/strings\">2</sup> then the derivative of *f*﻿(﻿*y*﻿) is d﻿*f*﻿/﻿d﻿*y* = 2*y* and evaluating the derivative at *y* = 3 to find the gradient at that particular value of *y* gives 6. This is an *exact* result that could not have been obtained with such precision from measurements on a graph. Moreover, if we want to know the gradient at many different values of *y*, all we need to do is to substitute each of those values into the general expression for the derivative, d*f*/d*y* = 2*y*. This is much simpler than drawing many different tangents and measuring their individual gradients."
   ]
  },
  {
   "cell_type": "markdown",
   "metadata": {},
   "source": [
    "## 4.4 Velocity and acceleration as derivatives"
   ]
  },
  {
   "cell_type": "markdown",
   "metadata": {},
   "source": [
    "Recalling that the instantaneous velocity of a particle at time *t* is given by the gradient of its position-time graph at that time, we can now use the terminology of functions and derivatives to say that the velocity of the particle is given by the derivative of its position function. In terms of symbols:"
   ]
  },
  {
   "cell_type": "markdown",
   "metadata": {},
   "source": [
    "![figure images/s207_1_ue014i.gif](../images/s207_1_ue014i.gif)\n"
   ]
  },
  {
   "cell_type": "markdown",
   "metadata": {},
   "source": [
    "Similarly, we can say that the instantaneous acceleration of a particle is given by the derivative of the velocity function:"
   ]
  },
  {
   "cell_type": "markdown",
   "metadata": {},
   "source": [
    "![figure images/s207_1_ue015i.gif](../images/s207_1_ue015i.gif)\n"
   ]
  },
  {
   "cell_type": "markdown",
   "metadata": {},
   "source": [
    "What's more we can use derivatives to simplify problems, as Example 1 shows."
   ]
  },
  {
   "cell_type": "markdown",
   "metadata": {},
   "source": [
    "### Example 1"
   ]
  },
  {
   "cell_type": "markdown",
   "metadata": {},
   "source": [
    "#### Question\n",
    "\n",
    "The position *x* of a particle at time *t* is given by the function *x*﻿(﻿*t*﻿) = *kt*﻿<sup xmlns:str=\"http://exslt.org/strings\">2</sup> where *k* = −5 m s<sup xmlns:str=\"http://exslt.org/strings\"> −2</sup>. Find (a) the velocity as a function of time; (b) the velocity at time *t* = 3 s."
   ]
  },
  {
   "cell_type": "markdown",
   "metadata": {},
   "source": [
    "#### Answer\n",
    "\n",
    "(a) The velocity *v*<sub xmlns:str=\"http://exslt.org/strings\">*x*</sub> is the derivative with respect to time of the position function *x*﻿(*t*) which is of the form *At﻿<sup xmlns:str=\"http://exslt.org/strings\">n</sup>*, with *A* = *k* and *n* = 2. It therefore follows from the third of the standard results in Table 6 that"
   ]
  },
  {
   "cell_type": "markdown",
   "metadata": {},
   "source": [
    "![figure images/s207_1_ue016i.gif](../images/s207_1_ue016i.gif)\n",
    "\n",
    "This is the required answer. No measuring of the gradients of tangents to curves is involved!\n",
    "\n",
    "(b) Remembering that *k* is given as −5 m s<sup xmlns:str=\"http://exslt.org/strings\">−2</sup>, the velocity at time *t* = 3 s is now easily obtained from Equation 16, as follows\n",
    "\n",
    "<!--Quote id=q005-->\n",
    ">*v<sub xmlns:str=\"http://exslt.org/strings\">x</sub>*(3 s) = 2*kt* = 2 × (−5 m s<sup xmlns:str=\"http://exslt.org/strings\">−2</sup>) × (3 s) = −30 m s<sup xmlns:str=\"http://exslt.org/strings\">−1</sup>"
   ]
  },
  {
   "cell_type": "markdown",
   "metadata": {},
   "source": [
    "Note that we have multiplied m s﻿<sup xmlns:str=\"http://exslt.org/strings\">−2</sup> by s to give m s<sup xmlns:str=\"http://exslt.org/strings\">﻿−﻿1</sup>, i.e. the units have been treated just like algebraic quantities.\n",
    "\n"
   ]
  },
  {
   "cell_type": "markdown",
   "metadata": {},
   "source": [
    "### Question 17"
   ]
  },
  {
   "cell_type": "markdown",
   "metadata": {},
   "source": [
    "#### Question\n",
    "\n",
    "If the velocity *v*﻿<sub xmlns:str=\"http://exslt.org/strings\">*x*﻿</sub>(﻿*t*﻿) of a particle is given by *v*﻿<sub xmlns:str=\"http://exslt.org/strings\">*x*﻿</sub>(﻿*t*﻿) = *kt*﻿<sup xmlns:str=\"http://exslt.org/strings\">2</sup>, where *k* = 4 m s<sup xmlns:str=\"http://exslt.org/strings\">﻿−3</sup>, find a general expression for the acceleration *a<sub xmlns:str=\"http://exslt.org/strings\">x</sub>*(*t*). What is the value of *a﻿<sub xmlns:str=\"http://exslt.org/strings\">x</sub>﻿*(﻿3 s﻿)?"
   ]
  },
  {
   "cell_type": "markdown",
   "metadata": {},
   "source": [
    "#### Answer\n",
    "\n",
    "The expression for the acceleration is given by"
   ]
  },
  {
   "cell_type": "markdown",
   "metadata": {},
   "source": [
    "![figure images/s207_1_ie045i.gif](../images/s207_1_ie045i.gif)\n",
    "\n",
    "using Table 6. Therefore *a<sub xmlns:str=\"http://exslt.org/strings\">x</sub>*(3 s) = (2 × 4 × 3) m s<sup xmlns:str=\"http://exslt.org/strings\">−2</sup> = 24 m s<sup xmlns:str=\"http://exslt.org/strings\">−2</sup>.\n"
   ]
  },
  {
   "cell_type": "markdown",
   "metadata": {},
   "source": [
    "Although it would be quite wrong to think of d*x*/d*t* as a ratio of the quantities d*x* and d*t*, it is useful to regard d*x*/d*t* as consisting of an entity d/d*t* that acts on the function *x*(*t*). The entity d/d*t* is a mathematical instruction to differentiate the function that follows, *x*﻿(﻿*t*﻿) in this case. It is an example of what a mathematician would call an __operator__. Adopting this view, we can say that if, for example, *x*﻿(﻿*t*﻿) = *kt*﻿<sup xmlns:str=\"http://exslt.org/strings\">2</sup> + *ct*, then"
   ]
  },
  {
   "cell_type": "markdown",
   "metadata": {},
   "source": [
    "![figure images/s207_1_ie011i.gif](../images/s207_1_ie011i.gif)\n",
    "\n",
    "Using the rule for differentiating the sum of two functions, from Table 6, we may write this as"
   ]
  },
  {
   "cell_type": "markdown",
   "metadata": {},
   "source": [
    "![figure images/s207_1_ie012i.gif](../images/s207_1_ie012i.gif)\n",
    "\n",
    "Using the third result in <a xmlns:str=\"http://exslt.org/strings\" href=\"\">Table 6</a> we may work out both the derivatives on the right-hand side to obtain"
   ]
  },
  {
   "cell_type": "markdown",
   "metadata": {},
   "source": [
    "![figure images/s207_1_ie013i.gif](../images/s207_1_ie013i.gif)\n",
    "\n",
    "Regarding d/d*t* as an operator also suggests another way of writing the acceleration. We already know that"
   ]
  },
  {
   "cell_type": "markdown",
   "metadata": {},
   "source": [
    "![figure images/s207_1_ie014i.gif](../images/s207_1_ie014i.gif)\n",
    "\n",
    "so it seems sensible to write\n",
    "\n",
    " ![inlinefigure images/s207_1_ue017i.gif](../images/s207_1_ue017i.gif) \n",
    "\n",
    "This emphasises that the acceleration of a particle is the rate of change of the rate of change of the position, or if you prefer, the derivative of the derivative of the position function. Either of these formulations is a bit of a mouthful, so it is more conventional to refer to the acceleration as the __second derivative__ of *x*(*t*) and to represent it symbolically by"
   ]
  },
  {
   "cell_type": "markdown",
   "metadata": {},
   "source": [
    "![figure images/s207_1_ue018i.gif](../images/s207_1_ue018i.gif)\n"
   ]
  },
  {
   "cell_type": "markdown",
   "metadata": {},
   "source": [
    "Once again, it would be quite wrong to think of this as some kind of ratio of d﻿<sup xmlns:str=\"http://exslt.org/strings\">2</sup>﻿*x* and d﻿*t*﻿<sup xmlns:str=\"http://exslt.org/strings\">2</sup>; it simply indicates that a particle's position function, *x*﻿(﻿*t*﻿), must be differentiated twice in order to find the particle's acceleration.\n",
    "\n",
    "*Note:* If you are not already familiar with derivatives you should pay particular attention to the positioning of the superscripts in the second derivative symbol. Newcomers to differentiation often make the mistake of writing d*x*﻿<sup xmlns:str=\"http://exslt.org/strings\">2</sup>﻿/﻿d﻿*t*﻿<sup xmlns:str=\"http://exslt.org/strings\">2</sup> when they mean d﻿<sup xmlns:str=\"http://exslt.org/strings\">2</sup>﻿*x*﻿/﻿d﻿*t*﻿<sup xmlns:str=\"http://exslt.org/strings\">2</sup>. Remembering that it is the operator d/dt that is to be squared rather than the function *x*﻿(﻿*t*﻿) may help you to avoid this error."
   ]
  },
  {
   "cell_type": "markdown",
   "metadata": {},
   "source": [
    "### Example 2"
   ]
  },
  {
   "cell_type": "markdown",
   "metadata": {},
   "source": [
    "#### Question\n",
    "\n",
    "Suppose, as in Example 1, the position of a particle is given by *x*﻿(﻿*t*﻿) = *kt*﻿<sup xmlns:str=\"http://exslt.org/strings\">2</sup> where *k* is a constant. Find *a﻿<sub xmlns:str=\"http://exslt.org/strings\">x</sub>﻿*(﻿*t*﻿)."
   ]
  },
  {
   "cell_type": "markdown",
   "metadata": {},
   "source": [
    "#### Answer\n",
    "\n",
    "We use Equation 14 and the third result in <a xmlns:str=\"http://exslt.org/strings\" href=\"\">Table 6</a> with *A* = *k*, *y* = *t* and *n* = 2, to obtain\n",
    "\n"
   ]
  },
  {
   "cell_type": "markdown",
   "metadata": {},
   "source": [
    "![figure images/s207_1_ue016i.gif](../images/s207_1_ue016i.gif)\n",
    "\n",
    "It then follows from Equation 18, that"
   ]
  },
  {
   "cell_type": "markdown",
   "metadata": {},
   "source": [
    "![figure images/s207_1_ie076i.gif](../images/s207_1_ie076i.gif)\n",
    "\n",
    "where we have again used the third result in <a xmlns:str=\"http://exslt.org/strings\" href=\"\">Table 6</a> but with *A* = 2*k* and *n* = 1.\n",
    "\n"
   ]
  },
  {
   "cell_type": "markdown",
   "metadata": {},
   "source": [
    "### Question 18"
   ]
  },
  {
   "cell_type": "markdown",
   "metadata": {},
   "source": [
    "#### Question\n",
    "\n",
    "Suppose that the vertical position *x* of a test vehicle falling down a drop-shaft is given by the quadratic function\n",
    "\n",
    "<!--Quote id=q006-->\n",
    ">*x*(*t*) = *k*<sub xmlns:str=\"http://exslt.org/strings\">0</sub> + *k*<sub xmlns:str=\"http://exslt.org/strings\">1</sub>*t* + *k*<sub xmlns:str=\"http://exslt.org/strings\">2</sub>*t*<sup xmlns:str=\"http://exslt.org/strings\">2</sup>"
   ]
  },
  {
   "cell_type": "markdown",
   "metadata": {},
   "source": [
    "where *k*<sub xmlns:str=\"http://exslt.org/strings\">0</sub>, *k*<sub xmlns:str=\"http://exslt.org/strings\">1</sub> and *k*<sub xmlns:str=\"http://exslt.org/strings\">2</sub> are constants. Work out an expression for the vehicle's acceleration *a﻿<sub xmlns:str=\"http://exslt.org/strings\">x</sub>﻿*(﻿*t*﻿) in terms of *k*﻿<sub xmlns:str=\"http://exslt.org/strings\">0</sub>, *k*﻿<sub xmlns:str=\"http://exslt.org/strings\">1</sub> and *k*﻿<sub xmlns:str=\"http://exslt.org/strings\">2</sub>, taking care to indicate each step in your working."
   ]
  },
  {
   "cell_type": "markdown",
   "metadata": {},
   "source": [
    "#### Answer\n",
    "\n",
    "Using Equations 14 and 15 and <a xmlns:str=\"http://exslt.org/strings\" href=\"\">Table 6</a>, we find"
   ]
  },
  {
   "cell_type": "markdown",
   "metadata": {},
   "source": [
    "![figure images/s207_1_ie046i.gif](../images/s207_1_ie046i.gif)\n",
    "\n"
   ]
  },
  {
   "cell_type": "markdown",
   "metadata": {},
   "source": [
    "## 4.5 The signed area under a general velocity-time graph"
   ]
  },
  {
   "cell_type": "markdown",
   "metadata": {},
   "source": [
    "We have already seen (in <a xmlns:str=\"http://exslt.org/strings\" href=\"\">Section 3.6</a>) that in the context of uniform motion, the signed area under a particle's velocity-time graph, between two given times, represents the change in the particle's position during that time interval, with a positive area corresponding to displacement in the positive direction. In the case of uniform motion, the velocity-time graph was a horizontal line and the area under the graph was rectangular."
   ]
  },
  {
   "cell_type": "markdown",
   "metadata": {},
   "source": [
    "![figure images/s207_2_030i.jpg](../images/s207_2_030i.jpg)"
   ]
  },
  {
   "cell_type": "markdown",
   "metadata": {},
   "source": [
    "__Figure 33:__ The area under the velocity-time graph between *t*﻿<sub xmlns:str=\"http://exslt.org/strings\">1</sub> and *t*﻿<sub xmlns:str=\"http://exslt.org/strings\">2</sub> for an accelerating particle"
   ]
  },
  {
   "cell_type": "markdown",
   "metadata": {},
   "source": [
    "Now, in the context of non-uniform motion, it seems natural to ask if the same interpretation can be given to the area under a general velocity-time graph, such as that between *t*<sub xmlns:str=\"http://exslt.org/strings\">1</sub> and *t*<sub xmlns:str=\"http://exslt.org/strings\">2</sub> in Figure 33. The answer to this is a definite yes, though a rigorous proof is beyond the scope of this course, so what follows is simply a plausibility argument.\n",
    "\n",
    "In Figure 33, the colour-shaded area under the graph does not take the shape of a rectangle. However, it may be approximately represented by a sum of rectangular areas, as indicated in Figure 34. To produce Figure 34 we have broken the time between *t*<sub xmlns:str=\"http://exslt.org/strings\">1</sub> and *t*<sub xmlns:str=\"http://exslt.org/strings\">2</sub> into a number of small intervals, each of identical duration Δ*t* and within each small interval, the velocity has been approximated by a constant, which can be taken to be the average velocity during that interval. As a result, the area of each rectangular strip in Figure 34 represents the approximate change of position over a short time Δ*t* and the sum of those areas represents the approximate change of position over the interval *t*<sub xmlns:str=\"http://exslt.org/strings\">1</sub> to *t*<sub xmlns:str=\"http://exslt.org/strings\">2</sub>. Now, if we were to repeat this process while using a smaller value for Δ*t*, as in Figure 35, then we would have more strips between *t*<sub xmlns:str=\"http://exslt.org/strings\">1</sub> and *t*<sub xmlns:str=\"http://exslt.org/strings\">2</sub>; their total area, representing the approximate change in position between *t*<sub xmlns:str=\"http://exslt.org/strings\">1</sub> and *t*<sub xmlns:str=\"http://exslt.org/strings\">2</sub>, would be an even closer approximation to the true area shown in Figure 33. Given these results, it seems reasonable to suppose that if we allowed Δ*t* to become smaller and smaller, while the number of rectangular strips between *t*<sub xmlns:str=\"http://exslt.org/strings\">1</sub> and *t*<sub xmlns:str=\"http://exslt.org/strings\">2</sub> became correspondingly larger and larger, then we would eventually find that the area under the graph in Figure 33 was *exactly* equal to the change in position between *t*<sub xmlns:str=\"http://exslt.org/strings\">1</sub> and *t*<sub xmlns:str=\"http://exslt.org/strings\">2</sub>."
   ]
  },
  {
   "cell_type": "markdown",
   "metadata": {},
   "source": [
    "![figure images/s207_2_031i.jpg](../images/s207_2_031i.jpg)"
   ]
  },
  {
   "cell_type": "markdown",
   "metadata": {},
   "source": [
    "__Figure 34:__ The area under the velocity-time graph of Figure 33, broken up into thin rectangular strips\n"
   ]
  },
  {
   "cell_type": "markdown",
   "metadata": {},
   "source": [
    "![figure images/s207_2_032i.jpg](../images/s207_2_032i.jpg)"
   ]
  },
  {
   "cell_type": "markdown",
   "metadata": {},
   "source": [
    "__Figure 35:__ The area under the velocity-time graph of Figure 33, broken up into even more rectangular strips by reducing the value of Δ*t*"
   ]
  },
  {
   "cell_type": "markdown",
   "metadata": {},
   "source": [
    "This conclusion is in fact correct and can be proved in a rigorous way by considering what mathematicians call a *limit*, in this case 'the limit as Δ*t* tends to zero'. We shall not pursue that here, but we should note that it wasn't until the early nineteenth century that the mathematics of limits was properly formulated, although it was in use long before then. It is also worth pointing out that it was the development of the idea of a limit that finally laid Zeno's paradox to rest. Just as the increasing number of diminishing strips can have a finite total area, so the increasing number of smaller steps that Achilles must take to reach the tortoise can have a finite sum and be completed in a finite time. Rigorous mathematical reasoning agrees with our everyday experience in telling us that motion can exist and that athletes outrun tortoises!"
   ]
  },
  {
   "cell_type": "markdown",
   "metadata": {},
   "source": [
    "![figure images/s207_2_033i.jpg](../images/s207_2_033i.jpg)"
   ]
  },
  {
   "cell_type": "markdown",
   "metadata": {},
   "source": [
    "__Figure 36:__ The velocity-time graph for Self-assessment question 19\n"
   ]
  },
  {
   "cell_type": "markdown",
   "metadata": {},
   "source": [
    "### Question 19"
   ]
  },
  {
   "cell_type": "markdown",
   "metadata": {},
   "source": [
    "#### Question\n",
    "\n",
    "Figure 36 shows the velocity-time graph for a particle with constant acceleration.\n",
    "\n",
    "(a) What is the displacement of the particle from its initial position after 6 s?\n",
    "\n",
    "(b) What is the distance travelled by the particle between *t* = 2 s and *t* = 6 s﻿? (You may find it useful to know that the formula for the area of a triangle is: area = half the base × height, and that for the area of a trapezium is: area = base × (half the sum of the lengths of the parallel sides).)"
   ]
  },
  {
   "cell_type": "markdown",
   "metadata": {},
   "source": [
    "#### Answer\n",
    "\n",
    "(a) The displacement over the first 6 s is equal to the total signed area between the graph and the t-axis and between *t* = 0 s and *t* = 6 s in Figure 37. Recall that regions below the axis are regarded as negative areas. In this case the total area is composed of two triangles, one above the axis, one below. The total displacement is therefore given by\n",
    "\n",
    "*s<sub xmlns:str=\"http://exslt.org/strings\">x</sub>*(6 s) = (1/2)×(1 s)×(1.2 m s<sup xmlns:str=\"http://exslt.org/strings\">−1</sup>) −(1/2)×(5 s)×(6 m s<sup xmlns:str=\"http://exslt.org/strings\">−1</sup>)\n",
    "\n",
    "i.e. *s﻿<sub xmlns:str=\"http://exslt.org/strings\">x</sub>﻿*(﻿6 s﻿) = (﻿0.60 m﻿) −(15 m) = −14.4 m.\n",
    "\n",
    "(b) The distance travelled between *t* = 2 s and *t* = 6 s will be the magnitude of the displacement over that time. Note that the displacement will be negative since it is represented by the area of the colour-shaded trapezium, which is entirely below the axis. However, the corresponding distance will be positive (since it is a magnitude) and will have the value\n",
    "\n",
    "<!--Quote id=q013-->\n",
    ">*s* = [(1/2) × (6 s − 2 s) × (6 m s<sup xmlns:str=\"http://exslt.org/strings\">−1</sup> − 1.2 m s<sup xmlns:str=\"http://exslt.org/strings\">−1</sup>)] + [(6 s − 2 s) × 1.2 m s<sup xmlns:str=\"http://exslt.org/strings\">−1</sup>] = 14.4 m\n"
   ]
  },
  {
   "cell_type": "markdown",
   "metadata": {},
   "source": [
    "![figure images/s207_2_041i.jpg](../images/s207_2_041i.jpg)"
   ]
  },
  {
   "cell_type": "markdown",
   "metadata": {},
   "source": [
    "__Figure 37:__ The velocity-time graph for Self-assessment question 19\n",
    "\n",
    "\n",
    "\n"
   ]
  }
 ],
 "metadata": {
  "jupytext": {
   "cell_metadata_filter": "-all",
   "main_language": "python",
   "notebook_metadata_filter": "-all",
   "text_representation": {
    "extension": ".md",
    "format_name": "markdown"
   }
  }
 },
 "nbformat": 4,
 "nbformat_minor": 4
}
