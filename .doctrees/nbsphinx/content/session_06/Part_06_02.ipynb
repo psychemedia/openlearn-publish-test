{
 "cells": [
  {
   "cell_type": "markdown",
   "metadata": {},
   "source": [
    "# 2 Correlation"
   ]
  },
  {
   "cell_type": "markdown",
   "metadata": {},
   "source": [
    "To see if life expectancy grows when the GDP increases I will use a statistical measure known as the __Spearman rank correlation coefficient__."
   ]
  },
  {
   "cell_type": "markdown",
   "metadata": {},
   "source": [
    "![An image of many thread spools with threads drawn together below and twisted into one ](../images/ou_futurelearn_learn_to_code_fig_1055.jpg)"
   ]
  },
  {
   "cell_type": "markdown",
   "metadata": {},
   "source": [
    "__Figure 3__"
   ]
  },
  {
   "cell_type": "markdown",
   "metadata": {},
   "source": [
    "It’s a number between -1 and 1 that describes how well two indicators correlate, in the following sense.\n",
    "\n",
    "* A value of 1 means that if I rank (sort) the data from smallest to largest value in one indicator, it will also be in ascending order according to the other indicator. In other words, if one indicator grows, so does the other.\n",
    "\n",
    "* A value of -1 means a perfect inverse rank relation: if I sort the data from smallest to largest according to one indicator, I will see it is sorted from largest to smallest in the other indicator. When one indicator goes up, the other goes down.\n",
    "\n",
    "* A value of 0 means there is no rank relation between the two indicators.\n",
    "\n",
    "A positive value smaller than 1 (or a negative value larger than -1) means there is some direct (or inverse) correlation, but it is not systematic across the whole dataset.\n",
    "\n",
    "The __p-value__ indicates how significant the result is, in a particular technical sense. To say a correlation is statistically significant doesn’t necessarily mean it is important or strong in the real world, but only that there is reasonable statistical evidence that there is some kind of relationship. Typically, the obtained correlation coefficient is considered statistically significant if the p-value is below 0.05.\n",
    "\n",
    "The pandas module doesn’t calculate complex statistics. There are other modules in the Anaconda distribution for that. In particular, ``scipy`` (Scientific Python) has a stats module that provides the ``spearmanr()`` function. The function takes as arguments the two columns of data to correlate. Contrary to the functions you’ve seen so far, it returns two values instead of one: the correlation and the p-value. To store both values, simply use a pair of variables, written in parenthesis.\n",
    "\n",
    "To show the results in a nicer way, I will use the Python ``print()`` function, which displays its arguments in a single line.\n",
    "\n",
    "``In []:``\n"
   ]
  },
  {
   "cell_type": "code",
   "execution_count": null,
   "metadata": {
    "lines_to_next_cell": 2
   },
   "outputs": [],
   "source": [
    "\n",
    "from scipy.stats import spearmanr \n",
    "gdpColumn = gdpVsLife[GDP]\n",
    "lifeColumn = gdpVsLife[LIFE]\n",
    "(correlation, pValue) = spearmanr(gdpColumn, lifeColumn)\n",
    "print('The correlation is', correlation)\n",
    "if pValue < 0.05: \n",
    "        print('It is statistically significant.') \n",
    "else:\n",
    "        print('It is not statistically significant.')"
   ]
  },
  {
   "cell_type": "markdown",
   "metadata": {},
   "source": [
    "``Out[]:``\n"
   ]
  },
  {
   "cell_type": "code",
   "execution_count": null,
   "metadata": {
    "lines_to_next_cell": 2
   },
   "outputs": [],
   "source": [
    "\n",
    "The correlation is 0.493179132478.\n",
    "It is statistically significant."
   ]
  },
  {
   "cell_type": "markdown",
   "metadata": {},
   "source": [
    "Although there is a statistically significant direct correlation (life expectancy grows as GDP grows), it isn’t strong.\n",
    "\n",
    "A perfect (direct or inverse) correlation doesn’t mean there is any cause-effect between the two indicators. A perfect direct correlation between life expectancy and GDP would only state that the higher the GDP, the higher the life expectancy. It would not state that the higher expectancy is due to the GDP. Correlation is not causation."
   ]
  },
  {
   "cell_type": "markdown",
   "metadata": {},
   "source": [
    "### Exercise 10 Correlation"
   ]
  },
  {
   "cell_type": "markdown",
   "metadata": {},
   "source": [
    "#### Question\n",
    "\n",
    "Calculate the correlation between GDP and population in Exercise 10 in the Exercise notebook 3.\n",
    "\n",
    "Remember to run the existing code in the notebook before you start the exercise. When you’ve completed the exercise, save the notebook.\n",
    "\n"
   ]
  },
  {
   "cell_type": "markdown",
   "metadata": {},
   "source": [
    "## 2.1 Scatterplots"
   ]
  },
  {
   "cell_type": "markdown",
   "metadata": {},
   "source": [
    "Statistics can be misleading. A coefficient of zero only states there is no ranking relation between the indicators, but there might be some other relationship.\n",
    "\n",
    "In the next example, the correlation between x and y is zero, but they are clearly related (y is the square of x).\n",
    "\n",
    "``In []:``\n"
   ]
  },
  {
   "cell_type": "code",
   "execution_count": null,
   "metadata": {
    "lines_to_next_cell": 2
   },
   "outputs": [],
   "source": [
    "\n",
    "table = [ [-2,4], [-1,1], [0,0], [1,1], [2,4] ]\n",
    "data = DataFrame(columns=['x', 'y'], data=table)\n",
    "\n",
    "(correlation, pValue) = spearmanr(data['x'], data['y'])\n",
    "\n",
    "print('The correlation is', correlation)\n",
    "data"
   ]
  },
  {
   "cell_type": "markdown",
   "metadata": {},
   "source": [
    "``Out[]:``\n",
    "\n",
    "`The correlation is 0.0`\n",
    "<table xmlns:str=\"http://exslt.org/strings\">\n",
    "<caption></caption>\n",
    "<tbody>\n",
    "<tr>\n",
    "<th></th>\n",
    "<th>x</th>\n",
    "<th>y</th>\n",
    "</tr>\n",
    "<tr>\n",
    "<td class=\"highlight_\" rowspan=\"\" colspan=\"\">0</td>\n",
    "<td class=\"highlight_\" rowspan=\"\" colspan=\"\">-2</td>\n",
    "<td class=\"highlight_\" rowspan=\"\" colspan=\"\">4</td>\n",
    "</tr>\n",
    "<tr>\n",
    "<td class=\"highlight_\" rowspan=\"\" colspan=\"\">1</td>\n",
    "<td class=\"highlight_\" rowspan=\"\" colspan=\"\">-1</td>\n",
    "<td class=\"highlight_\" rowspan=\"\" colspan=\"\">1</td>\n",
    "</tr>\n",
    "<tr>\n",
    "<td class=\"highlight_\" rowspan=\"\" colspan=\"\">2</td>\n",
    "<td class=\"highlight_\" rowspan=\"\" colspan=\"\">0</td>\n",
    "<td class=\"highlight_\" rowspan=\"\" colspan=\"\">0</td>\n",
    "</tr>\n",
    "<tr>\n",
    "<td class=\"highlight_\" rowspan=\"\" colspan=\"\">3</td>\n",
    "<td class=\"highlight_\" rowspan=\"\" colspan=\"\">1</td>\n",
    "<td class=\"highlight_\" rowspan=\"\" colspan=\"\">1</td>\n",
    "</tr>\n",
    "<tr>\n",
    "<td class=\"highlight_\" rowspan=\"\" colspan=\"\">4</td>\n",
    "<td class=\"highlight_\" rowspan=\"\" colspan=\"\">2</td>\n",
    "<td class=\"highlight_\" rowspan=\"\" colspan=\"\">4</td>\n",
    "</tr>\n",
    "</tbody>\n",
    "</table>\n",
    "\n",
    "It’s therefore best to complement the quantitative analysis with a more qualitative view provided by a chart. In the case of correlations, __scatterplots__ will do very nicely. Each country is a dot plotted at the x and y coordinates corresponding to the GDP and life expectancy values.\n",
    "\n",
    "``In []:``\n"
   ]
  },
  {
   "cell_type": "code",
   "execution_count": null,
   "metadata": {
    "lines_to_next_cell": 2
   },
   "outputs": [],
   "source": [
    "\n",
    "%matplotlib inline\n",
    "\n",
    "gdpVsLife.plot(x=GDP, y=LIFE, kind='scatter', grid=True)\n"
   ]
  },
  {
   "cell_type": "markdown",
   "metadata": {},
   "source": [
    "``Out[]:``\n",
    "\n",
    "`\n",
    "&lt;matplotlib.axes._subplots.AxesSubplot at 0x10e2e6eb8&gt;\n",
    "`"
   ]
  },
  {
   "cell_type": "markdown",
   "metadata": {},
   "source": [
    "![figure images/ou_futurelearn_learn_to_code_fig_1018.jpg](../images/ou_futurelearn_learn_to_code_fig_1018.jpg)"
   ]
  },
  {
   "cell_type": "markdown",
   "metadata": {},
   "source": [
    "__Figure 4__"
   ]
  },
  {
   "cell_type": "markdown",
   "metadata": {},
   "source": [
    "This graph is not very useful. The GDP difference between the poorest and richest countries is so vast that the whole chart is squashed to fit all GDP values on the x-axis. It is best to use a __logarithmic scale__ , where the axis values don’t increase by a constant interval (10, 20, 30, for example), but by a multiplicative factor (10, 100, 1000, 10000, etc.). The parameter ``logx`` has to be set to ``True`` to get a logarithmic scale on the x-axis. Moreover, let’s make the chart a bit wider, by using the ``figsize`` parameter you saw last week.\n",
    "\n",
    "``In []:``\n"
   ]
  },
  {
   "cell_type": "code",
   "execution_count": null,
   "metadata": {
    "lines_to_next_cell": 2
   },
   "outputs": [],
   "source": [
    "\n",
    "gdpVsLife.plot(x=GDP, y=LIFE, kind='scatter', grid=True, \n",
    "              logx=True, figsize = (10, 4))"
   ]
  },
  {
   "cell_type": "markdown",
   "metadata": {},
   "source": [
    "``Out[]:``\n",
    "\n",
    "`\n",
    "&gt;matplotlib.axes._subplots.AxesSubplot at 0x10e400588&gt;\n",
    "`"
   ]
  },
  {
   "cell_type": "markdown",
   "metadata": {},
   "source": [
    "![figure images/ou_futurelearn_learn_to_code_fig_1019.jpg](../images/ou_futurelearn_learn_to_code_fig_1019.jpg)"
   ]
  },
  {
   "cell_type": "markdown",
   "metadata": {},
   "source": [
    "__Figure 5__"
   ]
  },
  {
   "cell_type": "markdown",
   "metadata": {},
   "source": [
    "The major tick marks in the x-axis go from 10 <sup xmlns:str=\"http://exslt.org/strings\">2</sup> (that’s a one followed by two zeros, hence 100) to 10 <sup xmlns:str=\"http://exslt.org/strings\">8</sup> (that’s a one followed by eight zeros, hence 100,000,000) million pounds, with the minor ticks marking the numbers in between. For example, the eight minor ticks between 10 <sup xmlns:str=\"http://exslt.org/strings\">2</sup> and 10 <sup xmlns:str=\"http://exslt.org/strings\">3</sup> represent the values 200 (2 × 10 <sup xmlns:str=\"http://exslt.org/strings\">2</sup> ), 300 (3 × 10 <sup xmlns:str=\"http://exslt.org/strings\">2</sup> ), and so on until 900 (9 × 10 <sup xmlns:str=\"http://exslt.org/strings\">2</sup> ). As a further example, the country with the lowest life expectancy is on the second minor tick to the right of 10 <sup xmlns:str=\"http://exslt.org/strings\">3</sup> , which means its GDP is about 3 × 10 <sup xmlns:str=\"http://exslt.org/strings\">3</sup> (three thousand) million pounds.\n",
    "\n",
    "Countries with a GDP around 10 thousand (10 <sup xmlns:str=\"http://exslt.org/strings\">4</sup> ) millions of pounds have a wide range of life expectancies, from under 50 to over 80, but the range tends to shrink both for poorer and for richer countries. Countries with the lowest life expectancy are neither the poorest nor the richest, but those with highest expectancy are among the richer countries."
   ]
  },
  {
   "cell_type": "markdown",
   "metadata": {},
   "source": [
    "### Exercise 11 Scatterplots"
   ]
  },
  {
   "cell_type": "markdown",
   "metadata": {},
   "source": [
    "#### Question\n",
    "\n",
    "Practise using Scatterplots in Exercise11 in the Exercise notebook 3.\n",
    "\n"
   ]
  },
  {
   "cell_type": "markdown",
   "metadata": {},
   "source": [
    "## 2.2 My project"
   ]
  },
  {
   "cell_type": "markdown",
   "metadata": {},
   "source": [
    "I’ve written up my analysis of this week’s project in the notebook you can open this in your downloaded files."
   ]
  },
  {
   "cell_type": "markdown",
   "metadata": {},
   "source": [
    "![An image of an older man holding a surf board on a beach ](../images/ou_futurelearn_learn_to_code_fig_1056.jpg)"
   ]
  },
  {
   "cell_type": "markdown",
   "metadata": {},
   "source": [
    "__Figure 6__"
   ]
  },
  {
   "cell_type": "markdown",
   "metadata": {},
   "source": [
    "The structure is very simple: besides the introduction and the conclusions, there is one section for each step of the analysis – downloading, cleaning, transforming, and merging the data, then calculating and visualising the correlation.\n",
    "\n",
    "Open Project 4: Life expectancy\n",
    "\n",
    "If you have time, extend my project to answer different questions or create your own project in the activity below."
   ]
  },
  {
   "cell_type": "markdown",
   "metadata": {},
   "source": [
    "### Activity 1\n",
    "<!--Heading:\n",
    "            Extend the project-->\n",
    "\n",
    "#### Question\n",
    "\n",
    "Make a copy of the Project 3: GDP and Life expectancy and change it to answer one or more of the following questions:\n",
    "\n",
    "* To what extent do the ten countries with the highest GDP coincide with the ten countries with the longest life expectancy?\n",
    "\n",
    "* Which are the two countries in the right half of the plot (higher GDP) with life expectancy below 60 years? What factors could explain their lower life expectancy compared to countries with similar GDP? \n",
    "Hint: use the filtering techniques you learned in Week 2 to find the two countries."
   ]
  },
  {
   "cell_type": "markdown",
   "metadata": {},
   "source": [
    "* Redo the analysis using the countries’ GDP per capita (i.e. per inhabitant) instead of their total GDP. If you’ve done the workbook exercises, you already have a column with the population data. \n",
    "Hint: write an expression involving the GDP and population columns, as you learned in Calculating over columns in Week 1.\n",
    " Think about the units in which you display GDP per capita.\n",
    "\n",
    "* Redo the analysis using the indicator suggested at the end of the project notebook.\n",
    "<!--Heading:\n",
    "            Create your own project-->\n",
    "\n",
    "#### Question\n",
    "\n",
    "If you have more time, create a completely new project and choose another two of the hundreds of World Bank indicators and see if there is any correlation between them. If there is a choice of similar indicators, choose one that leads to meaningful comparisons between countries.\n",
    "\n",
    "Look at the results you obtained and take a few moments to assess how they differ from mine.\n",
    "\n",
    "\n"
   ]
  }
 ],
 "metadata": {
  "jupytext": {
   "cell_metadata_filter": "-all",
   "main_language": "bash",
   "notebook_metadata_filter": "-all",
   "text_representation": {
    "extension": ".md",
    "format_name": "markdown"
   }
  }
 },
 "nbformat": 4,
 "nbformat_minor": 4
}
