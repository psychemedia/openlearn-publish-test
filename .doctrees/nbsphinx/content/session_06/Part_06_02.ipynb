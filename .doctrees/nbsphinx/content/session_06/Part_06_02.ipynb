{
 "cells": [
  {
   "cell_type": "markdown",
   "metadata": {},
   "source": [
    "# 1 How many words are there?"
   ]
  },
  {
   "cell_type": "markdown",
   "metadata": {},
   "source": [
    "The answer to this question, of course, depends on how you define what a word is, and on how you count them.\n",
    "\n",
    "Let’s start with English. The extract below, from the [Oxford English Dictionary blog](https://en.oxforddictionaries.com/explore/how-many-words-are-there-in-the-english-language), explains the difficulties in answering the question. \n",
    "\n",
    "<!--Quote id=--><!--Heading:\n",
    "            How many words are there in the English language?-->\n",
    ">There is no single sensible answer to this question. It’s impossible to count the number of words in a language, because it’s so hard to decide what actually counts as a word. Is dog one word, or two (a noun meaning ‘a kind of animal’, and a verb meaning ‘to follow persistently’)? If we count it as two, then do we count inflections separately too (e.g. dogs = plural noun, dogs = present tense of the verb). Is dog-tired a word, or just two other words joined together? Is hot dog really two words, since it might also be written as hot-dog or even hotdog?\n",
    ">It’s also difficult to decide what counts as ‘English’. What about medical and scientific terms? Latin words used in law, French words used in cooking, German words used in academic writing, Japanese words used in martial arts? Do you count Scots dialect? Teenage slang? Abbreviations?"
   ]
  },
  {
   "cell_type": "markdown",
   "metadata": {},
   "source": [
    "English has over 171,000 dictionary entries for words in current use, and an estimated 250,000 distinct words. That is a lot of words to learn."
   ]
  },
  {
   "cell_type": "markdown",
   "metadata": {},
   "source": [
    "### Activity 1 How many words are in your chosen language \n",
    "__Timing: Allow about 15 minutes__"
   ]
  },
  {
   "cell_type": "markdown",
   "metadata": {},
   "source": [
    "#### Question\n",
    "\n",
    "How many words are there in the language you want to learn?\n",
    "\n",
    "Search online for an answer to this question, and make a note of the number of words in your other language as well as of any issues around how to count them in your particular language. \n",
    "\n",
    "As you look for information, think about what you count as a word (i.e. do you include only dictionary headwords, or also inflected words?) And do you include vocabulary from the different language varieties of that language (Spanish, for instance, is spoken in Spain and in 19 countries in the Americas, as well as in Equatorial Guinea, and there are many words that are different in the different varieties of Spanish). "
   ]
  },
  {
   "cell_type": "markdown",
   "metadata": {},
   "source": [
    "#### Discussion\n",
    "\n",
    "So, now that you have an idea of how many words there are in English and in the language you are learning or want to learn, how many words do you think you need?\n",
    "\n",
    "\n"
   ]
  }
 ],
 "metadata": {
  "jupytext": {
   "cell_metadata_filter": "-all",
   "main_language": "python",
   "notebook_metadata_filter": "-all",
   "text_representation": {
    "extension": ".md",
    "format_name": "markdown"
   }
  }
 },
 "nbformat": 4,
 "nbformat_minor": 4
}
