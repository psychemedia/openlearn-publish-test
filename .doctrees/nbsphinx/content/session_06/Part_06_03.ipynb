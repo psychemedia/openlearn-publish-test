{
 "cells": [
  {
   "cell_type": "markdown",
   "metadata": {},
   "source": [
    "# 3 This week’s quiz"
   ]
  },
  {
   "cell_type": "markdown",
   "metadata": {},
   "source": [
    "Check what you’ve learned this week by taking the end-of-week quiz.\n",
    "\n",
    "[Week 6 practice quiz](https://www.open.edu/openlearn/ocw/mod/quiz/view.php?id=78782)\n",
    "\n",
    "Open the quiz in a new window or tab then come back here when you’ve finished.\n"
   ]
  }
 ],
 "metadata": {
  "jupytext": {
   "cell_metadata_filter": "-all",
   "main_language": "python",
   "notebook_metadata_filter": "-all",
   "text_representation": {
    "extension": ".md",
    "format_name": "markdown"
   }
  }
 },
 "nbformat": 4,
 "nbformat_minor": 4
}
