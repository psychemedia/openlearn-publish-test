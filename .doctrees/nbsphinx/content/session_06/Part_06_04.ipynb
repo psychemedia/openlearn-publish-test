{
 "cells": [
  {
   "cell_type": "markdown",
   "metadata": {},
   "source": [
    "# 3 What does it mean to know a word?"
   ]
  },
  {
   "cell_type": "markdown",
   "metadata": {},
   "source": [
    "OK, so let’s say that you set yourself the target of learning 1000 words in your target language to start with. The next question you might ask yourself is: what does it mean to ‘know’ a word? You will look at this in the next section."
   ]
  },
  {
   "cell_type": "markdown",
   "metadata": {},
   "source": [
    "## 3.1 Receptive and productive vocabulary"
   ]
  },
  {
   "cell_type": "markdown",
   "metadata": {},
   "source": [
    "If you understand the meaning of a word when you hear it or read it, it is part of your receptive vocabulary. Words in this category range from those you know well, to those you barely know but can understand when you come across them because of the context, for instance. If you are able to produce a word when speaking or writing in a way that is appropriate and that matched what you mean, this is part of your productive vocabulary.  Usually, your receptive vocabulary is greater than your productive vocabulary. \n",
    "\n",
    "I remember in a French class I was teaching years ago, a student was writing a description of her town, and asked me how you say ‘park’ in French. I asked her to look it up in the dictionary, and when I checked later what she had written, it was something like:\n",
    "\n",
    "<!--Quote id=-->\n",
    ">Dans ma ville il y a un __garer__ très joli."
   ]
  },
  {
   "cell_type": "markdown",
   "metadata": {},
   "source": [
    "The problem with this sentence is that ‘garer’ means ‘park’, as in ‘to park your car’. So the student was saying that in her town there is a very beautiful to park. This, of course, doesn’t make sense, either in terms of meaning, or grammatically. She had looked up the word in the dictionary, but she had not paid attention to any of the specific features of the word she was looking up, or the information she was finding in the dictionary. So, knowing a word is about understanding what that word means, how it is used, and indeed, how you can use it."
   ]
  },
  {
   "cell_type": "markdown",
   "metadata": {},
   "source": [
    "## 3.2 Depth of knowledge"
   ]
  },
  {
   "cell_type": "markdown",
   "metadata": {},
   "source": [
    "As well as breadth of vocabulary (or size) a useful concept when thinking about vocabulary knowledge, both with words in your receptive and in your productive vocabulary, is *depth* of knowledge. Match the different aspects of what it means to know a word with their definition (based on Qian, 1999)."
   ]
  },
  {
   "cell_type": "markdown",
   "metadata": {},
   "source": [
    "### Activity 2 Depth of word knowledge matching activity \n",
    "__Timing: Allow about 5 minutes__"
   ]
  },
  {
   "cell_type": "markdown",
   "metadata": {},
   "source": [
    "#### Question\n",
    "\n",
    "The following relate to different aspects of depth of knowledge of words. Match each one with their meaning: \n",
    "\n",
    "how different forms of the word are pronounced and spelled\n",
    "\n",
    "Pronunciation and spelling\n",
    "\n",
    "the forms a word can take (inflection, derivation, etc.) and its possible parts of speech (so whether it can be a noun or a verb, as in the case of ‘park’ above)\n",
    "\n",
    "Morphological properties\n",
    "\n",
    "the word’s possible positions in a sentence (such as whether an adjective goes before or after the noun)\n",
    "\n",
    "Syntactic properties\n",
    "\n",
    "what a word means in context, but also its connotations, as well as whether it might mean different things in different contexts (e.g. the word ‘crane’ can mean a type of bird, a type of construction equipment or something unpleasant you do to your neck!). Also, what its common synonyms and antonyms are.\n",
    "\n",
    "Meaning\n",
    "\n",
    "is the word use in particular situations (formal or informal, for instance) or in particular regional varieties?\n",
    "\n",
    "Register, or discourse features\n",
    "\n",
    "is the word commonly used or one that appears only in some specialised texts\n",
    "\n",
    "Frequency\n"
   ]
  },
  {
   "cell_type": "markdown",
   "metadata": {},
   "source": [
    "So, when you learn vocabulary, it is important that you think about what it means to know a word, and that you pay attention to the features we have just highlighted. And when you buy a dictionary (or chose one online), have a look at how much ‘depth of knowledge’ about the words it provides. "
   ]
  },
  {
   "cell_type": "markdown",
   "metadata": {},
   "source": [
    "## 3.3 Vocabulary learning strategies"
   ]
  },
  {
   "cell_type": "markdown",
   "metadata": {},
   "source": [
    "There are lots of different techniques for learning vocabulary, ranging from keeping a vocabulary book to writing a word repeatedly or saying it to yourself. \n",
    "\n",
    "The following activity will enable you to find out which strategies you use most often, but also point out other strategies that you might not use but are worth trying out. "
   ]
  },
  {
   "cell_type": "markdown",
   "metadata": {},
   "source": [
    "### Activity 3 Vocabulary strategies\n",
    "__Timing: Allow about 10 minutes__"
   ]
  },
  {
   "cell_type": "markdown",
   "metadata": {},
   "source": [
    "#### Question\n",
    "\n",
    "Add your answers to the statements in the table.\n",
    "<table xmlns:str=\"http://exslt.org/strings\">\n",
    "<caption></caption>\n",
    "<tbody>\n",
    "<tr>\n",
    "<th></th>\n",
    "<th>Often/ Sometimes/ Not very often/ Never</th>\n",
    "</tr>\n",
    "<tr>\n",
    "<td class=\"highlight_\" rowspan=\"\" colspan=\"\">I use my background knowledge/the wider context to guess the meaning of new words.</td>\n",
    "<td class=\"highlight_\" rowspan=\"\" colspan=\"\"></td>\n",
    "</tr>\n",
    "<tr>\n",
    "<td class=\"highlight_\" rowspan=\"\" colspan=\"\">I look for any definitions or paraphrases in the passage that support my guess about the meaning of a word.</td>\n",
    "<td class=\"highlight_\" rowspan=\"\" colspan=\"\"></td>\n",
    "</tr>\n",
    "<tr>\n",
    "<td class=\"highlight_\" rowspan=\"\" colspan=\"\">When I see an unfamiliar word again and again, I look it up.</td>\n",
    "<td class=\"highlight_\" rowspan=\"\" colspan=\"\"></td>\n",
    "</tr>\n",
    "<tr>\n",
    "<td class=\"highlight_\" rowspan=\"\" colspan=\"\">When I want to confirm my guess about a word, I look it up.</td>\n",
    "<td class=\"highlight_\" rowspan=\"\" colspan=\"\"></td>\n",
    "</tr>\n",
    "<tr>\n",
    "<td class=\"highlight_\" rowspan=\"\" colspan=\"\">I pay attention to the examples of use when I look up a word in a dictionary.</td>\n",
    "<td class=\"highlight_\" rowspan=\"\" colspan=\"\"></td>\n",
    "</tr>\n",
    "<tr>\n",
    "<td class=\"highlight_\" rowspan=\"\" colspan=\"\">I look for phrases or set expressions that go with the word I look up.</td>\n",
    "<td class=\"highlight_\" rowspan=\"\" colspan=\"\"></td>\n",
    "</tr>\n",
    "<tr>\n",
    "<td class=\"highlight_\" rowspan=\"\" colspan=\"\">I look for phrases or set expressions that go with the word I look up.</td>\n",
    "<td class=\"highlight_\" rowspan=\"\" colspan=\"\"></td>\n",
    "</tr>\n",
    "<tr>\n",
    "<td class=\"highlight_\" rowspan=\"\" colspan=\"\">I make a note if I think the word I'm looking up is relevant to my interest.</td>\n",
    "<td class=\"highlight_\" rowspan=\"\" colspan=\"\"></td>\n",
    "</tr>\n",
    "<tr>\n",
    "<td class=\"highlight_\" rowspan=\"\" colspan=\"\">I put synonyms or antonyms together in my notebook.</td>\n",
    "<td class=\"highlight_\" rowspan=\"\" colspan=\"\"></td>\n",
    "</tr>\n",
    "<tr>\n",
    "<td class=\"highlight_\" rowspan=\"\" colspan=\"\">I make a note when I see a useful expression or phrase.</td>\n",
    "<td class=\"highlight_\" rowspan=\"\" colspan=\"\"></td>\n",
    "</tr>\n",
    "<tr>\n",
    "<td class=\"highlight_\" rowspan=\"\" colspan=\"\">I make vocabulary lists of new words that I want to learn.</td>\n",
    "<td class=\"highlight_\" rowspan=\"\" colspan=\"\"></td>\n",
    "</tr>\n",
    "<tr>\n",
    "<td class=\"highlight_\" rowspan=\"\" colspan=\"\">I make online vocabulary flashcards with the new words that I want to learn.</td>\n",
    "<td class=\"highlight_\" rowspan=\"\" colspan=\"\"></td>\n",
    "</tr>\n",
    "<tr>\n",
    "<td class=\"highlight_\" rowspan=\"\" colspan=\"\">When I try to remember a word, I repeat it aloud to myself.</td>\n",
    "<td class=\"highlight_\" rowspan=\"\" colspan=\"\"></td>\n",
    "</tr>\n",
    "<tr>\n",
    "<td class=\"highlight_\" rowspan=\"\" colspan=\"\">When I try to remember a word, I write it repeatedly.</td>\n",
    "<td class=\"highlight_\" rowspan=\"\" colspan=\"\"></td>\n",
    "</tr>\n",
    "<tr>\n",
    "<td class=\"highlight_\" rowspan=\"\" colspan=\"\">I group words into categories when I write them down.</td>\n",
    "<td class=\"highlight_\" rowspan=\"\" colspan=\"\"></td>\n",
    "</tr>\n",
    "<tr>\n",
    "<td class=\"highlight_\" rowspan=\"\" colspan=\"\">I deliberately read texts in my areas of interest so that I can find out and remember the special terminology that I need to know.</td>\n",
    "<td class=\"highlight_\" rowspan=\"\" colspan=\"\"></td>\n",
    "</tr>\n",
    "<tr>\n",
    "<td class=\"highlight_\" rowspan=\"\" colspan=\"\">I try to read as much as possible so that I can make use of the words I am trying to remember.</td>\n",
    "<td class=\"highlight_\" rowspan=\"\" colspan=\"\"></td>\n",
    "</tr>\n",
    "<tr>\n",
    "<td class=\"highlight_\" rowspan=\"\" colspan=\"\">I use the words I am trying to learn in writing or when I speak.</td>\n",
    "<td class=\"highlight_\" rowspan=\"\" colspan=\"\"></td>\n",
    "</tr>\n",
    "<tr>\n",
    "<td class=\"highlight_\" rowspan=\"\" colspan=\"\">I try to use words I am learning in imaginary situations in my mind.</td>\n",
    "<td class=\"highlight_\" rowspan=\"\" colspan=\"\"></td>\n",
    "</tr>\n",
    "</tbody>\n",
    "</table>\n",
    "\n",
    "\n"
   ]
  }
 ],
 "metadata": {
  "jupytext": {
   "cell_metadata_filter": "-all",
   "main_language": "python",
   "notebook_metadata_filter": "-all",
   "text_representation": {
    "extension": ".md",
    "format_name": "markdown"
   }
  }
 },
 "nbformat": 4,
 "nbformat_minor": 4
}
