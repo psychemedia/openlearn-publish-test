{
 "cells": [
  {
   "cell_type": "markdown",
   "metadata": {},
   "source": [
    "# 6 Effortful encoding strategies"
   ]
  },
  {
   "cell_type": "markdown",
   "metadata": {},
   "source": [
    "So, what sort of effortful encoding strategies are we talking about? You will now look at the following useful effortful encoding strategies that will help you learn vocabulary:\n",
    "\n",
    "* chunking\n",
    "\n",
    "* mnemonics\n",
    "\n",
    "* memory palaces\n",
    "\n",
    "* self-referencing\n",
    "\n",
    "* spacing."
   ]
  },
  {
   "cell_type": "markdown",
   "metadata": {},
   "source": [
    "## 6.1 Chunking"
   ]
  },
  {
   "cell_type": "markdown",
   "metadata": {},
   "source": [
    "The first one is chunking, or grouping the information into meaningful units.\n",
    "\n",
    "Listen to the following sequence of numbers. Don’t write them down.\n",
    "<!--MEDIACONTENT--><!--ENDMEDIACONTENT-->\n",
    "The reason why you can probably remember the second sequence, and not the first, is because you were able to chunk the information into meaningful bits of information, and that you could relate those numbers to categories you already had in your long-term memory – key dates in UK history.\n",
    "\n",
    "When learning vocabulary, it is a lot easier to remember vocabulary items in categories that you already understand.\n",
    "\n",
    "So for instance, it is easier to remember:\n",
    "\n",
    "<!--Quote id=-->\n",
    ">Oranges, bananas, pears\n",
    ">Chicken, ham, soya beans\n",
    ">Rice, pasta, bread"
   ]
  },
  {
   "cell_type": "markdown",
   "metadata": {},
   "source": [
    "than it is to remember those same words in this sequence:\n",
    "\n",
    "<!--Quote id=-->\n",
    ">Oranges, ham, pears, bread, rice, soya beans, chicken,  pasta, bananas"
   ]
  },
  {
   "cell_type": "markdown",
   "metadata": {},
   "source": [
    "The reason for that is that while the second list is in a totally arbitrary order, in the first one the items are grouped into categories that you are already familiar with (fruit, protein, carbs). So when you are learning lists of vocabulary in a foreign language, don’t just learn words in a random order, but put them into meaningful categories and that will help encode them into your long-term memory. You can do this, for instance, in a table or in a mind-map."
   ]
  },
  {
   "cell_type": "markdown",
   "metadata": {},
   "source": [
    "![This is a table. In the first column, headed fruit, are oranges, bananas and pears. Under protein are chicken, ham and soya beans. Under carbohydrates are rice, pasta and bread.](../images/language_boc_w6_f03.tif.jpg)"
   ]
  },
  {
   "cell_type": "markdown",
   "metadata": {},
   "source": [
    "__Figure 2__ A way to categorise items.\n"
   ]
  },
  {
   "cell_type": "markdown",
   "metadata": {},
   "source": [
    "![This is a mindmap. In a circle is the word fruit, and there are arrows going out to the words pears, bananas, oranges. For protein there are arrows out to the words chicken, ham and soya beans. For carbohydrates there are arrows going out to rice, pasta and bread.](../images/language_boc_w6_f02.tif.jpg)"
   ]
  },
  {
   "cell_type": "markdown",
   "metadata": {},
   "source": [
    "__Figure 3__ Another way to categorise items.\n"
   ]
  },
  {
   "cell_type": "markdown",
   "metadata": {},
   "source": [
    "## 6.2 Mnemonics"
   ]
  },
  {
   "cell_type": "markdown",
   "metadata": {},
   "source": [
    "A second important encoding strategy is mnemonics. You probably learned some mnemonics at school. For instance, to learn the colours of the rainbow, you can remember the sentence: Richard Of York Gave Battle In Vain (red, orange, yellow, green, blue, indigo and violet), or to remember the order of the planets in our solar system, you can use the mnemonic: My Very Easy Method Just Speeds Up Naming Planets (the first one, closest to the Sun, is Mercury).\n",
    "\n",
    "Although most people associate mnemonics with this sort of examples, mnemonics are indeed any sort of memory technique that helps retain information.\n",
    "\n",
    "One useful mnemonic device is the use of __imagery__, and this can be very useful when learning new vocabulary.\n",
    "\n",
    "Vocabulary cards or ‘flashcards’ are a useful way to learn vocabulary. They are cards that have the word you want to learn on one side and, usually, the translation of the word on the other. There are also flashcard apps you can use online, and you’ll review these in Week 8."
   ]
  },
  {
   "cell_type": "markdown",
   "metadata": {},
   "source": [
    "![There is an image of a strawberry with the text ‘I love strawberry jam. Strawberries and cream’.](../images/language_boc_w6_f04b.tif.jpg)"
   ]
  },
  {
   "cell_type": "markdown",
   "metadata": {},
   "source": [
    "__Figure 4__ A flashcard.\n"
   ]
  },
  {
   "cell_type": "markdown",
   "metadata": {},
   "source": [
    "![There is an image of a strawberry with the text ‘Una fresa. He gusta mucho la memelada de fresa. Fresas con nata’.](../images/lll_wk6_fig005.tif.jpg)"
   ]
  },
  {
   "cell_type": "markdown",
   "metadata": {},
   "source": [
    "__Figure 5__ The reverse of the flashcard."
   ]
  },
  {
   "cell_type": "markdown",
   "metadata": {},
   "source": [
    "Instead of having the word you want to learn on one side and the translation on the other, you can use vocabulary cards that have the word you want to learn on one side, and a picture on the other. And although you can find lots of these already made, it seems that if you actually spend a bit of time and make them yourself, with images that are either meaningful to you, or that you look for yourself, you are more likely to remember them (Wyner, 2014).\n",
    "\n",
    "So here, for instance, is a card I made to learn the verb können (can) in German.\n",
    "\n",
    "The front of the card show a sentence with a gap (Laura …. play the piano) in it and a picture, and the back contains the whole sentence, and the infinitive of the verb. What makes this card particularly meaningful to me is that Laura is my daughter, and that the piano in the picture is Laura’s piano. All this helps to encode the German into my long-term memory, because the new information can latch onto lots of other meaningful items that are in my memory already."
   ]
  },
  {
   "cell_type": "markdown",
   "metadata": {},
   "source": [
    "![This flashcard contains the text Laura ___ Klavier spielen.](../images/language_boc_w6_f05.tif.jpg)"
   ]
  },
  {
   "cell_type": "markdown",
   "metadata": {},
   "source": [
    "__Figure 6__ A flashcard.\n"
   ]
  },
  {
   "cell_type": "markdown",
   "metadata": {},
   "source": [
    "![This flashcard contains the text Laura kann Klavier spielen können.](../images/language_boc_w6_f06.tif.jpg)"
   ]
  },
  {
   "cell_type": "markdown",
   "metadata": {},
   "source": [
    "__Figure 7__ A flashcard."
   ]
  },
  {
   "cell_type": "markdown",
   "metadata": {},
   "source": [
    "You don’t have to create actual images in flashcards to link to words in order to remember them; you can also make visual or auditory associations in your mind. For instance, polyglot Benny Lewis gives the example of the word ‘Leute’ in German, which means people. I used to find this a very difficult word to remember, as it bears no resemblance to the English word or to the word for people in any of the other languages I speak. What Benny Lewis suggests is imagining a bunch of PEOPLE LOITERING (Lewis, 2016, p. 29) – once you have that image in your head, it is difficult to forget the word.\n",
    "\n",
    "With a bit of practice and imagination, you can make up these links between words yourself – and they only have to be meaningful to you. For instance, the German word ‘einladen’ means ‘to invite’. To my mind it sounds a lot like the Spanish word ‘helado’, ice-cream, and so the first time I heard ‘einladen’ I immediately thought of the image on one of my German friends inviting me for an ice-cream (‘einladen’ me for an ‘helado’, so to speak), and the new verb was immediately, and indelibly imprinted in my mind."
   ]
  },
  {
   "cell_type": "markdown",
   "metadata": {},
   "source": [
    "## 6.3 Memory palaces"
   ]
  },
  {
   "cell_type": "markdown",
   "metadata": {},
   "source": [
    "Another way in which you can use mnemonics is through the technique known as __‘the method of loci’__ (from the Latin locus, place) also known as __the memory palace__\n",
    "<!--MEDIACONTENT--><!--TRANSCRIPT--><table xmlns:str=\"http://exslt.org/strings\" border=\"1\"><tr><td>\n",
    "__TITA BEAVEN:__ *Imagine a place you know well, such as your house, your office, or your street. Now walk around that place in your mind, and select ten specific spots in that place in the sequential order you would see them if you walked around it. For instance, in my house, the first room is the sitting room, where there is a sofa, the fireplace and the piano. Then there is the corridor, and a small toilet on the left. Then there is the kitchen, where I can see the dining table, the fridge, the sink and then the hob, etc.*;\n",
    "*Now if you make a map of that place and identify those specific points in your map, you can use them to remember things. So for instance, here’s a random list of elements:*;\n",
    "*mouse*;\n",
    "*bottle of white wine*;\n",
    "*strawberry*;\n",
    "*birdcage*;\n",
    "*stool*;\n",
    "*biro*;\n",
    "*shampoo*;\n",
    "*lorry*;\n",
    "*The way you would remember those words, in that specific order, is to place each them at a station of your memory palace, and to do so in such a way that each one represents a memorable image:*;\n",
    "*So, using my memory palace of my house, I would imagine a mouse sitting on the sofa, reading the Sunday papers, then a bottle of white wine inside the fireplace, with a label on it saying ‘drink me’ and then a giant strawberry sitting at the piano playing the tune of Strawberry fields forever. As I go down the corridor, I can imagine seeing a giant birdcage and having to squeeze through the bars of the birdcage in order to get to the kitchen, where the kitchen table has been replaced by a stool, and we are sitting around it trying to make room for our tea on the tiny surface of the stool…. You get the idea…*;\n",
    "</td></tr></table><!--ENDTRANSCRIPT--><!--ENDMEDIACONTENT-->\n",
    "It is important that you remember the stations in your memory palace, and it helps to draw them. Here’s a map of the memory palace I used for this activity, with eight stations:"
   ]
  },
  {
   "cell_type": "markdown",
   "metadata": {},
   "source": [
    "![This is a drawing of a layout of a room.](../images/language_boc_w6_f07.tif.jpg)"
   ]
  },
  {
   "cell_type": "markdown",
   "metadata": {},
   "source": [
    "__Figure 8__ A memory palace."
   ]
  },
  {
   "cell_type": "markdown",
   "metadata": {},
   "source": [
    "This technique of the memory palace can be really useful to learn words in a foreign language too. You can rely on how the word sounds, what it reminds you of, etc, to make it memorable. Now you can put it into practice.\n",
    "<!--MEDIACONTENT--><!--TRANSCRIPT--><table xmlns:str=\"http://exslt.org/strings\" border=\"1\"><tr><td>\n",
    "__TITA BEAVEN:__ * Rather than using a language that you might already know, let’s try using a memory palace to learn some vocabulary from an invented language. The language is Toki Pona (or the language of good), a language invented by Canadian translator and linguist Sonja Lang.*;\n",
    "*Here are three Toki Pona words.*;\n",
    "*Meli: woman*;\n",
    "*Ike: bad, negative, irrelevant*;\n",
    "*Kala : fish, sea creature*;\n",
    "*So the first word, Meli, means woman. I can imagine __Meli__sandre, the Red __Woman__ from the TV series Game of Thrones sitting on my sofa: meli = woman. Then, as I walk to the next station, the fireplace, I can imagine trying to build a fire with a lot of Ikea catalogues – as the stove fills with smoke, I realise this is a really bad idea (Ike = bad). Sitting at the piano is an enormous squid (__Cala__mari) playing the piano with its eight arms: Kala = sea creature…. and so on.*;\n",
    "</td></tr></table><!--ENDTRANSCRIPT--><!--ENDMEDIACONTENT-->\n",
    "\n",
    "### Activity 4 Creating a memory palace \n",
    "__Timing: Allow about 10 minutes__"
   ]
  },
  {
   "cell_type": "markdown",
   "metadata": {},
   "source": [
    "#### Question\n",
    "\n",
    "So now it’s your turn. First, create a memory palace around a place you know well, such as your home, and select ten ‘stations’ in your palace in the order in which you would encounter them if you were walking around it. It is useful to draw it, and number the stations, like I did.\n",
    "\n",
    "Now, place one of the following Toki Pona words in each station, making memorable associations between the word and what it sounds like, or anything else that will help you remember it.\n",
    "\n",
    "Jaki: disgusting, obscene\n",
    "\n",
    "Insa: centre, content, inside\n",
    "\n",
    "Kasi: plant\n",
    "\n",
    "Lape: sleeping, resting\n",
    "\n",
    "Kute: listen, hear\n",
    "\n",
    "Noka: foot, leg, lower part\n",
    "\n",
    "Linja, cord, hair, rope, thread\n",
    "\n",
    "Poki: container, bag, bowl, box\n",
    "\n",
    "Kili: fruit, vegetable\n",
    "\n",
    "Nanpa: numbers"
   ]
  },
  {
   "cell_type": "markdown",
   "metadata": {},
   "source": [
    "#### Discussion\n",
    "\n",
    "I hope that doing this activity has shown you how you can use memory palaces to remember vocabulary. Try walking through your memory palace again tomorrow, and try to remember the Toki Pona words you placed there. And try it again in three days’ time, and again next week – by rehearsing your walk around your memory palace saying the words you have placed there, you are making your memories stronger. \n",
    "\n"
   ]
  },
  {
   "cell_type": "markdown",
   "metadata": {},
   "source": [
    "## 6.4 Self-referencing"
   ]
  },
  {
   "cell_type": "markdown",
   "metadata": {},
   "source": [
    "So far, you have looked at chunking and mnemonics. A third key way to help encode information into your long-term memory is to think about how the information refers to you. So when you are learning new vocabulary, imagine yourself or those close to you in the memorable images and stories you make up to remember them, such as in the example of my daughter Laura playing the piano, or my German friend inviting me for an ice cream."
   ]
  },
  {
   "cell_type": "markdown",
   "metadata": {},
   "source": [
    "## 6.5 Spacing"
   ]
  },
  {
   "cell_type": "markdown",
   "metadata": {},
   "source": [
    "One final very useful encoding strategy is spacing. When you prepare for an exam, do you spend a bit of time every day over several weeks studying for it, or are you a crammer, and leave it all till the last day and binge-study? Well, you might not be surprised to learn that ‘little and often’ is a much more effective encoding strategy than last-minute cramming. So, when you learn any aspect of the language, but especially vocabulary, learn a little every day.\n",
    "\n",
    "Here's how it works! And although the video is aimed at medics rather than language learners, it all transfers to learning vocabulary!\n",
    "<!--MEDIACONTENT--><video xmlns:str=\"http://exslt.org/strings\" width=\"80%\" download=\"\"><source src=\"https://www.open.edu/openlearn/ocw/pluginfile.php/1395607/mod_oucontent/oucontent/71942/lll_1_wk6_vid11.mp4\" type=\"video/mp4\"></source></video>\n",
    "\n",
    "![figure images/lll_1_wk6_vid11_still.jpg](../images/lll_1_wk6_vid11_still.jpg)\n",
    "<!--ENDMEDIACONTENT-->\n",
    "\n",
    "### Activity 5 Evaluating spaced repetition \n",
    "__Timing: Allow about 30 minutes__"
   ]
  },
  {
   "cell_type": "markdown",
   "metadata": {},
   "source": [
    "#### Question\n",
    "\n",
    "So, spaced repetition can help you to learn vocabulary by making you review the words you can’t remember, rather than those that you can. There are lots of Spaced Repetition Software (or SRS) apps and software available. Try two or three to see which one you like best. Remember you might want to refer back to the framework for evaluating resources that Fernando introduced in Week 3. \n",
    "\n",
    "Here are some you can try out: \n",
    "\n",
    "[Anki](https://apps.ankiweb.net/)\n",
    "\n",
    "[Duolingo Tinycards](https://tinycards.duolingo.com/)\n",
    "\n",
    "[Memrise](https://www.memrise.com/) "
   ]
  },
  {
   "cell_type": "markdown",
   "metadata": {},
   "source": [
    "#### Discussion\n",
    "\n",
    "I hope having a look at several flashcard apps has given you an idea of how they work and how spaced repetition can be a useful tool for learning new vocabulary. Over the next few days keep practising with one or two of them to understand their benefits more fully."
   ]
  },
  {
   "cell_type": "markdown",
   "metadata": {},
   "source": [
    "![This is a screenshot of a language app.](../images/lll_1_wk6_fig9.tif.jpg)"
   ]
  },
  {
   "cell_type": "markdown",
   "metadata": {},
   "source": [
    "Figure 5 Using an app to learn a language\n",
    "\n"
   ]
  },
  {
   "cell_type": "markdown",
   "metadata": {},
   "source": [
    "In this section, you have been introduced to a number of effective, effortful encoding strategies that will help you encode vocabulary into your long-term memory. \n",
    "\n",
    "Now watch the following video as a recap of these strategies : [Encoding strategies ](https://www.youtube.com/watch?time_continue=4&amp;v=mlrOJgyPySw)\n"
   ]
  }
 ],
 "metadata": {
  "jupytext": {
   "cell_metadata_filter": "-all",
   "main_language": "python",
   "notebook_metadata_filter": "-all",
   "text_representation": {
    "extension": ".md",
    "format_name": "markdown"
   }
  }
 },
 "nbformat": 4,
 "nbformat_minor": 4
}
