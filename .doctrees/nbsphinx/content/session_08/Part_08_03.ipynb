{
 "cells": [
  {
   "cell_type": "markdown",
   "metadata": {},
   "source": [
    "# 3 This week’s quiz"
   ]
  },
  {
   "cell_type": "markdown",
   "metadata": {},
   "source": [
    "Now it’s time to complete the Week 4 badge quiz. It is similar to previous quizzes, but this time instead of answering five questions there will be fifteen.\n",
    "\n",
    "[Week 8 compulsory badge quiz](https://www.open.edu/openlearn/ocw/mod/quiz/view.php?id=78784)\n",
    "\n",
    "Remember, this quiz counts towards your badge. If you’re not successful the first time, you can attempt the quiz again in 24 hours.\n"
   ]
  }
 ],
 "metadata": {
  "jupytext": {
   "cell_metadata_filter": "-all",
   "main_language": "python",
   "notebook_metadata_filter": "-all",
   "text_representation": {
    "extension": ".md",
    "format_name": "markdown"
   }
  }
 },
 "nbformat": 4,
 "nbformat_minor": 4
}
