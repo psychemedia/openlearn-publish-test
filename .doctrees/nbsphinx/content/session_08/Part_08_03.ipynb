{
 "cells": [
  {
   "cell_type": "markdown",
   "metadata": {},
   "source": [
    "# 2 Creating your community"
   ]
  },
  {
   "cell_type": "markdown",
   "metadata": {},
   "source": [
    "Luckily, we live in the age of the internet. The internet has facilitated the rise of endless groups and communities that can help you become more successful in your language learning.\n",
    "\n",
    "However, it’s not all online. Through its ability to connect people, the internet has made it much easier for language enthusiasts to organise *offline* meetups, in the true spirit of language learning.\n",
    "\n",
    "Wherever you live, whatever hours you work, however you like to interact with people, there are now no excuses not to surround yourself with other who can keep you motivated, answer your questions, and even get speaking practice in the language you’re learning."
   ]
  },
  {
   "cell_type": "markdown",
   "metadata": {},
   "source": [
    "## 2.1 Online communities"
   ]
  },
  {
   "cell_type": "markdown",
   "metadata": {},
   "source": [
    "Online language communities have sprung up in all corners of the internet. There are a number of different places such communities can be found:\n",
    "\n",
    "* __Social networks:__ Wherever people hang out, communities form. Facebook is the world’s largest social network, and there are many Facebook groups for language learners. Reddit is another source of in-depth language information.*__Tip:__ If you are a Facebook user, head to Facebook, and search ‘learn [language]’ in the search bar. Select Groups from the options tab.*\n",
    "\n",
    "* __Forums:__ Forums are less popular than they once were. However, there are still many forums run by private individuals who are passionate about promoting language learning or specific languages. In forums, you will often find many of the most dedicated learners of specific languages, who will be able to answer your most challenging questions and point you in the way of good resources. Popular forums include [UniLang](http://forum.unilang.org/) and [How to learn any language](http://how-to-learn-any-language.com/e/index.html). __*Tip:*__* Do an online search: ‘learn [language] + forum’*.\n",
    "\n",
    "* __Language company forums:__ Many of the larger online language companies have their own communities, which can be a great source of information and support. You may also find additional features, such as the ability for native speakers to correct or comment on things you write. Two of my favourites are [iTalki](https://www.italki.com/) and [Lang-8](http://lang-8.com/)."
   ]
  },
  {
   "cell_type": "markdown",
   "metadata": {},
   "source": [
    "## 2.2 Blogs and podcasts"
   ]
  },
  {
   "cell_type": "markdown",
   "metadata": {},
   "source": [
    "Whatever language you’re learning, whatever question you may have, whatever you happen to be struggling with, you’re not the first.\n",
    "\n",
    "While forums and communities are designed to encourage conversation and interaction, blogs are where people share their own ideas with the world. From novice learners documenting their journey with a new language, to expert language learners sharing their best advice and language material, it’s fair to say you can find literally anything among the world’s language learning blogs.\n",
    "\n",
    "What’s more, because blogs are often very personal places, if you find a particular blogger or personality you resonate with, he or she can become almost like a mentor to you. Podcasts fulfil the same purpose, with audio. If you prefer listening to reading, you may find more fulfilment from a podcast.\n",
    "\n",
    "__Tip:__ There are far too many blogs and podcasts to mention, but a simple online search including the word ‘blog’ or ‘podcast’ and ‘language learning’ or ‘learning language X’ , or a search in the iTunes store for podcasts, will yield literally thousands of results."
   ]
  },
  {
   "cell_type": "markdown",
   "metadata": {},
   "source": [
    "## 2.3 In-person meetups"
   ]
  },
  {
   "cell_type": "markdown",
   "metadata": {},
   "source": [
    "There are events in towns and cities worldwide that bring people together with an interest in languages. Events vary in purpose and nature. Some language events are more cultural, while others exist with the specific purpose of speaking that language.\n",
    "\n",
    "Attending in-person events allows you to connect with people face-to-face. Beyond the obvious benefits of language practice, meeting people with similar interests can be hugely motivating, and can lead to friendships and opportunities that make all the difference in your success with languages.\n",
    "\n",
    "__Tip:__ Meetup.com is the go-to place to find language events near you. However, in my experience, more niche or low-key events are not advertised on Meetup. Searching Facebook or Google for ‘language exchange’ or ‘meetup’, and including a language and location, can uncover hidden gems. For example, try searching: ‘Japanese language meetup London’."
   ]
  },
  {
   "cell_type": "markdown",
   "metadata": {},
   "source": [
    "## 2.4 Language conferences"
   ]
  },
  {
   "cell_type": "markdown",
   "metadata": {},
   "source": [
    "Language conferences are becoming more popular around the world, and are more friendly and accessible than you might think. In addition to more formal, academic conferences, there are many language-related events designed to promote language learning to the general public. Conferences are special because they generate an unbeatable and often long-lasting sense of camaraderie among attendees.\n",
    "\n",
    "Personally speaking, I have met many good friends, and generated endless motivation to learn, from attending various conferences and I can highly recommend the experience.\n",
    "\n",
    "Three examples of include the [Polyglot Conference](http://polyglotconference.com/), the Polyglot Gathering, and the [Montreal Language Festival](http://montreal.langfest.org/).\n",
    "\n",
    "__Tip:__ Try searching for ‘language conference + city + year’ and see what comes up. Be prepared to dig around a little."
   ]
  },
  {
   "cell_type": "markdown",
   "metadata": {},
   "source": [
    "### Activity 1 Identifying what support you need to stay motivated \n",
    "__Timing: Allow about 15 minutes__"
   ]
  },
  {
   "cell_type": "markdown",
   "metadata": {},
   "source": [
    "#### Question\n",
    "\n",
    "Do you feel you have enough support to help you stay motivated in your language learning? Is there anything that’s missing? Try to identify one thing that would help increase your commitment to the language, and explain it below.\n",
    "\n"
   ]
  },
  {
   "cell_type": "markdown",
   "metadata": {},
   "source": [
    "### Activity 2 Search for communities \n",
    "__Timing: Allow about 30 minutes__"
   ]
  },
  {
   "cell_type": "markdown",
   "metadata": {},
   "source": [
    "#### Question\n",
    "\n",
    "Of the online resources listed above, which would be most beneficial right now? Spend up to 30 minutes or so searching for communities online or in your local area that might interest you."
   ]
  },
  {
   "cell_type": "markdown",
   "metadata": {},
   "source": [
    "#### Discussion\n",
    "\n",
    "Your answer will of course depend on your language needs, your interests, and whether you prefer a face-to-face experience or one online. You might find that it is worth trying out several options first before you decide which one is right for you.\n",
    "\n",
    "\n"
   ]
  }
 ],
 "metadata": {
  "jupytext": {
   "cell_metadata_filter": "-all",
   "main_language": "python",
   "notebook_metadata_filter": "-all",
   "text_representation": {
    "extension": ".md",
    "format_name": "markdown"
   }
  }
 },
 "nbformat": 4,
 "nbformat_minor": 4
}
