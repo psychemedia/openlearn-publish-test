{
 "cells": [
  {
   "cell_type": "markdown",
   "metadata": {},
   "source": [
    "# 6 This week’s quiz"
   ]
  },
  {
   "cell_type": "markdown",
   "metadata": {},
   "source": [
    "Congratulations on getting to the end of the course successfully.\n",
    "\n",
    "Now it’s time to complete the Week 8 badged quiz. It is similar to the badged quiz that you took after Week 4, with 15 questions in total.\n",
    "\n",
    "Week 8 compulsory badge quiz\n",
    "\n",
    "Open the quiz in a new tab or window (by holding ctrl [or cmd on a Mac] when you click the link) and come back here when you are done.\n"
   ]
  }
 ],
 "metadata": {
  "jupytext": {
   "cell_metadata_filter": "-all",
   "main_language": "python",
   "notebook_metadata_filter": "-all",
   "text_representation": {
    "extension": ".md",
    "format_name": "markdown"
   }
  }
 },
 "nbformat": 4,
 "nbformat_minor": 4
}
