{
 "cells": [
  {
   "cell_type": "markdown",
   "metadata": {},
   "source": [
    "# 10 This week’s quiz"
   ]
  },
  {
   "cell_type": "markdown",
   "metadata": {},
   "source": [
    "Now it’s time to complete the Week 4 badge quiz. It is similar to previous quizzes, but this time, instead of answering 5 questions, there will be 15.\n",
    "\n",
    "Week 4 compulsory badge quiz\n",
    "\n",
    "Remember, this quiz counts towards your badge. If you’re not successful the first time, you can attempt the quiz again in 24 hours.\n",
    "\n",
    "Open the quiz in a new tab or window (by holding ctrl [or cmd on a Mac] when you click the link) and come back here when you are done.\n"
   ]
  }
 ],
 "metadata": {
  "jupytext": {
   "cell_metadata_filter": "-all",
   "main_language": "python",
   "notebook_metadata_filter": "-all",
   "text_representation": {
    "extension": ".md",
    "format_name": "markdown"
   }
  }
 },
 "nbformat": 4,
 "nbformat_minor": 4
}
