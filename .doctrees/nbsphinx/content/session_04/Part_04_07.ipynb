{
 "cells": [
  {
   "cell_type": "markdown",
   "metadata": {},
   "source": [
    "# 6 Take control"
   ]
  },
  {
   "cell_type": "markdown",
   "metadata": {},
   "source": [
    "One of the worries when you do a conversation exchange and you are a beginner is that you might run out of things to say, that you might not know the words to say what you want to, or that you might not understand what your partner is saying or, even worse, what they are asking you. However, these are all things you can control by taking control of the session.\n",
    "\n",
    "For instance, you can prepare a set of questions on a specific topic, and also prepare your answers to those questions in your target language. During the language exchange, you can ask your partner to ask you the questions you have prepared or, even better, you can take it in turns to ask and answer questions. Here’s an example you can use for your very first language exchange, and you can find more in the link below."
   ]
  },
  {
   "cell_type": "markdown",
   "metadata": {},
   "source": [
    "![On the right is a photograph of two hands shaking. On the left is the following text: Language exchange basics. Session 1: Getting to know each other. Suggested questions: Where do you come from? Where do you live? What’s your town/city like? Are there any tourist attractions nearby? What languages do you speak? Why are you learning (language x)? What do you do? Where do you work? Do you like your job? Why/why not? What do you study? Why do you study that?](../images/language_boc_w4_f03.tif.jpg)"
   ]
  },
  {
   "cell_type": "markdown",
   "metadata": {},
   "source": [
    "__Figure 3__ Language exchange basics."
   ]
  },
  {
   "cell_type": "markdown",
   "metadata": {},
   "source": [
    "For a whole set of suggested questions to get you through your first ten language exchange sessions, have a look at [Language Exchange Basics](https://language-exchange-basics.teachable.com/) (launching soon).\n",
    "\n",
    "One useful technique to deal with language exchanges if you are a beginner is to let your partner ask you one of the questions you have already prepared before the exchange, answer them, and then ask them ‘and you?’ \n",
    "\n",
    "So for instance, if your partner asks where you live, you can answer something simple, like ‘I live in Brighton, and you?’ That way, you will know the sort of thing your partner is going to answer, and it will give you some useful listening practice to find out how a native would answer the same question.\n"
   ]
  }
 ],
 "metadata": {
  "jupytext": {
   "cell_metadata_filter": "-all",
   "main_language": "python",
   "notebook_metadata_filter": "-all",
   "text_representation": {
    "extension": ".md",
    "format_name": "markdown"
   }
  }
 },
 "nbformat": 4,
 "nbformat_minor": 4
}
