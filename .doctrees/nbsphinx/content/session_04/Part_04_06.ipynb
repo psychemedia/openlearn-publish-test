{
 "cells": [
  {
   "cell_type": "markdown",
   "metadata": {},
   "source": [
    "# 5 Learning speaking directly or indirectly?"
   ]
  },
  {
   "cell_type": "markdown",
   "metadata": {},
   "source": [
    "One approach to learning a skill is to learn the skill itself. If you want to learn to speak with proficient or native speakers in a foreign language, go ahead and speak with them. The idea is that if you do that from the start you will get better at it.\n",
    "\n",
    "Another approach, the deliberate-practice method, is to learn a skill such as speaking more indirectly. Even if your final goal is still to learn to speak with a proficient or native speaker, you can break that skill into its constituent parts, and learn those bit by bit. \n",
    "\n",
    "In order to learn to speak spontaneously, like a fluent speaker, you don’t have to start by speaking spontaneously, and be like a fluent speaker. You can develop your fluency and your accuracy by practising different, smaller tasks that develop specific skills. So, rather than trying to launch into a conversation about any topic on day one, when you might not actually have the vocabulary or structures available to do so, you can start by practising the vocabulary, or the grammar point. It is a bit like learning to drive by either launching straight into driving on a road, or starting with practising individual components, such as how to change gear, how to do a turn in the road and how to do a hill start before putting it all together.\n",
    "\n",
    "So for instance, if you wanted to be able to have a conversation about what you did in your last holiday, the ‘deliberate-practice’ method might involve starting by looking up some vocabulary to talk about your holiday and checking the pronunciation of any words you are not sure about with your language exchange partner in one session. Then, before the next session, you could prepare several sentences about your last holiday in order to practice that vocabulary and how to talk about the past, and you could go over those sentences with your language exchange partner, who can correct any mistakes and help you pronounce the sentences confidently. Then, before the third session, you might want to prepare some questions to find out about a recent holiday (Where did you go? How long did you go for? etc.), and see if you can answer your own questions. You could then get your language partner to ask you the questions you’ve prepared, so that you do a sort of prompted dialogue. Then you could then also ask your partner the questions you’ve prepared and listen to their answers, checking that you understand and making a note of any new vocabulary or structures. After you’ve done all these separate bits of practice, in a following language exchange session you might actually be already to have a simple, ‘spontaneous’ conversation with your language exchange partner about your last holiday and also ask them about theirs. As you’ll learn in Week 6, when we look at vocabulary in more detail, you will also find that going over the same vocabulary and structures in several language exchange sessions will help you to get that vocabulary and those structures into your long-term memory.\n",
    "\n",
    "To recap, in the first method, the task you do is the same as your final aim – you launch straight into having a conversation. In the second method, the tasks you do are different from your final aim of having a conversation, but you can think of them as the steps that eventually enable you to get there. In taking those smaller steps, you are getting the practice needed to develop your overall speaking skills, but it is much less daunting and overwhelming. \n",
    "\n",
    "You are probably familiar with the expression ‘practice makes perfect’. Well, research has shown that that is not totally accurate. Practice just makes permanent. In order for your performance to be perfect, you need to actually engage in deliberate, specific and focused practice. If you play a musical instrument or if you play sports, you probably understand what this means well. As a novice piano player, for instance, you can stumble through a piece and make mistakes as you go. Every time you play the piece from beginning to end, you probably make the same mistakes and stumble on the same tricky sections. As my piano teacher used to say, playing something ten times making the same mistake every time is not going to make you play it any better (and it didn’t…). What is going to help is to identify the sections that you find tricky and to concentrate on each one of those sections, practising each one separately until you get them right, and only then putting the whole thing back together again in the performance of the whole piece. When you are practising speaking, it is also useful to focus on specific aspects one at a time, and to get feedback on each of those aspects, so you can improve them. It is useful to do tasks (like the one about holidays discussed earlier) over and over again, focusing on different aspects every time. By doing that, you are in fact ‘overlearning’, or continuing to practice something after you get quite good at it, so that it becomes consolidated into your long-term memory.\n"
   ]
  }
 ],
 "metadata": {
  "jupytext": {
   "cell_metadata_filter": "-all",
   "main_language": "python",
   "notebook_metadata_filter": "-all",
   "text_representation": {
    "extension": ".md",
    "format_name": "markdown"
   }
  }
 },
 "nbformat": 4,
 "nbformat_minor": 4
}
