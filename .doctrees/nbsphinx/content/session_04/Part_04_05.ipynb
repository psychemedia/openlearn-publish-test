{
 "cells": [
  {
   "cell_type": "markdown",
   "metadata": {},
   "source": [
    "# 4 Find a language exchange partner\n"
   ]
  },
  {
   "cell_type": "markdown",
   "metadata": {},
   "source": [
    "![This image shows a number of stick people standing underneath a drawing of the world. The word ‘Hello’ appears alongside ‘Bonjour’, ‘Hola’ and ‘Ciao’.](../images/language_boc_w4_f03_2.tif.jpg)"
   ]
  },
  {
   "cell_type": "markdown",
   "metadata": {},
   "source": [
    "__Figure 2__ Speaking a language."
   ]
  },
  {
   "cell_type": "markdown",
   "metadata": {},
   "source": [
    "One great way to get speaking practice from the start is to get a language exchange partner. \n",
    "\n",
    "A language exchange partner is basically someone who speaks the language you are learning, and who wants to learn the language you speak. In a typical language exchange session, which might last an hour, for instance, you might spend the first half hour speaking in the language you are learning, and the next 30 minutes speaking in the language you partner is learning. Language exchanges have two great benefits: one is that both partners have a stake in making the exchange work, and the other one is that they are free. \n",
    "\n",
    "If you live in a large city, you might be able to do a language exchange face-to-face. Check online for ‘conversation exchange in …’ and the name of your city. You can also check out [Meetup](https://www.meetup.com/) to see if there are any conversation groups meeting nearby. Conversation groups are informal get-togethers of language enthusiasts who meet up to practise a language. You might find something like a French and English conversation group, which attracts both learners of French, and French native speakers who want to practise their English. You might find that the group is too advanced or you might feel a bit intimidated if you are a beginner, but it is worth a try, as you will meet a group of learners who share your interest.\n",
    "\n",
    "I live in a small town myself, so for me a much better alternative is to do language exchanges online. There are a number of platforms where you can find online conversation partners, and typing ‘language exchange platform’ on a search engine should bring up several possibilities. Notice that some platforms, such as italki.com, also offer lessons with teachers, so if you want to do a free exchange rather than a paid-for class, make sure you look for the [‘partners’ section](https://www.italki.com/partners) of the website."
   ]
  },
  {
   "cell_type": "markdown",
   "metadata": {},
   "source": [
    "### Activity 2 Find a language exchange partner or conversation group \n",
    "__Timing: Allow about 30 minutes__"
   ]
  },
  {
   "cell_type": "markdown",
   "metadata": {},
   "source": [
    "#### Question\n",
    "\n",
    "Go online and look for a language exchange platform or a meetup in your town. If you find one you like, sign up now.\n"
   ]
  },
  {
   "cell_type": "markdown",
   "metadata": {},
   "source": [
    "Once you’ve found a platform you like and you’ve signed up for it, make sure you complete your profile with a bit of information about yourself, so that potential language exchange partners know what you are looking for. Adding a photo of yourself also helps. Similarly, look for partners that you think you might get on with – check out their hobbies or interests, as if you have something in common you are more likely to get on and be able to chat about things that interest both of you.\n",
    "\n",
    "A good strategy if you are a beginner is to find a speaking partner who has a higher level in the language they want to practice with you. For instance, I practise my very basic German with a partner who speaks fairly good English. That way, for half of the session, we can have interesting, grown-up conversations and we have, over several months, become good friends. Because we can have interesting, fun, meaningful conversations in one of the languages, English, and we have formed a good relationship through English, we can both sit still for the much more basic and stilted conversations we have in German. If we were both beginners in our respective languages, I am fairly sure the exchange would by now have fizzled out. \n",
    "\n",
    "Once you have found a language exchange partner, arrange a time to meet online, using a service that enables you to do free calls, such as Skype. It is worth exchanging a couple of messages with your partner before you meet for your first exchange, and make sure you both agree how the session is going to work. It is also useful to agree the number of sessions you want to start with – say half a dozen – and at the end of that period, review if you want to carry on for another set period. "
   ]
  },
  {
   "cell_type": "markdown",
   "metadata": {},
   "source": [
    "### Laura says:\n",
    "\n",
    "My first experience with an online exchange partner did not go very well. We only exchanged a brief note about what time to meet and our Skype usernames. When we started, it was immediately apparent that my partner only wanted to speak English, and was not too interested in helping me learn Spanish. It did take me a few attempts to find ‘the right fit’, but exchanging a few e-mails beforehand and outlining what exactly we both wanted to get out of each session meant that my online language sessions became something I actually looked forward to each week. I would also recommend setting a time limit of 20–30 minutes each, so that the whole session isn’t taken up with one language.\n",
    "\n",
    "\n"
   ]
  }
 ],
 "metadata": {
  "jupytext": {
   "cell_metadata_filter": "-all",
   "main_language": "python",
   "notebook_metadata_filter": "-all",
   "text_representation": {
    "extension": ".md",
    "format_name": "markdown"
   }
  }
 },
 "nbformat": 4,
 "nbformat_minor": 4
}
