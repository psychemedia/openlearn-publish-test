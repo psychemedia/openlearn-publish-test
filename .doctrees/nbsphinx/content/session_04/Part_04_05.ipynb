{
 "cells": [
  {
   "cell_type": "markdown",
   "metadata": {},
   "source": [
    "# 4.1 Week 4 glossary"
   ]
  },
  {
   "cell_type": "markdown",
   "metadata": {},
   "source": [
    "Here is an alphabetical list of the terms introduced this week, for quick look-up."
   ]
  },
  {
   "cell_type": "markdown",
   "metadata": {},
   "source": [
    "---\n"
   ]
  },
  {
   "cell_type": "markdown",
   "metadata": {},
   "source": [
    "### Programming and data analysis concepts\n",
    "\n",
    "The __bitwise operators__``&amp;`` (and) and ``|`` (or) are used in pandas to build more complicated expressions from two comparison expressions (typically involving column comparisons).\n",
    "\n",
    "A __Boolean__ has one of two possible values: ``True`` or ``False``.\n",
    "\n",
    "A __Comma Separated Values (CSV)__ file is a plain text file that is used to hold tabular data.\n",
    "\n",
    "A __list__ is a sequence of values, separated by commas, and written within square brackets.\n",
    "\n",
    "There are six __comparison operators__ that can be used to compare number, string and date values. Expressions composed of these operators evaluate to ``True`` or ``False``. These operators can also be used to compare every value in a column, row by row, against some number, string or date value. When used in this manner the operators return a series of Boolean values.\n",
    "\n",
    "The __‘dot’ notation__ is used to access a dataframe’s methods and attributes.\n",
    "\n",
    "The ``Series`` data type is a collection of values with an integer index that starts from zero. Each column in a dataframe is an example of the ``Series`` data type. The ``Series`` data type has many of the same methods as the ``DataFrame`` data type.\n",
    "\n",
    "The ``object`` data type is how pandas represents strings.\n",
    "\n",
    "The ``datetime64`` data type is how pandas represents dates.\n",
    "\n",
    "The ``int64`` data type is how pandas represents integers (whole numbers).\n",
    "\n",
    "The ``float64`` data type is how pandas represents floating point numbers (decimals)."
   ]
  },
  {
   "cell_type": "markdown",
   "metadata": {},
   "source": [
    "---\n"
   ]
  },
  {
   "cell_type": "markdown",
   "metadata": {},
   "source": [
    "---\n"
   ]
  },
  {
   "cell_type": "markdown",
   "metadata": {},
   "source": [
    "### Functions and methods\n",
    "\n",
    "``asType(aType)`` when applied to a dataframe column, the method changes the data type of each value in that column to the type given by the string ``aType``.\n",
    "\n",
    "``datetime(yyyy, mm, dd)`` the function takes three arguments, ``yyyy`` a four digit integer representing a year, ``mm`` a two digit integer representing a month and ``dd`` a two digit integer representing a day. From these arguments the function creates and returns a value of ``datetime64``.\n",
    "\n",
    "``dropna()`` when applied to a dataframe returns a new dataframe without the rows that have at least one missing value.\n",
    "\n",
    "``head()`` gets and displays the first five rows of a dataframe. Optionally the method can take an integer argument to specify how many rows (from and including row 0) to get and display.\n",
    "\n",
    "``iloc[index]`` gets and displays the row in the dataframe indicated by the integer argument ``index``.\n",
    "\n",
    "``isnull()`` is a series method that checks which rows in that series have a missing value.\n",
    "\n",
    "``fillna(value)`` is a series method that returns a new series in which all missing values have been filled with the given value.\n",
    "\n",
    "``plot()`` when applied to a dataframe column of numeric values, the method displays a graph of those values. The x-axis shows the dataframe’s index and the y-axis the range of the column’s values. Before the method is called you first need to execute ``%matplotlib inline``.\n",
    "\n",
    "``read_csv(csvFile)`` creates a dataframe from the dataset in the CSV file.\n",
    "\n",
    "``rename(columns={oldName : newName})`` renames the column ``oldName`` to ``newName``.\n",
    "\n",
    "``str.rstrip(suffix)`` when applied to a dataframe column of string values, the method removes the argument ``suffix`` from the end of each string value in the column.\n",
    "\n",
    "``tail()`` gets and displays the last five rows of a dataframe. Optionally the method can take an integer argument to specify how many rows (until and including the last row) to get and display.\n",
    "\n",
    "``to_datetime(aSeries)`` when applied to a series, typically a column from a dataframe, this function returns a new series in which each value in ``aSeries`` has been changed to type ``datetime64``."
   ]
  },
  {
   "cell_type": "markdown",
   "metadata": {},
   "source": [
    "---\n",
    "\n"
   ]
  }
 ],
 "metadata": {
  "jupytext": {
   "cell_metadata_filter": "-all",
   "main_language": "python",
   "notebook_metadata_filter": "-all",
   "text_representation": {
    "extension": ".md",
    "format_name": "markdown"
   }
  }
 },
 "nbformat": 4,
 "nbformat_minor": 4
}
