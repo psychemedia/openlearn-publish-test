{
 "cells": [
  {
   "cell_type": "markdown",
   "metadata": {},
   "source": [
    "# 8 Summary of Week 3"
   ]
  },
  {
   "cell_type": "markdown",
   "metadata": {},
   "source": [
    "Now that you have a framework to evaluate resources, we will turn to looking at the different language skills. \n",
    "\n",
    "You should now be able to:\n",
    "\n",
    "* find resources for learning languages\n",
    "\n",
    "* understand the different sorts of resources that you can use\n",
    "\n",
    "* choose and evaluate resources for language learning.\n",
    "\n",
    "Next week, Tita will guide you through ways to improve your speaking\n",
    "\n",
    "You can now go to Week 4.\n"
   ]
  }
 ],
 "metadata": {
  "jupytext": {
   "cell_metadata_filter": "-all",
   "main_language": "python",
   "notebook_metadata_filter": "-all",
   "text_representation": {
    "extension": ".md",
    "format_name": "markdown"
   }
  }
 },
 "nbformat": 4,
 "nbformat_minor": 4
}
