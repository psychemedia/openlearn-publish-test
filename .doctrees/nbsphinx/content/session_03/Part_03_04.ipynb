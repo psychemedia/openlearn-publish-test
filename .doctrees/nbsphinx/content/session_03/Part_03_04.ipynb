{
 "cells": [
  {
   "cell_type": "markdown",
   "metadata": {},
   "source": [
    "# 3 Are language-learning resources free?"
   ]
  },
  {
   "cell_type": "markdown",
   "metadata": {},
   "source": [
    "Many of the online resources primarily designed for native speakers are offered for free, including radio programmes, news channels and many newspapers. Physical resources (books, DVDs and so on) are mostly not free, and users need to pay to purchase or rent them. Similarly, many providers of language learning materials offer an amount of free materials. Some offer everything for free and others just a sample before users are asked for a payment or subscription. Some people think that all online resources should be free, and many download or access copyrighted material illegally. We encourage you not to do this. The authors and developers of these materials have worked hard to produce them, and it may be their only source of income.\n"
   ]
  }
 ],
 "metadata": {
  "jupytext": {
   "cell_metadata_filter": "-all",
   "main_language": "python",
   "notebook_metadata_filter": "-all",
   "text_representation": {
    "extension": ".md",
    "format_name": "markdown"
   }
  }
 },
 "nbformat": 4,
 "nbformat_minor": 4
}
