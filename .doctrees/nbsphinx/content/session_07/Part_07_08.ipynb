{
 "cells": [
  {
   "cell_type": "markdown",
   "metadata": {},
   "source": [
    "# 7 Summary of Week 7"
   ]
  },
  {
   "cell_type": "markdown",
   "metadata": {},
   "source": [
    "You will find that surrounding yourself with the language you are learning, whether it is listening or reading it, will help you enormously. Some sites and apps like the ones we’ve just looked at offer the support of a community of learners that can support you with writing and with speaking. \n",
    "\n",
    "You should now be able to:\n",
    "\n",
    "* understand how to develop your reading and writing\n",
    "\n",
    "* understand the difference between skimming and scanning\n",
    "\n",
    "* find out ways to check your writing.\n",
    "\n",
    "Next week, Olly and I will wrap up the course by showing you how to create a virtual immersion for your language learning. \n",
    "\n",
    "You can now go to Week 8.\n"
   ]
  }
 ],
 "metadata": {
  "jupytext": {
   "cell_metadata_filter": "-all",
   "main_language": "python",
   "notebook_metadata_filter": "-all",
   "text_representation": {
    "extension": ".md",
    "format_name": "markdown"
   }
  }
 },
 "nbformat": 4,
 "nbformat_minor": 4
}
