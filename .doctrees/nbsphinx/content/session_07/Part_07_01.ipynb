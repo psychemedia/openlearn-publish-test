{
 "cells": [
  {
   "cell_type": "markdown",
   "metadata": {},
   "source": [
    "# Introduction"
   ]
  },
  {
   "cell_type": "markdown",
   "metadata": {},
   "source": [
    "This week of the course is written by Fernando Rosell-Aguilar.\n",
    "\n",
    "As well as speaking and listening, the two other skills in language learning are reading and writing.\n",
    "\n",
    "By the end of this week, you will be able to:\n",
    "\n",
    "* understand how to develop your reading and writing\n",
    "\n",
    "* understand the difference between skimming and scanning\n",
    "\n",
    "* find out ways to check your writing.\n"
   ]
  }
 ],
 "metadata": {
  "jupytext": {
   "cell_metadata_filter": "-all",
   "main_language": "python",
   "notebook_metadata_filter": "-all",
   "text_representation": {
    "extension": ".md",
    "format_name": "markdown"
   }
  }
 },
 "nbformat": 4,
 "nbformat_minor": 4
}
