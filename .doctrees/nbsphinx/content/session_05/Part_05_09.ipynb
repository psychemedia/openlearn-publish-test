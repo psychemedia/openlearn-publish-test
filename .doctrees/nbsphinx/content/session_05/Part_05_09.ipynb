{
 "cells": [
  {
   "cell_type": "markdown",
   "metadata": {},
   "source": [
    "# 8 Resources: listening materials, and where to find them"
   ]
  },
  {
   "cell_type": "markdown",
   "metadata": {},
   "source": [
    "You will now think about the listening resources you could use and how to find them."
   ]
  },
  {
   "cell_type": "markdown",
   "metadata": {},
   "source": [
    "### Activity 11 Doing your own research\n",
    "__Timing: Allow about 30 minutes__"
   ]
  },
  {
   "cell_type": "markdown",
   "metadata": {},
   "source": [
    "#### Question\n",
    "\n",
    "Go online and search for listening resources in your target language. You might want to specify your level in the search terms you use, so search for instance for ‘Spanish listening practice for beginners’ or ‘German listening exercises B1’.\n",
    "\n",
    "You will need to evaluate the resources you find, so don’t forget about the framework that Fernando introduced you to in Week 3.\n",
    "\n",
    "For listening resources, you might want to focus on the following criteria:\n",
    "\n",
    "* Listening: does the resource provide audio in the target language?\n",
    "\n",
    "* Pronunciation and intonation: does the resource offer specific activities for pronunciation and intonation?\n",
    "\n",
    "* Language varieties: does the resource include different regional or national varieties of the language? "
   ]
  },
  {
   "cell_type": "markdown",
   "metadata": {},
   "source": [
    "#### Discussion\n",
    "\n",
    "Obviously it is difficult to provide feedback for this activity as every learner will look for something different, depending on their needs. It is important that you are critical about what you find, and decide if it is right for you, and the criteria we have provided can help you. \n",
    "\n",
    "\n"
   ]
  }
 ],
 "metadata": {
  "jupytext": {
   "cell_metadata_filter": "-all",
   "main_language": "python",
   "notebook_metadata_filter": "-all",
   "text_representation": {
    "extension": ".md",
    "format_name": "markdown"
   }
  }
 },
 "nbformat": 4,
 "nbformat_minor": 4
}
