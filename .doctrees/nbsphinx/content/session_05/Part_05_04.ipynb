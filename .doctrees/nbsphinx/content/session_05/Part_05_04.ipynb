{
 "cells": [
  {
   "cell_type": "markdown",
   "metadata": {},
   "source": [
    "# 3 Summary"
   ]
  },
  {
   "cell_type": "markdown",
   "metadata": {},
   "source": [
    "This week you learned how to transform currency values and combine GDP and life expectancy data by:\n",
    "\n",
    "* creating the data\n",
    "\n",
    "* defining the functions of data conversion\n",
    "\n",
    "* applying the functions of data conversion.\n",
    "\n",
    "Next week you will learn more about combining, merging and transforming tables.\n"
   ]
  }
 ],
 "metadata": {
  "jupytext": {
   "cell_metadata_filter": "-all",
   "main_language": "python",
   "notebook_metadata_filter": "-all",
   "text_representation": {
    "extension": ".md",
    "format_name": "markdown"
   }
  }
 },
 "nbformat": 4,
 "nbformat_minor": 4
}
