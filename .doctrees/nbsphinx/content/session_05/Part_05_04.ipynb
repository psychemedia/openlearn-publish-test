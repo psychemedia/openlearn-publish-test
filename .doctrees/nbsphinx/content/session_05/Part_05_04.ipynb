{
 "cells": [
  {
   "cell_type": "markdown",
   "metadata": {},
   "source": [
    "# 3 Setting expectations\n"
   ]
  },
  {
   "cell_type": "markdown",
   "metadata": {},
   "source": [
    "![This is an image of two students at computers with headphones on.](../images/language_boc_w5_f01.tif.jpg)"
   ]
  },
  {
   "cell_type": "markdown",
   "metadata": {},
   "source": [
    "__Figure 1__ A listening exercise in a classroom"
   ]
  },
  {
   "cell_type": "markdown",
   "metadata": {},
   "source": [
    "If you learned a language at school or have studied in a language school, you might remember what it’s like when the teacher plays a recording in class and you have to answer questions about what you hear.\n",
    "\n",
    "For many people, this kind of classroom listening activity is the only experience of listening to a foreign language they’ve had. It might seem quite unforgiving. You’re used to being put on the spot, and either getting the answers right or wrong.\n",
    "\n",
    "But, of course, real language doesn’t occur in the classroom. On the one hand, you rarely have the benefits of a silent classroom and the ability to play the recording multiple times. On the other hand, you’re rarely given a test immediately after listening.\n",
    "\n",
    "This is good news because, as you’ll see, you already have plenty of training of listening in difficult conditions in your mother tongue."
   ]
  },
  {
   "cell_type": "markdown",
   "metadata": {},
   "source": [
    "### Activity 3 Typical listening situations \n",
    "__Timing: Allow about 15 minutes__"
   ]
  },
  {
   "cell_type": "markdown",
   "metadata": {},
   "source": [
    "#### Question\n",
    "\n",
    "Listen to the following recording of a typical listening situation you might encounter in English. "
   ]
  },
  {
   "cell_type": "markdown",
   "metadata": {},
   "source": [
    "#### Question\n",
    "<!--MEDIACONTENT--><!--ENDMEDIACONTENT-->\n",
    "Listen to the recording again. What makes it difficult?\n",
    "<!--MEDIACONTENT--><!--ENDMEDIACONTENT-->\n",
    "\n",
    "#### Question\n",
    "\n",
    "In this situation, something is happening that makes it difficult for you to understand.  \n",
    "\n",
    "What percentage of total words do you think you were able to understand?\n",
    "\n",
    "If you are a confident English speaker, did you notice that you were still able to follow along, despite not being able to hear or understand every word?\n",
    "\n",
    "You see, even in your native language, listening conditions are often not ideal. But in spite of that difficulty you can still understand. You do this by focusing on key words or bits of information from the speaker and ignoring the rest.\n",
    "\n",
    "Now think back to a time when you were speaking to someone in your target language or a listening test in school. How did it feel when you started to listen, but didn’t understand a word that was said?"
   ]
  },
  {
   "cell_type": "markdown",
   "metadata": {},
   "source": [
    "#### Discussion\n",
    "\n",
    "In fact, there are plenty of other things that can cause us confusion in our mother tongues too.\n",
    "\n",
    "You’ve seen how you can follow a conversation perfectly well with only a few key words. But, for some reason, when the same thing happens in a foreign language, it sets alarm bells ringing. As we’ll see below, one strategy that helps in these situations is to know how to ask for clarification in your target language. \n",
    "\n",
    "However, panicking over not understanding a word is actually illogical, given that you do this all the time in your mother tongue without a problem."
   ]
  },
  {
   "cell_type": "markdown",
   "metadata": {},
   "source": [
    "![This is a cartoon in five frames. It is set in a supermarket. In the first frame, a figure says ‘Oh, great. The cashier’s a chatter. I’m going to make a fool of myself, and hold up the whole line’. In the second frame, the figure says ‘Oh, great, he’s a mumbler too. Now all hope is gone. This is going to be brutal. Why do I even go into public anymore?’. In the third frame, the figure continues ‘No, calm down. Focus. This is just a supermarket. You’re a champion of French, you’ve had lots of conversations. You can do this. No problem’. In the next frame the shop worker says to the figure ‘Bonjour!’. In the final frame, the figure cries out.](../images/language_boc_w5_f02.tif.jpg)"
   ]
  },
  {
   "cell_type": "markdown",
   "metadata": {},
   "source": [
    "__Figure 2__ Understanding French"
   ]
  },
  {
   "cell_type": "markdown",
   "metadata": {},
   "source": [
    "You may have panicked – many people do. You may have worried so much about what that word meant that you forgot to listen to the rest of the recording. Alternatively, you might have just ‘tuned out’ and given up. \n",
    "\n"
   ]
  },
  {
   "cell_type": "markdown",
   "metadata": {},
   "source": [
    "### Activity 4 Conversations without context \n",
    "__Timing: Allow about 10 minutes__"
   ]
  },
  {
   "cell_type": "markdown",
   "metadata": {},
   "source": [
    "#### Question\n",
    "\n",
    "Imagine you overhear this conversation.\n",
    "<!--MEDIACONTENT--><!--TRANSCRIPT--><table xmlns:str=\"http://exslt.org/strings\" border=\"1\"><tr><td>*Would something like this work:*;\n",
    "*Not, not really. *;\n",
    "*And this one?*;\n",
    "*Not sure*;\n",
    "*Maybe like this? *;\n",
    "*No, higher. Yeah. Let me. What do you reckon?*;\n",
    "*Yes, that works.*;\n",
    "</td></tr></table><!--ENDTRANSCRIPT--><!--ENDMEDIACONTENT-->\n",
    "Now imagine a friend asked you what the conversation you overheard was about. What would you say?\n",
    "\n",
    "You likely wouldn’t know what to say – it made no sense to you, even though you understood every word. "
   ]
  },
  {
   "cell_type": "markdown",
   "metadata": {},
   "source": [
    "#### Discussion"
   ]
  },
  {
   "cell_type": "markdown",
   "metadata": {},
   "source": [
    "![This is a photograph of two people hanging a picture on a wall.](../images/lll_1_wk5_fig4.tif.jpg)"
   ]
  },
  {
   "cell_type": "markdown",
   "metadata": {},
   "source": [
    "__Figure 3__ Hanging a picture on a wall."
   ]
  },
  {
   "cell_type": "markdown",
   "metadata": {},
   "source": [
    "What was lacking first time round was context. Body language and facial expressions also play a large part in communication and helping you to understand. \n",
    "\n",
    "Without context, words have far less (or no) meaning. People may be speaking in your mother tongue and you may understand every word, but you’re still left confused.\n",
    "\n",
    "This might also happen if you:\n",
    "\n",
    "* overhear a conversation on a bus\n",
    "\n",
    "* you get mistaken for somebody else and asked a question that makes no sense to you\n",
    "\n",
    "* turn on the radio in the middle of a discussion.\n",
    "\n",
    "The point here is that listening is not always straightforward. So many things, other than the words themselves, determine whether you actually understand what you hear or not.\n",
    "\n",
    "As such, you must bear this in mind as you listen to your target language.\n",
    "\n",
    "* Can you understand the gist of what’s being said, even though you don’t know some of the words? A mindset shift might be all you need.\n",
    "\n",
    "* Are you fully aware of the context? Don’t be discouraged if you overhear a conversation in the street but don’t understand what’s going on.\n",
    "\n"
   ]
  },
  {
   "cell_type": "markdown",
   "metadata": {},
   "source": [
    "### Activity 5 Listening to technical explanations \n",
    "__Timing: Allow about 5 minutes__"
   ]
  },
  {
   "cell_type": "markdown",
   "metadata": {},
   "source": [
    "#### Question\n",
    "\n",
    "Listen to the following recording from an engineering course about the finite element method. How much of it do you understand?\n",
    "<!--MEDIACONTENT--><!--TRANSCRIPT--><table xmlns:str=\"http://exslt.org/strings\" border=\"1\"><tr><td>\n",
    "__Keith Martin:__ * The engine itself forms a structural member. So it’s the front of the engine which bolts firmly to the tub using six threaded fasteners. No rubber anti-vibration mountings on racing cars. The engine, of course, is hugely stiff, almost a solid lump, in fact. Thus, we can say that the chassis tub connects to an infinitely stiff structure at six mounting points. We say that, under any load condition on the tub, the back end mountings are going nowhere. We assign them a boundary condition restraint of zero displacement in all three directions, x, y, and z. That’s restraining the tub. The load is applied at the front end as equal and opposite moment arms, a couple in other words, acting through the suspension pick up points. The suspension itself is assumed to be very stiff, no spring resilience for this bit of the exercise. So, the chassis tub experiences a pure torsion due to the applied couple.*;\n",
    "</td></tr></table><!--ENDTRANSCRIPT--><!--ENDMEDIACONTENT-->\n",
    "In this case, you might have been able to understand the individual words, but, as they field is very specialised, you will also need to know about the subject in order to make sense about what the extract was about.\n",
    "\n",
    "Of course, native speakers can usually survive in difficult listening situations because their knowledge of the overall language is so good. A major part of this is __vocabulary__. In our earlier example of picking out the keywords to help you understand, you still need to know the keywords themselves and what they mean!\n"
   ]
  },
  {
   "cell_type": "markdown",
   "metadata": {},
   "source": [
    "When you start learning a new language, one of the most important things you have to do is to grow your vocabulary. The faster you learn new words and phrases, and the more you add to your repertoire, the more you will be able to understand in the language. Next week, Tita will show you some techniques for growing your vocabulary, but it’s important to highlight the link with listening skills at this stage.\n",
    "\n",
    "The four skills, together with grammar and vocabulary acquisition, do not exist in isolation. You could spend a year practising advanced listening techniques, but if you don’t know the words you’re listening to, you’ll never understand.\n"
   ]
  }
 ],
 "metadata": {
  "jupytext": {
   "cell_metadata_filter": "-all",
   "main_language": "python",
   "notebook_metadata_filter": "-all",
   "text_representation": {
    "extension": ".md",
    "format_name": "markdown"
   }
  }
 },
 "nbformat": 4,
 "nbformat_minor": 4
}
