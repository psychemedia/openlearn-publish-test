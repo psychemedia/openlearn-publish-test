{
 "cells": [
  {
   "cell_type": "markdown",
   "metadata": {},
   "source": [
    "# 4 Listening: the big picture"
   ]
  },
  {
   "cell_type": "markdown",
   "metadata": {},
   "source": [
    "In this section you’re going to start talking about how to practise listening. When it comes to language learning pedagogy, you can consider there to be two main types of listening:\n",
    "\n",
    "1. extensive listening\n",
    "\n",
    "2. intensive listening.\n",
    "\n",
    "It’s vital to understand the difference between these two types of listening, because it will affect the results you get."
   ]
  },
  {
   "cell_type": "markdown",
   "metadata": {},
   "source": [
    "### Activity 6 Learning about listening \n",
    "__Timing: Allow about 5 minutes__"
   ]
  },
  {
   "cell_type": "markdown",
   "metadata": {},
   "source": [
    "#### Question\n",
    "\n",
    "Match the two types of listening to their definitions.\n",
    "\n",
    "Which do you do in a classroom?\n",
    "\n",
    "extensive listening\n",
    "\n",
    "listening to the general meaning, to understand the gist\n",
    "\n",
    "intensive listening\n",
    "\n",
    "listening for specific information."
   ]
  },
  {
   "cell_type": "markdown",
   "metadata": {},
   "source": [
    "#### Discussion\n",
    "\n",
    "Read the explanation that follows to understand the difference between the two types of listening.\n"
   ]
  },
  {
   "cell_type": "markdown",
   "metadata": {},
   "source": [
    "If you walk into any language classroom around the world, the majority of listening activities you’ll see being done by the teacher are *intensive listening*. Here’s how it works:\n",
    "\n",
    "* the teacher plays a recording\n",
    "\n",
    "* the students listen and answer questions on the detail\n",
    "\n",
    "* they then study to analyse the vocabulary and grammar in the text.\n",
    "\n",
    "This kind of activity can be useful, but here’s the important thing: this kind of activity is designed to improve your *language*, not your *listening*.\n",
    "\n",
    "Although the activity involves listening, the actual amount of time you’re spending listening is minimal. Much more time in the classroom is likely to be spent studying the language you heard through different vocabulary, grammar and comprehension activities later. In that sense, you’re not really practising listening, you’re simply studying language.\n",
    "\n",
    "To improve your listening skills, you need to listen extensively. This means:\n",
    "\n",
    "* you don’t set out to understand everything\n",
    "\n",
    "* you don’t set out to learn every word\n",
    "\n",
    "* you don’t even necessarily analyse the language.\n",
    "\n",
    "Your long-term aim needs to be to spend large amounts of time listening, because that’s the only way you can spend enough time with the language to improve your ability to understand."
   ]
  },
  {
   "cell_type": "markdown",
   "metadata": {},
   "source": [
    "### Laura says:\n",
    "\n",
    "I like having a playlist of podcasts or radio shows that I listen to while driving or at the gym. Even if I don’t understand everything, I get the gist, and that is motivating.\n"
   ]
  },
  {
   "cell_type": "markdown",
   "metadata": {},
   "source": [
    "Why do people who move abroad often learn the language far faster than if they stayed at home?\n",
    "\n",
    "The most basic answer to that question is that they simply get huge amounts of exposure by living in the country. They spend hour after hour listening to native speakers talking, whether in-person, on the street, or on the TV.\n",
    "\n",
    "As a language learner, you need to ask yourself how much time you are actually spending listening to the language. If the only listening you do is in the classroom, as in the example given above, the amount of time you spend listening maybe very small."
   ]
  },
  {
   "cell_type": "markdown",
   "metadata": {},
   "source": [
    "### Activity 7 Reflecting on your listening time \n",
    "__Timing: Allow about 10 minutes__"
   ]
  },
  {
   "cell_type": "markdown",
   "metadata": {},
   "source": [
    "#### Question\n",
    "\n",
    "How much time do you spend every week listening to your target language? Write an estimate in the box below, and a list of listening activities you do."
   ]
  },
  {
   "cell_type": "markdown",
   "metadata": {},
   "source": [
    "#### Discussion\n",
    "\n",
    "What’s more, the skills of speaking and listening are not mutually exclusive. When you listen, you learn. The new vocabulary, grammar or expressions you learn then filter directly through to your speaking.\n",
    "\n",
    "Listening, therefore, is one of the best ways to become a better speaker. For this reason, listening is often considered to be the ultimate skill, and this is why I suggest it is the skill you devote as much time to as any other.\n",
    "\n",
    "As we noted at the start of this week, when you started learning your target language, your dream was probably to ‘speak fluently.’ However, learning to speak fluently, and being able to hold a conversation, is dependent on your listening skills.\n",
    "\n",
    "As an independent learner, you’re in a position to say: ‘Okay, I understand how important listening is, so I’m going to spend __% of my study time listening.’\n",
    "\n",
    "If you take lessons with a teacher, or attend language classes in a school, you will expect to be *taught* during that time. You would question the value for money of the class if you spent large amounts of lesson time simply listening to recordings. ‘We could just do this at home!’ Of course, most people won’t do it at home, and listening can easily be forgotten.\n",
    "\n",
    "As an independent learner, this is the kind of question that can be a big factor in your success. It’s also an advantage to independent learning – you’re in control of your time.\n",
    "\n",
    "\n"
   ]
  }
 ],
 "metadata": {
  "jupytext": {
   "cell_metadata_filter": "-all",
   "main_language": "python",
   "notebook_metadata_filter": "-all",
   "text_representation": {
    "extension": ".md",
    "format_name": "markdown"
   }
  }
 },
 "nbformat": 4,
 "nbformat_minor": 4
}
