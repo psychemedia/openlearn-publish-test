{
 "cells": [
  {
   "cell_type": "markdown",
   "metadata": {},
   "source": [
    "# 7 Live listening skills"
   ]
  },
  {
   "cell_type": "markdown",
   "metadata": {},
   "source": [
    "So far, you’ve been learning about study techniques.\n",
    "\n",
    "But what about when you’re travelling abroad or talking to a native speaker? How can you use your listening skills to survive in the heat of the moment?\n",
    "\n",
    "Luckily, there are some powerful techniques that can help you get through a conversation, or understand a key piece of information, even when you’re still a relative newbie in the language.\n",
    "\n",
    "This will now be demonstrated by taking a typical travel scenario.\n",
    "<!--MEDIACONTENT--><video xmlns:str=\"http://exslt.org/strings\" width=\"80%\" download=\"\"><source src=\"https://www.open.edu/openlearn/ocw/pluginfile.php/1395607/mod_oucontent/oucontent/71942/boc_lll_1_video_week_5_section_7_richards.mp4\" type=\"video/mp4\"></source></video><!--TRANSCRIPT--><table xmlns:str=\"http://exslt.org/strings\" border=\"1\"><tr><td>\n",
    "__OLLY RICHARDS:__ *So far, we've been talking about study techniques. But what about when you're travelling abroad or you're talking to a native speaker of the language that you're learning? How can you use your listening skills to survive in the heat of the moment when everyone is speaking very quickly? Luckily there are some powerful techniques that can help you get through a conversation or understand a key piece of information, even when you are a relative newbie in the language. *;\n",
    "*So let's take a typical travel scenario, such as being a busy train station and needing to find your train. Let's imagine that you're in the Gare du Nord in Paris, a very busy train station, and you're looking for your train which is leaving down to the south of France. Now, you're going to be listening to announcements over the loudspeaker in French. And that can be quite scary if you are not particularly confident in the language and there's lots of noise going on around you. But the way that you approach listening to these announcements has a big effect on how well you do. *;\n",
    "*Now, what's going to happen is if you listen to a long announcement in French, and you want to understand every word that's being said, the chances are that you won't. In fact, if you consider that you might be in an airport or train station in your home country, sometimes you don't understand every word that's said, for that exact reason. It can be noisy. There can be distractions. So what you need to do is decide in advance what information you want, and then listen specifically for that information. This is known as listening for specific information. *;\n",
    "*So if you think about it in that situation, what is it that you need? Well, you need to know the destination. You need to listen for the destination. Is it going to Marseille or is it going to Bruges. Where is the train going to And then you're going to want to know what time it is leaving and you're going to want to know what platform it's leaving from. *;\n",
    "*It doesn't matter how much French is spoken, how long the sentence or the announcement is, if you can understand or hear the destination, the time, and the platform number, then you have everything you need. So the skill here is knowing what information you need in advance, and maybe if you're not confident, you might look up those words for platform, for example, the word for a platform in your dictionary before you get into the train station. And the key is to listen just for that. So when the announcement comes on the loudspeaker and there's lots of French being spoken, fast French, you are just listening for those three key pieces of information. And it doesn't matter if you don't understand any of the rest of it. That will give you everything you need to figure out where your train is leading from, what time it is, and to check that it is actually the right train so that you get on that train and reach your destination. *;\n",
    "*This approach to listening skills makes all the difference. If you approach it by trying to understand every word that's spoken, you are setting yourself up for a difficult experience. On the other hand, if you just listen for the specific information, you're far more likely to get what you need and have success. *;\n",
    "</td></tr></table><!--ENDTRANSCRIPT-->\n",
    "\n",
    "![figure images/boc_lll_1_video_week_5_section_7_richards_still.jpg](../images/boc_lll_1_video_week_5_section_7_richards_still.jpg)\n",
    "<!--ENDMEDIACONTENT-->\n",
    "\n",
    "![This is an illustration of a train in a train station, with the text ‘Understanding just enough will get you far’.](../images/language_boc_w5_f04.tif.jpg)"
   ]
  },
  {
   "cell_type": "markdown",
   "metadata": {},
   "source": [
    "__Figure 4__ Understanding just enough will get you far\n"
   ]
  },
  {
   "cell_type": "markdown",
   "metadata": {},
   "source": [
    "### Activity 10 Asking for clarification in English \n",
    "__Timing: Allow about 5 minutes__"
   ]
  },
  {
   "cell_type": "markdown",
   "metadata": {},
   "source": [
    "#### Question\n",
    "\n",
    "You can use exactly the same principle in conversations – listen for the key information you want. However, in conversations you have the huge advantage of being able to ask for clarification.\n",
    "\n",
    "Asking for clarification is an important speaking skill, and happens all the time even with native speakers:\n",
    "\n",
    "Listen to this typical conversation in English and note all the times clarification is required or asked for."
   ]
  },
  {
   "cell_type": "markdown",
   "metadata": {},
   "source": [
    "<!--MEDIACONTENT--><!--TRANSCRIPT--><table xmlns:str=\"http://exslt.org/strings\" border=\"1\"><tr><td>\n",
    "__A: :__ *So can we just all check our diaries and see if we are ok for the next meeting on weds? *;\n",
    "\n",
    "__B::__ *Sorry, do you mean this Wednesday or next Wednesday*;\n",
    "\n",
    "__A::__ * I mean next week, on the 24th*;\n",
    "\n",
    "__C ::__ * Hang on, the 24th is a Tuesday. Is the meeting on Tuesday, or do you mean Wednesday the 25th?*;\n",
    "\n",
    "__A::__ *Sorry, I meant Wednesday the 25th. Let’s meet at 2.30 shall we, in room 4.3?*;\n",
    "\n",
    "__B::__ * Sorry, can you say that again?*;\n",
    "\n",
    "__A::__ *Wednesday at 2.30*;\n",
    "\n",
    "__B::__ *No, I meant, did you say room 3.4 or 4.3? *;\n",
    "\n",
    "__A::__ *4.3 *;\n",
    "\n",
    "__C::__ * Ok, let me just check this: next weds at 2.30 in room 4.3, right?*;\n",
    "\n",
    "__A::__ *Yes, that’s right.*;\n",
    "</td></tr></table><!--ENDTRANSCRIPT--><!--ENDMEDIACONTENT-->"
   ]
  },
  {
   "cell_type": "markdown",
   "metadata": {},
   "source": [
    "One of the most valuable things you can do is to learn three phrases to ask for clarification in your target language. So, if you are currently learning a language, find out three expressions or set phrases for asking for clarification, check their pronunciation, learn them and use them several times a day over the next week – even if you are just talking to yourself! \n",
    "<!--MEDIACONTENT--><video xmlns:str=\"http://exslt.org/strings\" width=\"80%\" download=\"\"><source src=\"https://www.open.edu/openlearn/ocw/pluginfile.php/1395607/mod_oucontent/oucontent/71942/boc_lll_1_video_week5_voxpops.mp4\" type=\"video/mp4\"></source></video><!--TRANSCRIPT--><table xmlns:str=\"http://exslt.org/strings\" border=\"1\"><tr><td>\n",
    "__LEARNER 1:__ *So when I'm listening to Italian, some of the time, I'm amazed at how much I understand when I still speak relatively little. So that's really reassuring. But the other part of it is, they just speak so quickly. And I really need people to slow down so that I can actually process all of those sounds that they're making. *;\n",
    "\n",
    "__LEARNER 2:__ *Listening to Spanish spoken on TV or on the radio I find less intimidating because I'm receiving that passively. But if I'm in a conversation with somebody, I do worry about finding the right words to-- or, more importantly, making sure I've understood what they're saying to me and often possibly agree to things or possibly give the wrong answer. Nowadays, I don't worry about that too much. But when I was studying Spanish, I worried a lot about getting things right. And I think if I look back now, I should have just relaxed. *;\n",
    "</td></tr></table><!--ENDTRANSCRIPT-->\n",
    "\n",
    "![figure images/boc_lll_1_video_week5_voxpops_still.jpg](../images/boc_lll_1_video_week5_voxpops_still.jpg)\n",
    "<!--ENDMEDIACONTENT-->"
   ]
  }
 ],
 "metadata": {
  "jupytext": {
   "cell_metadata_filter": "-all",
   "main_language": "python",
   "notebook_metadata_filter": "-all",
   "text_representation": {
    "extension": ".md",
    "format_name": "markdown"
   }
  }
 },
 "nbformat": 4,
 "nbformat_minor": 4
}
