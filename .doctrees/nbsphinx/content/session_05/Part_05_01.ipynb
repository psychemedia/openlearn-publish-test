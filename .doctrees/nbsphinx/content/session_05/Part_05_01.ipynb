{
 "cells": [
  {
   "cell_type": "markdown",
   "metadata": {},
   "source": [
    "# Introduction"
   ]
  },
  {
   "cell_type": "markdown",
   "metadata": {},
   "source": [
    "This week of the course is written by Olly Richards.\n",
    "\n",
    "Last week, you looked at the first of the four language skills, speaking. When asked why they are learning a language, most people say ‘because I want to speak it’. Although speaking is an important skill, for me listening is the key skill, and this week I will show you why, and guide you through core study skills to develop your listening.\n",
    "\n",
    "By the end of this week, you will be able to:\n",
    "\n",
    "* understand what is involved in listening\n",
    "\n",
    "* find out about the difference between intensive and extensive listening\n",
    "\n",
    "* understand the different types of authentic and graded audio, and look for audio resources for yourself.\n"
   ]
  }
 ],
 "metadata": {
  "jupytext": {
   "cell_metadata_filter": "-all",
   "main_language": "python",
   "notebook_metadata_filter": "-all",
   "text_representation": {
    "extension": ".md",
    "format_name": "markdown"
   }
  }
 },
 "nbformat": 4,
 "nbformat_minor": 4
}
