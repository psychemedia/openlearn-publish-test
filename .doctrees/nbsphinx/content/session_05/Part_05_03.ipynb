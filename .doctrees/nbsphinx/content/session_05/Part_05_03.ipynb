{
 "cells": [
  {
   "cell_type": "markdown",
   "metadata": {},
   "source": [
    "# 2 What’s involved in successful listening?"
   ]
  },
  {
   "cell_type": "markdown",
   "metadata": {},
   "source": [
    "In the activity you’ve just done, you were probably only evaluating those times when you had to listen in one major way: understanding what you were listening to.\n",
    "\n",
    "In other words, was the message received and understood?\n",
    "\n",
    "But understanding the message is actually only the end result, or outcome, of the listening process. As a language learner, when you first start listening to your new language, you’re not going to understand very much. (We all start there, don’t worry.) This course is all about learning how to learn, so in order to gain control over improving your listening skills, you need to appreciate exactly what it is that you’re listening to, so you have a basis on which to work on it.\n",
    "\n",
    "So, what are the component parts that make each language unique?\n",
    "<table xmlns:str=\"http://exslt.org/strings\">\n",
    "<caption>Table 1 The components parts of a language</caption>\n",
    "<tbody>\n",
    "<tr>\n",
    "<td class=\"highlight_\" rowspan=\"\" colspan=\"\">Phoneme</td>\n",
    "<td class=\"highlight_\" rowspan=\"\" colspan=\"\">Each of the individual sounds in a language.</td>\n",
    "</tr>\n",
    "<tr>\n",
    "<td class=\"highlight_\" rowspan=\"\" colspan=\"\">Tone</td>\n",
    "<td class=\"highlight_\" rowspan=\"\" colspan=\"\">In some languages, such as Chinese, a particular pitch pattern on a syllable which changes the meaning of the word.</td>\n",
    "</tr>\n",
    "<tr>\n",
    "<td class=\"highlight_\" rowspan=\"\" colspan=\"\">Intonation</td>\n",
    "<td class=\"highlight_\" rowspan=\"\" colspan=\"\">The rise and fall of the speaker’s voice. </td>\n",
    "</tr>\n",
    "<tr>\n",
    "<td class=\"highlight_\" rowspan=\"\" colspan=\"\">Word/sentence stress</td>\n",
    "<td class=\"highlight_\" rowspan=\"\" colspan=\"\">Accentuating a certain syllable within a word/ certain words within a sentence.</td>\n",
    "</tr>\n",
    "<tr>\n",
    "<td class=\"highlight_\" rowspan=\"\" colspan=\"\">Connected speech</td>\n",
    "<td class=\"highlight_\" rowspan=\"\" colspan=\"\">The continuous stream of sounds with no clear-cut borderlines between words that characterises the spoken discourse.</td>\n",
    "</tr>\n",
    "<tr>\n",
    "<td class=\"highlight_\" rowspan=\"\" colspan=\"\">Accent</td>\n",
    "<td class=\"highlight_\" rowspan=\"\" colspan=\"\">A distinctive way of pronouncing a language, especially because of the speaker’s country or area of origin or social class.</td>\n",
    "</tr>\n",
    "</tbody>\n",
    "</table>"
   ]
  },
  {
   "cell_type": "markdown",
   "metadata": {},
   "source": [
    "### Activity 2 Components that make a language unique\n",
    "__Timing: Allow about 15 minutes__"
   ]
  },
  {
   "cell_type": "markdown",
   "metadata": {},
   "source": [
    "#### Question\n",
    "\n",
    "Listen to this extract of a foreign language that’s very different from English. You probably won’t understand what’s being said, so instead, listen closely to the sound of the language – every sound and every detail. Imagine you are learning this language – what are all the characteristics of the language, and how does it differ from languages you speak?\n",
    "<!--MEDIACONTENT--><!--ENDMEDIACONTENT-->\n",
    "\n",
    "#### Question\n",
    "\n",
    "Which of the following elements of this language would you need to be able to hear in order to understand it?\n",
    "\n",
    "All of these\n",
    "\n",
    "Phonemes\n",
    "\n",
    "Tones\n",
    "\n",
    "Intonation\n",
    "\n",
    "Word/sentence stress\n",
    "\n",
    "Connected speech\n",
    "\n",
    "Accents\n"
   ]
  },
  {
   "cell_type": "markdown",
   "metadata": {},
   "source": [
    "Some languages share many characteristics depending on their shared roots. For example, phonemes in English and German are similar. However, other languages are strikingly different. The language you heard in the previous example is Mandarin, a *tonal language*. In tonal languages, the exact same sound can mean different things depending if it’s pronounced with, for example, a high, medium, low, rising or falling tone. There are endless characteristics of language that we could talk about here, but the main lesson is that, in order to become a good listener, you need to be intimately familiar with the features of your target language.\n",
    "\n",
    "Only once you know the parts can you understand the whole.\n"
   ]
  }
 ],
 "metadata": {
  "jupytext": {
   "cell_metadata_filter": "-all",
   "main_language": "python",
   "notebook_metadata_filter": "-all",
   "text_representation": {
    "extension": ".md",
    "format_name": "markdown"
   }
  }
 },
 "nbformat": 4,
 "nbformat_minor": 4
}
