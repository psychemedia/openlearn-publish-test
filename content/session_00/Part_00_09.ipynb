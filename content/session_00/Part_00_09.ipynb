{
 "cells": [
  {
   "cell_type": "markdown",
   "metadata": {},
   "source": [
    "# 9 Studying mammals: a case study – platypus burrows"
   ]
  },
  {
   "cell_type": "markdown",
   "metadata": {},
   "source": [
    "As you will have realised as you worked through earlier sections, there is a lot that we don’t know about the life history of monotremes. Staff at the Healesville Sanctuary in Australia have been working with other scientists to investigate the ways in which juvenile platypus use burrows. The results of their work were published in 2019 (Thomas et al.)."
   ]
  },
  {
   "cell_type": "markdown",
   "metadata": {},
   "source": [
    "![A Platypus, Ornithorhynchus anatinus, emerging from its burrow.](../images/s182_12_figure_21.jpg)"
   ]
  },
  {
   "cell_type": "markdown",
   "metadata": {},
   "source": [
    "Figure 22 A Platypus, *Ornithorhynchus anatinus*, emerging from its burrow"
   ]
  },
  {
   "cell_type": "markdown",
   "metadata": {},
   "source": [
    "Platypuses are semi-aquatic. They use burrows that they dig in riverbanks for shelter and sleeping during the day. They also have a second type of burrow, the nesting burrow. This burrow is excavated by a female and she uses it to lay eggs and incubate them. The young also live in the burrow while they’re dependant on the mother’s milk, a period that lasts around four months. When they first emerge from the nesting burrow, they are at about 70% of their adult weight, and they switch from milk to aquatic invertebrates as their food source. Whether the young continue to share the maternal burrow after weaning is not known. The period after the juveniles emerge is not well studied, so the team set out to fill in some of the gaps in our knowledge.\n",
    "\n",
    "The team set nets at night along 3 km of Badger Creek in the grounds of Healesville Sanctuary. The nets were checked regularly during the night and any platypus netted could rapidly be freed and taken to a vehicle for assessment. Each platypus was checked for the presence of a microchip and if none was found, one was fitted to enable identification in the future.\n",
    "\n",
    "Each juvenile was fitted with a radio transmitter weighing 13g. Compare this with the mass of the smallest juvenile in the study – 500g – and you can see that the transmitter was not likely to be a burden. Each platypus was radio tracked every day until the transmitter fell off. Once it fell off and 24 hours had passed with no motion, the transmitter signalled that it was motionless.\n",
    "\n",
    "The results are summarised in Table 3, which shows sex, mass, transmitter attachment period and monitoring. The figure quoted for burrow range is the distance along the stream between the two furthermost burrows used by that individual, with all other burrows visited falling within that range.\n",
    "<table xmlns:str=\"http://exslt.org/strings\">\n",
    "<caption>Table 3</caption>\n",
    "<tbody>\n",
    "<tr>\n",
    "<th>Animal</th>\n",
    "<th>Sex</th>\n",
    "<th>Mass at capture (g)</th>\n",
    "<th>Date of transmitter attachment</th>\n",
    "<th>Transmitter attachment days</th>\n",
    "<th>Approx. age at end of study (days)</th>\n",
    "<th>Number of days located</th>\n",
    "<th>Total number of burrows used</th>\n",
    "<th>Burrow range (km)</th>\n",
    "</tr>\n",
    "<tr>\n",
    "<td class=\"highlight_\" rowspan=\"\" colspan=\"\">A</td>\n",
    "<td class=\"highlight_\" rowspan=\"\" colspan=\"\">Female</td>\n",
    "<td class=\"highlight_\" rowspan=\"\" colspan=\"\">600</td>\n",
    "<td class=\"highlight_\" rowspan=\"\" colspan=\"\">31 March 2015</td>\n",
    "<td class=\"highlight_\" rowspan=\"\" colspan=\"\">80</td>\n",
    "<td class=\"highlight_\" rowspan=\"\" colspan=\"\">231</td>\n",
    "<td class=\"highlight_\" rowspan=\"\" colspan=\"\">71</td>\n",
    "<td class=\"highlight_\" rowspan=\"\" colspan=\"\">19</td>\n",
    "<td class=\"highlight_\" rowspan=\"\" colspan=\"\">1.26</td>\n",
    "</tr>\n",
    "<tr>\n",
    "<td class=\"highlight_\" rowspan=\"\" colspan=\"\">B</td>\n",
    "<td class=\"highlight_\" rowspan=\"\" colspan=\"\">Male</td>\n",
    "<td class=\"highlight_\" rowspan=\"\" colspan=\"\">500</td>\n",
    "<td class=\"highlight_\" rowspan=\"\" colspan=\"\">31 March 2015</td>\n",
    "<td class=\"highlight_\" rowspan=\"\" colspan=\"\">43</td>\n",
    "<td class=\"highlight_\" rowspan=\"\" colspan=\"\">194</td>\n",
    "<td class=\"highlight_\" rowspan=\"\" colspan=\"\">42</td>\n",
    "<td class=\"highlight_\" rowspan=\"\" colspan=\"\">9</td>\n",
    "<td class=\"highlight_\" rowspan=\"\" colspan=\"\">1.33</td>\n",
    "</tr>\n",
    "<tr>\n",
    "<td class=\"highlight_\" rowspan=\"\" colspan=\"\">C</td>\n",
    "<td class=\"highlight_\" rowspan=\"\" colspan=\"\">Female</td>\n",
    "<td class=\"highlight_\" rowspan=\"\" colspan=\"\">500</td>\n",
    "<td class=\"highlight_\" rowspan=\"\" colspan=\"\">31 March 2015</td>\n",
    "<td class=\"highlight_\" rowspan=\"\" colspan=\"\">37</td>\n",
    "<td class=\"highlight_\" rowspan=\"\" colspan=\"\">188</td>\n",
    "<td class=\"highlight_\" rowspan=\"\" colspan=\"\">35</td>\n",
    "<td class=\"highlight_\" rowspan=\"\" colspan=\"\">7</td>\n",
    "<td class=\"highlight_\" rowspan=\"\" colspan=\"\">1.55</td>\n",
    "</tr>\n",
    "<tr>\n",
    "<td class=\"highlight_\" rowspan=\"\" colspan=\"\">D</td>\n",
    "<td class=\"highlight_\" rowspan=\"\" colspan=\"\">Male</td>\n",
    "<td class=\"highlight_\" rowspan=\"\" colspan=\"\">750</td>\n",
    "<td class=\"highlight_\" rowspan=\"\" colspan=\"\">31 March 2015</td>\n",
    "<td class=\"highlight_\" rowspan=\"\" colspan=\"\">132</td>\n",
    "<td class=\"highlight_\" rowspan=\"\" colspan=\"\">283</td>\n",
    "<td class=\"highlight_\" rowspan=\"\" colspan=\"\">107</td>\n",
    "<td class=\"highlight_\" rowspan=\"\" colspan=\"\">17</td>\n",
    "<td class=\"highlight_\" rowspan=\"\" colspan=\"\">0.76</td>\n",
    "</tr>\n",
    "<tr>\n",
    "<td class=\"highlight_\" rowspan=\"\" colspan=\"\">E</td>\n",
    "<td class=\"highlight_\" rowspan=\"\" colspan=\"\">Male</td>\n",
    "<td class=\"highlight_\" rowspan=\"\" colspan=\"\">750</td>\n",
    "<td class=\"highlight_\" rowspan=\"\" colspan=\"\">20 March 2016</td>\n",
    "<td class=\"highlight_\" rowspan=\"\" colspan=\"\">14</td>\n",
    "<td class=\"highlight_\" rowspan=\"\" colspan=\"\">154</td>\n",
    "<td class=\"highlight_\" rowspan=\"\" colspan=\"\">14</td>\n",
    "<td class=\"highlight_\" rowspan=\"\" colspan=\"\">4</td>\n",
    "<td class=\"highlight_\" rowspan=\"\" colspan=\"\">0.65</td>\n",
    "</tr>\n",
    "<tr>\n",
    "<td class=\"highlight_\" rowspan=\"\" colspan=\"\">F</td>\n",
    "<td class=\"highlight_\" rowspan=\"\" colspan=\"\">Female</td>\n",
    "<td class=\"highlight_\" rowspan=\"\" colspan=\"\">510</td>\n",
    "<td class=\"highlight_\" rowspan=\"\" colspan=\"\">20 March 2016</td>\n",
    "<td class=\"highlight_\" rowspan=\"\" colspan=\"\">34</td>\n",
    "<td class=\"highlight_\" rowspan=\"\" colspan=\"\">174</td>\n",
    "<td class=\"highlight_\" rowspan=\"\" colspan=\"\">32</td>\n",
    "<td class=\"highlight_\" rowspan=\"\" colspan=\"\">14</td>\n",
    "<td class=\"highlight_\" rowspan=\"\" colspan=\"\">2.26</td>\n",
    "</tr>\n",
    "<tr>\n",
    "<td class=\"highlight_\" rowspan=\"\" colspan=\"\">G</td>\n",
    "<td class=\"highlight_\" rowspan=\"\" colspan=\"\">Female</td>\n",
    "<td class=\"highlight_\" rowspan=\"\" colspan=\"\">750</td>\n",
    "<td class=\"highlight_\" rowspan=\"\" colspan=\"\">20 March 2017</td>\n",
    "<td class=\"highlight_\" rowspan=\"\" colspan=\"\">110</td>\n",
    "<td class=\"highlight_\" rowspan=\"\" colspan=\"\">250</td>\n",
    "<td class=\"highlight_\" rowspan=\"\" colspan=\"\">101</td>\n",
    "<td class=\"highlight_\" rowspan=\"\" colspan=\"\">4</td>\n",
    "<td class=\"highlight_\" rowspan=\"\" colspan=\"\">0.49</td>\n",
    "</tr>\n",
    "</tbody>\n",
    "</table>\n",
    "\n",
    "Some general findings:\n",
    "\n",
    "* \n",
    "Along the 3 km stretch of creek, 74 burrow sites were identified."
   ]
  },
  {
   "cell_type": "markdown",
   "metadata": {},
   "source": [
    "* \n",
    "The maximum number of days that an individual used the same burrow was 53."
   ]
  },
  {
   "cell_type": "markdown",
   "metadata": {},
   "source": [
    "* \n",
    "The mean number of burrows used by an individual was 11±2."
   ]
  },
  {
   "cell_type": "markdown",
   "metadata": {},
   "source": [
    "Juveniles used multiple burrows within a small home range. They spent most of their time in frequent-use burrows, but the majority of burrows were single-use. The juveniles used between four and 19 burrows each in the 3 km stretch of creek. They routinely find new burrows within a night, displaying a degree of flexibility that might be highly advantageous. Streams are subject to seasonal changes in flow rate and flooding can occur. So, the ability to find another burrow rapidly is a valuable adaptation. The juveniles seem to keep within a narrow home range around the burrow that they were born in, until they are mature. At this point they disperse, and males establish territories for the breeding season. Keeping within a narrow and familiar home range may be of benefit to the juveniles as they need to keep clear of breeding males.\n",
    "\n",
    "There is a lot more information in the original publication (Thomas et al., 2019), if you wish to explore the research further.\n"
   ]
  }
 ],
 "metadata": {
  "jupytext": {
   "cell_metadata_filter": "-all",
   "main_language": "python",
   "notebook_metadata_filter": "-all",
   "text_representation": {
    "extension": ".md",
    "format_name": "markdown"
   }
  }
 },
 "nbformat": 4,
 "nbformat_minor": 4
}
