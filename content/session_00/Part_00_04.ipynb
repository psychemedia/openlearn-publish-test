{
 "cells": [
  {
   "cell_type": "markdown",
   "metadata": {},
   "source": [
    "# 4 Conclusion"
   ]
  },
  {
   "cell_type": "markdown",
   "metadata": {},
   "source": [
    "I hope this taster pack has given you a sense of what philosophy is like and whetted your appetite for A211. If you would like to do more preparation, I suggest you read Nigel Warburton's book *Philosophy: The Basics* (Routledge). Warburton has also compiled a glossary of philosophical terminology, called *Thinking from A to Z* (also published by Routledge), which is a set book for A211, and which you will need to buy to supplement the course materials. You can find out more about studying philosophy at the Open University by visiting the Department of Philosophy. If you have any queries about the course itself, you can consult the course prospectus at www.open.ac.uk/courses or contact your local OU study centre.\n",
    "\n",
    "I hope you enjoy your studies in philosophy!\n"
   ]
  }
 ],
 "metadata": {
  "jupytext": {
   "cell_metadata_filter": "-all",
   "main_language": "python",
   "notebook_metadata_filter": "-all",
   "text_representation": {
    "extension": ".md",
    "format_name": "markdown"
   }
  }
 },
 "nbformat": 4,
 "nbformat_minor": 4
}
