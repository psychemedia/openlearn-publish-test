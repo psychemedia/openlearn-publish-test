{
 "cells": [
  {
   "cell_type": "markdown",
   "metadata": {},
   "source": [
    "# 1 Defining mammals"
   ]
  },
  {
   "cell_type": "markdown",
   "metadata": {},
   "source": [
    "Personal experience highlights the diversity of mammals. In this section you will learn about the features that they have in common which define them as mammals. Using your own experience or knowledge, can you identify any of these defining characteristics?\n",
    "<!--SAQ id=saq001-->\n",
    "\n",
    "### Question 1"
   ]
  },
  {
   "cell_type": "markdown",
   "metadata": {},
   "source": [
    "#### Question\n",
    "\n",
    "On the basis of your knowledge of mammals, try to list up to three biological features that define mammals."
   ]
  },
  {
   "cell_type": "markdown",
   "metadata": {},
   "source": [
    "#### Answer\n",
    "\n",
    "Mammals are distinguished by:\n",
    "\n",
    "* \n",
    "the production of milk"
   ]
  },
  {
   "cell_type": "markdown",
   "metadata": {},
   "source": [
    "* \n",
    "the possession of hair (or similar structures, e.g. bristles)"
   ]
  },
  {
   "cell_type": "markdown",
   "metadata": {},
   "source": [
    "* \n",
    "the ability to regulate their body temperature, by utilising internal sources of heat.\n",
    "\n",
    "<!--ENDSAQ-->\n",
    "For much of this course, you will be concerned with exploring these diagnostic features of mammals in more detail. One issue that comes up a good deal is how we should best use the term ‘successful’ in describing mammals.\n",
    "\n",
    "You may recall images from TV programmes of mammals flourishing in hostile environments. The fact that mammals are very widely distributed is an expression of their success as an animal group. Another useful measure might be numbers of species – though the 6495 or so species of mammal is dwarfed by the known number of insect species in the world, which some estimate to be as many as 10 million. Other expressions of the success of mammals that are worth considering include the degree of physiological sophistication of their systems (which can be difficult to assess), and the number of individuals of a particular species or broader group that exist in total.\n",
    "\n",
    "Scientific data are often presented in the form of a table, with the data arranged in columns and rows. Table 1 below is a very simple example. You will study a more complex one later in the course.\n",
    "<table xmlns:str=\"http://exslt.org/strings\">\n",
    "<caption>Table 1 Number of species of mammals (figures from Burgin et al., 2018)</caption>\n",
    "<tbody>\n",
    "<tr>\n",
    "<td class=\"highlight_\" rowspan=\"\" colspan=\"\">Total</td>\n",
    "<td class=\"highlight_\" rowspan=\"\" colspan=\"\">6495</td>\n",
    "</tr>\n",
    "<tr>\n",
    "<td class=\"highlight_\" rowspan=\"\" colspan=\"\">Recently extinct</td>\n",
    "<td class=\"highlight_\" rowspan=\"\" colspan=\"\">96</td>\n",
    "</tr>\n",
    "<tr>\n",
    "<td class=\"highlight_\" rowspan=\"\" colspan=\"\">Living</td>\n",
    "<td class=\"highlight_\" rowspan=\"\" colspan=\"\">6399</td>\n",
    "</tr>\n",
    "<tr>\n",
    "<td class=\"highlight_\" rowspan=\"\" colspan=\"\">Living wild</td>\n",
    "<td class=\"highlight_\" rowspan=\"\" colspan=\"\">6382</td>\n",
    "</tr>\n",
    "</tbody>\n",
    "</table>\n",
    "\n",
    "Mammals have been around for a long time. Fossils of the shrew-like *Megazostrodon* have been found in strata in southern Africa that are 200 million years old."
   ]
  },
  {
   "cell_type": "markdown",
   "metadata": {},
   "source": [
    "![A reconstruction of a shrew-like early mammal, Megazostrodon, known only from fossils.](../images/s182_12_figure_4.jpg)"
   ]
  },
  {
   "cell_type": "markdown",
   "metadata": {},
   "source": [
    "Figure 4 An early mammal, *Megazostrodon*"
   ]
  },
  {
   "cell_type": "markdown",
   "metadata": {},
   "source": [
    "Rather than shuffling along, with splayed-out limbs in the manner of many reptiles, this animal had limbs that were more erect and aligned under the body. Fossil evidence shows that the skulls of very early mammals have a distinctive lower jaw structure and sites on the skull for the attachment of chewing muscles. We can be confident that between 225 and 195 million years ago, mammal-like reptiles evolved into true mammals, though for the next 100 million years or so these unobtrusive animals, none larger than a pet cat, continued  to coexist with the dinosaurs. Their diversification did not start until about 65 million years ago, during a period of geological time that witnessed the demise of the dinosaurs and their close relatives.\n"
   ]
  }
 ],
 "metadata": {
  "jupytext": {
   "cell_metadata_filter": "-all",
   "main_language": "python",
   "notebook_metadata_filter": "-all",
   "text_representation": {
    "extension": ".md",
    "format_name": "markdown"
   }
  }
 },
 "nbformat": 4,
 "nbformat_minor": 4
}
