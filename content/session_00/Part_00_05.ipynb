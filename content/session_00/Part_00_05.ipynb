{
 "cells": [
  {
   "cell_type": "markdown",
   "metadata": {},
   "source": [
    "# 5 Uniformly accelerated motion along a line\n"
   ]
  },
  {
   "cell_type": "markdown",
   "metadata": {},
   "source": [
    "## 5.1 Describing uniformly accelerated motion"
   ]
  },
  {
   "cell_type": "markdown",
   "metadata": {},
   "source": [
    "An important special case of non-uniform motion along a line is that which arises when an object is subjected to constant acceleration. This kind of motion is called __uniformly accelerated motion__. An object falling under gravity near to the surface of the Earth, such as the apple of <a xmlns:str=\"http://exslt.org/strings\" href=\"\">Figure 24</a>, provides an approximate realisation of such motion. (Air resistance, which increases with speed, prevents the acceleration from being truly constant in such cases.) A more precise realisation of uniformly accelerated motion is provided by an object falling under gravity close to the surface of an airless body such as the Moon (see Figure 38) or by a falling object in an evacuated (i.e. airless) drop-tower or drop-shaft of the kind discussed in Section 1 of this course."
   ]
  },
  {
   "cell_type": "markdown",
   "metadata": {},
   "source": [
    "![figure images/s207_2_034i.jpg](../images/s207_2_034i.jpg)"
   ]
  },
  {
   "cell_type": "markdown",
   "metadata": {},
   "source": [
    "__Figure 38:__ The acceleration-time graph for an object with constant (positive) acceleration"
   ]
  },
  {
   "cell_type": "markdown",
   "metadata": {},
   "source": [
    "The acceleration-time graph for a uniformly accelerated body is simple; it's just a horizontal line of the kind shown in <a xmlns:str=\"http://exslt.org/strings\" href=\"\">Figure 38</a>. The value of this constant acceleration (which may be positive or negative) represents the *gradient* of the velocity-time graph at any moment. It follows that the velocity-time graph must have the same gradient at all points and must therefore be a straight line of the kind shown in <a xmlns:str=\"http://exslt.org/strings\" href=\"\">Figure 39</a>. Note that the sign of the acceleration determines whether the velocity-time graph slopes up or down, and the value of the acceleration determines the precise value of the gradient. However, the acceleration does not determine the initial value of *v*﻿<sub xmlns:str=\"http://exslt.org/strings\">*x*</sub> so we have arbitrarily chosen a point on the *v*﻿<sub xmlns:str=\"http://exslt.org/strings\">*x*</sub>-axis to represent this value and labelled it *u﻿<sub xmlns:str=\"http://exslt.org/strings\">x</sub>*. From Figure 38, we deduce that if\n",
    "\n",
    " ![inlinefigure images/s207_1_ue019i.gif](../images/s207_1_ue019i.gif) \n",
    "\n",
    "then\n",
    "\n",
    " ![inlinefigure images/s207_1_ue020i.gif](../images/s207_1_ue020i.gif) \n",
    "\n",
    "where *a﻿<sub xmlns:str=\"http://exslt.org/strings\">x</sub>* represents the *constant* value of *a﻿<sub xmlns:str=\"http://exslt.org/strings\">x</sub>*(*t*)."
   ]
  },
  {
   "cell_type": "markdown",
   "metadata": {},
   "source": [
    "![figure images/s207_2_035i.jpg](../images/s207_2_035i.jpg)"
   ]
  },
  {
   "cell_type": "markdown",
   "metadata": {},
   "source": [
    "__Figure 39:__ A velocity-time graph that is consistent with the acceleration-time graph of Figure 38. Note that the intercept has been chosen arbitrarily; only the gradient is determined by the acceleration"
   ]
  },
  {
   "cell_type": "markdown",
   "metadata": {},
   "source": [
    "It's rather more difficult to deduce the position-time graph that corresponds to uniformly accelerated motion, but the steady change of velocity with time certainly implies that the *gradient* of the position-time graph must also change steadily with time. In fact, given a velocity-time graph like that in Figure 39, the corresponding position-time graph will be of the general form shown in Figure 40."
   ]
  },
  {
   "cell_type": "markdown",
   "metadata": {},
   "source": [
    "![figure images/s207_2_036i.jpg](../images/s207_2_036i.jpg)"
   ]
  },
  {
   "cell_type": "markdown",
   "metadata": {},
   "source": [
    "__Figure 40:__ A position-time graph that is consistent with the acceleration-time graph of Figure 38 and the velocity-time graph of Figure 39. Note that the intercept has been chosen arbitrarily; only the gradient is determined by velocity"
   ]
  },
  {
   "cell_type": "markdown",
   "metadata": {},
   "source": [
    "Once again, the intercept with the vertical axis (representing the initial position at *t* = 0) is not determined by anything we have said so far; it has therefore been chosen arbitrarily and labelled *x*<sub xmlns:str=\"http://exslt.org/strings\">0</sub>. The curve however is not arbitrary since the displacement from *x*<sub xmlns:str=\"http://exslt.org/strings\">0</sub> at any particular time *t* = *T* is determined by the area under the velocity-time graph between *t* = 0 and *t* = *T*. That area will be the sum of two parts, a rectangle of height *u﻿<sub xmlns:str=\"http://exslt.org/strings\">x</sub>* and base length *T*, and a triangle of height *a﻿<sub xmlns:str=\"http://exslt.org/strings\">x</sub>﻿T* and base length *T*. Since the area of a triangle is half the product of its height and its base length, it follows that the displacement from *x*﻿<sub xmlns:str=\"http://exslt.org/strings\">0</sub> at time *T* will be"
   ]
  },
  {
   "cell_type": "markdown",
   "metadata": {},
   "source": [
    "![figure images/s207_1_ie016i.gif](../images/s207_1_ie016i.gif)\n",
    "\n",
    "and the position of the uniformly accelerating particle, at any time *t*, will be *x*﻿(﻿*t*﻿) = *x*﻿<sub xmlns:str=\"http://exslt.org/strings\">0</sub> + *s﻿<sub xmlns:str=\"http://exslt.org/strings\">x</sub>﻿*(﻿*t*﻿), that is"
   ]
  },
  {
   "cell_type": "markdown",
   "metadata": {},
   "source": [
    "![figure images/s207_1_ue021i.gif](../images/s207_1_ue021i.gif)\n",
    "\n",
    "Equations 19, 20 and 21 provide an essentially complete description of uniformly accelerated motion in one dimension and have many applications. They are not the most common form of the equations of uniform acceleration. We will discuss those in the next subsection, but before doing so let's use the method of differentiation to confirm the consistency of the equations we have deduced.\n",
    "\n",
    "Starting from Equation 21, the right-hand side of which is a quadratic function of *t*, we expect to find that"
   ]
  },
  {
   "cell_type": "markdown",
   "metadata": {},
   "source": [
    "![figure images/s207_1_ie017i.gif](../images/s207_1_ie017i.gif)\n",
    "\n",
    "Using the rules and results of <a xmlns:str=\"http://exslt.org/strings\" href=\"\">Table 6</a> to carry out the differentiation (which is just like that in Question 18) we find that"
   ]
  },
  {
   "cell_type": "markdown",
   "metadata": {},
   "source": [
    "![figure images/s207_1_ie018i.gif](../images/s207_1_ie018i.gif)\n",
    "\n",
    "in complete agreement with Equation 20. Similarly, differentiating the linear function that appears on the right-hand side of Equation 20, we expect to find"
   ]
  },
  {
   "cell_type": "markdown",
   "metadata": {},
   "source": [
    "![figure images/s207_1_ie019i.gif](../images/s207_1_ie019i.gif)\n",
    "\n",
    "Again, performing the differentiation, using <a xmlns:str=\"http://exslt.org/strings\" href=\"\">Table 6</a>, confirms our expectations:"
   ]
  },
  {
   "cell_type": "markdown",
   "metadata": {},
   "source": [
    "![figure images/s207_1_ie020i.gif](../images/s207_1_ie020i.gif)\n",
    "\n",
    "We see that in this case, *a<sub xmlns:str=\"http://exslt.org/strings\">x</sub>*(*t*) is just the constant acceleration *a<sub xmlns:str=\"http://exslt.org/strings\">x</sub>* from which we started.\n",
    "\n",
    "This short exercise in checking consistency gives just a hint of the immense power of differentiation to simplify a wide range of tasks and investigations.\n",
    "\n",
    "Returning now to the description of uniformly accelerated motion, let's gather together our results so far:\n",
    "\n",
    " ![inlinefigure images/s207_1_ue022i.gif](../images/s207_1_ue022i.gif) \n",
    "\n",
    " ![inlinefigure images/s207_1_ue023i.gif](../images/s207_1_ue023i.gif) \n",
    "\n",
    " ![inlinefigure images/s207_1_ue024i.gif](../images/s207_1_ue024i.gif) \n",
    "\n",
    "These are the equations we shall use, rearrange and extend in the next subsection."
   ]
  },
  {
   "cell_type": "markdown",
   "metadata": {},
   "source": [
    "## 5.2 The equations of uniformly accelerated motion"
   ]
  },
  {
   "cell_type": "markdown",
   "metadata": {},
   "source": [
    "Equations 22, 23 and 24 provide a complete description of uniformly accelerated motion. By combining them appropriately, it is possible to solve a wide class of problems concerning the kinematics of uniformly accelerated motion. Nonetheless, those particular equations are not always the best starting point for the most common problems. For example, it is often the case that we want to know the displacement from the initial position after some specified period of constant acceleration, rather than the final position *x*. In such circumstances it is useful to subtract *x*﻿<sub xmlns:str=\"http://exslt.org/strings\">0</sub> from both sides of <a xmlns:str=\"http://exslt.org/strings\" href=\"\">Equation 22</a> and use the definition *s﻿<sub xmlns:str=\"http://exslt.org/strings\">x</sub>﻿* = *x* − *x*﻿<sub xmlns:str=\"http://exslt.org/strings\">0</sub> to write the resulting equation as\n",
    "\n",
    " ![inlinefigure images/s207_1_ue025i.gif](../images/s207_1_ue025i.gif) \n",
    "\n",
    "More significantly, it is often the case that we need to find the final velocity *v*﻿<sub xmlns:str=\"http://exslt.org/strings\">*x*</sub> when all we are given is the (constant) acceleration *a<sub xmlns:str=\"http://exslt.org/strings\">x</sub>*, the initial velocity *u<sub xmlns:str=\"http://exslt.org/strings\">x</sub>* and the displacement *s<sub xmlns:str=\"http://exslt.org/strings\">x</sub>*. The problem can be solved using Equations 23 and 25, but doing so involves finding the duration of the motion *t*, which is not required as part of the answer. It would be more convenient to use an equation that related *v*﻿<sub xmlns:str=\"http://exslt.org/strings\">*x*</sub> to *a﻿<sub xmlns:str=\"http://exslt.org/strings\">x</sub>*, *u﻿<sub xmlns:str=\"http://exslt.org/strings\">x</sub>* and *s﻿<sub xmlns:str=\"http://exslt.org/strings\">x</sub>* directly, thus avoiding the need to work out *t* altogether. Fortunately, it is possible to find such an equation by using a standard mathematical procedure called __elimination__.\n",
    "\n",
    " ![inlinefigure images/s207_1_ue023i.gif](../images/s207_1_ue023i.gif) \n",
    "\n",
    "The first step in the process is to identify a set of equations that contain the variables we want to relate, along with at least one variable we can eliminate. In this case we want to eliminate *t* from Equations 23 and 25. The second step usually involves rearranging one of the equations so that the unwanted variable is isolated on the left-hand side, thus becoming the __subject__ of that equation. In this case, we can subtract *u﻿<sub xmlns:str=\"http://exslt.org/strings\">x</sub>* from both sides of Equation 23, divide both sides by *a﻿<sub xmlns:str=\"http://exslt.org/strings\">x</sub>* and then interchange the two sides to give\n",
    "\n",
    " ![inlinefigure images/s207_1_ue026i.gif](../images/s207_1_ue026i.gif) \n",
    "\n",
    "Having obtained this relation from one of the equations, the third step is to use it to eliminate the unwanted variable from all the other equations. In our case this means replacing *t* by (﻿*v*﻿﻿﻿<sub xmlns:str=\"http://exslt.org/strings\">*x*</sub> − *u﻿<sub xmlns:str=\"http://exslt.org/strings\">x</sub>﻿*)﻿/﻿*a﻿<sub xmlns:str=\"http://exslt.org/strings\">x</sub>* throughout Equation 25, so we obtain"
   ]
  },
  {
   "cell_type": "markdown",
   "metadata": {},
   "source": [
    "![figure images/s207_1_ie021i.gif](../images/s207_1_ie021i.gif)\n",
    "\n",
    "so after a little algebra, we obtain"
   ]
  },
  {
   "cell_type": "markdown",
   "metadata": {},
   "source": [
    "![figure images/s207_1_ie022i.gif](../images/s207_1_ie022i.gif)\n",
    "\n",
    "which can be rearranged to give the result\n",
    "\n",
    " ![inlinefigure images/s207_1_ue027i.gif](../images/s207_1_ue027i.gif) \n",
    "\n",
    "Equations 23, 25 and 27 are the most frequently used equations of uniformly accelerated motion and are usually referred to collectively as the constant acceleration equations (or the uniform acceleration equations).\n",
    "\n",
    "Constant (or uniform) acceleration equations"
   ]
  },
  {
   "cell_type": "markdown",
   "metadata": {},
   "source": [
    "![figure images/s207_1_ue028i.gif](../images/s207_1_ue028i.gif)\n",
    "\n",
    "\n",
    "\n",
    "\n"
   ]
  },
  {
   "cell_type": "markdown",
   "metadata": {},
   "source": [
    "It follows from these equations that\n",
    "\n"
   ]
  },
  {
   "cell_type": "markdown",
   "metadata": {},
   "source": [
    "![figure images/s207_1_ue028di.gif](../images/s207_1_ue028di.gif)\n"
   ]
  },
  {
   "cell_type": "markdown",
   "metadata": {},
   "source": [
    "Remember, these are not universal equations that describe every form of motion. They apply *only* to situations in which the acceleration *a﻿<sub xmlns:str=\"http://exslt.org/strings\">x</sub>* is *constant*."
   ]
  },
  {
   "cell_type": "markdown",
   "metadata": {},
   "source": [
    "### Question 20"
   ]
  },
  {
   "cell_type": "markdown",
   "metadata": {},
   "source": [
    "#### Question\n",
    "\n",
    "Starting from the constant acceleration equations, use the elimination procedure to derive Equation 28d."
   ]
  },
  {
   "cell_type": "markdown",
   "metadata": {},
   "source": [
    "#### Answer\n",
    "\n",
    "In this case we wish to eliminate *a<sub xmlns:str=\"http://exslt.org/strings\">x</sub>* from Equations 28a and 28b. One way is to rearrange Equation 28b (subtracting *u<sub xmlns:str=\"http://exslt.org/strings\">x</sub>* from both sides and dividing both sides by *t*) to obtain:"
   ]
  },
  {
   "cell_type": "markdown",
   "metadata": {},
   "source": [
    "![figure images/s207_1_ie048i.gif](../images/s207_1_ie048i.gif)\n",
    "\n",
    "Substituting this into Equation 28a gives"
   ]
  },
  {
   "cell_type": "markdown",
   "metadata": {},
   "source": [
    "![figure images/s207_1_ie049i.gif](../images/s207_1_ie049i.gif)\n",
    "\n"
   ]
  },
  {
   "cell_type": "markdown",
   "metadata": {},
   "source": [
    "### Question 21"
   ]
  },
  {
   "cell_type": "markdown",
   "metadata": {},
   "source": [
    "#### Question\n",
    "\n",
    "Give a graphical interpretation of Equation 28d in terms of the area under a velocity-time graph for the case of uniformly accelerated motion."
   ]
  },
  {
   "cell_type": "markdown",
   "metadata": {},
   "source": [
    "#### Answer\n",
    "\n",
    "Graphically, *s<sub xmlns:str=\"http://exslt.org/strings\">x</sub>* is the signed area under the velocity-time graph between the given times. In this case those times are *t* = 0 when the initial velocity is *u<sub xmlns:str=\"http://exslt.org/strings\">x</sub>* and some later time *t* when the velocity is *v<sub xmlns:str=\"http://exslt.org/strings\">x</sub>*. Since the velocity-time graph for uniformly accelerated motion is a straight line of fixed gradient, the area required will always be either a trapezium (above or below the axis) or a pair of triangles. (<a xmlns:str=\"http://exslt.org/strings\" href=\"\">Figure 37</a> shows a particular case.)"
   ]
  },
  {
   "cell_type": "markdown",
   "metadata": {},
   "source": [
    "![figure images/s207_2_041i.jpg](../images/s207_2_041i.jpg)"
   ]
  },
  {
   "cell_type": "markdown",
   "metadata": {},
   "source": [
    "__Figure 37:__ The velocity-time graph for Self-assessment question 19\n",
    "\n",
    "\n"
   ]
  },
  {
   "cell_type": "markdown",
   "metadata": {},
   "source": [
    "### Question 22 "
   ]
  },
  {
   "cell_type": "markdown",
   "metadata": {},
   "source": [
    "#### Question\n",
    "\n",
    "An object has a final velocity of 30.0 m s<sup xmlns:str=\"http://exslt.org/strings\">﻿−﻿1</sup>, after accelerating uniformly at 2.00 m s<sup xmlns:str=\"http://exslt.org/strings\">﻿−﻿2</sup> over a displacement of 20.0 m. (a) What was the initial speed of the object? (b) For how long was the object accelerated?"
   ]
  },
  {
   "cell_type": "markdown",
   "metadata": {},
   "source": [
    "#### Answer\n",
    "\n",
    "(a) In this case we know *s<sub xmlns:str=\"http://exslt.org/strings\">x</sub>* = 20 m, *v<sub xmlns:str=\"http://exslt.org/strings\">x</sub>* = 30 m s<sup xmlns:str=\"http://exslt.org/strings\">−1</sup> and *a<sub xmlns:str=\"http://exslt.org/strings\">x</sub>* = 2 m s<sup xmlns:str=\"http://exslt.org/strings\">−2</sup>, and we need to find *u<sub xmlns:str=\"http://exslt.org/strings\">x</sub>*. As a first step we should make *u<sub xmlns:str=\"http://exslt.org/strings\">x</sub>* the subject of an equation that involves the known quantities. Rearranging Equation 28c gives"
   ]
  },
  {
   "cell_type": "markdown",
   "metadata": {},
   "source": [
    "![figure images/s207_1_ie050i.gif](../images/s207_1_ie050i.gif)\n",
    "\n",
    "Taking the square root of each side"
   ]
  },
  {
   "cell_type": "markdown",
   "metadata": {},
   "source": [
    "![figure images/s207_1_ie051i.gif](../images/s207_1_ie051i.gif)\n",
    "\n",
    "Substituting the given values,"
   ]
  },
  {
   "cell_type": "markdown",
   "metadata": {},
   "source": [
    "![figure images/s207_1_ie052i.gif](../images/s207_1_ie052i.gif)\n",
    "\n",
    "(b) The duration of the acceleration is given by Equation 26 as *t* = (*v<sub xmlns:str=\"http://exslt.org/strings\">x</sub>* − *u<sub xmlns:str=\"http://exslt.org/strings\">x</sub>*)*/a<sub xmlns:str=\"http://exslt.org/strings\">x</sub>*, which was itself obtained by rearranging constant acceleration equations. Substituting the relevant values gives"
   ]
  },
  {
   "cell_type": "markdown",
   "metadata": {},
   "source": [
    "![figure images/s207_1_ie053i.gif](../images/s207_1_ie053i.gif)\n",
    "\n"
   ]
  },
  {
   "cell_type": "markdown",
   "metadata": {},
   "source": [
    "### Question 23"
   ]
  },
  {
   "cell_type": "markdown",
   "metadata": {},
   "source": [
    "#### Question\n",
    "\n",
    "A train accelerates uniformly along a straight track at 2.00 m s<sup xmlns:str=\"http://exslt.org/strings\">﻿−﻿2</sup> from an initial velocity of 4.00 m s<sup xmlns:str=\"http://exslt.org/strings\">﻿−﻿1</sup> to a final velocity of 16.00 m s﻿<sup xmlns:str=\"http://exslt.org/strings\">−﻿1</sup>. What is the train's displacement from its initial position at the end of this interval?"
   ]
  },
  {
   "cell_type": "markdown",
   "metadata": {},
   "source": [
    "#### Answer\n",
    "\n",
    "Using Equation 28c"
   ]
  },
  {
   "cell_type": "markdown",
   "metadata": {},
   "source": [
    "![figure images/s207_1_ie054i.gif](../images/s207_1_ie054i.gif)\n",
    "\n",
    "with *u<sub xmlns:str=\"http://exslt.org/strings\">x</sub>* = 4.00 m s<sup xmlns:str=\"http://exslt.org/strings\">−1</sup>, *v<sub xmlns:str=\"http://exslt.org/strings\">x</sub>* = 16.0 m s<sup xmlns:str=\"http://exslt.org/strings\">−1</sup> and *a<sub xmlns:str=\"http://exslt.org/strings\">x</sub>* = 2.00 m s<sup xmlns:str=\"http://exslt.org/strings\">−2</sup>, we obtain, after rearranging"
   ]
  },
  {
   "cell_type": "markdown",
   "metadata": {},
   "source": [
    "![figure images/s207_1_ie055i.gif](../images/s207_1_ie055i.gif)\n",
    "\n"
   ]
  },
  {
   "cell_type": "markdown",
   "metadata": {},
   "source": [
    "## 5.3 The acceleration due to gravity"
   ]
  },
  {
   "cell_type": "markdown",
   "metadata": {},
   "source": [
    "In the absence of air resistance, an object falling freely under the influence of the Earth's gravity, close to the surface of the Earth, experiences an acceleration of about 9.81 m s﻿<sup xmlns:str=\"http://exslt.org/strings\">−﻿2</sup> in the downward direction. The precise value of the magnitude is indicated by the symbol *g* and varies slightly from place to place due to variations in surface altitude, the effect of the Earth's rotation and variations in the internal composition of the Earth. Some typical values for the __magnitude of the acceleration due to gravity__, *g*, at various points on the Earth's surface, are given in Table 7.\n",
    "\n",
    "Incidentally, one of the reasons that the value of *g* is well known across much of the Earth's surface is that extensive surveys have been carried out in which *g* has been accurately measured by timing the swing of very carefully constructed pendulums.\n",
    "<table xmlns:str=\"http://exslt.org/strings\">\n",
    "<caption>__Table 7:__ The magnitude of the acceleration due to gravity at various points on the Earth's surface</caption>\n",
    "<tbody>\n",
    "<tr>\n",
    "<th>Location</th>\n",
    "<th>*g*/m s<sup>−2</sup>\n",
    "</th>\n",
    "</tr>\n",
    "<tr>\n",
    "<td class=\"highlight_\" rowspan=\"\" colspan=\"\">North Pole</td>\n",
    "<td class=\"highlight_\" rowspan=\"\" colspan=\"\">9.83</td>\n",
    "</tr>\n",
    "<tr>\n",
    "<td class=\"highlight_\" rowspan=\"\" colspan=\"\">London</td>\n",
    "<td class=\"highlight_\" rowspan=\"\" colspan=\"\">9.81</td>\n",
    "</tr>\n",
    "<tr>\n",
    "<td class=\"highlight_\" rowspan=\"\" colspan=\"\">New York</td>\n",
    "<td class=\"highlight_\" rowspan=\"\" colspan=\"\">9.80</td>\n",
    "</tr>\n",
    "<tr>\n",
    "<td class=\"highlight_\" rowspan=\"\" colspan=\"\">Equator</td>\n",
    "<td class=\"highlight_\" rowspan=\"\" colspan=\"\">9.78</td>\n",
    "</tr>\n",
    "<tr>\n",
    "<td class=\"highlight_\" rowspan=\"\" colspan=\"\">Sydney</td>\n",
    "<td class=\"highlight_\" rowspan=\"\" colspan=\"\">9.80</td>\n",
    "</tr>\n",
    "</tbody>\n",
    "Reference: \n",
    "\n",
    "</table>"
   ]
  },
  {
   "cell_type": "markdown",
   "metadata": {},
   "source": [
    "## 5.4 Drop-towers revisited"
   ]
  },
  {
   "cell_type": "markdown",
   "metadata": {},
   "source": [
    "In Section 1 we described how research into near weightless conditions can be carried out on Earth by using a drop-tower or a drop-shaft (Figure 41). We are now in a position to examine drop-shafts in more detail (Example 3)."
   ]
  },
  {
   "cell_type": "markdown",
   "metadata": {},
   "source": [
    "![figure images/s207_2_037i.jpg](../images/s207_2_037i.jpg)"
   ]
  },
  {
   "cell_type": "markdown",
   "metadata": {},
   "source": [
    "__Figure 41:__ The test vehicle at the Bremen drop-tower\n"
   ]
  },
  {
   "cell_type": "markdown",
   "metadata": {},
   "source": [
    "### Example 3"
   ]
  },
  {
   "cell_type": "markdown",
   "metadata": {},
   "source": [
    "#### Question\n",
    "\n",
    "Consider a vertical shaft of total length 700 m, with free fall taking place for the first 500 m and constant deceleration for the final 200 m. Work out:\n",
    "\n",
    "1. \n",
    "The time to fall the first 500 m. (This would be the time during which near weightless experiments could be done.)"
   ]
  },
  {
   "cell_type": "markdown",
   "metadata": {},
   "source": [
    "2. \n",
    "The velocity at the end of the first 500 m."
   ]
  },
  {
   "cell_type": "markdown",
   "metadata": {},
   "source": [
    "3. \n",
    "The acceleration needed to reduce the velocity to zero at the bottom of the shaft.\n"
   ]
  },
  {
   "cell_type": "markdown",
   "metadata": {},
   "source": [
    "#### Answer\n",
    "\n",
    "It is convenient to split the calculations into three corresponding parts.\n",
    "\n",
    "__Part 1: Finding the time to fall the first 500 m__\n",
    "\n",
    "When carrying out calculations it is always wise to choose a coordinate system that fits the problem. In this case it seems natural to choose an *x*﻿-﻿axis that points down the shaft, so that downward displacements and velocities will be positive and the acceleration due to gravity will be *a﻿<sub xmlns:str=\"http://exslt.org/strings\">x</sub>* = + *g*. It is also sensible to use the equations that lead to the least amount of work. In this case, we know only the initial velocity (assuming the object is initially at rest), the acceleration (*g*) and the final displacement (500 m). So, in order to work out the time to fall, the best approach is to use Equation 28a\n",
    "\n",
    " ![inlinefigure images/s207_1_ue025i.gif](../images/s207_1_ue025i.gif) \n",
    "\n",
    "with *s﻿<sub xmlns:str=\"http://exslt.org/strings\">x</sub>﻿* = 500 m, *u﻿<sub xmlns:str=\"http://exslt.org/strings\">x</sub>* = 0 m s<sup xmlns:str=\"http://exslt.org/strings\">﻿−﻿1</sup> and *a﻿<sub xmlns:str=\"http://exslt.org/strings\">x</sub>* = *g* = 9.81 m s<sup xmlns:str=\"http://exslt.org/strings\">﻿−﻿2</sup>. Setting *u﻿<sub xmlns:str=\"http://exslt.org/strings\">x</sub>* = 0 m s<sup xmlns:str=\"http://exslt.org/strings\">﻿−1</sup> and rearranging Equation 28a we obtain"
   ]
  },
  {
   "cell_type": "markdown",
   "metadata": {},
   "source": [
    "![figure images/s207_1_ie023i.gif](../images/s207_1_ie023i.gif)\n",
    "\n",
    "__Part 2: Finding the velocity at the end of the first 500 m__\n",
    "\n",
    "To calculate the velocity after a free fall of 500 m, there are two convenient methods. We could either use\n",
    "\n",
    " ![inlinefigure images/s207_1_ue023i.gif](../images/s207_1_ue023i.gif) \n",
    "\n",
    "with *u<sub xmlns:str=\"http://exslt.org/strings\">x</sub>* = 0 m s<sup xmlns:str=\"http://exslt.org/strings\">−1</sup>, *a<sub xmlns:str=\"http://exslt.org/strings\">x</sub>* = *g* = 9.81 m s<sup xmlns:str=\"http://exslt.org/strings\">−2</sup> and *t* = 10.1 s, or\n",
    "\n",
    " ![inlinefigure images/s207_1_ue027i.gif](../images/s207_1_ue027i.gif) \n",
    "\n",
    "with *u<sub xmlns:str=\"http://exslt.org/strings\">x</sub>* = 0 m s<sup xmlns:str=\"http://exslt.org/strings\">−1</sup>, *a<sub xmlns:str=\"http://exslt.org/strings\">x</sub>* = *g* = 9.81 m s<sup xmlns:str=\"http://exslt.org/strings\">−2</sup> and *s<sub xmlns:str=\"http://exslt.org/strings\">x</sub>* = 500 m.\n",
    "\n",
    "We choose the second method since it uses only values that we have been given rather than ones we have calculated. (It is always possible that we made some slip in our calculation.) So using Equation 28c with *u﻿<sub xmlns:str=\"http://exslt.org/strings\">x</sub>* = 0 m s<sup xmlns:str=\"http://exslt.org/strings\">﻿−﻿1</sup>, we obtain"
   ]
  },
  {
   "cell_type": "markdown",
   "metadata": {},
   "source": [
    "![figure images/s207_1_ie024i.gif](../images/s207_1_ie024i.gif)\n",
    "\n",
    "__Part 3: Finding the acceleration over the final 200 m__\n",
    "\n",
    "To find the uniform acceleration necessary to bring the object to rest at the bottom of the shaft we can again make use of Equation 28c. This time, the quantity *a<sub xmlns:str=\"http://exslt.org/strings\">x</sub>* is what we want to calculate and the known parameters are *v*﻿<sub xmlns:str=\"http://exslt.org/strings\">*x*</sub> = 0 m s<sup xmlns:str=\"http://exslt.org/strings\">﻿−﻿1</sup>, *u﻿<sub xmlns:str=\"http://exslt.org/strings\">x</sub>* = 99.0 m s<sup xmlns:str=\"http://exslt.org/strings\">−1</sup> and *s﻿<sub xmlns:str=\"http://exslt.org/strings\">x</sub>* = 200 m. Substituting *v*﻿<sub xmlns:str=\"http://exslt.org/strings\">﻿*x*</sub> = 0 m s<sup xmlns:str=\"http://exslt.org/strings\">﻿−﻿1</sup> and rearranging Equation 28c gives"
   ]
  },
  {
   "cell_type": "markdown",
   "metadata": {},
   "source": [
    "![figure images/s207_1_ie025i.gif](../images/s207_1_ie025i.gif)\n",
    "\n"
   ]
  },
  {
   "cell_type": "markdown",
   "metadata": {},
   "source": [
    "### Question 24"
   ]
  },
  {
   "cell_type": "markdown",
   "metadata": {},
   "source": [
    "#### Question\n",
    "\n",
    "Consider the following proposal to roughly double the period of weightlessness in the 140 m Bremen drop-tower. The basic idea is that the drop-vehicle should be launched from the bottom of the tower with just the right velocity to enable it to reach the top of the tower with zero velocity. If the vehicle is uniformly accelerated over the first 10 m to give it the necessary upward velocity it can then rise freely for the remaining 130 m, pass through its highest point, and fall freely for another 130 m before being brought to rest over the final 10 m of its descent. Using a coordinate system in which the upward direction is positive, answer the following questions.\n",
    "\n",
    "(a) What must be the launch velocity of the vehicle if it is to freely rise 130 m?\n",
    "\n",
    "(b) What constant total acceleration must be applied over the first 10 m if the vehicle is to attain the required launch velocity? How long will this last?\n",
    "\n",
    "(c) How long will the vehicle actually spend in free motion?\n",
    "\n",
    "(d) What will be the acceleration of the vehicle when at its highest point?\n",
    "\n",
    "(e) What will be the displacement of the vehicle from its starting point when it returns to that point at the end of the trip, and through what distance will it have travelled during the round trip?\n",
    "\n",
    "(f) Sketch a rough acceleration-time graph for the entire motion, and briefly comment on the feasibility of the whole proposal."
   ]
  },
  {
   "cell_type": "markdown",
   "metadata": {},
   "source": [
    "#### Answer\n",
    "\n",
    "(a) Using a coordinate system in which up is the positive direction means that the acceleration due to gravity will be negative, that is *a<sub xmlns:str=\"http://exslt.org/strings\">x</sub>* = −*g*. With *v<sub xmlns:str=\"http://exslt.org/strings\">x</sub>* = 0 m s<sup xmlns:str=\"http://exslt.org/strings\">−1</sup> and *s<sub xmlns:str=\"http://exslt.org/strings\">x</sub>* = 130 m, the initial velocity will be given (as in Question 22) by"
   ]
  },
  {
   "cell_type": "markdown",
   "metadata": {},
   "source": [
    "![figure images/s207_1_ie056i.gif](../images/s207_1_ie056i.gif)\n",
    "\n",
    "(b) In this case we know *u<sub xmlns:str=\"http://exslt.org/strings\">x</sub>* = 0 m s<sup xmlns:str=\"http://exslt.org/strings\">−1</sup>, *v<sub xmlns:str=\"http://exslt.org/strings\">x</sub>* = 50.5 m s<sup xmlns:str=\"http://exslt.org/strings\">−1</sup> and *s<sub xmlns:str=\"http://exslt.org/strings\">x</sub>* = 10.0 m. (Note that what was an initial velocity in the last part of the question has become a final velocity in this part.) Rearranging Equation 28c and substituting the given values"
   ]
  },
  {
   "cell_type": "markdown",
   "metadata": {},
   "source": [
    "![figure images/s207_1_ie057i.gif](../images/s207_1_ie057i.gif)\n",
    "\n",
    "To find the duration of the acceleration rearrange Equation 28b"
   ]
  },
  {
   "cell_type": "markdown",
   "metadata": {},
   "source": [
    "![figure images/s207_1_ie058i.gif](../images/s207_1_ie058i.gif)\n",
    "\n",
    "(c) The time in free motion is given by Equation 26 with *u<sub xmlns:str=\"http://exslt.org/strings\">x</sub>* = 50.5 m s<sup xmlns:str=\"http://exslt.org/strings\">−1</sup>, *v<sub xmlns:str=\"http://exslt.org/strings\">x</sub>* = −50.5 m s<sup xmlns:str=\"http://exslt.org/strings\">−1</sup> and *a<sub xmlns:str=\"http://exslt.org/strings\">x</sub>* = −9.81 m s<sup xmlns:str=\"http://exslt.org/strings\">−2</sup>"
   ]
  },
  {
   "cell_type": "markdown",
   "metadata": {},
   "source": [
    "![figure images/s207_1_ie059i.gif](../images/s207_1_ie059i.gif)\n",
    "\n",
    "(Pay attention to signs here, remember that up is positive so the initial velocity will be positive, but the final velocity will be negative.)\n",
    "\n",
    "(d) When at its highest point the acceleration of the vehicle will be *a<sub xmlns:str=\"http://exslt.org/strings\">x</sub>* = −*g*. (The fact that the vehicle's velocity is momentarily zero as it passes through the highest point does not affect the (constant) acceleration.)\n",
    "\n",
    "(e) When the particle returns to its starting point its displacement from that point will be zero. The distance travelled, however, will be twice the height of the tower, 280 m.\n",
    "\n",
    "(f) The acceleration-time graph is given in Figure 42. Note that the initial and final accelerations are both positive because both increase the vehicle's velocity, even though the final acceleration reduces the vehicle's speed. (This subtlety concerning acceleration was discussed in Section 4.2.) The plan is feasible. In fact a similar system is in use at various drop-towers and drop-shafts."
   ]
  },
  {
   "cell_type": "markdown",
   "metadata": {},
   "source": [
    "![figure images/s207_2_042i.jpg](../images/s207_2_042i.jpg)"
   ]
  },
  {
   "cell_type": "markdown",
   "metadata": {},
   "source": [
    "__Figure 42:__ The acceleration-time graph for Question 24(f)\n",
    "\n",
    "\n",
    "\n"
   ]
  }
 ],
 "metadata": {
  "jupytext": {
   "cell_metadata_filter": "-all",
   "main_language": "python",
   "notebook_metadata_filter": "-all",
   "text_representation": {
    "extension": ".md",
    "format_name": "markdown"
   }
  }
 },
 "nbformat": 4,
 "nbformat_minor": 4
}
