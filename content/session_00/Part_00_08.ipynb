{
 "cells": [
  {
   "cell_type": "markdown",
   "metadata": {},
   "source": [
    "# 8 What’s special about placental mammals?"
   ]
  },
  {
   "cell_type": "markdown",
   "metadata": {},
   "source": [
    "Nearing the end of this introduction to mammals, it is important to stress the differences between marsupials and the placental mammals, by returning to the topic of mammalian reproduction.\n",
    "\n",
    "In each mammalian type, pregnancy begins as the blastocyst becomes embedded in the tissues of the womb. In both marsupial and placental mammals, the developing tissues of the mother’s womb and the embryo lie in very close contact, such that oxygen, carbon dioxide, nutrients and waste materials can transfer between mother and offspring. In marsupials, this contact is loose and seldom any more than a very rudimentary kind of placenta. But in some marsupials, the contact between the two sets of tissues becomes more elaborate; in the koala, for example, the structure is considered by most experts to be a true placenta, albeit short-lived. The fact that a functional placenta evolved in at least a couple of marsupial species is a striking example of parallel evolution – the independent development of a structure in two distinct groups. Marsupials seem to be descended from a different ancestral group than placental mammals; they can’t be thought of as in any sense intermediate. Differing solutions to the problem of rearing young are developed independently, but sometimes, as with the marsupial ‘placenta’, the solutions have much in common.\n",
    "\n",
    "The terms ‘marsupial’ and ‘placental’ were established in the late 18th century when mammals were first classified. ‘Marsupial’ is derived from the Latin word *marsupium*, meaning pocket. This feature is conspicuous in kangaroos and wallabies, but is not present in all marsupials. A need for renaming was even more evident once marsupials were found to briefly form a simple placenta. As a result, the terms Eutheria (= placental mammals), Metatheria (= marsupials) and Prototheria (= monotremes) were proposed instead. You may well come across these terms in any further reading, rather than the original and more familiar terminology that’s been used in this course.\n",
    "\n",
    "What are the apparent benefits that the development of a more elaborate placenta can bring? In placental mammals, close and extensive contact of maternal and embryonic tissue reaches its peak; in the human placenta there is an estimated 40-50 kilometres of such fine-scale contact! And yet the bloods of mother and offspring never fully mix – to do so would risk the mother’s rejection of the embryo as a ‘foreign’ object. The transfer between the two blood systems is so extensive that the needs of the growing embryo can be met for a prolonged period. The net benefit is that the young of placental mammals are often born relatively mature after a prolonged pregnancy, with all the attendant benefits to their early wellbeing that size can bring. The efficiency of the mammalian placenta is another factor that helps explain the group’s biological success – an evolutionary flowering that has produced a diversity of forms over much of the planet, but that has also produced one species that could potentially end the age of the mammals – *Homo sapiens*.\n"
   ]
  }
 ],
 "metadata": {
  "jupytext": {
   "cell_metadata_filter": "-all",
   "main_language": "python",
   "notebook_metadata_filter": "-all",
   "text_representation": {
    "extension": ".md",
    "format_name": "markdown"
   }
  }
 },
 "nbformat": 4,
 "nbformat_minor": 4
}
