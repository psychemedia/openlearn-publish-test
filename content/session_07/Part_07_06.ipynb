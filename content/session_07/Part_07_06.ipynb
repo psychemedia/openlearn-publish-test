{
 "cells": [
  {
   "cell_type": "markdown",
   "metadata": {},
   "source": [
    "# 5 How to check your writing"
   ]
  },
  {
   "cell_type": "markdown",
   "metadata": {},
   "source": [
    "One useful (and surprisingly underused) tool to check what you’ve written is typing it on a word processor and (after setting the language to your target language) using the spelling and grammar tools to check the text. The software may provide suggestions for changes which you will need to consider (as text processors can get things wrong too). This is not cheating, it’s a useful way to learn from any mistakes you have made.\n",
    "\n",
    "Another useful tool is to input your text into a translation tool. If the translation fits what you wanted to say you can infer that, although it may not be perfect, it communicates what you wanted to write. It is tempting to use a translation tool for composing the text in the first place. The problem is that you wouldn’t be engaging with the task of writing text, just checking the translation, and being able to start composing a text from scratch is a necessary skill in your language learning process.\n",
    "\n",
    "More advanced learners can follow the process of expanding their writing by checking their use of vocabulary and looking at their sentences and how they link with one another, for example."
   ]
  },
  {
   "cell_type": "markdown",
   "metadata": {},
   "source": [
    "### Activity 6 Describing a cartoon \n",
    "__Timing: Allow about 10 minutes__"
   ]
  },
  {
   "cell_type": "markdown",
   "metadata": {},
   "source": [
    "#### Question\n",
    "\n",
    "Look at the cartoon below and write a sentence in English to describe what is happening in each of the vignettes. Start with the sentence: ‘I saw Michael walking down the street’."
   ]
  },
  {
   "cell_type": "markdown",
   "metadata": {},
   "source": [
    "![This is cartoon with six frames. There is no dialogue. In the first frame there is a boy walking down the street. In the second frame is a girl waving and shouting. In the third, the boy is shown wearing his headphones. In the fourth, the two characters are face to face and he takes his headphone out. In the fifth, there is a speech bubble coming from her mouth with a question mark and an arrow. In the final frame, there is a speech bubble coming from his mouth with an image of two people playing football.](../images/language_boc_w01_f03.tif.jpg)"
   ]
  },
  {
   "cell_type": "markdown",
   "metadata": {},
   "source": [
    "__Figure 4__ I saw Michael walking down the street …"
   ]
  },
  {
   "cell_type": "markdown",
   "metadata": {},
   "source": [
    "Now think of how you might improve the vocabulary and add more detail, taking creative licence if you wish. Try to replace common words such as ‘said’ or ‘going’ for more advanced words. Think also about the linking of sentences."
   ]
  },
  {
   "cell_type": "markdown",
   "metadata": {},
   "source": [
    "#### Discussion\n",
    "\n",
    "Here is an example of what you might have written, although your text is likely to be different.\n",
    "\n",
    "<!--Quote id=-->\n",
    ">I saw Michael walking down the street. I said hello. He didn’t hear me. He had his headphones on. I walked up to him and asked him where he was going. He said he was going to play with his friends."
   ]
  },
  {
   "cell_type": "markdown",
   "metadata": {},
   "source": [
    "Here is an example of some of the changes you could have made:\n",
    "\n",
    "<!--Quote id=-->\n",
    ">I saw Michael walking down the busy street, so I shouted hello. He didn’t hear me as he had his headphones on. I walked up to him, greeted him, and asked him where he was heading. Michael replied that he was on his way to play football with his friends from school."
   ]
  },
  {
   "cell_type": "markdown",
   "metadata": {},
   "source": [
    "Even if your target language level isn’t at the stage where you could undertake such an activity (see what we did there?), it is useful to think about how you can expand and improve your writing, however basic or advanced it may be. \n"
   ]
  },
  {
   "cell_type": "markdown",
   "metadata": {},
   "source": [
    "There are a number of online sites and apps where you can post your writing and native or proficient speakers can give you feedback or offer corrections. While you will always have to take these with a pinch of salt, you might want to give them a try and decide for yourself if they work for you. \n",
    "\n",
    "Some of the sites or apps you could try are: \n",
    "\n",
    "* [lang-8.com/](http://lang-8.com/)\n",
    "\n",
    "* [hinative.com/](https://hinative.com/)\n",
    "\n",
    "* [yozzi.com/](http://yozzi.com/)\n",
    "\n",
    "You will also find that sites such as [italki.com](http://www.italki.com) have a journal facility which you can ask others in the community to correct for you, and apps such as [busuu.com](http://www.busuu.com) include writing exercises that other members of the community can correct for you.\n"
   ]
  }
 ],
 "metadata": {
  "jupytext": {
   "cell_metadata_filter": "-all",
   "main_language": "python",
   "notebook_metadata_filter": "-all",
   "text_representation": {
    "extension": ".md",
    "format_name": "markdown"
   }
  }
 },
 "nbformat": 4,
 "nbformat_minor": 4
}
