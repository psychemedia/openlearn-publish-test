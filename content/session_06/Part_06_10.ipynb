{
 "cells": [
  {
   "cell_type": "markdown",
   "metadata": {},
   "source": [
    "# 9 Summary of Week 6"
   ]
  },
  {
   "cell_type": "markdown",
   "metadata": {},
   "source": [
    "I hope this week has given you lots of ideas about how to learn vocabulary – and some understanding of how your memory works! In Weeks 4 and 5 we looked at speaking and listening. \n",
    "\n",
    "Next week Fernando will talk you through the two other language skills of reading and writing. \n",
    "\n",
    "You can now go to Week 7.\n"
   ]
  }
 ],
 "metadata": {
  "jupytext": {
   "cell_metadata_filter": "-all",
   "main_language": "python",
   "notebook_metadata_filter": "-all",
   "text_representation": {
    "extension": ".md",
    "format_name": "markdown"
   }
  }
 },
 "nbformat": 4,
 "nbformat_minor": 4
}
