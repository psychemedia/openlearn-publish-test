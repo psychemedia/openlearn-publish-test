{
 "cells": [
  {
   "cell_type": "markdown",
   "metadata": {},
   "source": [
    "# 5 Common strategies that don’t work"
   ]
  },
  {
   "cell_type": "markdown",
   "metadata": {},
   "source": [
    "One very commonly used strategy when you want to remember something (such as a telephone number, or a postcode, for instance, but also a word you’ve just learned in a new language) is to repeat it over and over again. While that strategy might work in the short term, it is not very likely that, on its own, it will be enough for you to be able to remember that piece of information in the long term. \n",
    "\n",
    "It might surprise you that there are other commonly used strategies, such as highlighting or underlining important phrases or sentences in a text, that have also been shown to be ineffective learning strategies if your aim is to remember the information. One of the reasons why these strategies don’t work as well as others is that, in order to encode information into your long-term memory, you should engage in activities that are effortful. It is by making the effort that you remember better.\n"
   ]
  }
 ],
 "metadata": {
  "jupytext": {
   "cell_metadata_filter": "-all",
   "main_language": "python",
   "notebook_metadata_filter": "-all",
   "text_representation": {
    "extension": ".md",
    "format_name": "markdown"
   }
  }
 },
 "nbformat": 4,
 "nbformat_minor": 4
}
