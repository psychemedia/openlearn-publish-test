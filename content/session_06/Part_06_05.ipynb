{
 "cells": [
  {
   "cell_type": "markdown",
   "metadata": {},
   "source": [
    "# 4 Your memory – or how to cope with so many words"
   ]
  },
  {
   "cell_type": "markdown",
   "metadata": {},
   "source": [
    "One of the things that students often tell me when they start to learn a language is that there are so many new words to memorise, it can feel overwhelming. And not just that, but when you have learned some vocabulary and you open your mouth to speak, all of a sudden your mind goes blank and you can’t remember how to say anything."
   ]
  },
  {
   "cell_type": "markdown",
   "metadata": {},
   "source": [
    "![This is a cartoon in six frames. In the first frame, a figure is in a queue. He is saying ‘Okay, practice what you’re gonna say. “I’m here to pick up a package.” “Package” is “Sendung”, female, so the accusative case won’t change the article’. In the next frame, the figure continues ‘“To pick up” is “abholen”, a prefix verb, so remember to separate the prefix out, and don’t forget it goes at the END in this case!’. In the third frame, the figure says ‘Ich bin hier um eine Sendung abzuholen. Ich bin hier um eine Sendung abzuholen. No sweat! Here we go!’ In the next frame, the character is now at the front of the queue and in front of the person working there. He says ‘Flubbbpp blaabbpptthh thbb fbb, pthhththpp thpp bpathh!’ He then says ‘I’m just going to go to the back of the line and try again, okay?’.](../images/language_boc_w6_f01.tif.jpg)"
   ]
  },
  {
   "cell_type": "markdown",
   "metadata": {},
   "source": [
    "__Figure 1__ Learning German."
   ]
  },
  {
   "cell_type": "markdown",
   "metadata": {},
   "source": [
    "So what are the strategies to learn vocabulary (and everything else)? Allow me to take a little detour to explain what is going on in your mind when you try to learn vocabulary.\n",
    "\n",
    "As humans, we are very good at processing information. Research into memory, cognition and thinking has sought to understand how we process information, and one important model that has emerged is the information processing model (IPM). According to this model, there are three types of memory: sensory memory, working memory, and long-term memory (Schraw and McCrudden, 2009).\n",
    "\n",
    "Watch this short video about sensory, working and long term memory.\n",
    "<!--MEDIACONTENT--><!--ENDMEDIACONTENT-->\n",
    "So, in what way is this important when learning languages, and more specifically, when learning vocabulary? The information that you receive through your sensory memory is usually processed too quickly for you to consciously control. After information enters your sensory memory, it is either almost immediately deleted from the system, or it is forwarded to your working memory. This is where information is processed, or assigned meaning. The processed information is then either transferred to your long-term memory though some sort of mental rehearsal process, or deleted if it’s no longer needed. Unlike your working memory, your long-term memory is more or less unlimited (Schraw and McCrudden, 2009).\n",
    "\n",
    "What you are trying to do when learning a language is to process the visual and verbal information that you come across and to transfer it to your long-term memory. In order to be a successful learner, you need to do several things:\n",
    "\n",
    "* As what you can hold in your short-term memory is very limited, you need to make sure you use those limited cognitive resources efficiently. Effective learners use processing strategies such as organisation (i.e. how the information is stored in long-term memory), inference (or making connections between separate concepts) and elaboration (or connecting new information to things you already know). We will return to those shortly.\n",
    "\n",
    "* Ideally, you want to achieve automaticity in much of what you do in your new language. Automaticity is about being able to perform a task quickly and efficiently, and this is achieved through repeated practice. When you are first learning to drive, you have to perform a series of complex processes that feel almost impossible to achieve. When you have learnt to drive, you can perform the same series of complex activities without even noticing, because you have achieved automaticity. It is exactly the same with learning a language. At the beginning, you might be hesitant when responding to a simple greeting, trying to remember the correct formula to use, the pronunciation, or the specific grammatical construction you need to address, for instance, a stranger rather than a friend. It might all feel very halting. When you become more proficient, you do this automatically, almost without thinking.\n",
    "\n",
    "* Finally, you also want to be able to focus your limited cognitive resources on what is really important for the task you are doing. So if you are at a busy airport and need to find out the gate for your plane to Manchester, you need to pay attention to the announcements and listen for the key word ‘Manchester’ – paying attention to who is coming and going in the airport, for instance, will only be a distraction. On the other hand, if you were waiting for someone at the airport, you would have to pay attention to the people around you rather than the announcements or any other irrelevant information. This selective processing is in fact what also characterises successful learners: you need to be able to identify the most important things to learn and use your limited cognitive resources to learn that.\n",
    "\n",
    "Information needs to be encoded into your long-term memory, and it also needs to be retrieved when it is needed. Encoding refers to the strategies that move the information from your short-term memory to your long-term memory. Retrieval processes, on the other hand, are those that enable you to search your memory and access the information in your long-term memory. \n",
    "\n",
    "All this might seem a little abstract, so let’s look at what it means in practice.\n"
   ]
  }
 ],
 "metadata": {
  "jupytext": {
   "cell_metadata_filter": "-all",
   "main_language": "python",
   "notebook_metadata_filter": "-all",
   "text_representation": {
    "extension": ".md",
    "format_name": "markdown"
   }
  }
 },
 "nbformat": 4,
 "nbformat_minor": 4
}
