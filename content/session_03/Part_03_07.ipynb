{
 "cells": [
  {
   "cell_type": "markdown",
   "metadata": {},
   "source": [
    "# 6 Too many resources?"
   ]
  },
  {
   "cell_type": "markdown",
   "metadata": {},
   "source": [
    "With so many resources to choose from, it can be hard to choose which ones to prioritise. It’s usually rewarding to focus on activities that you find easy, say for example using flashcards to test yourself on vocabulary. Getting them right and decreasing the number of items that you fail to remember feels like a worthwhile activity. But such activity can distract you from focusing on other activities that may be harder and less rewarding, but fill a bigger gap in your language learning needs. A good way to approach the selection of resources is therefore to think first about what you need more practice on: reading? Writing? Listening? Speaking? Pronunciation? Vocabulary revision? Memorising verb forms? Having a clear outcome of what you want to achieve will help you select resources that focus on what you need. Your time is limited and you need to use it wisely, so adjusting your SMART goals regularly is a useful task that will keep you focussed. And as Olly said in Week 2, learning a language means working hard, staying disciplined, and being in control of yourself and your environment.\n"
   ]
  }
 ],
 "metadata": {
  "jupytext": {
   "cell_metadata_filter": "-all",
   "main_language": "python",
   "notebook_metadata_filter": "-all",
   "text_representation": {
    "extension": ".md",
    "format_name": "markdown"
   }
  }
 },
 "nbformat": 4,
 "nbformat_minor": 4
}
