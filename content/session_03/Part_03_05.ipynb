{
 "cells": [
  {
   "cell_type": "markdown",
   "metadata": {},
   "source": [
    "# 4 Choosing and evaluating language-learning resources"
   ]
  },
  {
   "cell_type": "markdown",
   "metadata": {},
   "source": [
    "Finding resources is only the first step. You may be overwhelmed by the amount of resources you find, and your time to spend using these may be limited. It’s very important that you choose the activities that offer the best solutions for your own individual needs as a language learner. But how do you decide which resource works best for you? Since many of the resources offer at least some content for free, you can try out what works and what doesn’t. Let’s look at a framework that can help you evaluate the resources you find.\n",
    "\n",
    "The framework is divided into four primary categories: language learning, pedagogy, user experience, and technology, each with a number of criteria. The evaluation framework is presented as a list of questions to help you decide whether a resource meets your learning needs. Watch the video below to find out more.\n",
    "<!--MEDIACONTENT--><video xmlns:str=\"http://exslt.org/strings\" width=\"80%\" download=\"\"><source src=\"https://www.open.edu/openlearn/ocw/pluginfile.php/1395607/mod_oucontent/oucontent/71942/boc_lll_1_video_week_3_section_4_6.mp4\" type=\"video/mp4\"></source></video><!--TRANSCRIPT--><table xmlns:str=\"http://exslt.org/strings\" border=\"1\"><tr><td>\n",
    "__FERNANDO :__ *Here are the main four criteria for evaluating language learning resources-- language learning, pedagogy, user experience, and technology. To decide if a resource is what you need in terms of language learning, you should ask yourself the following questions as applicable to the resource you are evaluating. *;\n",
    "*Reading-- does the resource provide text in the target language? Listening-- does it provide audio in the target language? Writing-- does it offer opportunities to write in the target language? Speaking-- does it offer opportunities to speak in the target language? Vocabulary-- does it offer specific activities for vocabulary acquisition? *;\n",
    "*Grammar-- does the resource offer specific activities for grammar practise? Pronunciation and intonation-- does the resource offer specific activities for pronunciation and intonation? Cultural information-- does it include information about customs and traditions in the areas where the language is spoken? Use of visual content-- are images and videos stereotypical or stock images? Do they represent the diversity of the areas where the language is spoken? Language varieties-- does it include different regional or national varieties of the language? *;\n",
    "*In terms of pedagogy-- or teaching, more generally-- here are some things to consider when you are evaluating a resource. Description-- does the description match what the resource actually does? Teaching-- does it present, explain, or model language, or does it just test it? Progress-- does the resource allow the user to track progress or see previous attempts? Scaffolding-- do activities progress in difficulty in a way that supports the learner? *;\n",
    "*Feedback-- does the resource provide feedback? Is it just right or wrong, or actual meaningful explanations? Quality of content-- does the content have any errors or omissions? Use of media-- does it make use of sound, images, and video in a meaningful way? Differentiation-- does the resource offer different levels depending on ability? Can these be accessed directly? Engagement-- does it keep the user interested, or are activities repetitive? *;\n",
    "*With regards to the user experience, it will be useful to consider the following points. Interaction-- does the resource allow users to interact with each other? Interactivity-- is engagement with the resource content active or passive? Sharing-- does it allow or encourage sharing content? Badging-- does it provides recognition that can be shared on social media? *;\n",
    "*Price-- does the user need to pay to download the resource? Is there a trial version? Registration-- does the resource require the user to register? Advertising-- does it include pop up ads? Are these distracting? *;\n",
    "*If the resource you're evaluating is a digital tool, you should consider the following technology issues, like interface. Is the interface clear and uncluttered? Navigation-- is the resource intuitive to navigate, with clear menus and options? Instructions-- does it offer instructions on how to use it? Stability-- does it freeze or crash? Gamification-- does it have game-like features to increase engagement or a reward system? Support-- does the resource have a help section? Offline work-- does it require an internet connection to work? *;\n",
    "*There is some overlap between the criteria, and some of them apply to more than one of the four main categories. For example, feedback could apply to pedagogy-- how it relates to teaching-- to technology in terms of how it's presented, language learning-- the quality of the feedback-- and the user experience-- how well the feedback fits with the learning process, where it appears, and how it can be accessed. *;\n",
    "</td></tr></table><!--ENDTRANSCRIPT-->\n",
    "\n",
    "![figure images/boc_lll_1_video_week_3_section_4_6_still.jpg](../images/boc_lll_1_video_week_3_section_4_6_still.jpg)\n",
    "<!--ENDMEDIACONTENT-->\n",
    "How many of the criteria does a resource need to meet to be considered apt for language learning?\n",
    "\n",
    "Well, there isn’t really a minimum set of criteria that must be met, and as a learner you may find a resource useful or not depending on your purpose, your learning preferences, your location, your personal circumstances, and other factors. In addition, some criteria will only apply to a resource depending on what it is supposed to do. For example, there would be no point in evaluating a vocabulary resource negatively for not offering grammar practice, as that is not the point of the resource. We would, however, expect resources that claim to offer a full language learning experience, to receive a positive evaluation for a higher number of the criteria.\n"
   ]
  }
 ],
 "metadata": {
  "jupytext": {
   "cell_metadata_filter": "-all",
   "main_language": "python",
   "notebook_metadata_filter": "-all",
   "text_representation": {
    "extension": ".md",
    "format_name": "markdown"
   }
  }
 },
 "nbformat": 4,
 "nbformat_minor": 4
}
