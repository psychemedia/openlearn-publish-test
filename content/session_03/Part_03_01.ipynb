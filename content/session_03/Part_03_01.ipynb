{
 "cells": [
  {
   "cell_type": "markdown",
   "metadata": {},
   "source": [
    "# Introduction"
   ]
  },
  {
   "cell_type": "markdown",
   "metadata": {},
   "source": [
    "This week of the course is written by Fernando Rosell-Aguilar."
   ]
  },
  {
   "cell_type": "markdown",
   "metadata": {},
   "source": [
    "![This is a photograph of Fernando Rosell-Aguilar.](../images/language_boc_week3_f01.tif.jpg)"
   ]
  },
  {
   "cell_type": "markdown",
   "metadata": {},
   "source": [
    "__Figure 1__ Fernando Rosell-Aguilar, author of Week 3."
   ]
  },
  {
   "cell_type": "markdown",
   "metadata": {},
   "source": [
    "So far, you have looked at motivation, setting realistic goals, and hopefully also gained a better understanding of what it means to learn a language. This week I will show you ways to find useful resources to support your language learning and present a framework to evaluate the resources you find according to your own individual learning needs.\n",
    "\n",
    "By the end of this week, you should be able to:\n",
    "\n",
    "* find resources for learning languages\n",
    "\n",
    "* understand the different sorts of resources you can use\n",
    "\n",
    "* choose and evaluate resources for language learning.\n"
   ]
  }
 ],
 "metadata": {
  "jupytext": {
   "cell_metadata_filter": "-all",
   "main_language": "python",
   "notebook_metadata_filter": "-all",
   "text_representation": {
    "extension": ".md",
    "format_name": "markdown"
   }
  }
 },
 "nbformat": 4,
 "nbformat_minor": 4
}
