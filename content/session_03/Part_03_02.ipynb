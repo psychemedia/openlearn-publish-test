{
 "cells": [
  {
   "cell_type": "markdown",
   "metadata": {},
   "source": [
    "# 1 Where do I start? "
   ]
  },
  {
   "cell_type": "markdown",
   "metadata": {},
   "source": [
    "Watch the following video in which two language learners talk about what they find hard about selecting and using resources.\n",
    "<!--MEDIACONTENT--><video xmlns:str=\"http://exslt.org/strings\" width=\"80%\" download=\"\"><source src=\"https://www.open.edu/openlearn/ocw/pluginfile.php/1395607/mod_oucontent/oucontent/71942/boc_lll_1_video_week3_voxpops.mp4\" type=\"video/mp4\"></source></video><!--TRANSCRIPT--><table xmlns:str=\"http://exslt.org/strings\" border=\"1\"><tr><td>\n",
    "__LEARNER 1:__ *I've had difficulties identifying particular learning apps that I've found useful for me. So I've tried a few different ones. But then you have to take quite a piecemeal approach, because I've tried a few different ones. And I've thought, well, this one looks interesting. That one looks interesting. And eventually I settled on one that I found was particularly useful and fit my own personal time constraints and my own learning preferences as well. *;\n",
    "\n",
    "__LEARNER 2:__ *When I started out learning languages, one of the problems was finding resources and knowing which resources were good and which weren't-- it was really kind of trial and error. And it involved investing quite a bit of time in that resource before you realised it wasn't quite useful. *;\n",
    "</td></tr></table><!--ENDTRANSCRIPT-->\n",
    "\n",
    "![figure images/boc_lll_1_video_week3_voxpops_still.jpg](../images/boc_lll_1_video_week3_voxpops_still.jpg)\n",
    "<!--ENDMEDIACONTENT-->\n",
    "You may be taking a language course, and in that case your teacher may supply language learning materials or recommend that you buy a course book. Some people choose to do extra work on top their coursework and look for additional learning resources. Alternatively, you may be studying independently, or have stopped formal learning and are looking for resources to keep up with the language(s) you already have a good knowledge of. There are many resources available to support language learners: grammar books, books in the target language or bilingual books, graded readers, newspapers, films, TV channels, audio recordings, websites with all sorts of content, either aimed at language learners or at native speakers, and mobile apps, to name just a few. With such a wealth of material available yet often so little time to spend practising languages, it is sometimes hard to decide which material is the most appropriate for you.\n"
   ]
  }
 ],
 "metadata": {
  "jupytext": {
   "cell_metadata_filter": "-all",
   "main_language": "python",
   "notebook_metadata_filter": "-all",
   "text_representation": {
    "extension": ".md",
    "format_name": "markdown"
   }
  }
 },
 "nbformat": 4,
 "nbformat_minor": 4
}
