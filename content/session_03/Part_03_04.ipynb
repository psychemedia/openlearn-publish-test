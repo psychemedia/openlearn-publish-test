{
 "cells": [
  {
   "cell_type": "markdown",
   "metadata": {},
   "source": [
    "# 3 Summary"
   ]
  },
  {
   "cell_type": "markdown",
   "metadata": {},
   "source": [
    "This week looked at the importance of dataframes and the ‘dot’ notation, and the various dataframe methods. It also covered:\n",
    "\n",
    "* CSV files\n",
    "\n",
    "* Comparison operators\n",
    "\n",
    "* Bitwise operators.\n",
    "\n",
    "Next week looks at weather data and how to use the data to get answers to your questions.\n"
   ]
  }
 ],
 "metadata": {
  "jupytext": {
   "cell_metadata_filter": "-all",
   "main_language": "python",
   "notebook_metadata_filter": "-all",
   "text_representation": {
    "extension": ".md",
    "format_name": "markdown"
   }
  }
 },
 "nbformat": 4,
 "nbformat_minor": 4
}
