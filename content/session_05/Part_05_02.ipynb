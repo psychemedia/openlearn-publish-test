{
 "cells": [
  {
   "cell_type": "markdown",
   "metadata": {},
   "source": [
    "# 1 In what situations are listening skills required?"
   ]
  },
  {
   "cell_type": "markdown",
   "metadata": {},
   "source": [
    "Listening is regarded by many language learners to be key to developing competence in a language. Why is that?\n",
    "\n",
    "Well, as you learned in Week 2, many people think about their language learning goals in these terms: ‘I want to *speak* fluently’. However, if you can’t understand what’s being said in any given situation, does it really matter how good your speaking is?\n",
    "\n",
    "This week you’re going to explore the skill of listening and answer the following questions:\n",
    "\n",
    "* What does it mean to listen in a foreign language?\n",
    "\n",
    "* How much should you be able to understand?\n",
    "\n",
    "* What are the different kinds of listening?\n",
    "\n",
    "* What’s the best way to improve your listening skills?\n",
    "\n",
    "* How can you listen and understand when you’re still a beginner?"
   ]
  },
  {
   "cell_type": "markdown",
   "metadata": {},
   "source": [
    "### Activity 1 Reflecting on your native language listening \n",
    "__Timing: Allow about 30 minutes__"
   ]
  },
  {
   "cell_type": "markdown",
   "metadata": {},
   "source": [
    "#### Question\n",
    "\n",
    "Think about the last 24 hours in your life. Write down every time you had to listen in the language you use most often. Think of as many examples as you can (e.g. watching TV, conversation with a colleague, meeting, ordering lunch).\n",
    "\n",
    "Look over your list. Now think back to those situations you wrote down, and imagine what would happen if you were unable to understand. How differently would you experience life? "
   ]
  },
  {
   "cell_type": "markdown",
   "metadata": {},
   "source": [
    "#### Discussion\n",
    "\n",
    "You might be surprised at not only how often you need to listen, but how important listening is to living your life.\n",
    "\n",
    "\n"
   ]
  }
 ],
 "metadata": {
  "jupytext": {
   "cell_metadata_filter": "-all",
   "main_language": "python",
   "notebook_metadata_filter": "-all",
   "text_representation": {
    "extension": ".md",
    "format_name": "markdown"
   }
  }
 },
 "nbformat": 4,
 "nbformat_minor": 4
}
