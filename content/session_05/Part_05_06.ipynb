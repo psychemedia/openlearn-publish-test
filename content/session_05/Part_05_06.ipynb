{
 "cells": [
  {
   "cell_type": "markdown",
   "metadata": {},
   "source": [
    "# 5 What kind of material should you use?"
   ]
  },
  {
   "cell_type": "markdown",
   "metadata": {},
   "source": [
    "There are generally two kinds of material you can use for language learning or practice:\n",
    "\n",
    "1. authentic listening materials\n",
    "\n",
    "2. graded listening materials.\n",
    "\n",
    "An authentic listening is something that has been created for a native-speaker audience.\n",
    "\n",
    "A graded listening has been simplified for the benefit of learners of the language."
   ]
  },
  {
   "cell_type": "markdown",
   "metadata": {},
   "source": [
    "### Activity 8 Authentic or graded?\n",
    "__Timing: Allow about 10 minutes__"
   ]
  },
  {
   "cell_type": "markdown",
   "metadata": {},
   "source": [
    "#### Question\n",
    "\n",
    "Listen to the following two excerpts. One is authentic, and one has been graded for intermediate level English learners. Which is which, and how is the language different between the two? \n",
    "<!--MEDIACONTENT--><!--TRANSCRIPT--><table xmlns:str=\"http://exslt.org/strings\" border=\"1\"><tr><td>\n",
    "__COMM 1 :__ *The first decade of the twenty-first century saw three worldwide crises that threatened the global economy. Financial markets collapsed, precipitating a massive recession; there were sudden spikes in food prices leading to widespread hunger and riots in developing countries; and the projected environmental impact of climate change left no room for doubt that urgent action was needed on carbon emissions. *;\n",
    "\n",
    "__ANDREW SIMMS :__ * Each one of these independently is enough to cause a scale of upheaval the likes of which, to see some sort of comparison, we’d have to look back to the Great Depression of the 1930s. What we’re worried about is that the combination of all three happening simultaneously may represent a challenge to our social and economic systems which we have never seen before, and the consequences of which are extremely hard to predict, other than to say that they will be major, they will be destructive and they will threaten the operating systems upon which we depend – our environmental operating systems and our social operating systems.*;\n",
    "</td></tr></table><!--ENDTRANSCRIPT--><!--ENDMEDIACONTENT--><!--MEDIACONTENT--><!--TRANSCRIPT--><table xmlns:str=\"http://exslt.org/strings\" border=\"1\"><tr><td>\n",
    "__WOMAN:__ *At the beginning of the twenty-first century there were three global crises that threatened the global economy. Financial markets collapsed, and there was a massive recession; food prices increased rapidly, and there were hunger and riots in developing countries; and the possible impact of climate change in the environment meant that urgent action was needed on carbon emissions. *;\n",
    "\n",
    "__MAN:__ *Each one of these independently can cause a very big crisis like the Great Depression of the 1930s. We are worried that the combination of all three happening simultaneously can be a very big challenge to our social and economic systems. The consequences of this challenge are very difficult to predict, but they will be major, they will be destructive and they will threaten the operating systems we depend on – our environmental operating systems and our social operating systems.*;\n",
    "</td></tr></table><!--ENDTRANSCRIPT--><!--ENDMEDIACONTENT-->\n",
    "Arguments rage about whether authentic or graded material is best for language teaching, but for you, the important question is a different one: ‘How can I get the most out of the listening activity?’\n",
    "\n",
    "It is every language learner’s dream to effortlessly understand films, or to hold in-depth conversations with like-minded people, all in their target language. However, the reality is that you won’t be able to understand this kind of authentic language at first. During the early stages of learning a language, you will be reliant on simple, graded material in your textbook. You can then progress to simple audio or video, produced for language learners, and then eventually, when you move beyond the intermediate level, you can begin to work with authentic language intended for native speakers. (It’s a big leap!) As you become more advanced in your learning, you should still regularly revisit and amend your SMART goals, so that you challenge yourself all the time.\n",
    "\n",
    "Finding good material for listening practice (or reading, for that matter, as Fernando will explain in Week 7) is often a source of great difficulty for learners. ‘It’s either too easy or too hard!’ is a common complaint.\n",
    "\n",
    "Given that the most beneficial activity, I would say, is to do as much __extensive listening__ as possible – which involves listening to substantial material – the best way to see the challenge is as follows:\n",
    "\n",
    "‘As a beginner, I will be getting my listening practice from textbooks and other beginners’ resources. However, I will then need to progress to authentic material, so that I can spend more time listening.’\n",
    "\n",
    "\n"
   ]
  }
 ],
 "metadata": {
  "jupytext": {
   "cell_metadata_filter": "-all",
   "main_language": "python",
   "notebook_metadata_filter": "-all",
   "text_representation": {
    "extension": ".md",
    "format_name": "markdown"
   }
  }
 },
 "nbformat": 4,
 "nbformat_minor": 4
}
