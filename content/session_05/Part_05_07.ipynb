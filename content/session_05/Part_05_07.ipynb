{
 "cells": [
  {
   "cell_type": "markdown",
   "metadata": {},
   "source": [
    "# 6 Listening study skills"
   ]
  },
  {
   "cell_type": "markdown",
   "metadata": {},
   "source": [
    "Now that you’re familiar with the key concepts of intensive/extensive listening, and graded/authentic audio, you will be more aware of how you’re studying, and why different kinds of material or exercises may be harder or easier than others.\n",
    "\n",
    "In this section, you’ll look at practical recommendations for improving your listening skills."
   ]
  },
  {
   "cell_type": "markdown",
   "metadata": {},
   "source": [
    "### Activity 9 Listening quiz \n",
    "__Timing: Allow about 5 minutes__"
   ]
  },
  {
   "cell_type": "markdown",
   "metadata": {},
   "source": [
    "#### Question\n",
    "\n",
    "As a beginner, I should be using:\n",
    "\n",
    "graded audio\n",
    "\n",
    "authentic audio"
   ]
  },
  {
   "cell_type": "markdown",
   "metadata": {},
   "source": [
    "#### Question\n",
    "\n",
    "In the classroom, most listening activities are:\n",
    "\n",
    "intensive listening\n",
    "\n",
    "extensive listening"
   ]
  },
  {
   "cell_type": "markdown",
   "metadata": {},
   "source": [
    "#### Question\n",
    "\n",
    "A movie is considered to be:\n",
    "\n",
    "authentic audio\n",
    "\n",
    "graded audio"
   ]
  },
  {
   "cell_type": "markdown",
   "metadata": {},
   "source": [
    "#### Question\n",
    "\n",
    "The best way to develop listening skills is by:\n",
    "\n",
    "extensive listening\n",
    "\n",
    "intensive listening\n"
   ]
  },
  {
   "cell_type": "markdown",
   "metadata": {},
   "source": [
    "It goes without saying that authentic material, such as movies or radio programmes, can be extremely challenging to understand, even for more advanced learners. This is why in Week 1 we talked so much about expectations, and making sure they are realistic. Now, here’s the part where those expectations intersect with how you actually study.\n",
    "\n",
    "Earlier, you saw how native speakers can follow difficult conversations, even when you can only hear half of the words. The lessons for you was that you can understand the main message, and follow along, without understanding every word.\n",
    "\n",
    "Watch the following video in which Olly talks about a procedure for listening to audio material.\n",
    "<!--MEDIACONTENT--><video xmlns:str=\"http://exslt.org/strings\" width=\"80%\" download=\"\"><source src=\"https://www.open.edu/openlearn/ocw/pluginfile.php/1395607/mod_oucontent/oucontent/71942/boc_lll_1_video_week_5_section_6_richards.mp4\" type=\"video/mp4\"></source></video><!--TRANSCRIPT--><table xmlns:str=\"http://exslt.org/strings\" border=\"1\"><tr><td>\n",
    "__OLLY RICHARDS:__ *Now, you've probably noticed in your language learning that one of the most difficult skills to get right is listening. When you listen to native speakers, it's pretty fast, whether it's people that you're talking to or whether you're watching TV, or movies, or things like that. And this can be a problem. So what I'd like to do in this video is describe a procedure that I recommend for practicing listening to audio material. It will help you access it, help you make sense of it, and help you enjoy it a little bit more. *;\n",
    "*So the first thing to do is to find material that is lengthy, which means at least a couple of minutes long, and that comes with the transcripts if possible. This is important because, actually, a lot of material that you find out there can be very short and bite-sized, which is great for learning words and phrases, but is not so good for actually practicing the listening skill as such. *;\n",
    "*So find something that's lengthy, ideally with a transcript, and begin by listening to the audio from the beginning to the end without stopping or looking up any words. Simply press play, and don't stop until you get to the end. At this point, listen to the audio by itself without looking at the transcript. You're just listening. *;\n",
    "*As you listen-- and this is easier said than done-- try not to translate in your head what you hear. Simply try to keep your mind in the target language and just capture the underlying meaning of the words you hear. Listen to the sounds. Try and get the gist of what's being said. This can be hard, and it can feel hard, but it does get easier over time. *;\n",
    "*And as soon as you start to look up words, you actually stop practicing the listening skill. And you start studying instead, which is what most people spend most of their time doing. We're interested in practicing the listening skill, and it's for this reason that you should listen all the way through to the end. And not just that, but listen to the audio many, many times over-- with each repetition, pushing your ear to hear and understand more and more each time. *;\n",
    "*Now, after you've done that a few times, then you can add the transcript. So you'll listen to the audio, and you're reading as you listen. This is very powerful. When you can read what you're listening to, you'll discover that you understand a lot more than you thought. Because what you can do is you can match the words that you're listening to to the words on the page. *;\n",
    "*Now, eventually, after listening and reading many, many times, you'll feel a bit stuck. There's probably lots of stuff you don't understand, and you have stopped making progress. And you might even begin to feel a little bit frustrated that it's too hard for you. At this point, this is where you shift from actually doing a lot of listening to beginning to do a little bit of studying. *;\n",
    "*So at that point, you can begin to look up a few words that you don't know to try and improve your understanding-- unlock the meaning of some of the text. But don't just start up at the beginning and look up every single word. Instead, look up the most important words, because they will help you get access to the rest of the material. *;\n",
    "*So which are the most important words in the material? Well, the most important words are those words that crop up multiple times. If a word comes up once, it probably doesn't matter that much to the story. But if you see it over and over again, it's far more likely to be important and to be describing something that is central to what you're listening to. *;\n",
    "*So continue like this, moving gradually from the gist-- just general listening-- to looking up the odd word here or there to start to understand what you're listening to. And as you do this, you move from a position of not understanding anything to gradually understanding quite a lot of what you are listening to. And it all comes down to this repetition-- listening to the material over and over again. *;\n",
    "*Now, the amount of time this process takes will depend on the material that you choose to listen to. If you choose something that's far above your level in a really complicated radio show on politics or something, you will need to look up a lot of words in order to understand. For this reason, and as a general guide, it's a good idea to choose listening material that is only slightly above your current level. *;\n",
    "*And in linguistics, this is known as comprehensible input. So it's where you are, but just a little bit higher so you're pushing yourself to understand and to listen to new material without being overwhelmed. Choosing material at this level allows you to focus on the listening skill itself without being obstructed and confused and slowed down by lots of unknown words. However, it can be difficult to find material that is at that specific level, so don't let that be a deal breaker. If you've got movies you like or podcasts you like, by all means, listen to those. *;\n",
    "*The process is not always easy, especially in the early stages when your ear isn't yet used to the language and you don't know enough words to really be able to understand. However, if you follow this process-- you listen to the material and you do it many times, moving from gist to more detail-- then there are huge gains in your comprehension that are up for grabs. You will find your level and your general listening comprehension improving quickly as long as you're willing to stick at it and work at it over time. It does get easier, and there are big rewards there if you stick at it. *;\n",
    "</td></tr></table><!--ENDTRANSCRIPT-->\n",
    "\n",
    "![figure images/boc_lll_1_video_week_5_section_6_richards_still.jpg](../images/boc_lll_1_video_week_5_section_6_richards_still.jpg)\n",
    "<!--ENDMEDIACONTENT-->"
   ]
  }
 ],
 "metadata": {
  "jupytext": {
   "cell_metadata_filter": "-all",
   "main_language": "python",
   "notebook_metadata_filter": "-all",
   "text_representation": {
    "extension": ".md",
    "format_name": "markdown"
   }
  }
 },
 "nbformat": 4,
 "nbformat_minor": 4
}
