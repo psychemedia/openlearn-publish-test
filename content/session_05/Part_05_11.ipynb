{
 "cells": [
  {
   "cell_type": "markdown",
   "metadata": {},
   "source": [
    "# 10 Summary of Week 5"
   ]
  },
  {
   "cell_type": "markdown",
   "metadata": {},
   "source": [
    "This week you have looked at how to develop your listening skills as a beginner and then when you reach a more advanced level. \n",
    "\n",
    "You should now be able to: \n",
    "\n",
    "* understand what is involved in listening\n",
    "\n",
    "* find out about the difference between intensive and extensive listening\n",
    "\n",
    "* understand the different types of authentic and graded audio, and look for audio resources for yourself.\n",
    "\n",
    "I mentioned earlier that one of the key things you must do when you start learning a new language is to grow your vocabulary. Next week Tita will cover this aspect of language learning in detail and show you some techniques for growing your vocabulary.\n",
    "\n",
    "You can now go to Week 6.\n"
   ]
  }
 ],
 "metadata": {
  "jupytext": {
   "cell_metadata_filter": "-all",
   "main_language": "python",
   "notebook_metadata_filter": "-all",
   "text_representation": {
    "extension": ".md",
    "format_name": "markdown"
   }
  }
 },
 "nbformat": 4,
 "nbformat_minor": 4
}
