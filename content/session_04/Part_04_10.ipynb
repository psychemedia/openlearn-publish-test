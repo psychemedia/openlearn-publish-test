{
 "cells": [
  {
   "cell_type": "markdown",
   "metadata": {},
   "source": [
    "# 9 What happens if it doesn’t work? "
   ]
  },
  {
   "cell_type": "markdown",
   "metadata": {},
   "source": [
    "Sometimes, you might find that you have found a partner that is unreliable and doesn’t turn up at the arranged time, that they speak too fast even when you tell them to slow down, or that you simply have little in common or don’t get on. If that’s the case, the best thing to do is to stop the language exchange sessions, and to find yourself another partner.\n",
    "\n",
    "Also, remember that most learners are nervous when they first start trying to speak the language that they are learning. I know I am, but I remind myself that every language learner has been in the same boat. Everyone has to start somewhere.\n"
   ]
  }
 ],
 "metadata": {
  "jupytext": {
   "cell_metadata_filter": "-all",
   "main_language": "python",
   "notebook_metadata_filter": "-all",
   "text_representation": {
    "extension": ".md",
    "format_name": "markdown"
   }
  }
 },
 "nbformat": 4,
 "nbformat_minor": 4
}
