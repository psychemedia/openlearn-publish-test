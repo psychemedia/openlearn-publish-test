{
 "cells": [
  {
   "cell_type": "markdown",
   "metadata": {},
   "source": [
    "# 4 Summary\n"
   ]
  },
  {
   "cell_type": "markdown",
   "metadata": {},
   "source": [
    "![An image of storm clouds and a double rainbow above a field with a dirt road ](../images/ou_futurelearn_learn_to_code_fig_1052.jpg)"
   ]
  },
  {
   "cell_type": "markdown",
   "metadata": {},
   "source": [
    "__Figure 16__"
   ]
  },
  {
   "cell_type": "markdown",
   "metadata": {},
   "source": [
    "This week you have learned how to: \n",
    "\n",
    "* load a dataset into a dataframe from a CSV file\n",
    "\n",
    "* clean data\n",
    "\n",
    "* use the data to get answers to your questions.\n",
    "\n",
    "Next week you will learn about the techniques behind the creation of a combined dataset. \n",
    "\n",
    "You are now halfway through the course. The Open University would really appreciate your feedback and suggestions for future improvement in our optional [end-of-course survey](https://www.surveymonkey.co.uk/r/BOCENDlearntocode), which you will also have an opportunity to complete at the end of Week 8. Participation will be completely confidential and we will not pass on your details to others.\n"
   ]
  }
 ],
 "metadata": {
  "jupytext": {
   "cell_metadata_filter": "-all",
   "main_language": "python",
   "notebook_metadata_filter": "-all",
   "text_representation": {
    "extension": ".md",
    "format_name": "markdown"
   }
  }
 },
 "nbformat": 4,
 "nbformat_minor": 4
}
