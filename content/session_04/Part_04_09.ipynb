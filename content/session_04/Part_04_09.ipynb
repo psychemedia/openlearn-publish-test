{
 "cells": [
  {
   "cell_type": "markdown",
   "metadata": {},
   "source": [
    "# 8 Top tips"
   ]
  },
  {
   "cell_type": "markdown",
   "metadata": {},
   "source": [
    "Here are my top tips to make language exchanges work:\n",
    "\n",
    "* Find a language exchange partner. Don’t procrastinate – go online now and sign up to a language exchange. Make it your goal to find three potential conversation partners and set up three language exchange sessions with them this week. I know it’s scary, but trust me: do it, and you will never look back.\n",
    "\n",
    "* Look for a language exchange partner with whom you have something in common (hobbies, work, interests).\n",
    "\n",
    "* Try to find a time slot that works for both of you (e.g. Tuesday evenings at 7.30) and stick to it, meeting every week. \n",
    "\n",
    "* Split the time of the exchange equally and stick to it. If your partner is quite fluent in English and you are a beginner in their language, it is easy to spend more time in English than in the language you want to practise. I find that starting with one language one week, and the other language the following week helps to keep things even. Also, set a timer to 30 minutes, so you know when it’s time to swap languages.\n",
    "\n",
    "* Be prepared. If you are a beginner, it is especially important that you prepare for your language exchange, otherwise you might find that you dry up or run out of things to say. And remember, the onus is on you to decide how best to use your 30 minutes. My research has shown that beginners who don’t prepare for their exchanges soon become demotivated.\n",
    "\n",
    "* Although it is tempting to stick to the same tried and tested activities, do try out new things, and make them fun. \n",
    "\n",
    "* If your partner speaks English at an intermediate level or above, and you are not sure what to talk about, ask them to find interesting things to talk about in the English part of the session. One of my conversation partners often sends me a short article or a TED video in English, which I watch before the session, and it means we always have lots of interesting things to discuss in the English part of the session. \n",
    "\n",
    "* Finally, it is a good idea to start off by setting yourself the task to try 2 or 3 partners in your first week. One of them at least is bound to be just what you need or you might be lucky and find several languages exchange partners you get on with."
   ]
  },
  {
   "cell_type": "markdown",
   "metadata": {},
   "source": [
    "### Activity 3 Taking the next step on your language exchange platform \n",
    "__Timing: Allow about 30 minutes__"
   ]
  },
  {
   "cell_type": "markdown",
   "metadata": {},
   "source": [
    "#### Question\n",
    "\n",
    "If you are interested in trying out a language exchange and have signed up on one of the available platforms, go and update your profile now, providing some information about yourself. Then, look for three possible language exchange partners and get in touch with them, with the aim of meeting up in the next seven days.\n",
    "\n",
    "\n"
   ]
  }
 ],
 "metadata": {
  "jupytext": {
   "cell_metadata_filter": "-all",
   "main_language": "python",
   "notebook_metadata_filter": "-all",
   "text_representation": {
    "extension": ".md",
    "format_name": "markdown"
   }
  }
 },
 "nbformat": 4,
 "nbformat_minor": 4
}
