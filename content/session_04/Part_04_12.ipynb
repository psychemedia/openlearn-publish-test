{
 "cells": [
  {
   "cell_type": "markdown",
   "metadata": {},
   "source": [
    "# 11 Summary of Week 4"
   ]
  },
  {
   "cell_type": "markdown",
   "metadata": {},
   "source": [
    "You should now be able to:\n",
    "\n",
    "* understand what is involved in speaking\n",
    "\n",
    "* understand different ways to practise speaking on your own and with others\n",
    "\n",
    "* understand different activities that you can do to practise your speaking skills.\n",
    "\n",
    "Next week, Olly will talk about listening which, as you’ve seen this week, is the other side of the coin.\n",
    "\n",
    "You can now go to Week 5.\n"
   ]
  }
 ],
 "metadata": {
  "jupytext": {
   "cell_metadata_filter": "-all",
   "main_language": "python",
   "notebook_metadata_filter": "-all",
   "text_representation": {
    "extension": ".md",
    "format_name": "markdown"
   }
  }
 },
 "nbformat": 4,
 "nbformat_minor": 4
}
