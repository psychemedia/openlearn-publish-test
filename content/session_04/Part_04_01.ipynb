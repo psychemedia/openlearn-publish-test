{
 "cells": [
  {
   "cell_type": "markdown",
   "metadata": {},
   "source": [
    "# 1 Loading the weather data"
   ]
  },
  {
   "cell_type": "markdown",
   "metadata": {},
   "source": [
    "You have learned some more about Python and the pandas module and tried it out on a fairly small dataset. You are now ready to explore a dataset from the Weather Underground."
   ]
  },
  {
   "cell_type": "markdown",
   "metadata": {},
   "source": [
    "![An image of filter like diagonal strips across various skies such as an orange sunset, a storm and a clear blue sky ](../images/ou_futurelearn_learn_to_code_fig_1039.jpg)"
   ]
  },
  {
   "cell_type": "markdown",
   "metadata": {},
   "source": [
    "__Figure 1__"
   ]
  },
  {
   "cell_type": "markdown",
   "metadata": {},
   "source": [
    "Open the file London_2014.csv and save it in the disk folder or CoCalc project you created in Week 1.\n",
    "\n",
    "__Do not be tempted to open this file with Excel__ as this application will attempt to localise the data in the file, i.e. use your country’s local data formats, which will make much of what follows rather incomprehensible! You can if you like open the file with a simple text editor, but __do not make any changes__.\n",
    "\n",
    "The CSV file can be loaded into a dataframe by executing the following code:\n",
    "\n",
    "``In []:``\n"
   ]
  },
  {
   "cell_type": "code",
   "execution_count": null,
   "metadata": {
    "lines_to_next_cell": 2
   },
   "outputs": [],
   "source": [
    "\n",
    "from pandas import *\n",
    "london = read_csv('London_2014.csv')\n",
    "london.head()"
   ]
  },
  {
   "cell_type": "markdown",
   "metadata": {},
   "source": [
    "``Out[]:``"
   ]
  },
  {
   "cell_type": "markdown",
   "metadata": {},
   "source": [
    "![First 5 rows of the london dataframe. Note that only the first few columns are shown due to the limitation of page width. ](../images/ou_futurelearn_learn_to_code_fig_1006.jpg)"
   ]
  },
  {
   "cell_type": "markdown",
   "metadata": {},
   "source": [
    "__Figure 2__"
   ]
  },
  {
   "cell_type": "markdown",
   "metadata": {},
   "source": [
    "* Note that the right hand side of the table has been cropped to fit on the page. *\n",
    "\n",
    "In the next section, you’ll find out how to remove rogue spaces."
   ]
  },
  {
   "cell_type": "markdown",
   "metadata": {},
   "source": [
    "---\n"
   ]
  },
  {
   "cell_type": "markdown",
   "metadata": {},
   "source": [
    "### Important notice for learners outside of the EU\n",
    "\n",
    "The Weather Underground automatically localises data based on from what country it detects you are accessing the web site. So, for example, if you are accessing the website from the USA wind speeds will be in MPH rather than km/h and temperatures in Fahrenheit rather than Celsius.\n",
    "\n",
    "In order to change the settings so that the data is in European format you will need to click on the ‘head and shoulders’ icon on the top right of the Weather Underground web page and create a free Weather Underground account.\n",
    "\n",
    "Once you have created an account, click on the ‘cog’ icon on the top right of the web page. Then:\n",
    "\n",
    "* click on the C button to select Celsius\n",
    "\n",
    "* click on ‘More Settings’ and select Units: metric\n",
    "\n",
    "* click on ‘Save My Preferences’.\n",
    "\n",
    "Now, when you download the data, temperatures will be in Celsius and wind speeds in km/h etc."
   ]
  },
  {
   "cell_type": "markdown",
   "metadata": {},
   "source": [
    "---\n"
   ]
  },
  {
   "cell_type": "markdown",
   "metadata": {},
   "source": [
    "## 1.1 Removing rogue spaces"
   ]
  },
  {
   "cell_type": "markdown",
   "metadata": {},
   "source": [
    "One of the problems often encountered with CSV files is rogue spaces before or after data values or column names."
   ]
  },
  {
   "cell_type": "markdown",
   "metadata": {},
   "source": [
    "![An image of empty, numbered parking spaces](../images/ou_futurelearn_learn_to_code_fig_1045.jpg)"
   ]
  },
  {
   "cell_type": "markdown",
   "metadata": {},
   "source": [
    "__Figure 3__"
   ]
  },
  {
   "cell_type": "markdown",
   "metadata": {},
   "source": [
    "You learned earlier, in What is a CSV file? , that each value or column name is separated by a comma. However, if you opened ‘London_2014.csv’ in a text editor, you would see that in the row of column names sometimes there are spaces after a comma:\n",
    "\n",
    "<!--Quote id=-->\n",
    ">GMT,Max TemperatureC,Mean TemperatureC,Min TemperatureC,Dew PointC,MeanDew PointC,Min DewpointC,Max Humidity, Mean Humidity, Min Humidity, Max Sea Level PressurehPa, Mean Sea Level PressurehPa, Min Sea Level PressurehPa, Max VisibilityKm, Mean VisibilityKm, Min VisibilitykM, Max Wind SpeedKm/h, Mean Wind SpeedKm/h, Max Gust SpeedKm/h,Precipitationmm, CloudCover, Events,WindDirDegrees\n",
    "\n"
   ]
  },
  {
   "cell_type": "markdown",
   "metadata": {},
   "source": [
    "For example, there is a space after the comma between ``Max Humidity`` and ``Mean Humidity``. This means that when ``read_csv()`` reads the row of column names it will interpret a space after a comma as part of the next column name. So, for example, the column name after ``'Max Humidity'`` will be interpreted as ``' Mean Humidity'`` rather than what was intended, which is ``'Mean Humidity'``. The ramification of this is that code such as:\n",
    "\n",
    "`london[['Mean Humidity']]`\n",
    "\n",
    "will cause a key error (see Selecting a column ), as the column name is confusingly ``' Mean Humidity`` '.\n",
    "\n",
    "This can easily be rectified by adding another argument to the ``read_csv()`` function:\n",
    "\n",
    "`skipinitialspace=True`\n",
    "\n",
    "which will tell ``read_csv()`` to ignore any spaces after a comma:\n",
    "\n",
    "``In []:``\n"
   ]
  },
  {
   "cell_type": "code",
   "execution_count": null,
   "metadata": {
    "lines_to_next_cell": 2
   },
   "outputs": [],
   "source": [
    "\n",
    "\n",
    "london = read_csv('London_2014.csv', skipinitialspace=True)\n"
   ]
  },
  {
   "cell_type": "markdown",
   "metadata": {},
   "source": [
    "The rogue spaces will no longer be in the dataframe and we can write code such as:\n",
    "\n",
    "``In []:``\n",
    "\n",
    "`london[['Mean Humidity']].head()`\n",
    "\n",
    "``Out[]:``\n",
    "<table xmlns:str=\"http://exslt.org/strings\">\n",
    "<caption></caption>\n",
    "<tbody>\n",
    "<tr>\n",
    "<th></th>\n",
    "<th>__Mean Humidity__</th>\n",
    "</tr>\n",
    "<tr>\n",
    "<td class=\"highlight_\" rowspan=\"\" colspan=\"\">0</td>\n",
    "<td class=\"highlight_\" rowspan=\"\" colspan=\"\">86</td>\n",
    "</tr>\n",
    "<tr>\n",
    "<td class=\"highlight_\" rowspan=\"\" colspan=\"\">1</td>\n",
    "<td class=\"highlight_\" rowspan=\"\" colspan=\"\">81</td>\n",
    "</tr>\n",
    "<tr>\n",
    "<td class=\"highlight_\" rowspan=\"\" colspan=\"\">2</td>\n",
    "<td class=\"highlight_\" rowspan=\"\" colspan=\"\">76</td>\n",
    "</tr>\n",
    "<tr>\n",
    "<td class=\"highlight_\" rowspan=\"\" colspan=\"\">3</td>\n",
    "<td class=\"highlight_\" rowspan=\"\" colspan=\"\">85</td>\n",
    "</tr>\n",
    "<tr>\n",
    "<td class=\"highlight_\" rowspan=\"\" colspan=\"\">4</td>\n",
    "<td class=\"highlight_\" rowspan=\"\" colspan=\"\">88</td>\n",
    "</tr>\n",
    "</tbody>\n",
    "</table>\n",
    "\n",
    "Note that a ``skipinitialspace=True`` argument won’t remove a trailing space at the end of a column name.\n",
    "\n",
    "Next, find out about extra characters and how to remove them."
   ]
  },
  {
   "cell_type": "markdown",
   "metadata": {},
   "source": [
    "## 1.2 Removing extra characters"
   ]
  },
  {
   "cell_type": "markdown",
   "metadata": {},
   "source": [
    "If you opened London_2014.csv in a text editor once again and looked at the last column name you would see that the name is'WindDirDegrees\n",
    "\n",
    "'.\n",
    "\n",
    "What has happened here is that when the dataset was exported from the Weather Underground website an html line break ``(\n",
    ")`` was added after the line of column headers which ``read_csv()`` has interpreted as the end part of the final column’s name."
   ]
  },
  {
   "cell_type": "markdown",
   "metadata": {},
   "source": [
    "![An image of two bouncers in suits standing in a corridor ](../images/ou_futurelearn_learn_to_code_fig_1050.jpg)"
   ]
  },
  {
   "cell_type": "markdown",
   "metadata": {},
   "source": [
    "__Figure 4__"
   ]
  },
  {
   "cell_type": "markdown",
   "metadata": {},
   "source": [
    "In fact, the problem is worse than this, let’s look at some values in the final column:\n",
    "\n",
    "``In []:``\n",
    "\n",
    "`london[['WindDirDegrees\n",
    "']].head()`\n",
    "\n",
    "``Out[]:``\n",
    "<table xmlns:str=\"http://exslt.org/strings\">\n",
    "<caption></caption>\n",
    "<tbody>\n",
    "<tr>\n",
    "<th></th>\n",
    "<th>__ WindDirDegrees \n",
    "__</th>\n",
    "</tr>\n",
    "<tr>\n",
    "<td class=\"highlight_\" rowspan=\"\" colspan=\"\">0</td>\n",
    "<td class=\"highlight_\" rowspan=\"\" colspan=\"\">186\n",
    "</td>\n",
    "</tr>\n",
    "<tr>\n",
    "<td class=\"highlight_\" rowspan=\"\" colspan=\"\">1</td>\n",
    "<td class=\"highlight_\" rowspan=\"\" colspan=\"\">214\n",
    "</td>\n",
    "</tr>\n",
    "<tr>\n",
    "<td class=\"highlight_\" rowspan=\"\" colspan=\"\">2</td>\n",
    "<td class=\"highlight_\" rowspan=\"\" colspan=\"\">219\n",
    "</td>\n",
    "</tr>\n",
    "<tr>\n",
    "<td class=\"highlight_\" rowspan=\"\" colspan=\"\">3</td>\n",
    "<td class=\"highlight_\" rowspan=\"\" colspan=\"\">211\n",
    "</td>\n",
    "</tr>\n",
    "<tr>\n",
    "<td class=\"highlight_\" rowspan=\"\" colspan=\"\">4</td>\n",
    "<td class=\"highlight_\" rowspan=\"\" colspan=\"\">199\n",
    "</td>\n",
    "</tr>\n",
    "</tbody>\n",
    "</table>\n",
    "\n",
    "It’s seems there is an html line break at the end of each line. If I opened ‘London_2014.csv’ in a text editor and looked at the ends of all lines in the file this would be confirmed.\n",
    "\n",
    "Once again I’m not going to edit the CSV file but rather fix the problem in the dataframe. To change ``'WindDirDegrees\n",
    "'`` to ``'WindDirDegrees'`` all I have to do is use the ``rename()`` method as follows:\n",
    "\n",
    "``In []:``\n",
    "\n",
    "`\n",
    "london = london.rename(columns={'WindDirDegrees\n",
    "':'WindDirDegrees'})\n",
    "`\n",
    "\n",
    "Don’t worry about the syntax of the argument for ``rename()`` , just use this example as a template for whenever you need to change the name of a column.\n",
    "\n",
    "Now I need to get rid of those pesky ``\n",
    "`` html line breaks from the ends of the values in the ``'WindDirDegrees'`` column, so that they become something sensible. I can do that using the string method ``rstrip()`` which is used to remove characters from the end or ‘rear’ of a string, just like this:\n",
    "\n",
    "``In []:``\n",
    "\n",
    "`\n",
    "london['WindDirDegrees'] = london['WindDirDegrees'].str.rstrip('\n",
    "')\n",
    "`\n",
    "\n",
    "Again don’t worry too much about the syntax of the code and simply use it as a template for whenever you need to process a whole column of values stripping characters from the end of each string value.\n",
    "\n",
    "Let’s display the first few rows of the ' ``WindDirDegrees`` ' to confirm the changes:\n",
    "\n",
    "``In []:``\n",
    "\n",
    "`london[['WindDirDegrees']].head()`\n",
    "\n",
    "``Out[]:``\n",
    "<table xmlns:str=\"http://exslt.org/strings\">\n",
    "<caption></caption>\n",
    "<tbody>\n",
    "<tr>\n",
    "<th></th>\n",
    "<th>__WindDirDegrees__</th>\n",
    "</tr>\n",
    "<tr>\n",
    "<td class=\"highlight_\" rowspan=\"\" colspan=\"\">0</td>\n",
    "<td class=\"highlight_\" rowspan=\"\" colspan=\"\">186</td>\n",
    "</tr>\n",
    "<tr>\n",
    "<td class=\"highlight_\" rowspan=\"\" colspan=\"\">1</td>\n",
    "<td class=\"highlight_\" rowspan=\"\" colspan=\"\">214</td>\n",
    "</tr>\n",
    "<tr>\n",
    "<td class=\"highlight_\" rowspan=\"\" colspan=\"\">2</td>\n",
    "<td class=\"highlight_\" rowspan=\"\" colspan=\"\">219</td>\n",
    "</tr>\n",
    "<tr>\n",
    "<td class=\"highlight_\" rowspan=\"\" colspan=\"\">3</td>\n",
    "<td class=\"highlight_\" rowspan=\"\" colspan=\"\">211</td>\n",
    "</tr>\n",
    "<tr>\n",
    "<td class=\"highlight_\" rowspan=\"\" colspan=\"\">4</td>\n",
    "<td class=\"highlight_\" rowspan=\"\" colspan=\"\">199</td>\n",
    "</tr>\n",
    "</tbody>\n",
    "</table>"
   ]
  },
  {
   "cell_type": "markdown",
   "metadata": {},
   "source": [
    "## 1.3 Missing values"
   ]
  },
  {
   "cell_type": "markdown",
   "metadata": {},
   "source": [
    "As you heard in the video at the start of the week, missing values (also called null values) are one of the reasons to clean data."
   ]
  },
  {
   "cell_type": "markdown",
   "metadata": {},
   "source": [
    "![An image of a girl with the last piece of a jigsaw puzzle ](../images/ou_futurelearn_learn_to_code_fig_1051.jpg)"
   ]
  },
  {
   "cell_type": "markdown",
   "metadata": {},
   "source": [
    "__Figure 5__"
   ]
  },
  {
   "cell_type": "markdown",
   "metadata": {},
   "source": [
    "Finding missing values in a particular column can be done with the column method ``isnull()`` , like this:\n",
    "\n",
    "``In []:``\n",
    "\n",
    "`london['Events'].isnull()`\n",
    "\n",
    "The above code returns a series of Boolean values, where ``True`` indicates that the corresponding row in the ``'Events'`` column is missing a value and ``False`` indicates the presence of a value. Here are the last few rows from the series:\n"
   ]
  },
  {
   "cell_type": "code",
   "execution_count": null,
   "metadata": {
    "lines_to_next_cell": 2
   },
   "outputs": [],
   "source": [
    "\n",
    "...\n",
    "360 False\n",
    "361 True\n",
    "362 True\n",
    "363 True\n",
    "364 False\n",
    "Name: Events, dtype: bool"
   ]
  },
  {
   "cell_type": "markdown",
   "metadata": {},
   "source": [
    "If, as you did with the comparison expressions, you put this code within square brackets after the dataframe’s name, it will return a new dataframe consisting of all the rows without recorded events (rain, fog, thunderstorm, etc.):\n",
    "\n",
    "``In []:``\n",
    "\n",
    "`london[london['Events'].isnull()]`\n",
    "\n",
    "As you will see in Exercise 4 of the exercise notebook, this will return a new dataframe with 114 rows, showing that more than one in three days had no particular event recorded. If you scroll the table to the right, you will see that all values in the ``'Events'`` column are marked ``NaN`` , which stands for ‘Not a Number’, but is also used to mark non-numeric missing values, like in this case (events are strings, not numbers).\n",
    "\n",
    "Once you know how much and where data is missing, you have to decide what to do: ignore those rows? Replace with a fixed value? Replace with a computed value, like the mean?\n",
    "\n",
    "In this case, only the first two options are possible. The method call ``london.dropna()`` will drop (remove) all rows that have a missing (non-available) value somewhere, returning a new dataframe. This will therefore also remove rows that have missing values in other columns.\n",
    "\n",
    "The column method ``fillna()`` will replace all non-available values with the value given as argument. For this case, each NaN could be replaced by the empty string.\n",
    "\n",
    "``In []:``\n"
   ]
  },
  {
   "cell_type": "code",
   "execution_count": null,
   "metadata": {
    "lines_to_next_cell": 2
   },
   "outputs": [],
   "source": [
    "\n",
    "london['Events'] = london['Events'].fillna('')\n",
    "ondon[london['Events'].isnull()]"
   ]
  },
  {
   "cell_type": "markdown",
   "metadata": {},
   "source": [
    "The second line above will now show an empty dataframe, because there are no longer missing values in the events column.\n",
    "\n",
    "As a final note on missing values, pandas ignores them when computing numeric statistics, i.e. you don’t have to remove missing values before applying ``sum(), median()`` and other similar methods.\n",
    "\n",
    "Learn about checking data types of each column in the next section."
   ]
  },
  {
   "cell_type": "markdown",
   "metadata": {},
   "source": [
    "## 1.4 Changing the value types of columns"
   ]
  },
  {
   "cell_type": "markdown",
   "metadata": {},
   "source": [
    "The function ``read_csv()`` may, for many reasons, wrongly interpret the data type of the values in a column, so when cleaning data it’s important to check the data types of each column are what is expected, and if necessary change them.\n",
    "\n",
    "The data type of every column in a dataframe can be determined by looking at the dataframe’s ``dtypes`` attribute, like this:\n",
    "\n",
    "``In []:``\n",
    "\n",
    "`london.dtypes`\n",
    "\n",
    "``Out[]:``\n"
   ]
  },
  {
   "cell_type": "code",
   "execution_count": null,
   "metadata": {
    "lines_to_next_cell": 2
   },
   "outputs": [],
   "source": [
    "\n",
    "GMT object\n",
    "Max TemperatureC int64\n",
    "Mean TemperatureC int64\n",
    "Min TemperatureC int64\n",
    "Dew PointC int64\n",
    "MeanDew PointC int64\n",
    "Min DewpointC int64\n",
    "Max Humidity int64\n",
    "Mean Humidity int64\n",
    "Min Humidity int64\n",
    "Max Sea Level PressurehPa int64\n",
    "Mean Sea Level PressurehPa int64\n",
    "Min Sea Level PressurehPa int64\n",
    "Max VisibilityKm int64\n",
    "Mean VisibilityKm int64\n",
    "Min VisibilitykM int64\n",
    "Max Wind SpeedKm/h int64\n",
    "Mean Wind SpeedKm/h int64\n",
    "Max Gust SpeedKm/h float64\n",
    "Precipitationmm float64\n",
    "CloudCover float64\n",
    "Events object\n",
    "WindDirDegrees object\n",
    "dtype: object"
   ]
  },
  {
   "cell_type": "markdown",
   "metadata": {},
   "source": [
    "In the above output, you can see the column names to the left and to the right the data types of the values in those columns.\n",
    "\n",
    "* ``int64`` is the pandas data type for whole numbers such as ``55`` or ``2356``\n",
    "\n",
    "* ``float64`` is the pandas data type for decimal numbers such as ``55.25`` or ``2356.00``\n",
    "\n",
    "* ``object`` is the pandas data type for strings such as ``'hello world'`` or ``'rain'``\n",
    "\n",
    "Most of the column data types seem fine, however two are of concern, ``'GMT'`` and ``'WindDirDegrees'`` , both of which are of type ``object.`` Let’s take a look at ``'WindDirDegrees'`` first."
   ]
  },
  {
   "cell_type": "markdown",
   "metadata": {},
   "source": [
    "---\n"
   ]
  },
  {
   "cell_type": "markdown",
   "metadata": {},
   "source": [
    "###  Changing the data type of the 'WindDirDegrees' column \n",
    "\n",
    "The ``read_csv()`` method has interpreted the values in the ``'WindDirDegrees'`` column as strings (type ``object`` ). This is because in the CSV file the values in that column had all been suffixed with that html line break string ``\n",
    "`` so ``read_csv()`` had no alternative but to interpret the values as strings.\n",
    "\n",
    "The values in the ``'WindDirDegrees'`` column are meant to represent wind direction in terms of degrees from true north (360) and meteorologists always define the wind direction as the direction the wind is coming from. So if you stand so that the wind is blowing directly into your face, the direction you are facing names the wind, so a westerly wind is reported as 270 degrees. The compass rose shown below should make this clearer:"
   ]
  },
  {
   "cell_type": "markdown",
   "metadata": {},
   "source": [
    "![figure images/ou_futurelearn_learn_to_code_fig_1007.jpg](../images/ou_futurelearn_learn_to_code_fig_1007.jpg)"
   ]
  },
  {
   "cell_type": "markdown",
   "metadata": {},
   "source": [
    "__Figure 6__ A compass rose "
   ]
  },
  {
   "cell_type": "markdown",
   "metadata": {},
   "source": [
    "We need to be able to make queries such as ‘Get and display the rows where the wind direction is greater than 350 degrees’. To do this we need to change the data type of the ‘WindDirDegrees’ column from object to type ``int64``. We can do that by using the ``astype()`` method like this:\n",
    "\n",
    "``In []:``\n",
    "\n",
    "`\n",
    "london['WindDirDegrees'] = london['WindDirDegrees'].astype('int64')\n",
    "`\n",
    "\n",
    "Now all the values in the ``'WindDirDegrees'`` column are of type ``int64`` and we can make our query:\n",
    "\n",
    "``In []:``\n",
    "\n",
    "`london[london['WindDirDegrees'] &gt; 350]`\n",
    "\n",
    "``Out[]:``"
   ]
  },
  {
   "cell_type": "markdown",
   "metadata": {},
   "source": [
    "![Rows from the london dataframe where the value in the WindDirDegrees column is greater than 350. Note that the WindDirDegrees column is not shown as it is on the far right of the table and only the first few columns are shown due to the limitation of page width. ](../images/ou_futurelearn_learn_to_code_fig_1008.jpg)"
   ]
  },
  {
   "cell_type": "markdown",
   "metadata": {},
   "source": [
    "__Figure 7__"
   ]
  },
  {
   "cell_type": "markdown",
   "metadata": {},
   "source": [
    "* Note that the ``'WindDirDegrees'`` column is on the far right of the table and the right of the table has been cropped to fit on the page. *"
   ]
  },
  {
   "cell_type": "markdown",
   "metadata": {},
   "source": [
    "---\n"
   ]
  },
  {
   "cell_type": "markdown",
   "metadata": {},
   "source": [
    "---\n"
   ]
  },
  {
   "cell_type": "markdown",
   "metadata": {},
   "source": [
    "### Changing the data type of the ‘GMT’ column\n",
    "\n",
    "Recall that I noted that the ``'GMT'`` column was of type ``object`` , the type pandas uses for strings.\n",
    "\n",
    "The ``'GMT'`` column is supposed to represent dates. It would be helpful for the date values not to be strings to make it possible to make queries of the data such as ‘Return the row where the date is 4 June 2014’.\n",
    "\n",
    "Pandas has a function called ``to_datetime()`` which can convert a column of ``object`` (string) values such as those in the ``'GMT'`` column into values of a proper date type called ``datetime64`\n",
    ",\n",
    "` just like this:\n",
    "\n",
    "``In []:``\n"
   ]
  },
  {
   "cell_type": "code",
   "execution_count": null,
   "metadata": {
    "lines_to_next_cell": 2
   },
   "outputs": [],
   "source": [
    "\n",
    "london['GMT'] = to_datetime(london['GMT'])\n",
    "\n",
    "#Then display the types of all the columns again so we\n",
    "\n",
    "#can check the changes have been made.\n",
    "london.dtypes"
   ]
  },
  {
   "cell_type": "markdown",
   "metadata": {},
   "source": [
    "``Out[]:``\n"
   ]
  },
  {
   "cell_type": "code",
   "execution_count": null,
   "metadata": {
    "lines_to_next_cell": 2
   },
   "outputs": [],
   "source": [
    "\n",
    "GMT datetime64[ns]\n",
    "Max TemperatureC int64\n",
    "Mean TemperatureC int64\n",
    "Min TemperatureC int64\n",
    "Dew PointC int64\n",
    "MeanDew PointC int64\n",
    "Min DewpointC int64\n",
    "Max Humidity int64\n",
    "Mean Humidity int64\n",
    "Min Humidity int64\n",
    "Max Sea Level PressurehPa int64\n",
    "Mean Sea Level PressurehPa int64\n",
    "Min Sea Level PressurehPa int64\n",
    "Max VisibilityKm int64\n",
    "Mean VisibilityKm int64\n",
    "Min VisibilitykM int64\n",
    "Max Wind SpeedKm/h int64\n",
    "Mean Wind SpeedKm/h int64\n",
    "Max Gust SpeedKm/h float64\n",
    "Precipitationmm float64\n",
    "CloudCover float64\n",
    "Events object\n",
    "WindDirDegrees int64\n",
    "dtype: object"
   ]
  },
  {
   "cell_type": "markdown",
   "metadata": {},
   "source": [
    "From the above output, we can confirm that the ``'WindDirDegrees'`` column type has been changed from ``object`` to ``int64`` and that the ``'GMT'`` column type has been changed from ``object`` to ``datetime64``.\n",
    "\n",
    "To make queries such as ‘Return the row where the date is 4 June 2014’ you’ll need to be able to create a ``datetime64`` value to represent June 4 2014. It cannot be:\n",
    "\n",
    "`london[london['GMT'] == '2014-1-3']`\n",
    "\n",
    "because ‘2014-1-3’ is a string and the values in the ‘GMT’ column are of type ``datetime64``. Instead you must create a ``datetime64`` value using ``thedatetime()`` function like this:\n",
    "\n",
    "`datetime(2014, 6, 4)`\n",
    "\n",
    "In the function call above, the first integer argument is the year, the second the month and the third the day.\n",
    "\n",
    "Let’s try the function out by executing the code to ‘Return the row where the date is 4 June 2014’:\n",
    "\n",
    "``In []:``\n",
    "\n",
    "`london[london['GMT'] == datetime(2014, 6, 4)]`\n",
    "\n",
    "``Out[]:``"
   ]
  },
  {
   "cell_type": "markdown",
   "metadata": {},
   "source": [
    "![The row from the london dataframe where the date is 4 June 2014. Note that only the first few columns are shown due to the limitation of page width. ](../images/ou_futurelearn_learn_to_code_fig_1009.jpg)"
   ]
  },
  {
   "cell_type": "markdown",
   "metadata": {},
   "source": [
    "__Figure 8__"
   ]
  },
  {
   "cell_type": "markdown",
   "metadata": {},
   "source": [
    "* Note that the right side of the table has been cropped to fit on the page. *\n",
    "\n",
    "You can also now make more complex queries involving dates such as ‘Return all the rows where the date is between 8 December 2014 and 12 December 2014’, like this:\n",
    "\n",
    "``In []:``\n",
    "\n",
    "c\n"
   ]
  },
  {
   "cell_type": "code",
   "execution_count": null,
   "metadata": {
    "lines_to_next_cell": 2
   },
   "outputs": [],
   "source": [
    "\n",
    "london[(london['GMT'] >= datetime(2014, 12, 8)) \n",
    "    & (london['GMT'] <= datetime(2014, 12, 12))]"
   ]
  },
  {
   "cell_type": "markdown",
   "metadata": {},
   "source": [
    "``Out[]:``"
   ]
  },
  {
   "cell_type": "markdown",
   "metadata": {},
   "source": [
    "![The rows from the london dataframe where the date is between 8 December 2014 and 12 December 2014 (inclusive). Note that only the first few columns are shown due to the limitation of page width. ](../images/ou_futurelearn_learn_to_code_fig_1010.jpg)"
   ]
  },
  {
   "cell_type": "markdown",
   "metadata": {},
   "source": [
    "__Figure 9__"
   ]
  },
  {
   "cell_type": "markdown",
   "metadata": {},
   "source": [
    "*Note that the right side of the table has been cropped to fit on the page. *"
   ]
  },
  {
   "cell_type": "markdown",
   "metadata": {},
   "source": [
    "### Exercise 4 Display rows from dataframe"
   ]
  },
  {
   "cell_type": "markdown",
   "metadata": {},
   "source": [
    "#### Question\n",
    "\n",
    "Now try Exercise 4 in the Exercise notebook 2.\n",
    "\n",
    "If you’re using Anaconda instead of CoCalc, remember that to open the notebook you’ll need to navigate to the notebook using Jupyter.\n",
    "\n",
    "Once the notebook is open, run the existing code in the notebook before you start the exercise. When you’ve completed the exercise, save the notebook. If you need a quick reminder of how to use Jupyter, watch again the video in Week 1 Exercise 1.\n",
    "\n"
   ]
  },
  {
   "cell_type": "markdown",
   "metadata": {},
   "source": [
    "---\n",
    "\n"
   ]
  }
 ],
 "metadata": {
  "jupytext": {
   "cell_metadata_filter": "-all",
   "main_language": "bash",
   "notebook_metadata_filter": "-all",
   "text_representation": {
    "extension": ".md",
    "format_name": "markdown"
   }
  }
 },
 "nbformat": 4,
 "nbformat_minor": 4
}
