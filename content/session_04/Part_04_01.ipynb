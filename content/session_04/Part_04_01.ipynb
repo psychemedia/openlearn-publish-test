{
 "cells": [
  {
   "cell_type": "markdown",
   "metadata": {},
   "source": [
    "# Introduction"
   ]
  },
  {
   "cell_type": "markdown",
   "metadata": {},
   "source": [
    "This week of the course is written by Tita Beaven.\n",
    "\n",
    "So far in this course you have looked at motivation, at what it means to learn a language, and at how to evaluate resources for language learning. From now on, roll up your sleeves and prepare to get up close and personal with speaking, listening, learning vocabulary and reading and writing in your chosen language.\n",
    "\n",
    "By the end of this week, you should be able to:\n",
    "\n",
    "* understand what is involved in speaking\n",
    "\n",
    "* understand ways to practise speaking on your own and with others\n",
    "\n",
    "* understand different activities that you can do to practise your speaking skills.\n"
   ]
  }
 ],
 "metadata": {
  "jupytext": {
   "cell_metadata_filter": "-all",
   "main_language": "python",
   "notebook_metadata_filter": "-all",
   "text_representation": {
    "extension": ".md",
    "format_name": "markdown"
   }
  }
 },
 "nbformat": 4,
 "nbformat_minor": 4
}
