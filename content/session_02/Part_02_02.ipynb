{
 "cells": [
  {
   "cell_type": "markdown",
   "metadata": {},
   "source": [
    "# 1 Challenges you may face"
   ]
  },
  {
   "cell_type": "markdown",
   "metadata": {},
   "source": [
    "Take a look at this video describing some challenges in learning a language over time.\n",
    "<!--MEDIACONTENT--><video xmlns:str=\"http://exslt.org/strings\" width=\"80%\" download=\"\"><source src=\"https://www.open.edu/openlearn/ocw/pluginfile.php/1395607/mod_oucontent/oucontent/71942/boc_lll_1_video_week2_voxpops.mp4\" type=\"video/mp4\"></source></video><!--TRANSCRIPT--><table xmlns:str=\"http://exslt.org/strings\" border=\"1\"><tr><td>\n",
    "__LEARNER 1::__ *Two things worry me about learning French. One is the amount of vocabulary that you need and also the grammar-- when writing French, to get the grammar correct. *;\n",
    "\n",
    "__LEARNER 2::__ *Well, what worries me most about learning a language is not really understanding the concept of language and the things that go into constructing language. So it's not having been taught English in a way that they try and teach you foreign languages. So I don't understand a lot of the concepts they're trying to explain to me. So as I'm trying to understand these things in German, the language I'm learning, I don't even know what they mean in English. So that's a barrier for me right from the start. *;\n",
    "\n",
    "__LEARNER 3::__ *Learning a language, I find it difficult in the beginning before you have a set of vocabulary available to you so you can say complete sentences and understand what somebody is saying. You don't have to be able to read difficult texts or to say difficult things. But the first basic vocabulary-- to have that right there and then to use, that's always the first stage I need to go through. And once I've gotten that, I'm away. *;\n",
    "\n",
    "__LEARNER 4::__ *The interesting thing about Japanese is that the construction is very different from English. And you've got to learn a different way of thinking when you're speaking.*;\n",
    "</td></tr></table><!--ENDTRANSCRIPT-->\n",
    "\n",
    "![figure images/boc_lll_1_video_week2_voxpops_still.jpg](../images/boc_lll_1_video_week2_voxpops_still.jpg)\n",
    "<!--ENDMEDIACONTENT-->\n",
    "All these experiences are a normal part of learning a language. However, when you encounter them for the first time, they can be difficult to deal with.\n",
    "\n",
    "For example, difficult grammar can often only be mastered not through memorising rules, but by an ongoing process of attention, exposure, experimentation and so on. Otherwise intelligent people can be left exasperated by a problem that can’t be solved through brainpower and hard work alone. How do you react to challenges that can’t easily be quantified and controlled?\n"
   ]
  }
 ],
 "metadata": {
  "jupytext": {
   "cell_metadata_filter": "-all",
   "main_language": "python",
   "notebook_metadata_filter": "-all",
   "text_representation": {
    "extension": ".md",
    "format_name": "markdown"
   }
  }
 },
 "nbformat": 4,
 "nbformat_minor": 4
}
