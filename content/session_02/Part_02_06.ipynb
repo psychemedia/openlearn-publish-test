{
 "cells": [
  {
   "cell_type": "markdown",
   "metadata": {},
   "source": [
    "# 5 Summary of Week 2"
   ]
  },
  {
   "cell_type": "markdown",
   "metadata": {},
   "source": [
    "By now, you are probably itching to get going, especially as there are so many resources out there for you to start learning a language.\n",
    "\n",
    "You should now be able to:\n",
    "\n",
    "* revisit your language learning aims\n",
    "\n",
    "* understand four important areas that you need to master: the linguistic, the cultural, the methodological and the self.\n",
    "\n",
    "Next week, Fernando will draw on some of his recent research to show you how to evaluate those resources, so you make the choices that are right for you.\n",
    "\n",
    "You can now go to Week 3.\n"
   ]
  }
 ],
 "metadata": {
  "jupytext": {
   "cell_metadata_filter": "-all",
   "main_language": "python",
   "notebook_metadata_filter": "-all",
   "text_representation": {
    "extension": ".md",
    "format_name": "markdown"
   }
  }
 },
 "nbformat": 4,
 "nbformat_minor": 4
}
