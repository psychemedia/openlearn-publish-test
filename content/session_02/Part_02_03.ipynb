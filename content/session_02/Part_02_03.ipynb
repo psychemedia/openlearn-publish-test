{
 "cells": [
  {
   "cell_type": "markdown",
   "metadata": {},
   "source": [
    "# 2 ‘My goal is to speak fluently!’"
   ]
  },
  {
   "cell_type": "markdown",
   "metadata": {},
   "source": [
    "Many people are keen to start speaking their new language with native speakers. However, when they try to do so, perhaps after building up courage for some time, everyone tends to reply in English, leaving them feeling dejected and losing motivation. How do you recover from this?\n",
    "\n",
    "The journey of learning a foreign language can be a rollercoaster and it’s rarely for the reasons you expect.\n",
    "\n",
    "Your second foreign language is easier, though. And your third easier still.\n",
    "\n",
    "In my experience of going through the language learning process almost ten times, what I’ve learned is that success comes in large part from knowing what to expect, picking your battles and, critically, knowing what you want to achieve with the language.\n",
    "\n",
    "For example, take our earlier example of learning complex grammar. If your goal is simply to travel around Italy and order food in restaurants, do you really need to master the *trapassato prossimo *(the past perfect)? Knowing that you don’t actually need to know this verb tense for your purposes can save you months of headaches.\n",
    "\n",
    "Now let’s take the case of the native speakers who insist on replying to you in English. How necessary is it for you to keep torturing yourself if, in fact, your original aim was simply to be able to read academic papers for your research?\n",
    "\n",
    "You touched on this in Week 1 when you learned about motivation and expectations. At this stage, you may be beginning to see how these decisions might impact on the task of learning your target language in a practical sense.\n",
    "\n",
    "This week, you’ll be looking at many of these reasons, in order to prepare yourself for what may be to come.\n",
    "\n",
    "The title of this section is ‘My goal is to speak fluently!’, because that’s what most people tell themselves without digging much deeper. However, in Week 1, you thought in some depth about your language learning aims.\n",
    "\n",
    "Let’s take a second right now to revisit those.\n",
    "\n",
    "What does it mean to learn a language? That depends very much on what you want to learn."
   ]
  },
  {
   "cell_type": "markdown",
   "metadata": {},
   "source": [
    "### Activity 1 Revisiting your language learning aims \n",
    "__Timing: Allow about 15 minutes__"
   ]
  },
  {
   "cell_type": "markdown",
   "metadata": {},
   "source": [
    "#### Question\n",
    "\n",
    "Answer the following questions. As you’re thinking about them, consider how proficient or fluent you would need to be in the language in order to get the job done:\n",
    "\n",
    "* Who do you want to speak with?\n",
    "\n",
    "* What do you need to talk to them about?\n",
    "\n",
    "* What kind of places will you be in?\n",
    "\n",
    "Here is an example: ‘I’m learning Spanish for my trip to Mexico in the summer. It’s still 6 months away, so I’m sure that’s enough time to learn to speak a bit! I don’t really have any ambitions to speak fluently, after all I’ll only be there for a couple of weeks. But I’d really like to be able to chat with the locals when I’m there, just saying a few words to avoid being a clueless tourist. Shopkeepers, taxi drivers, that kind of thing. It would be nice to tell them what I need, and also have some small talk so I can get to know them a bit. I basically just want to connect with the locals without having to use English.’"
   ]
  },
  {
   "cell_type": "markdown",
   "metadata": {},
   "source": [
    "#### Discussion\n",
    "\n",
    "As Tita mentioned in Week 1, it is important that you are as specific as you can in the answers, imagining a realistic scenario.\n",
    "\n",
    "\n"
   ]
  }
 ],
 "metadata": {
  "jupytext": {
   "cell_metadata_filter": "-all",
   "main_language": "python",
   "notebook_metadata_filter": "-all",
   "text_representation": {
    "extension": ".md",
    "format_name": "markdown"
   }
  }
 },
 "nbformat": 4,
 "nbformat_minor": 4
}
