{
 "cells": [
  {
   "cell_type": "markdown",
   "metadata": {},
   "source": [
    "# 8 Mapping your journey"
   ]
  },
  {
   "cell_type": "markdown",
   "metadata": {},
   "source": [
    "So far, you have visualised yourself in the future speaking the language you are studying and you have articulated specific aims. These are key elements that will help your motivation. You then considered how realistic those aims were, thought of the obstacles that might prevent you from achieving your aims and the strategies you can adopt to overcome those obstacles. The next step is to map your journey. One useful ‘map’ you can use is the CEFR descriptors.\n",
    "\n",
    "The CEFR (or Council of Europe Framework of Reference for Languages, as it is called in full) is a document produced by the Council of Europe that defines six levels of language proficiency: A1 and A2, B1 and B2, C1 and C2. The A levels indicate basic proficiency, the B levels describe independent users, and the C levels correspond to a proficient user."
   ]
  },
  {
   "cell_type": "markdown",
   "metadata": {},
   "source": [
    "### Laura says:\n",
    "\n",
    "I often use the CEFR descriptors to refer back to in my language learning. It is a wordy document but, to be honest, every serious language learner who wants to progress beyond tourist-speak should be familiar with it.\n"
   ]
  },
  {
   "cell_type": "markdown",
   "metadata": {},
   "source": [
    "The six proficiency levels can be summarised in Table 2.\n",
    "<table xmlns:str=\"http://exslt.org/strings\">\n",
    "<caption>Table 2 Common reference levels, global scale</caption>\n",
    "<tbody>\n",
    "<tr>\n",
    "<td class=\"highlight_\" rowspan=\"2\" colspan=\"\">Basic user</td>\n",
    "<td class=\"highlight_\" rowspan=\"\" colspan=\"\">A1</td>\n",
    "<td class=\"highlight_\" rowspan=\"\" colspan=\"\">Can understand and use familiar everyday expressions and very basic phrases aimed at the satisfaction of needs of a concrete type. Can introduce him/herself and others and can ask and answer questions about personal details such as where he/she lives, people he/she knows and things he/she has. Can interact in a simple way provided the other person talks slowly and clearly and is prepared to help.</td>\n",
    "</tr>\n",
    "<tr>\n",
    "<td class=\"highlight_\" rowspan=\"\" colspan=\"\">A2</td>\n",
    "<td class=\"highlight_\" rowspan=\"\" colspan=\"\">Can understand sentences and frequently used expressions related to areas of most immediate relevance (e.g. very basic personal and family information, shopping, local geography, employment). Can communicate in simple and routine tasks requiring a simple and direct exchange of information on familiar and routine matters.  Can describe in simple terms aspects of his/her background, immediate environment and matters in areas of immediate need.</td>\n",
    "</tr>\n",
    "<tr>\n",
    "<td class=\"highlight_\" rowspan=\"2\" colspan=\"\">Independent user</td>\n",
    "<td class=\"highlight_\" rowspan=\"\" colspan=\"\">B1</td>\n",
    "<td class=\"highlight_\" rowspan=\"\" colspan=\"\">Can understand the main points of clear standard input on familiar matters regularly encountered in work, school, leisure, etc. Can deal with most situations likely to arise whilst travelling in an area where the language is spoken.  Can produce simple connected text on topics, which are familiar, or of personal interest. Can describe experiences and events, dreams, hopes &amp; ambitions and briefly give reasons and explanations for opinions and plans.</td>\n",
    "</tr>\n",
    "<tr>\n",
    "<td class=\"highlight_\" rowspan=\"\" colspan=\"\">B2</td>\n",
    "<td class=\"highlight_\" rowspan=\"\" colspan=\"\">Can understand the main ideas of complex text on both concrete and abstract topics, including technical discussions in his/her field of specialisation. Can interact with a degree of fluency and spontaneity that makes regular interaction with native speakers quite possible without strain for either party. Can produce clear, detailed text on a wide range of subjects and explain a viewpoint on a topical issue giving the advantages and disadvantages of various options.</td>\n",
    "</tr>\n",
    "<tr>\n",
    "<td class=\"highlight_\" rowspan=\"2\" colspan=\"\">Proficient user</td>\n",
    "<td class=\"highlight_\" rowspan=\"\" colspan=\"\">C1</td>\n",
    "<td class=\"highlight_\" rowspan=\"\" colspan=\"\">Can understand a wide range of demanding, longer texts, and recognise implicit meaning. Can express him/herself fluently and spontaneously without much obvious searching for expressions. Can use language flexibly and effectively for social, academic and professional purposes. Can produce clear, well-structured, detailed text on complex subjects, showing controlled use of organisational patterns, connectors and cohesive devices.</td>\n",
    "</tr>\n",
    "<tr>\n",
    "<td class=\"highlight_\" rowspan=\"\" colspan=\"\">C2</td>\n",
    "<td class=\"highlight_\" rowspan=\"\" colspan=\"\">Can understand with ease virtually everything heard or read. Can summarise information from different spoken and written sources, reconstructing arguments and accounts in a coherent presentation. Can express him/herself spontaneously, very fluently and precisely, differentiating finer shades of meaning even in more complex situations.</td>\n",
    "</tr>\n",
    "</tbody>\n",
    "</table>\n",
    "\n",
    "Here’s the table as a word document. You might want to download it and save it for future reference.\n",
    "\n",
    "You will notice that at the lower levels, the learner has to be able to communicate in familiar, everyday settings and routine context. As a learner moves up the scale and becomes more proficient, they also become more able to communicate in a variety of contexts, so that at level C they can communicate in a wide variety of social, academic and professional contexts.\n",
    "\n",
    "When we looked at my description of my ideal future German self, most of the aims that I felt were realistic were the ones that correspond to levels A1 and A2 (ordering a coffee, checking in at the hotel, ordering food and drink, etc.). We also saw how some of my aims were not very realistic, or would require more time (reading the guide in German when I visited a museum; attending some of the conference sessions in German, talking to colleagues about the topic of the conference). In order to accomplish these aims, I would need to develop the sort of language that goes beyond everyday contexts, and I would need to be operating at the level of ‘independent user’."
   ]
  },
  {
   "cell_type": "markdown",
   "metadata": {},
   "source": [
    "### Activity 7 Mapping your ideal future self to CEFR levels \n",
    "__Timing: Allow about 10 minutes__"
   ]
  },
  {
   "cell_type": "markdown",
   "metadata": {},
   "source": [
    "#### Question\n",
    "\n",
    "So what about you? Have another look at the aims you identified for your ideal future self in your language and try to map them against one of the different CEFR levels. "
   ]
  },
  {
   "cell_type": "markdown",
   "metadata": {},
   "source": [
    "#### Discussion\n",
    "\n",
    "If you are a beginner, your aims will probably match the levels A1 or perhaps even A2 of the CEFR document. As we will discuss later, it is important that your aims are realistic for the time you have available, so don’t feel you have to aim for full proficiency when you start off on you journey. You might want to aim to lower levels in the first instance, and then revise your goals when you reach the different milestones of the various CEFR levels.\n",
    "\n"
   ]
  },
  {
   "cell_type": "markdown",
   "metadata": {},
   "source": [
    "### Laura says:\n",
    "\n",
    "I remember doing this exercise when I had been learning Spanish for a couple of years and realising that a lot of my goals were on the C-Level! It was useful to do that, as it gave me a more realistic view of my goals and meant I wasn’t so discouraged that I couldn’t read Cervantes in my second year of Spanish!\n",
    "\n",
    "The other thing that I have learned is that although there are different aspects to language learning (listening, speaking, reading, writing, grammar, vocabulary, pronunciation), sometimes I have wanted to prioritise some of those over others. So for instance, while in my undergraduate degree I worked on all of them, more recently, for my work, I have had to learn to read some Romanian and Albanian, but I haven’t necessarily needed to be able to speak or listen to it, or actively use it). However, don’t prioritise some aspects over others just because they are easier (e.g. reading over speaking)!\n",
    "\n",
    "\n"
   ]
  }
 ],
 "metadata": {
  "jupytext": {
   "cell_metadata_filter": "-all",
   "main_language": "python",
   "notebook_metadata_filter": "-all",
   "text_representation": {
    "extension": ".md",
    "format_name": "markdown"
   }
  }
 },
 "nbformat": 4,
 "nbformat_minor": 4
}
