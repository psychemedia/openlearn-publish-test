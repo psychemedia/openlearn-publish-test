{
 "cells": [
  {
   "cell_type": "markdown",
   "metadata": {},
   "source": [
    "# 7 Overcoming obstacles"
   ]
  },
  {
   "cell_type": "markdown",
   "metadata": {},
   "source": [
    "It would be unrealistic to think that you will sail through your language-learning journey without ever encountering any obstacle or any of the barriers we’ve talked about. What is important is to be prepared so that you can recognise these barriers and overcome them.\n",
    "\n",
    "Here is a mindmap of strategies to deal with obstacles you might encounter."
   ]
  },
  {
   "cell_type": "markdown",
   "metadata": {},
   "source": [
    "![In the centre of this is a circle with the word ‘Strategies’. Around the circle are the following: ‘Visualise a goal’; ‘Make rules’; ‘Break the task down’; ‘Make it fun’; ‘Promise yourself a reward’; ‘Develop a routine’; ‘Make use of your environment’.](../images/language_boc_w1_f05.tif.jpg)"
   ]
  },
  {
   "cell_type": "markdown",
   "metadata": {},
   "source": [
    "__Figure 5__ Mindmap (adapted from Hadfield and Dörnyei, 2013, p. 70)\n"
   ]
  },
  {
   "cell_type": "markdown",
   "metadata": {},
   "source": [
    "### Activity 5 Deciding on strategies to overcome obstacles \n",
    "__Timing: Allow about 5 minutes__"
   ]
  },
  {
   "cell_type": "markdown",
   "metadata": {},
   "source": [
    "#### Question\n",
    "\n",
    "Read the following situations, and decide which strategy is being used in each case:\n",
    "\n",
    "‘To learn vocabulary, I walk around my house naming the rooms, the furniture and the objects in my home in my foreign language.’\n",
    "\n",
    "Promise yourself a reward. \n",
    "\n",
    "Make use of your environment."
   ]
  },
  {
   "cell_type": "markdown",
   "metadata": {},
   "source": [
    "#### Question\n",
    "\n",
    "‘I used to get to the end of the day and realised I hadn’t done any language studying, so now I get up 15 minutes earlier and make sure I start every day with 15 minutes of language learning. I do this Monday to Friday. At the weekend, I spend one hour after breakfast.’ \n",
    "\n",
    "Develop a routine.\n",
    "\n",
    "Studying my language."
   ]
  },
  {
   "cell_type": "markdown",
   "metadata": {},
   "source": [
    "#### Question\n",
    "\n",
    "‘When I have done what I set out to achieve in a particular week, I treat myself to something nice.’\n",
    "\n",
    "Promise yourself a reward.\n",
    "\n",
    "Break the task down."
   ]
  },
  {
   "cell_type": "markdown",
   "metadata": {},
   "source": [
    "#### Question\n",
    "\n",
    "‘I love music, so I find songs in my target language and sing along to them.’\n",
    "\n",
    "Make it fun.\n",
    "\n",
    "Develop a routine. "
   ]
  },
  {
   "cell_type": "markdown",
   "metadata": {},
   "source": [
    "#### Question\n",
    "\n",
    "‘Because I get distracted easily and I tend to procrastinate, I close my email and my social media apps before I start studying. Unless I’m specifically using a language-learning app, I put my smartphone out of sight! I only allow myself to look at my email and social media after I have finished my study session.’\n",
    "\n",
    "Make rules.\n",
    "\n",
    "Make it fun."
   ]
  },
  {
   "cell_type": "markdown",
   "metadata": {},
   "source": [
    "#### Question\n",
    "\n",
    "‘When I sit down to study, I break the session into three parts. First I spend a few minutes reviewing what I did in my last session, then I work on one main task (such as reading a text, listening to a longer piece of audio, or working on my grammar). This takes up most of the study session. Then I like to finish the session by doing something fun, such as revising some vocabulary, or watching a short video.‘\n",
    "\n",
    "Break the task down.\n",
    "\n",
    "Make use of your environment."
   ]
  },
  {
   "cell_type": "markdown",
   "metadata": {},
   "source": [
    "#### Question\n",
    "\n",
    "‘Before I start my study session, I think of what I will have achieved at the end. This helps me to stay motivated.’\n",
    "\n",
    "Visualise a goal.\n",
    "\n",
    "Promise yourself a reward. \n",
    "\n"
   ]
  },
  {
   "cell_type": "markdown",
   "metadata": {},
   "source": [
    "### Activity 6 Thinking about your own obstacles and strategies \n",
    "__Timing: Allow about 30 minutes__"
   ]
  },
  {
   "cell_type": "markdown",
   "metadata": {},
   "source": [
    "#### Question\n",
    "\n",
    "Now think of what issues you are likely to face when learning your language, and what strategies you might use to deal with each situation. \n",
    "\n",
    "You might want to print out the mindmap in Figure 5 and write your ideas on it.\n",
    "\n",
    "Try to think of a situation for each type of strategy, and write them down.\n",
    "\n",
    "\n"
   ]
  }
 ],
 "metadata": {
  "jupytext": {
   "cell_metadata_filter": "-all",
   "main_language": "python",
   "notebook_metadata_filter": "-all",
   "text_representation": {
    "extension": ".md",
    "format_name": "markdown"
   }
  }
 },
 "nbformat": 4,
 "nbformat_minor": 4
}
