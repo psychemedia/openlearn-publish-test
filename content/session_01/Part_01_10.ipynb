{
 "cells": [
  {
   "cell_type": "markdown",
   "metadata": {},
   "source": [
    "# 9 Your goals"
   ]
  },
  {
   "cell_type": "markdown",
   "metadata": {},
   "source": [
    "So far, you have visualised your future language self, and thought about the sorts of things you imagine yourself doing in the language you are learning. Some of those might be slightly unrealistic goals in the time you have available but, having looked at the CEFR levels, you should now have a clearer idea of what you want to achieve. So let’s now focus on setting goals. \n",
    "\n",
    "As the career development website [MindTools](https://www.mindtools.com/) explains, goal setting has been shown to be an important aspect in business, sports, and many other fields too. \n",
    "\n",
    "<!--Quote id=--><!--Heading:\n",
    "            Why set goals?-->\n",
    ">Top-level athletes, successful business people and achievers in all fields set goals. Setting goals gives you long-term vision and short-term motivation. It focuses your acquisition of knowledge and helps you to organise your time and your resources so that you can make the very most of your life.\n",
    ">By setting sharp, clearly defined goals, you can measure and take pride in the achievement of those goals, and you’ll see forward progress in what might previously have seemed a long, pointless grind. You will also raise your self-confidence, as you recognise your own ability and competence in achieving the goals that you’ve set.\n",
    "Reference: (MindTools, n.d.)\n",
    "\n"
   ]
  },
  {
   "cell_type": "markdown",
   "metadata": {},
   "source": [
    "One way of setting yourself useful goals is to use the SMART framework. Read the short article about how to set SMART goals for language learning by Agnieszka Murdoch, language coach and author of the [5 Minute Language website](http://www.5minutelanguage.com) (there is a longer version of this article on the website)."
   ]
  },
  {
   "cell_type": "markdown",
   "metadata": {},
   "source": [
    "### Activity 8 Matching objectives to the type of SMART goal \n",
    "__Timing: Allow about 5 minutes__"
   ]
  },
  {
   "cell_type": "markdown",
   "metadata": {},
   "source": [
    "#### Question\n",
    "\n",
    "Match each objective with the type of SMART goal.\n",
    "\n",
    "__Set 1: learning the past simple__\n",
    "\n",
    "Specific\n",
    "\n",
    "Understand when to use the past simple\n",
    "\n",
    "Measurable\n",
    "\n",
    "Understand the four most common uses of the past simple\n",
    "\n",
    "Time-bound\n",
    "\n",
    "Memorise the conjugation of the six most common verbs in my language in the present by the end of next week"
   ]
  },
  {
   "cell_type": "markdown",
   "metadata": {},
   "source": [
    "#### Question\n",
    "\n",
    "__Set 2: learning to ask for and give advice__\n",
    "\n",
    "Specific\n",
    "\n",
    "Learn phrases to ask for and give advice\n",
    "\n",
    "Measurable\n",
    "\n",
    "Learn ten phrases to ask for and give advice\n",
    "\n",
    "Time-bound\n",
    "\n",
    "Learn ten phrases that can be used to ask for and give advice by the end of this week\n"
   ]
  },
  {
   "cell_type": "markdown",
   "metadata": {},
   "source": [
    "Next, you’ll think about your own goals."
   ]
  },
  {
   "cell_type": "markdown",
   "metadata": {},
   "source": [
    "### Activity 9 Goal setting \n",
    "__Timing: Allow about 30 minutes__"
   ]
  },
  {
   "cell_type": "markdown",
   "metadata": {},
   "source": [
    "#### Question\n",
    "\n",
    "If you have already started learning a language, you might have very clear goals in mind, and be able to set your goals now. \n",
    "\n",
    "You can use this template to set your goals. \n",
    "\n",
    "If you are new to language learning, you might want to work through the rest of the course before setting your language-learning goals. Regardless of what you do, you should review, update and refine the goals you set yourself as a language learner regularly, so you will revisit this section again in Weeks 4 and 8 of the course.\n",
    "\n",
    "It is important that you review your goals regularly, and reflect on whether you have achieved them or not. If you are new to language learning, you might find you are setting yourself SMART goals that are a bit too unrealistic.\n",
    "\n"
   ]
  },
  {
   "cell_type": "markdown",
   "metadata": {},
   "source": [
    "### Laura says:\n",
    "\n",
    "I think it is useful to go back to your goals every few weeks and assess whether they were realistic, whether you have fulfilled them, and if not, why not. It is important to evaluate your goals regularly. As a student new language learning, it is likely that you will make some mistakes in setting goals initially, particularly with regard to what is realistic – I know I did! So get into the habit of reviewing  and re-evaluating your goals according to the SMART framework regularly.\n",
    "\n",
    "\n"
   ]
  }
 ],
 "metadata": {
  "jupytext": {
   "cell_metadata_filter": "-all",
   "main_language": "python",
   "notebook_metadata_filter": "-all",
   "text_representation": {
    "extension": ".md",
    "format_name": "markdown"
   }
  }
 },
 "nbformat": 4,
 "nbformat_minor": 4
}
