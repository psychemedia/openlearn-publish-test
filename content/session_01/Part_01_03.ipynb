{
 "cells": [
  {
   "cell_type": "markdown",
   "metadata": {},
   "source": [
    "# 2 A marathon, not a sprint"
   ]
  },
  {
   "cell_type": "markdown",
   "metadata": {},
   "source": [
    "Learning a language is a bit like running a marathon. You have to put in the time, the work and the effort. There is really no other way. If you have started this course thinking that you could just pick up a new language effortlessly or learn it in three weeks, you may be disappointed. Whether you’re new to language learning or you have some experience from some time ago, learning a language will take commitment, time and regular practice. However, like running a marathon, it can be tremendously rewarding, and an achievement to be really proud of."
   ]
  },
  {
   "cell_type": "markdown",
   "metadata": {},
   "source": [
    "![This is cartoon containing six frames. It shows two women having a conversation. In the first frame, person A says ‘I’m thinking of running a marathon’. In the second frame, person B says ‘Have you ever done any running before?’ and person A responds with ‘Not really. I did a bit when I was a kid at school. I’m afraid I don’t have very good memories of PE lessons …’. In the next frame, person B says ‘So what are you going to do to get ready?’ and person A says ‘Well, I thought I’d go for a run on Saturdays or Sundays’. In the next frame, person B says ‘Well you might want to start with that, but you will have to build up a more regular running routine’. In the next frame, person A says ‘The thing is, I’m really busy, so I’m not sure I have the time to run regularly’, and person B responds with ‘So, what are you going to do to prepare?’. In the final frame, person A says ‘Well, quite honestly, I will do a bit here and there, but I thought I would just pick it up on the day – I’ve seen lots of people running the London marathon on the telly, and they seem to have a good time …’.](../images/language_boc_w01_f03_1.tif.jpg)"
   ]
  },
  {
   "cell_type": "markdown",
   "metadata": {},
   "source": [
    "__Figure 3__ Learning a language is a marathon, not a sprint\n",
    "\n"
   ]
  }
 ],
 "metadata": {
  "jupytext": {
   "cell_metadata_filter": "-all",
   "main_language": "python",
   "notebook_metadata_filter": "-all",
   "text_representation": {
    "extension": ".md",
    "format_name": "markdown"
   }
  }
 },
 "nbformat": 4,
 "nbformat_minor": 4
}
