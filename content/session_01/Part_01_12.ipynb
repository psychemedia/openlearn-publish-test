{
 "cells": [
  {
   "cell_type": "markdown",
   "metadata": {},
   "source": [
    "# 11 This week’s quiz"
   ]
  },
  {
   "cell_type": "markdown",
   "metadata": {},
   "source": [
    "Well done – you have reached the end of Week 1 and can now take the weekly quiz to test your understanding.\n",
    "\n",
    "Week 1 practice quiz\n",
    "\n",
    "Open the quiz in a new tab or window (by holding ctrl [or cmd on a Mac] when you click the link) and come back here when you are done.\n"
   ]
  }
 ],
 "metadata": {
  "jupytext": {
   "cell_metadata_filter": "-all",
   "main_language": "python",
   "notebook_metadata_filter": "-all",
   "text_representation": {
    "extension": ".md",
    "format_name": "markdown"
   }
  }
 },
 "nbformat": 4,
 "nbformat_minor": 4
}
