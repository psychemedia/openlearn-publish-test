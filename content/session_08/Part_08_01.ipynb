{
 "cells": [
  {
   "cell_type": "markdown",
   "metadata": {},
   "source": [
    "# Introduction"
   ]
  },
  {
   "cell_type": "markdown",
   "metadata": {},
   "source": [
    "This week of the course is written by Olly Richards and Fernando Rosell-Aguilar. Olly has written Sections 1, 4 and 5, and Fernando Sections 2 and 3.\n",
    "\n",
    "In this final week you are going to learn how to bring everything we’ve covered in the course together by creating a virtual immersion environment for yourself. \n",
    "\n",
    "By the end of this week you will be able to:\n",
    "\n",
    "* think about how to get support from others\n",
    "\n",
    "* find out how to create a virtual immersion in your language\n",
    "\n",
    "* learn how to establish an effective language learning routine\n",
    "\n",
    "* learn how to stay motivated in the long term.\n"
   ]
  }
 ],
 "metadata": {
  "jupytext": {
   "cell_metadata_filter": "-all",
   "main_language": "python",
   "notebook_metadata_filter": "-all",
   "text_representation": {
    "extension": ".md",
    "format_name": "markdown"
   }
  }
 },
 "nbformat": 4,
 "nbformat_minor": 4
}
