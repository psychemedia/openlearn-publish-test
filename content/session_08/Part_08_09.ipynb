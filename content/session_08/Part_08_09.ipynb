{
 "cells": [
  {
   "cell_type": "markdown",
   "metadata": {},
   "source": [
    "# 8 End-of-course summary"
   ]
  },
  {
   "cell_type": "markdown",
   "metadata": {},
   "source": [
    "Over the last eight weeks you have covered a range of topics. You should now feel able to:\n",
    "\n",
    "* understand your motivations for learning a language, the barriers you may face and the strategies to overcome those barriers\n",
    "\n",
    "* set yourself SMART language-learning goals and review them regularly\n",
    "\n",
    "* understand what is involved in learning a language\n",
    "\n",
    "* use strategies for developing your listening, speaking, reading and writing skills\n",
    "\n",
    "* understand how to learn vocabulary\n",
    "\n",
    "* evaluate language-learning resources\n",
    "\n",
    "* create a ‘virtual language immersion’\n",
    "\n",
    "* create a language-learning routine that works for you\n",
    "\n",
    "* learn to keep your motivation in the long term.\n",
    "\n",
    "As you come to the end of this course, we hope you have enjoyed it and learned some strategies to make your language learning more effective, relevant and fun. Probably the most important piece of advice the three of us would give you is that the most important thing about learning a language is to have a routine and to be consistent over time. \n",
    "\n",
    "As we said at the start of the course, language learning is a marathon, not a sprint. Show up every day, use the strategies and resources we have introduced you to, seek other learners to practice with and support you on your journey, and you will succeed!\n"
   ]
  }
 ],
 "metadata": {
  "jupytext": {
   "cell_metadata_filter": "-all",
   "main_language": "python",
   "notebook_metadata_filter": "-all",
   "text_representation": {
    "extension": ".md",
    "format_name": "markdown"
   }
  }
 },
 "nbformat": 4,
 "nbformat_minor": 4
}
