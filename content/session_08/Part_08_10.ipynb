{
 "cells": [
  {
   "cell_type": "markdown",
   "metadata": {},
   "source": [
    "# Further resources on OpenLearn"
   ]
  },
  {
   "cell_type": "markdown",
   "metadata": {},
   "source": [
    "If you’ve enjoyed this course, you can find more free resources and courses on [OpenLearn](http://www.open.edu/openlearn/).\n",
    "\n",
    "There are a wealth of [free language courses](http://www.open.edu/openlearn/languages). Also, why not brush up your [study skills](http://www.open.edu/openlearn/skills-for-study)? \n"
   ]
  }
 ],
 "metadata": {
  "jupytext": {
   "cell_metadata_filter": "-all",
   "main_language": "python",
   "notebook_metadata_filter": "-all",
   "text_representation": {
    "extension": ".md",
    "format_name": "markdown"
   }
  }
 },
 "nbformat": 4,
 "nbformat_minor": 4
}
