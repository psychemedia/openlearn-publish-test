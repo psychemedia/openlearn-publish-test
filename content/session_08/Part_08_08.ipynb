{
 "cells": [
  {
   "cell_type": "markdown",
   "metadata": {},
   "source": [
    "# 7 Summary of Week 8"
   ]
  },
  {
   "cell_type": "markdown",
   "metadata": {},
   "source": [
    "Well done – you have reached the end of the final week!\n",
    "\n",
    "You should now be able to:\n",
    "\n",
    "* think about how to get support from others\n",
    "\n",
    "* find out how to create a virtual immersion in your language\n",
    "\n",
    "* learn how to establish an effective language learning routine\n",
    "\n",
    "* learn how to stay motivated in the long term.\n"
   ]
  }
 ],
 "metadata": {
  "jupytext": {
   "cell_metadata_filter": "-all",
   "main_language": "python",
   "notebook_metadata_filter": "-all",
   "text_representation": {
    "extension": ".md",
    "format_name": "markdown"
   }
  }
 },
 "nbformat": 4,
 "nbformat_minor": 4
}
