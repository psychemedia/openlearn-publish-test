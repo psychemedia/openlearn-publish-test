{
 "cells": [
  {
   "cell_type": "markdown",
   "metadata": {},
   "source": [
    "# 1 Getting support from others"
   ]
  },
  {
   "cell_type": "markdown",
   "metadata": {},
   "source": [
    "In the following two videos, you’ll hear about my experiences of learning Brazilian Portuguese in the UK and learning Japanese in Japan. \n",
    "\n",
    "Which of the two do you think was more conducive to learning the language, and why? \n",
    "<!--MEDIACONTENT--><video xmlns:str=\"http://exslt.org/strings\" width=\"80%\" download=\"\"><source src=\"https://www.open.edu/openlearn/ocw/pluginfile.php/1395607/mod_oucontent/oucontent/71942/boc_lll_1_video_week_8_section_1_1_richards.mp4\" type=\"video/mp4\"></source></video><!--TRANSCRIPT--><table xmlns:str=\"http://exslt.org/strings\" border=\"1\"><tr><td>\n",
    "__OLLY RICHARDS:__ *You're about to hear two brief language-learning stories from my personal experience. Firstly, there is learning Brazilian Portuguese in the UK. And secondly, there is learning Japanese in Japan. Now on the face of it, which do you think was the easiest language-learning experience and why? *;\n",
    "*Firstly, learning Brazilian Portuguese. In the early 2000s, I began to learn Brazilian Portuguese. And over the course of six to 12 months, I worked hard, studied hard, and became fairly fluent in the language, even though I was living in London in the UK. Now looking back on that time, I had what I now understand to be the ideal language-learning environment. *;\n",
    "*You see, I was studying music at university, and I'd developed an interest in South American music. Part of my education involved going out to watch live Brazilian music. And I was lucky enough to make some good Brazilian friends as a result of that activity. *;\n",
    "*Now as I began to learn Portuguese, I was surrounded by the language. I had many friends who were willing to talk and to help me practise. And as time passed, this community became an unbeatable source of motivation, even during times when I fell out of a study habit. I continued to have opportunities to practise Portuguese and the real desire to do so with my new friends. In fact, it was much more than that. I was now expected to speak Portuguese. *;\n",
    "*So despite not living in a Portuguese-speaking country-- I was living in the UK-- I had the ideal environment to learn Portuguese. And that was what enabled me to learn to speak the language so quickly. Unfortunately, it hasn't always been that way since. *;\n",
    "</td></tr></table><!--ENDTRANSCRIPT-->\n",
    "\n",
    "![figure images/boc_lll_1_video_week_8_section_1_1_richards_still.jpg](../images/boc_lll_1_video_week_8_section_1_1_richards_still.jpg)\n",
    "<!--ENDMEDIACONTENT--><!--MEDIACONTENT--><video xmlns:str=\"http://exslt.org/strings\" width=\"80%\" download=\"\"><source src=\"https://www.open.edu/openlearn/ocw/pluginfile.php/1395607/mod_oucontent/oucontent/71942/boc_lll_1_video_week_8_section_1_2_richards.mp4\" type=\"video/mp4\"></source></video><!--TRANSCRIPT--><table xmlns:str=\"http://exslt.org/strings\" border=\"1\"><tr><td>\n",
    "__OLLY RICHARDS:__ *Next I'll talk about my experience learning Japanese. Some years after learning Brazilian Portuguese in London-- it was about seven or eight years afterwards-- I went to work in Japan. Now, at that point, I was confident about my prospects of learning Japanese. I had a good track record with languages. Beyond Portuguese, I'd already learned three other languages. And not only that, but I would also be living in Japan. So how could I possibly fail? *;\n",
    "*Well, as it turned out, learning Japanese was far harder and more frustrating than I possibly could have imagined. The difficulty was not in the language itself-- although Japanese is certainly a tough language-- the challenge, for me, was in the community around me, or lack of. Despite living in Japan and despite my experience with languages, learning foreign languages, I had huge problems with motivation. And I struggled with feelings of isolation, linguistically speaking. I found it hard to meet people who would speak to me in Japanese. I didn't know anyone who was interested in independent language learning. I had no real source of motivation or support to keep me on track with my learning. *;\n",
    "*Now, as a result of this, I struggled to get dedicated speaking practise in Japanese. I had no one to help guide me through language challenges from a fellow learner's perspective, recommend me books and resources and things like that. I would easily fall victim to motivational highs and lows, resulting in erratic progress in my learning. *;\n",
    "*Fortunately, I did eventually succeed with Japanese, but it was only through a series of chance encounters and friendships, and only after three long years of frustration, emotional highs and lows, and almost giving up a number of times. *;\n",
    "</td></tr></table><!--ENDTRANSCRIPT-->\n",
    "\n",
    "![figure images/boc_lll_1_video_week_8_section_1_2_richards_still.jpg](../images/boc_lll_1_video_week_8_section_1_2_richards_still.jpg)\n",
    "<!--ENDMEDIACONTENT-->\n",
    "You’ve just heard about two distinct experiences:\n",
    "\n",
    "1. Learning Brazilian Portuguese in the UK\n",
    "\n",
    "2. Learning Japanese in Japan\n",
    "\n",
    "One was fairly smooth, efficient, and a lot of fun. The other was turbulent, drawn out, and at times tortuous!\n",
    "\n",
    "Chances are when I asked you to think which experience was easier, you will have suspected that learning Japanese *in Japan*, would have proven to be a big advantage for me.\n",
    "\n",
    "In reality, it was quite different.\n",
    "\n",
    "While it might be a mistake to read too much into these two particular experiences, it is nevertheless true that __your environment__ has the power to make the difference between success and failure.\n",
    "\n",
    "It doesn’t matter how good your teacher is, what country you live in, or how motivated you (think you) are.\n",
    "\n",
    "Learning a language takes time. There are bumps along the road, and the more support you have from outside, the more likely you are to succeed.\n"
   ]
  }
 ],
 "metadata": {
  "jupytext": {
   "cell_metadata_filter": "-all",
   "main_language": "python",
   "notebook_metadata_filter": "-all",
   "text_representation": {
    "extension": ".md",
    "format_name": "markdown"
   }
  }
 },
 "nbformat": 4,
 "nbformat_minor": 4
}
