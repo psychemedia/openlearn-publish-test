{
 "cells": [
  {
   "cell_type": "markdown",
   "metadata": {},
   "source": [
    "# Conclusion"
   ]
  },
  {
   "cell_type": "markdown",
   "metadata": {},
   "source": [
    "This free course provided an introduction to studying aquatic mammals. You have now learned about a variety of aquatic mammals, their behaviours and their evolutionary history. The final section then introduced the ways in which humans have impacted the ecosystem.\n",
    "\n",
    "The course activities were designed to help you to improve your confidence as an independent learner, and develop your approach to study and learning at a distance.\n",
    "\n",
    "If you'd like to learn more about the oceans, visit our [Ocean Explorer](https://www.open.edu/openlearn/oceanexplorer) interactive, and take a look at some other free study materials on that page."
   ]
  },
  {
   "cell_type": "markdown",
   "metadata": {},
   "source": [
    "![A screenshot from the animated Ocean Explorer interactive.](../images/oceans-promo.png)"
   ]
  },
  {
   "cell_type": "markdown",
   "metadata": {},
   "source": [
    "Ocean Explorer"
   ]
  },
  {
   "cell_type": "markdown",
   "metadata": {},
   "source": [
    "To find out a bit more about aquatic life, you can download our [free Oceans poster](https://www.open.edu/openlearn/nature-environment/natural-history/download-your-free-oceans-poster) that accompanied Blue Planet, the OU/BBC TV series.\n"
   ]
  }
 ],
 "metadata": {
  "jupytext": {
   "cell_metadata_filter": "-all",
   "main_language": "python",
   "notebook_metadata_filter": "-all",
   "text_representation": {
    "extension": ".md",
    "format_name": "markdown"
   }
  }
 },
 "nbformat": 4,
 "nbformat_minor": 4
}
